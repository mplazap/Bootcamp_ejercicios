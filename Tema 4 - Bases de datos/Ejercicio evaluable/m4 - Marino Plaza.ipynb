{
 "cells": [
  {
   "cell_type": "markdown",
   "metadata": {},
   "source": [
    "### 1. CREAR BASE DE DATOS (33%)\n",
    "\n",
    "* Crear con código SQL una base de datos llamada supermercado.\n",
    "* Código Python con mysql connector que ejecute el SQL para borrar y generar la base de datos vacía."
   ]
  },
  {
   "cell_type": "code",
   "execution_count": 1,
   "metadata": {},
   "outputs": [],
   "source": [
    "import pandas as pd\n",
    "import mysql.connector as con\n",
    "import random\n",
    "import datetime"
   ]
  },
  {
   "cell_type": "code",
   "execution_count": 2,
   "metadata": {},
   "outputs": [],
   "source": [
    "# Crear base de datos \"supermercado\"\n",
    "conexion = con.connect(\n",
    "    host=\"localhost\",\n",
    "    port= \"3306\",\n",
    "    user= \"root\",\n",
    "    password= \"admin\"\n",
    ")\n",
    "cursor = conexion.cursor()\n",
    "cursor.execute(\"DROP DATABASE IF EXISTS supermercado;\")\n",
    "cursor.execute(\"CREATE SCHEMA supermercado DEFAULT CHARACTER SET utf8;\")\n",
    "#cursor.close()\n",
    "#connection.close()\n",
    "#connection.close()"
   ]
  },
  {
   "cell_type": "code",
   "execution_count": 3,
   "metadata": {},
   "outputs": [
    {
     "name": "stdout",
     "output_type": "stream",
     "text": [
      "Tabla creada exitosamente.\n"
     ]
    }
   ],
   "source": [
    "# Creo una sola tabla\n",
    "# Conexion\n",
    "conexion = con.connect(\n",
    "    host=\"localhost\",\n",
    "    port= \"3306\",\n",
    "    user= \"root\",\n",
    "    password= \"admin\",\n",
    "    database= \"supermercado\"\n",
    ")\n",
    "cursor = conexion.cursor()\n",
    "\n",
    "# crear tabla\n",
    "query_tabla_tiendas = \"\"\"\n",
    "CREATE TABLE IF NOT EXISTS tiendas (\n",
    "    id_tienda INT AUTO_INCREMENT PRIMARY KEY,\n",
    "    nombre_tienda VARCHAR(30),\n",
    "    direccion_tienda VARCHAR(50),\n",
    "    ciudad VARCHAR (50)\n",
    ")\n",
    "\"\"\"\n",
    "# Hacer los cambios en la base de datos\n",
    "cursor.execute(query_tabla_tiendas)\n",
    "conexion.commit()\n",
    "print(\"Tabla creada exitosamente.\")\n",
    "\n",
    "# Cerrar la conexion\n",
    "cursor.close()\n",
    "conexion.close()"
   ]
  },
  {
   "cell_type": "code",
   "execution_count": 4,
   "metadata": {},
   "outputs": [
    {
     "name": "stdout",
     "output_type": "stream",
     "text": [
      "Tablas creadas exitosamente.\n",
      "Trigger creado exitosamente.\n"
     ]
    }
   ],
   "source": [
    "# Creo varias tablas a la vez\n",
    "conexion = con.connect(\n",
    "    host=\"localhost\",\n",
    "    port= \"3306\",\n",
    "    user= \"root\",\n",
    "    password= \"admin\",\n",
    "    database= \"supermercado\"\n",
    ")\n",
    "cursor = conexion.cursor()\n",
    "\n",
    "query_varias_tablas = [\"\"\"\n",
    "    CREATE TABLE IF NOT EXISTS empleados (\n",
    "    id_empleado INT AUTO_INCREMENT PRIMARY KEY,\n",
    "    nombre_empleado VARCHAR(30),\n",
    "    puesto VARCHAR(20),\n",
    "    id_tienda INT,\n",
    "    FOREIGN KEY (id_tienda) REFERENCES tiendas(id_tienda) ON DELETE CASCADE\n",
    ")\"\"\",\n",
    "\n",
    "    \"\"\"\n",
    "    CREATE TABLE IF NOT EXISTS categorias (\n",
    "    id_categoria INT AUTO_INCREMENT PRIMARY KEY,\n",
    "    nombre_categoria VARCHAR(40)\n",
    ")\"\"\",\n",
    "\n",
    "    \"\"\"\n",
    "    CREATE TABLE IF NOT EXISTS productos (\n",
    "    id_producto INT AUTO_INCREMENT PRIMARY KEY,\n",
    "    nombre_producto VARCHAR(40),\n",
    "    precio DECIMAL (6, 2),\n",
    "    stock INT,\n",
    "    id_categoria INT,\n",
    "    FOREIGN KEY (id_categoria) REFERENCES categorias(id_categoria) ON DELETE CASCADE\n",
    ")\"\"\",\n",
    "\n",
    "    \"\"\"\n",
    "    CREATE TABLE IF NOT EXISTS clientes (\n",
    "    id_cliente INT AUTO_INCREMENT PRIMARY KEY,\n",
    "    nombre VARCHAR(15),\n",
    "    apellido VARCHAR (20),\n",
    "    email VARCHAR (30),\n",
    "    codigo_postal INT\n",
    ")\"\"\",\n",
    "\n",
    "    \"\"\"\n",
    "    CREATE TABLE IF NOT EXISTS ordenes (\n",
    "    id_orden INT AUTO_INCREMENT PRIMARY KEY,\n",
    "    id_cliente INT,\n",
    "    FOREIGN KEY (id_cliente) REFERENCES clientes(id_cliente),\n",
    "    id_empleado INT,\n",
    "    FOREIGN KEY (id_empleado) REFERENCES empleados(id_empleado),\n",
    "    fecha_orden DATE,\n",
    "    metodo_pago ENUM('Tarjeta', 'Efectivo')\n",
    ")\"\"\",\n",
    "\n",
    "   \"\"\"\n",
    "    CREATE TABLE IF NOT EXISTS detalle_orden (\n",
    "    id_detalle INT AUTO_INCREMENT PRIMARY KEY,\n",
    "    id_orden INT NOT NULL,\n",
    "    FOREIGN KEY (id_orden) REFERENCES ordenes(id_orden) ON DELETE CASCADE,\n",
    "    id_producto INT NOT NULL,\n",
    "    FOREIGN KEY (id_producto) REFERENCES productos(id_producto) ON DELETE CASCADE,\n",
    "    cantidad INT (15) NOT NULL,\n",
    "    descuento DECIMAL (3,2),\n",
    "    precio_unitario DECIMAL(6,2) NOT NULL\n",
    ")\"\"\"\n",
    "]\n",
    "# Para ejecutar cada consulta a kla base de datos y crear todas las tablas\n",
    "for query in query_varias_tablas:\n",
    "    cursor.execute(query)\n",
    "\n",
    "conexion.commit()\n",
    "print(\"Tablas creadas exitosamente.\")\n",
    "\n",
    "# Para copiar el \"precio\" de la tabla \"productos\" en la tabla \"detalle_orden\"\n",
    "query_trigger = \"\"\"\n",
    "CREATE TRIGGER insertar_precio_unitario\n",
    "BEFORE INSERT ON detalle_orden\n",
    "FOR EACH ROW\n",
    "BEGIN\n",
    "    DECLARE precio_producto DECIMAL(6,2);\n",
    "\n",
    "    -- Obtener el precio del producto desde la tabla productos\n",
    "    SELECT precio INTO precio_producto \n",
    "    FROM productos \n",
    "    WHERE id_producto = NEW.id_producto;\n",
    "\n",
    "    -- Asignar el precio al nuevo registro en detalle_orden\n",
    "    SET NEW.precio_unitario = precio_producto;\n",
    "END;\n",
    "\"\"\"\n",
    "\n",
    "cursor.execute(query_trigger)\n",
    "\n",
    "conexion.commit()\n",
    "print(\"Trigger creado exitosamente.\")\n",
    "\n",
    "# Para cerrar la conexión\n",
    "cursor.close()\n",
    "conexion.close()"
   ]
  },
  {
   "cell_type": "code",
   "execution_count": 17,
   "metadata": {},
   "outputs": [
    {
     "data": {
      "text/plain": [
       "['Tienda_00',\n",
       " 'Tienda_01',\n",
       " 'Tienda_02',\n",
       " 'Tienda_03',\n",
       " 'Tienda_04',\n",
       " 'Tienda_05',\n",
       " 'Tienda_06',\n",
       " 'Tienda_07',\n",
       " 'Tienda_08',\n",
       " 'Tienda_09',\n",
       " 'Tienda_10']"
      ]
     },
     "execution_count": 17,
     "metadata": {},
     "output_type": "execute_result"
    }
   ],
   "source": [
    "# Generamos nombres de tiendas\n",
    "filas = random.randint(11, 11)\n",
    "\n",
    "nombre_tienda = [f'Tienda_0{numero}' if numero < 10 else f'Tienda_{numero}' for numero in range(filas)]\n",
    "nombre_tienda"
   ]
  },
  {
   "cell_type": "code",
   "execution_count": 6,
   "metadata": {},
   "outputs": [
    {
     "data": {
      "text/plain": [
       "['Calle_falsa_100',\n",
       " 'Calle_falsa_101',\n",
       " 'Calle_falsa_102',\n",
       " 'Calle_falsa_103',\n",
       " 'Calle_falsa_104',\n",
       " 'Calle_falsa_105',\n",
       " 'Calle_falsa_106',\n",
       " 'Calle_falsa_107',\n",
       " 'Calle_falsa_108',\n",
       " 'Calle_falsa_109']"
      ]
     },
     "execution_count": 6,
     "metadata": {},
     "output_type": "execute_result"
    }
   ],
   "source": [
    "direccion_tienda = [f'Calle_falsa_{100 + numero}' if numero < 10 else f'Calle_falsa_{100 + numero}' for numero in range(filas)]\n",
    "direccion_tienda"
   ]
  },
  {
   "cell_type": "code",
   "execution_count": 7,
   "metadata": {},
   "outputs": [
    {
     "name": "stdout",
     "output_type": "stream",
     "text": [
      "['Zaragoza', 'Granada', 'Albacete', 'Granada', 'Bilbao', 'Sevilla', 'Valencia', 'Madrid', 'Valencia', 'Zaragoza']\n"
     ]
    }
   ],
   "source": [
    "# Lista de ciudades\n",
    "ciudades = [\"Madrid\", \"Barcelona\", \"Sevilla\", \"Valencia\", \"Bilbao\", \"Zaragoza\", \"Granada\", \"Alicante\",\"Murcia\",\"Albacete\"]\n",
    "\n",
    "# Número de ciudades aleatorias\n",
    "num_ciudades = 10  \n",
    "\n",
    "# Generar la lista de ciudades aleatorias\n",
    "ciudades_aleatorias = [random.choice(ciudades) for _ in range(num_ciudades)]\n",
    "\n",
    "print(ciudades_aleatorias)"
   ]
  },
  {
   "cell_type": "code",
   "execution_count": 8,
   "metadata": {},
   "outputs": [],
   "source": [
    "# Conectar a MySQL\n",
    "conexion2 = con.connect(\n",
    "    host=\"localhost\",\n",
    "    user=\"root\",\n",
    "    password=\"admin\",\n",
    "    database=\"supermercado\"\n",
    ")\n",
    "cursor = conexion2.cursor()\n",
    "\n",
    "# Insertar los datos en la tabla\n",
    "for i in range(10):\n",
    "    cursor.execute(\"INSERT INTO tiendas (nombre_tienda, direccion_tienda, ciudad) VALUES (%s, %s, %s)\",\n",
    "                   (nombre_tienda[i], direccion_tienda[i], ciudades_aleatorias[i]))\n",
    "\n",
    "conexion2.commit()\n",
    "cursor.close()\n",
    "conexion2.close()"
   ]
  },
  {
   "cell_type": "code",
   "execution_count": null,
   "metadata": {},
   "outputs": [],
   "source": []
  },
  {
   "cell_type": "code",
   "execution_count": null,
   "metadata": {},
   "outputs": [],
   "source": []
  },
  {
   "cell_type": "code",
   "execution_count": null,
   "metadata": {},
   "outputs": [],
   "source": []
  },
  {
   "cell_type": "code",
   "execution_count": null,
   "metadata": {},
   "outputs": [],
   "source": []
  },
  {
   "cell_type": "code",
   "execution_count": null,
   "metadata": {},
   "outputs": [],
   "source": []
  },
  {
   "cell_type": "code",
   "execution_count": null,
   "metadata": {},
   "outputs": [],
   "source": []
  },
  {
   "cell_type": "code",
   "execution_count": null,
   "metadata": {},
   "outputs": [],
   "source": []
  },
  {
   "cell_type": "code",
   "execution_count": null,
   "metadata": {},
   "outputs": [],
   "source": []
  },
  {
   "cell_type": "code",
   "execution_count": null,
   "metadata": {},
   "outputs": [],
   "source": []
  },
  {
   "cell_type": "code",
   "execution_count": null,
   "metadata": {},
   "outputs": [],
   "source": []
  },
  {
   "cell_type": "code",
   "execution_count": null,
   "metadata": {},
   "outputs": [],
   "source": []
  },
  {
   "cell_type": "code",
   "execution_count": null,
   "metadata": {},
   "outputs": [],
   "source": []
  },
  {
   "cell_type": "code",
   "execution_count": null,
   "metadata": {},
   "outputs": [],
   "source": []
  },
  {
   "cell_type": "code",
   "execution_count": null,
   "metadata": {},
   "outputs": [],
   "source": []
  },
  {
   "cell_type": "code",
   "execution_count": null,
   "metadata": {},
   "outputs": [],
   "source": []
  },
  {
   "cell_type": "code",
   "execution_count": null,
   "metadata": {},
   "outputs": [],
   "source": []
  },
  {
   "cell_type": "code",
   "execution_count": null,
   "metadata": {},
   "outputs": [],
   "source": []
  },
  {
   "cell_type": "code",
   "execution_count": null,
   "metadata": {},
   "outputs": [],
   "source": []
  }
 ],
 "metadata": {
  "kernelspec": {
   "display_name": "base",
   "language": "python",
   "name": "python3"
  },
  "language_info": {
   "codemirror_mode": {
    "name": "ipython",
    "version": 3
   },
   "file_extension": ".py",
   "mimetype": "text/x-python",
   "name": "python",
   "nbconvert_exporter": "python",
   "pygments_lexer": "ipython3",
   "version": "3.12.7"
  }
 },
 "nbformat": 4,
 "nbformat_minor": 2
}
