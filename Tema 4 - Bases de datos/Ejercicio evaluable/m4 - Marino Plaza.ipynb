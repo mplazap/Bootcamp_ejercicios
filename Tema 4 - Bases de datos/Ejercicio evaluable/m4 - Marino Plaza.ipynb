{
 "cells": [
  {
   "cell_type": "markdown",
   "metadata": {},
   "source": [
    "### 1. CREAR BASE DE DATOS\n",
    "\n",
    "* Crear con código SQL una base de datos llamada supermercado.\n",
    "* Código Python con mysql connector que ejecute el SQL para borrar y generar la base de datos vacía."
   ]
  },
  {
   "cell_type": "code",
   "execution_count": 1,
   "metadata": {},
   "outputs": [],
   "source": [
    "import pandas as pd\n",
    "import mysql.connector as con\n",
    "import random\n",
    "import datetime\n",
    "from datetime import timedelta"
   ]
  },
  {
   "cell_type": "markdown",
   "metadata": {},
   "source": [
    "Base de datos Supermercado"
   ]
  },
  {
   "cell_type": "code",
   "execution_count": 2,
   "metadata": {},
   "outputs": [],
   "source": [
    "# Crear base de datos \"supermercado\"\n",
    "conexion = con.connect(\n",
    "    host=\"localhost\",\n",
    "    port= \"3306\",\n",
    "    user= \"root\",\n",
    "    password= \"admin\"\n",
    ")\n",
    "cursor = conexion.cursor()\n",
    "cursor.execute(\"DROP DATABASE IF EXISTS supermercado;\")\n",
    "cursor.execute(\"CREATE SCHEMA supermercado DEFAULT CHARACTER SET utf8;\")\n",
    "#cursor.close()\n",
    "#connection.close()\n",
    "#connection.close()"
   ]
  },
  {
   "cell_type": "code",
   "execution_count": 3,
   "metadata": {},
   "outputs": [
    {
     "name": "stdout",
     "output_type": "stream",
     "text": [
      "Tabla creada exitosamente.\n"
     ]
    }
   ],
   "source": [
    "# Creo una sola tabla\n",
    "# Conexion\n",
    "conexion = con.connect(\n",
    "    host=\"localhost\",\n",
    "    port= \"3306\",\n",
    "    user= \"root\",\n",
    "    password= \"admin\",\n",
    "    database= \"supermercado\"\n",
    ")\n",
    "cursor = conexion.cursor()\n",
    "\n",
    "# crear tabla\n",
    "query_tabla_tiendas = \"\"\"\n",
    "CREATE TABLE IF NOT EXISTS tiendas (\n",
    "    id_tienda INT AUTO_INCREMENT PRIMARY KEY,\n",
    "    nombre_tienda VARCHAR(30),\n",
    "    direccion_tienda VARCHAR(50),\n",
    "    ciudad VARCHAR (50)\n",
    ")\n",
    "\"\"\"\n",
    "# Hacer los cambios en la base de datos\n",
    "cursor.execute(query_tabla_tiendas)\n",
    "conexion.commit()\n",
    "print(\"Tabla creada exitosamente.\")\n",
    "\n",
    "# Cerrar la conexion\n",
    "cursor.close()\n",
    "conexion.close()"
   ]
  },
  {
   "cell_type": "code",
   "execution_count": 4,
   "metadata": {},
   "outputs": [
    {
     "name": "stdout",
     "output_type": "stream",
     "text": [
      "Tablas creadas exitosamente.\n",
      "Trigger creado exitosamente.\n"
     ]
    }
   ],
   "source": [
    "# Creo varias tablas a la vez\n",
    "conexion = con.connect(\n",
    "    host=\"localhost\",\n",
    "    port= \"3306\",\n",
    "    user= \"root\",\n",
    "    password= \"admin\",\n",
    "    database= \"supermercado\"\n",
    ")\n",
    "cursor = conexion.cursor()\n",
    "\n",
    "query_varias_tablas = [\"\"\"\n",
    "    CREATE TABLE IF NOT EXISTS empleados (\n",
    "    id_empleado INT AUTO_INCREMENT PRIMARY KEY,\n",
    "    nombre_empleado VARCHAR(30),\n",
    "    puesto VARCHAR(20),\n",
    "    id_tienda INT,\n",
    "    FOREIGN KEY (id_tienda) REFERENCES tiendas(id_tienda) ON DELETE CASCADE\n",
    ")\"\"\",\n",
    "\n",
    "    \"\"\"\n",
    "    CREATE TABLE IF NOT EXISTS categorias (\n",
    "    id_categoria INT AUTO_INCREMENT PRIMARY KEY,\n",
    "    nombre_categoria VARCHAR(40)\n",
    ")\"\"\",\n",
    "\n",
    "    \"\"\"\n",
    "    CREATE TABLE IF NOT EXISTS productos (\n",
    "    id_producto INT AUTO_INCREMENT PRIMARY KEY,\n",
    "    nombre_producto VARCHAR(40),\n",
    "    precio DECIMAL (6, 2),\n",
    "    stock INT,\n",
    "    id_categoria INT,\n",
    "    FOREIGN KEY (id_categoria) REFERENCES categorias(id_categoria) ON DELETE CASCADE\n",
    ")\"\"\",\n",
    "\n",
    "    \"\"\"\n",
    "    CREATE TABLE IF NOT EXISTS clientes (\n",
    "    id_cliente INT AUTO_INCREMENT PRIMARY KEY,\n",
    "    nombre VARCHAR(15),\n",
    "    apellido VARCHAR (20),\n",
    "    email VARCHAR (60),\n",
    "    telefono INT,\n",
    "    direccion VARCHAR (40),\n",
    "    codigo_postal INT\n",
    ")\"\"\",\n",
    "\n",
    "    \"\"\"\n",
    "    CREATE TABLE IF NOT EXISTS ordenes (\n",
    "    id_orden INT AUTO_INCREMENT PRIMARY KEY,\n",
    "    id_cliente INT,\n",
    "    FOREIGN KEY (id_cliente) REFERENCES clientes(id_cliente),\n",
    "    id_empleado INT,\n",
    "    FOREIGN KEY (id_empleado) REFERENCES empleados(id_empleado),\n",
    "    fecha_orden DATE,\n",
    "    metodo_pago ENUM('Tarjeta', 'Efectivo')\n",
    ")\"\"\",\n",
    "\n",
    "   \"\"\"\n",
    "    CREATE TABLE IF NOT EXISTS detalle_orden (\n",
    "    id_detalle INT AUTO_INCREMENT PRIMARY KEY,\n",
    "    id_orden INT NOT NULL,\n",
    "    FOREIGN KEY (id_orden) REFERENCES ordenes(id_orden) ON DELETE CASCADE,\n",
    "    id_producto INT NOT NULL,\n",
    "    FOREIGN KEY (id_producto) REFERENCES productos(id_producto) ON DELETE CASCADE,\n",
    "    cantidad INT (15) NOT NULL,\n",
    "    descuento DECIMAL (3,2),\n",
    "    precio_unitario DECIMAL(6,2) NOT NULL\n",
    ")\"\"\"\n",
    "]\n",
    "# Para ejecutar cada consulta a kla base de datos y crear todas las tablas\n",
    "for query in query_varias_tablas:\n",
    "    cursor.execute(query)\n",
    "\n",
    "conexion.commit()\n",
    "print(\"Tablas creadas exitosamente.\")\n",
    "\n",
    "# Para copiar el \"precio\" de la tabla \"productos\" en la tabla \"detalle_orden\"\n",
    "query_trigger = \"\"\"\n",
    "CREATE TRIGGER insertar_precio_unitario\n",
    "BEFORE INSERT ON detalle_orden\n",
    "FOR EACH ROW\n",
    "BEGIN\n",
    "    DECLARE precio_producto DECIMAL(6,2);\n",
    "\n",
    "    -- Obtener el precio del producto desde la tabla productos\n",
    "    SELECT precio INTO precio_producto \n",
    "    FROM productos \n",
    "    WHERE id_producto = NEW.id_producto;\n",
    "\n",
    "    -- Asignar el precio al nuevo registro en detalle_orden\n",
    "    SET NEW.precio_unitario = precio_producto;\n",
    "END;\n",
    "\"\"\"\n",
    "\n",
    "cursor.execute(query_trigger)\n",
    "\n",
    "conexion.commit()\n",
    "print(\"Trigger creado exitosamente.\")\n",
    "\n",
    "# Para cerrar la conexión\n",
    "cursor.close()\n",
    "conexion.close()"
   ]
  },
  {
   "cell_type": "markdown",
   "metadata": {},
   "source": [
    "### 2. Generar datos demo desde Python"
   ]
  },
  {
   "cell_type": "markdown",
   "metadata": {},
   "source": [
    "Tiendas"
   ]
  },
  {
   "cell_type": "code",
   "execution_count": 5,
   "metadata": {},
   "outputs": [
    {
     "data": {
      "text/plain": [
       "['Tienda_00',\n",
       " 'Tienda_01',\n",
       " 'Tienda_02',\n",
       " 'Tienda_03',\n",
       " 'Tienda_04',\n",
       " 'Tienda_05',\n",
       " 'Tienda_06',\n",
       " 'Tienda_07',\n",
       " 'Tienda_08',\n",
       " 'Tienda_09',\n",
       " 'Tienda_10']"
      ]
     },
     "execution_count": 5,
     "metadata": {},
     "output_type": "execute_result"
    }
   ],
   "source": [
    "# Nombres de tiendas\n",
    "filas = random.randint(11, 11)\n",
    "\n",
    "nombre_tienda = [f'Tienda_0{numero}' if numero < 10 else f'Tienda_{numero}' for numero in range(filas)]\n",
    "nombre_tienda"
   ]
  },
  {
   "cell_type": "code",
   "execution_count": 6,
   "metadata": {},
   "outputs": [
    {
     "data": {
      "text/plain": [
       "['Calle_falsa_0',\n",
       " 'Calle_falsa_1',\n",
       " 'Calle_falsa_2',\n",
       " 'Calle_falsa_3',\n",
       " 'Calle_falsa_4',\n",
       " 'Calle_falsa_5',\n",
       " 'Calle_falsa_6',\n",
       " 'Calle_falsa_7',\n",
       " 'Calle_falsa_8',\n",
       " 'Calle_falsa_9',\n",
       " 'Calle_falsa_10']"
      ]
     },
     "execution_count": 6,
     "metadata": {},
     "output_type": "execute_result"
    }
   ],
   "source": [
    "# Direcciones \n",
    "direccion_tienda = [f'Calle_falsa_{numero}' if numero < 10 else f'Calle_falsa_{numero}' for numero in range(filas)]\n",
    "direccion_tienda"
   ]
  },
  {
   "cell_type": "code",
   "execution_count": 7,
   "metadata": {},
   "outputs": [
    {
     "name": "stdout",
     "output_type": "stream",
     "text": [
      "['Madrid', 'Alicante', 'Albacete', 'Bilbao', 'Granada', 'Bilbao', 'Albacete', 'Barcelona', 'Granada', 'Valencia']\n"
     ]
    }
   ],
   "source": [
    "# Lista de ciudades\n",
    "ciudades = [\"Madrid\", \"Barcelona\", \"Sevilla\", \"Valencia\", \"Bilbao\", \"Zaragoza\", \"Granada\", \"Alicante\",\"Murcia\",\"Albacete\"]\n",
    "\n",
    "# Número de ciudades aleatorias\n",
    "num_ciudades = 10  \n",
    "\n",
    "# Generar la lista de ciudades aleatorias\n",
    "ciudades_aleatorias = [random.choice(ciudades) for _ in range(num_ciudades)]\n",
    "print(ciudades_aleatorias)"
   ]
  },
  {
   "cell_type": "code",
   "execution_count": 8,
   "metadata": {},
   "outputs": [
    {
     "name": "stdout",
     "output_type": "stream",
     "text": [
      "Las tiendas han sido insertadas correctamente\n"
     ]
    }
   ],
   "source": [
    "# Insertamos los datos generados anteriormente\n",
    "# Conectar a MySQL\n",
    "conexion2 = con.connect(\n",
    "    host=\"localhost\",\n",
    "    port= \"3306\",\n",
    "    user=\"root\",\n",
    "    password=\"admin\",\n",
    "    database=\"supermercado\"\n",
    ")\n",
    "cursor = conexion2.cursor()\n",
    "\n",
    "# Insertamos los datos en la tabla\n",
    "for i in range(10):\n",
    "    cursor.execute(\"INSERT INTO tiendas (nombre_tienda, direccion_tienda, ciudad) VALUES (%s, %s, %s)\",\n",
    "                   (nombre_tienda[i], direccion_tienda[i], ciudades_aleatorias[i]))\n",
    "\n",
    "conexion2.commit()\n",
    "cursor.close()\n",
    "conexion2.close()\n",
    "print(\"Las tiendas han sido insertadas correctamente\")"
   ]
  },
  {
   "cell_type": "markdown",
   "metadata": {},
   "source": [
    "Empleados"
   ]
  },
  {
   "cell_type": "code",
   "execution_count": 9,
   "metadata": {},
   "outputs": [
    {
     "name": "stdout",
     "output_type": "stream",
     "text": [
      "['Director tienda', 'Panadero', 'Frutero', 'Frutero', 'Pescatero', 'Pescatero', 'Frutero', 'Reponedor', 'Cajero', 'Charcutero', 'Cajero', 'Repartidor', 'Cajero', 'Charcutero', 'Director tienda', 'Reponedor', 'Frutero', 'Pescatero', 'Reponedor', 'Pescatero', 'Reponedor', 'Pescatero', 'Pescatero', 'Reponedor', 'Reponedor', 'Frutero', 'Pescatero', 'Panadero', 'Pescatero', 'Pescatero', 'Reponedor', 'Repartidor', 'Frutero', 'Reponedor', 'Cajero', 'Panadero', 'Reponedor', 'Reponedor', 'Frutero', 'Pescatero', 'Pescatero', 'Reponedor', 'Charcutero', 'Pescatero', 'Director tienda', 'Director tienda', 'Director tienda', 'Pescatero', 'Charcutero', 'Pescatero', 'Panadero', 'Pescatero', 'Frutero', 'Director tienda', 'Charcutero', 'Pescatero', 'Reponedor', 'Reponedor', 'Reponedor', 'Reponedor', 'Director tienda', 'Charcutero', 'Panadero', 'Reponedor', 'Reponedor', 'Cajero', 'Frutero', 'Panadero', 'Repartidor', 'Reponedor', 'Frutero', 'Charcutero', 'Charcutero', 'Pescatero', 'Repartidor', 'Panadero', 'Panadero', 'Panadero', 'Repartidor', 'Reponedor', 'Repartidor', 'Charcutero', 'Repartidor', 'Panadero', 'Charcutero', 'Cajero', 'Reponedor', 'Cajero', 'Cajero', 'Pescatero', 'Charcutero', 'Director tienda', 'Cajero', 'Panadero', 'Repartidor', 'Director tienda', 'Pescatero', 'Charcutero', 'Cajero', 'Frutero', 'Pescatero', 'Pescatero', 'Panadero', 'Reponedor', 'Frutero', 'Cajero', 'Reponedor', 'Director tienda', 'Charcutero', 'Pescatero', 'Repartidor', 'Repartidor', 'Reponedor', 'Panadero', 'Repartidor', 'Charcutero', 'Cajero', 'Reponedor', 'Repartidor', 'Cajero', 'Frutero', 'Cajero', 'Reponedor', 'Charcutero', 'Cajero', 'Frutero', 'Repartidor', 'Panadero', 'Pescatero', 'Reponedor', 'Cajero', 'Pescatero', 'Cajero', 'Repartidor', 'Frutero', 'Director tienda', 'Charcutero', 'Charcutero', 'Cajero', 'Director tienda', 'Charcutero', 'Pescatero', 'Director tienda', 'Pescatero', 'Frutero', 'Reponedor', 'Charcutero', 'Cajero', 'Director tienda', 'Reponedor', 'Charcutero', 'Cajero', 'Cajero', 'Reponedor', 'Director tienda', 'Charcutero', 'Repartidor', 'Frutero', 'Frutero', 'Cajero', 'Repartidor', 'Cajero', 'Panadero', 'Charcutero', 'Cajero', 'Charcutero', 'Director tienda', 'Director tienda', 'Frutero', 'Reponedor', 'Repartidor', 'Panadero', 'Panadero', 'Reponedor', 'Reponedor', 'Reponedor', 'Cajero', 'Pescatero', 'Panadero', 'Panadero', 'Director tienda', 'Charcutero', 'Reponedor', 'Director tienda', 'Director tienda', 'Director tienda', 'Repartidor', 'Panadero', 'Repartidor', 'Frutero', 'Director tienda', 'Reponedor', 'Cajero', 'Director tienda', 'Cajero', 'Repartidor', 'Charcutero', 'Pescatero', 'Pescatero', 'Pescatero']\n"
     ]
    }
   ],
   "source": [
    "# Lista de puestos\n",
    "puestos = [\"Director tienda\", \"Panadero\", \"Frutero\", \"Charcutero\", \"Pescatero\", \"Cajero\", \"Reponedor\", \"Repartidor\"]\n",
    "\n",
    "# Número de puestos aleatorias\n",
    "num_puestos = 200  \n",
    "\n",
    "# Generar la lista de puestos aleatorios\n",
    "puestos_aleatorios = [random.choice(puestos) for _ in range(num_puestos)]\n",
    "print(puestos_aleatorios)"
   ]
  },
  {
   "cell_type": "code",
   "execution_count": 10,
   "metadata": {},
   "outputs": [
    {
     "name": "stdout",
     "output_type": "stream",
     "text": [
      "Los 200 empleados han sido insertados correctamente con un puesto y una tienda aleatoria.\n"
     ]
    }
   ],
   "source": [
    "# Llenamos la tabla empleados\n",
    "conexion4 = con.connect(\n",
    "    host=\"localhost\",\n",
    "    port= \"3306\",\n",
    "    user=\"root\",\n",
    "    password=\"admin\",\n",
    "    database=\"supermercado\"\n",
    ")\n",
    "cursor = conexion4.cursor()\n",
    "\n",
    "#Nombre empleados\n",
    "nom_empleados = [f\"Empleado{i}\" for i in range(1, 201)]\n",
    "\n",
    "# Lista de IDs de tiendas disponibles en la tabla \"tiendas\"\n",
    "cursor.execute(\"SELECT id_tienda FROM tiendas\")\n",
    "id_tienda_disponibles = [row[0] for row in cursor.fetchall()]\n",
    "\n",
    "# Inserto empleado con un puesto y un id_tienda aleatorio\n",
    "for i in range(200):\n",
    "    puesto_aleatorio = puestos_aleatorios[i]\n",
    "    id_tienda_aleatorio = random.choice(id_tienda_disponibles)\n",
    "\n",
    "    cursor.execute(\"INSERT INTO empleados (nombre_empleado, puesto, id_tienda) VALUES (%s, %s, %s)\",\n",
    "                   (nom_empleados[i],puesto_aleatorio, id_tienda_aleatorio))\n",
    "\n",
    "conexion4.commit()\n",
    "cursor.close()\n",
    "conexion4.close()\n",
    "\n",
    "print(\"Los 200 empleados han sido insertados correctamente con un puesto y una tienda aleatoria.\")"
   ]
  },
  {
   "cell_type": "markdown",
   "metadata": {},
   "source": [
    "Categorias"
   ]
  },
  {
   "cell_type": "code",
   "execution_count": 11,
   "metadata": {},
   "outputs": [
    {
     "name": "stdout",
     "output_type": "stream",
     "text": [
      "Las 10 categorias se han insertado correctamente\n"
     ]
    }
   ],
   "source": [
    "# Insertar datos en la tabla categorias\n",
    "import mysql.connector as con\n",
    "\n",
    "# Conectar a MySQL\n",
    "conexion5 = con.connect(\n",
    "    host=\"localhost\",\n",
    "    port=\"3306\",\n",
    "    user=\"root\",\n",
    "    password=\"admin\",\n",
    "    database=\"supermercado\"\n",
    ")\n",
    "cursor = conexion5.cursor()\n",
    "\n",
    "# Lista de categorías\n",
    "categorias = [\"Carnes\", \"Lacteos\", \"Frutas\", \"Panaderia\", \"Bebidas\", \n",
    "              \"Cereales\", \"Congelados\", \"Conservas\", \"Limpieza\", \"Belleza\"]\n",
    "\n",
    "# Insertar las categorías en la tabla\n",
    "for categoria in categorias:\n",
    "    cursor.execute(\"INSERT INTO categorias (nombre_categoria) VALUES (%s)\", (categoria,))\n",
    "\n",
    "# Confirmar cambios y cerrar conexión\n",
    "conexion5.commit()\n",
    "cursor.close()\n",
    "conexion5.close()\n",
    "\n",
    "print(\"Las 10 categorias se han insertado correctamente\")"
   ]
  },
  {
   "cell_type": "markdown",
   "metadata": {},
   "source": [
    "Productos"
   ]
  },
  {
   "cell_type": "code",
   "execution_count": 12,
   "metadata": {},
   "outputs": [
    {
     "name": "stdout",
     "output_type": "stream",
     "text": [
      "Todos los productos han sido insertados correctamente con sus categorías correspondientes.\n"
     ]
    }
   ],
   "source": [
    "# Conectar a MySQL\n",
    "conexion6 = con.connect(\n",
    "    host=\"localhost\",\n",
    "    port=\"3306\",\n",
    "    user=\"root\",\n",
    "    password=\"admin\",\n",
    "    database=\"supermercado\"\n",
    ")\n",
    "cursor = conexion6.cursor()\n",
    "\n",
    "# Diccionario de categorías y sus productos\n",
    "productos_por_categoria = {\n",
    "    \"Lacteos\": [\"Leche\", \"Yogur griego natural\", \"Queso mozzarella\", \"Mantequilla\"],\n",
    "    \"Carnes\": [\"Pechuga de pollo\", \"Carne picada\", \"Jamón\", \"Salchichas\"],\n",
    "    \"Frutas\": [\"Manzana roja\", \"Plátano\", \"Zanahoria\", \"Lechuga\"],\n",
    "    \"Panaderia\": [\"Pan integral\", \"Croissants\", \"Galletas\", \"Pastel de chocolate\"],\n",
    "    \"Bebidas\": [\"Coca-Cola\", \"Zumo de naranja\", \"Café\", \"Agua mineral\"],\n",
    "    \"Cereales\": [\"Arroz\", \"Lentejas\", \"Avena\", \"Fideos\"],\n",
    "    \"Congelados\": [\"Helado de fresa\", \"Nuggets de pollo\", \"Espinacas congeladas\", \"Pizza congelada\"],\n",
    "    \"Conservas\": [\"Atún\", \"Salsa de tomate\", \"Caballa\", \"Anchoas\"],\n",
    "    \"Limpieza\": [\"Detergente líquido\", \"Jabón de manos\", \"Papel higiénico\", \"Desinfectante\"],\n",
    "    \"Belleza\": [\"Champu\", \"Pasta de dientes\", \"Desodorante\", \"Crema hidratante\"]\n",
    "}\n",
    "\n",
    "# IDs de las categorías existentes\n",
    "cursor.execute(\"SELECT id_categoria, nombre_categoria FROM categorias\")\n",
    "categorias_disponibles = {nombre: id for id, nombre in cursor.fetchall()}\n",
    "\n",
    "# Inserto productos con su categoría correspondiente\n",
    "for categoria, lista_productos in productos_por_categoria.items():\n",
    "    if categoria in categorias_disponibles:\n",
    "        id_categoria = categorias_disponibles[categoria]\n",
    "        for producto in lista_productos:\n",
    "            precio = round(random.uniform(0.50, 50.00), 2)  # Precio aleatorio entre 1 y 50\n",
    "            stock = random.randint(0, 500)  # Stock aleatorio entre 10 y 100 unidades\n",
    "            \n",
    "            cursor.execute(\"INSERT INTO productos (nombre_producto, precio, stock, id_categoria) VALUES (%s, %s, %s, %s)\",\n",
    "                           (producto, precio, stock, id_categoria))\n",
    "    else:\n",
    "        print(f\"La categoría '{categoria}' no existe en la base de datos.\")\n",
    "\n",
    "conexion6.commit()\n",
    "cursor.close()\n",
    "conexion6.close()\n",
    "\n",
    "print(\"Todos los productos han sido insertados correctamente con sus categorías correspondientes.\")"
   ]
  },
  {
   "cell_type": "markdown",
   "metadata": {},
   "source": [
    "Clientes"
   ]
  },
  {
   "cell_type": "code",
   "execution_count": 13,
   "metadata": {},
   "outputs": [
    {
     "name": "stdout",
     "output_type": "stream",
     "text": [
      "Los 2000 clientes han sido insertados correctamente con todos sus datos.\n"
     ]
    }
   ],
   "source": [
    "# Llenamos la tabla clientes\n",
    "conexion7 = con.connect(\n",
    "    host=\"localhost\",\n",
    "    port= \"3306\",\n",
    "    user=\"root\",\n",
    "    password=\"admin\",\n",
    "    database=\"supermercado\"\n",
    ")\n",
    "cursor = conexion7.cursor()\n",
    "\n",
    "#Nombres y apellidos clientes\n",
    "nom_clientes = [f\"Cliente{i}\" for i in range(1, 2001)]\n",
    "ape_clientes = [f\"Apellido\" for _ in range(2000)]\n",
    "\n",
    "# email clientes\n",
    "mail_clientes = [f\"{nombre}.{apellido}@python.com\" for nombre, apellido in zip(nom_clientes, ape_clientes)]\n",
    "\n",
    "# Telefono clientes\n",
    "tel_clientes = [random.randint(600000000, 699999999) for _ in range(2000)]\n",
    "\n",
    "#Direccion clientes\n",
    "dir_clientes = [f\"Calle_cliente_{i}\" for i in range(1, 2001)]\n",
    "\n",
    "#Codigo postal\n",
    "cod_postal = [random.randint(10000, 99999) for _ in range(2000)]\n",
    "\n",
    "\n",
    "# Actualizar cada empleado con un puesto y un id_tienda aleatorio\n",
    "for i in range(2000):\n",
    "    cursor.execute(\"INSERT INTO clientes (nombre, apellido, email, telefono, direccion, codigo_postal) VALUES (%s, %s, %s, %s, %s, %s)\",\n",
    "                   (nom_clientes[i], ape_clientes[i], mail_clientes[i], tel_clientes[i], dir_clientes[i], cod_postal[i]))\n",
    "\n",
    "conexion7.commit()\n",
    "cursor.close()\n",
    "conexion7.close()\n",
    "\n",
    "print(\"Los 2000 clientes han sido insertados correctamente con todos sus datos.\")"
   ]
  },
  {
   "cell_type": "markdown",
   "metadata": {},
   "source": [
    "Ordenes"
   ]
  },
  {
   "cell_type": "code",
   "execution_count": 14,
   "metadata": {},
   "outputs": [
    {
     "name": "stdout",
     "output_type": "stream",
     "text": [
      "✅ 10,000 órdenes han sido insertadas correctamente en la base de datos.\n"
     ]
    }
   ],
   "source": [
    "conexion8 = con.connect(\n",
    "    host=\"localhost\",\n",
    "    port=\"3306\",\n",
    "    user=\"root\",\n",
    "    password=\"admin\",\n",
    "    database=\"supermercado\"\n",
    ")\n",
    "cursor = conexion8.cursor()\n",
    "\n",
    "# Obtener lista de ID de clientes\n",
    "cursor.execute(\"SELECT id_cliente FROM clientes\")\n",
    "id_clientes = [row[0] for row in cursor.fetchall()]\n",
    "\n",
    "# Obtener lista de ID de empleados\n",
    "cursor.execute(\"SELECT id_empleado FROM empleados\")\n",
    "id_empleados = [row[0] for row in cursor.fetchall()]\n",
    "\n",
    "# Generar 10,000 fechas aleatorias en 2024\n",
    "fechas = [datetime.datetime(year=2024, month=1, day=1) + datetime.timedelta(days=random.randint(0, 364)) for _ in range(10000)]\n",
    "\n",
    "# Insertar los datos en la tabla ordenes\n",
    "for _ in range(10000): \n",
    "    id_cliente = random.choice(id_clientes) \n",
    "    id_empleado = random.choice(id_empleados) \n",
    "    fecha_orden = random.choice(fechas)  \n",
    "    metodo_pago = random.choice([\"Tarjeta\", \"Efectivo\"])\n",
    "\n",
    "    cursor.execute(\n",
    "        \"INSERT INTO ordenes (id_cliente, id_empleado, fecha_orden, metodo_pago) VALUES (%s, %s, %s, %s)\",\n",
    "        (id_cliente, id_empleado, fecha_orden, metodo_pago)\n",
    "    )\n",
    "\n",
    "conexion8.commit()\n",
    "cursor.close()\n",
    "conexion8.close()\n",
    "\n",
    "print(\"10,000 órdenes han sido insertadas correctamente\")"
   ]
  },
  {
   "cell_type": "markdown",
   "metadata": {},
   "source": [
    "Detalles orden"
   ]
  },
  {
   "cell_type": "code",
   "execution_count": null,
   "metadata": {},
   "outputs": [],
   "source": [
    "conexion9 = con.connect(\n",
    "    host=\"localhost\",\n",
    "    port=3306,  # Número sin comillas\n",
    "    user=\"root\",\n",
    "    password=\"admin\",\n",
    "    database=\"supermercado\"\n",
    ")\n",
    "cursor = conexion9.cursor()\n",
    "\n",
    "# Obtener lista de ID de órdenes existentes\n",
    "cursor.execute(\"SELECT id_orden FROM ordenes\")\n",
    "id_ordenes = [row[0] for row in cursor.fetchall()]\n",
    "\n",
    "# Obtener lista de productos junto con su precio\n",
    "cursor.execute(\"SELECT id_producto, precio_unitario FROM productos\")\n",
    "productos_info = {row[0]: row[1] for row in cursor.fetchall()}  # Diccionario {id_producto: precio_unitario}\n",
    "\n",
    "# Insertar los datos en la tabla ordenes\n",
    "for _ in range(30000): \n",
    "    id_orden = random.choice(id_ordenes) \n",
    "    id_producto = random.choice(list(productos_info.keys()))  # Escoge un producto válido\n",
    "    cantidad = random.randint(1, 50)  \n",
    "    precio_unitario = productos_info[id_producto]  # Obtiene el precio del producto\n",
    "    precio_total = cantidad * precio_unitario  # Calcula el precio total\n",
    "\n",
    "    cursor.execute(\n",
    "        \"INSERT INTO ordenes (id_orden, id_producto, cantidad, precio_unitario, precio_total) VALUES (%s, %s, %s, %s, %s)\",\n",
    "        (id_orden, id_producto, cantidad, precio_unitario, precio_total)\n",
    "    )\n",
    "\n",
    "# Confirmar cambios\n",
    "conexion9.commit()\n",
    "cursor.close()\n",
    "conexion9.close()\n",
    "\n",
    "print(\"Se han insertado 30,000 registros exitosamente con precio unitario y total.\")"
   ]
  },
  {
   "cell_type": "code",
   "execution_count": null,
   "metadata": {},
   "outputs": [],
   "source": []
  },
  {
   "cell_type": "code",
   "execution_count": null,
   "metadata": {},
   "outputs": [],
   "source": []
  },
  {
   "cell_type": "code",
   "execution_count": null,
   "metadata": {},
   "outputs": [],
   "source": []
  },
  {
   "cell_type": "code",
   "execution_count": null,
   "metadata": {},
   "outputs": [],
   "source": []
  },
  {
   "cell_type": "code",
   "execution_count": null,
   "metadata": {},
   "outputs": [],
   "source": []
  },
  {
   "cell_type": "code",
   "execution_count": null,
   "metadata": {},
   "outputs": [],
   "source": []
  },
  {
   "cell_type": "code",
   "execution_count": null,
   "metadata": {},
   "outputs": [],
   "source": []
  },
  {
   "cell_type": "code",
   "execution_count": null,
   "metadata": {},
   "outputs": [],
   "source": []
  },
  {
   "cell_type": "code",
   "execution_count": null,
   "metadata": {},
   "outputs": [],
   "source": []
  },
  {
   "cell_type": "code",
   "execution_count": null,
   "metadata": {},
   "outputs": [],
   "source": []
  },
  {
   "cell_type": "code",
   "execution_count": null,
   "metadata": {},
   "outputs": [],
   "source": []
  },
  {
   "cell_type": "code",
   "execution_count": null,
   "metadata": {},
   "outputs": [],
   "source": []
  },
  {
   "cell_type": "code",
   "execution_count": null,
   "metadata": {},
   "outputs": [],
   "source": []
  },
  {
   "cell_type": "code",
   "execution_count": null,
   "metadata": {},
   "outputs": [],
   "source": []
  },
  {
   "cell_type": "code",
   "execution_count": null,
   "metadata": {},
   "outputs": [],
   "source": []
  }
 ],
 "metadata": {
  "kernelspec": {
   "display_name": "base",
   "language": "python",
   "name": "python3"
  },
  "language_info": {
   "codemirror_mode": {
    "name": "ipython",
    "version": 3
   },
   "file_extension": ".py",
   "mimetype": "text/x-python",
   "name": "python",
   "nbconvert_exporter": "python",
   "pygments_lexer": "ipython3",
   "version": "3.12.7"
  }
 },
 "nbformat": 4,
 "nbformat_minor": 2
}
