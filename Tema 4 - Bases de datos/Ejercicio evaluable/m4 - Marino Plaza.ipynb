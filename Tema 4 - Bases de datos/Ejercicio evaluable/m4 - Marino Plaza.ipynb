{
 "cells": [
  {
   "cell_type": "markdown",
   "metadata": {},
   "source": [
    "### 1. CREAR BASE DE DATOS\n",
    "\n",
    "* Crear con código SQL una base de datos llamada supermercado.\n",
    "* Código Python con mysql connector que ejecute el SQL para borrar y generar la base de datos vacía."
   ]
  },
  {
   "cell_type": "code",
   "execution_count": 1,
   "metadata": {},
   "outputs": [],
   "source": [
    "import pandas as pd\n",
    "import mysql.connector as con\n",
    "import random\n",
    "import datetime\n",
    "from datetime import timedelta"
   ]
  },
  {
   "cell_type": "markdown",
   "metadata": {},
   "source": [
    "Base de datos Supermercado"
   ]
  },
  {
   "cell_type": "code",
   "execution_count": 2,
   "metadata": {},
   "outputs": [],
   "source": [
    "# Crear base de datos \"supermercado\"\n",
    "conexion = con.connect(\n",
    "    host=\"localhost\",\n",
    "    port= 3306,\n",
    "    user= \"root\",\n",
    "    password= \"admin\"\n",
    ")\n",
    "cursor = conexion.cursor()\n",
    "cursor.execute(\"DROP DATABASE IF EXISTS supermercado;\")\n",
    "cursor.execute(\"CREATE SCHEMA supermercado DEFAULT CHARACTER SET utf8;\")\n",
    "cursor.close()\n",
    "conexion.close()"
   ]
  },
  {
   "cell_type": "code",
   "execution_count": 3,
   "metadata": {},
   "outputs": [
    {
     "name": "stdout",
     "output_type": "stream",
     "text": [
      "Tabla creada exitosamente.\n"
     ]
    }
   ],
   "source": [
    "# Creo una sola tabla\n",
    "# Conexion\n",
    "conexion = con.connect(\n",
    "    host=\"localhost\",\n",
    "    port= \"3306\",\n",
    "    user= \"root\",\n",
    "    password= \"admin\",\n",
    "    database= \"supermercado\"\n",
    ")\n",
    "cursor = conexion.cursor()\n",
    "\n",
    "# crear tabla\n",
    "query_tabla_tiendas = \"\"\"\n",
    "CREATE TABLE IF NOT EXISTS tiendas (\n",
    "    id_tienda INT AUTO_INCREMENT PRIMARY KEY,\n",
    "    nombre_tienda VARCHAR(30),\n",
    "    direccion_tienda VARCHAR(50),\n",
    "    ciudad VARCHAR (50)\n",
    ")\n",
    "\"\"\"\n",
    "# Hacer los cambios en la base de datos\n",
    "cursor.execute(query_tabla_tiendas)\n",
    "conexion.commit()\n",
    "print(\"Tabla creada exitosamente.\")\n",
    "\n",
    "# Cerrar la conexion\n",
    "cursor.close()\n",
    "conexion.close()"
   ]
  },
  {
   "cell_type": "code",
   "execution_count": 4,
   "metadata": {},
   "outputs": [
    {
     "name": "stdout",
     "output_type": "stream",
     "text": [
      "Tablas creadas exitosamente.\n",
      "Trigger creado exitosamente.\n"
     ]
    }
   ],
   "source": [
    "# Creo varias tablas a la vez\n",
    "conexion = con.connect(\n",
    "    host=\"localhost\",\n",
    "    port= \"3306\",\n",
    "    user= \"root\",\n",
    "    password= \"admin\",\n",
    "    database= \"supermercado\"\n",
    ")\n",
    "cursor = conexion.cursor()\n",
    "\n",
    "query_varias_tablas = [\"\"\"\n",
    "    CREATE TABLE IF NOT EXISTS empleados (\n",
    "    id_empleado INT AUTO_INCREMENT PRIMARY KEY,\n",
    "    nombre_empleado VARCHAR(30),\n",
    "    puesto VARCHAR(20),\n",
    "    id_tienda INT,\n",
    "    FOREIGN KEY (id_tienda) REFERENCES tiendas(id_tienda) ON DELETE CASCADE\n",
    ")\"\"\",\n",
    "\n",
    "    \"\"\"\n",
    "    CREATE TABLE IF NOT EXISTS categorias (\n",
    "    id_categoria INT AUTO_INCREMENT PRIMARY KEY,\n",
    "    nombre_categoria VARCHAR(40)\n",
    ")\"\"\",\n",
    "\n",
    "    \"\"\"\n",
    "    CREATE TABLE IF NOT EXISTS productos (\n",
    "    id_producto INT AUTO_INCREMENT PRIMARY KEY,\n",
    "    nombre_producto VARCHAR(40),\n",
    "    precio DECIMAL (6, 2),\n",
    "    stock INT,\n",
    "    id_categoria INT,\n",
    "    FOREIGN KEY (id_categoria) REFERENCES categorias(id_categoria) ON DELETE CASCADE\n",
    ")\"\"\",\n",
    "\n",
    "    \"\"\"\n",
    "    CREATE TABLE IF NOT EXISTS clientes (\n",
    "    id_cliente INT AUTO_INCREMENT PRIMARY KEY,\n",
    "    nombre VARCHAR(15),\n",
    "    apellido VARCHAR (20),\n",
    "    email VARCHAR (60),\n",
    "    telefono INT,\n",
    "    direccion VARCHAR (40),\n",
    "    codigo_postal INT\n",
    ")\"\"\",\n",
    "\n",
    "    \"\"\"\n",
    "    CREATE TABLE IF NOT EXISTS ordenes (\n",
    "    id_orden INT AUTO_INCREMENT PRIMARY KEY,\n",
    "    id_cliente INT,\n",
    "    FOREIGN KEY (id_cliente) REFERENCES clientes(id_cliente),\n",
    "    id_empleado INT,\n",
    "    FOREIGN KEY (id_empleado) REFERENCES empleados(id_empleado),\n",
    "    fecha_orden DATE,\n",
    "    metodo_pago ENUM('Tarjeta', 'Efectivo')\n",
    ")\"\"\",\n",
    "\n",
    "   \"\"\"\n",
    "    CREATE TABLE IF NOT EXISTS detalle_orden (\n",
    "    id_detalle INT AUTO_INCREMENT PRIMARY KEY,\n",
    "    id_orden INT NOT NULL,\n",
    "    FOREIGN KEY (id_orden) REFERENCES ordenes(id_orden) ON DELETE CASCADE,\n",
    "    id_producto INT NOT NULL,\n",
    "    FOREIGN KEY (id_producto) REFERENCES productos(id_producto) ON DELETE CASCADE,\n",
    "    cantidad INT (15) NOT NULL,\n",
    "    descuento DECIMAL (3,2),\n",
    "    precio_unitario DECIMAL(6,2) NOT NULL,\n",
    "    precio_total DECIMAL(10, 2) NOT NULL\n",
    ")\"\"\"\n",
    "]\n",
    "# Para ejecutar cada consulta a la base de datos y crear todas las tablas\n",
    "for query in query_varias_tablas:\n",
    "    cursor.execute(query)\n",
    "\n",
    "conexion.commit()\n",
    "print(\"Tablas creadas exitosamente.\")\n",
    "\n",
    "# Para copiar el \"precio\" de la tabla \"productos\" en la tabla \"detalle_orden\"\n",
    "query_trigger = \"\"\"\n",
    "CREATE TRIGGER insertar_precio_unitario\n",
    "BEFORE INSERT ON detalle_orden\n",
    "FOR EACH ROW\n",
    "BEGIN\n",
    "    DECLARE precio_producto DECIMAL(6,2);\n",
    "\n",
    "    -- Obtener el precio del producto desde la tabla productos\n",
    "    SELECT precio INTO precio_producto \n",
    "    FROM productos \n",
    "    WHERE id_producto = NEW.id_producto;\n",
    "\n",
    "    -- Asignar el precio al nuevo registro en detalle_orden\n",
    "    SET NEW.precio_unitario = precio_producto;\n",
    "END;\n",
    "\"\"\"\n",
    "\n",
    "cursor.execute(query_trigger)\n",
    "\n",
    "conexion.commit()\n",
    "print(\"Trigger creado exitosamente.\")\n",
    "\n",
    "# Para cerrar la conexión\n",
    "cursor.close()\n",
    "conexion.close()"
   ]
  },
  {
   "cell_type": "markdown",
   "metadata": {},
   "source": [
    "### 2. Generar datos demo desde Python"
   ]
  },
  {
   "cell_type": "markdown",
   "metadata": {},
   "source": [
    "Tiendas"
   ]
  },
  {
   "cell_type": "code",
   "execution_count": 5,
   "metadata": {},
   "outputs": [
    {
     "data": {
      "text/plain": [
       "['Tienda_00',\n",
       " 'Tienda_01',\n",
       " 'Tienda_02',\n",
       " 'Tienda_03',\n",
       " 'Tienda_04',\n",
       " 'Tienda_05',\n",
       " 'Tienda_06',\n",
       " 'Tienda_07',\n",
       " 'Tienda_08',\n",
       " 'Tienda_09',\n",
       " 'Tienda_10']"
      ]
     },
     "execution_count": 5,
     "metadata": {},
     "output_type": "execute_result"
    }
   ],
   "source": [
    "# Nombres de tiendas\n",
    "filas = random.randint(11, 11)\n",
    "\n",
    "nombre_tienda = [f'Tienda_0{numero}' if numero < 10 else f'Tienda_{numero}' for numero in range(filas)]\n",
    "nombre_tienda"
   ]
  },
  {
   "cell_type": "code",
   "execution_count": 6,
   "metadata": {},
   "outputs": [
    {
     "data": {
      "text/plain": [
       "['Calle_falsa_0',\n",
       " 'Calle_falsa_1',\n",
       " 'Calle_falsa_2',\n",
       " 'Calle_falsa_3',\n",
       " 'Calle_falsa_4',\n",
       " 'Calle_falsa_5',\n",
       " 'Calle_falsa_6',\n",
       " 'Calle_falsa_7',\n",
       " 'Calle_falsa_8',\n",
       " 'Calle_falsa_9',\n",
       " 'Calle_falsa_10']"
      ]
     },
     "execution_count": 6,
     "metadata": {},
     "output_type": "execute_result"
    }
   ],
   "source": [
    "# Direcciones \n",
    "direccion_tienda = [f'Calle_falsa_{numero}' if numero < 10 else f'Calle_falsa_{numero}' for numero in range(filas)]\n",
    "direccion_tienda"
   ]
  },
  {
   "cell_type": "code",
   "execution_count": 7,
   "metadata": {},
   "outputs": [
    {
     "data": {
      "text/plain": [
       "['Granada',\n",
       " 'Alicante',\n",
       " 'Bilbao',\n",
       " 'Granada',\n",
       " 'Sevilla',\n",
       " 'Madrid',\n",
       " 'Murcia',\n",
       " 'Albacete',\n",
       " 'Zaragoza',\n",
       " 'Albacete']"
      ]
     },
     "execution_count": 7,
     "metadata": {},
     "output_type": "execute_result"
    }
   ],
   "source": [
    "# Lista de ciudades\n",
    "ciudades = [\"Madrid\", \"Barcelona\", \"Sevilla\", \"Valencia\", \"Bilbao\", \"Zaragoza\", \"Granada\", \"Alicante\",\"Murcia\",\"Albacete\"]\n",
    "\n",
    "# Número de ciudades aleatorias\n",
    "num_ciudades = 10  \n",
    "\n",
    "# Generar la lista de ciudades aleatorias\n",
    "ciudades_aleatorias = [random.choice(ciudades) for _ in range(num_ciudades)]\n",
    "ciudades_aleatorias"
   ]
  },
  {
   "cell_type": "code",
   "execution_count": 8,
   "metadata": {},
   "outputs": [
    {
     "name": "stdout",
     "output_type": "stream",
     "text": [
      "Las tiendas han sido insertadas correctamente\n"
     ]
    }
   ],
   "source": [
    "# Insertamos los datos generados anteriormente\n",
    "# Conectar a MySQL\n",
    "conexion2 = con.connect(\n",
    "    host=\"localhost\",\n",
    "    port= \"3306\",\n",
    "    user=\"root\",\n",
    "    password=\"admin\",\n",
    "    database=\"supermercado\"\n",
    ")\n",
    "cursor = conexion2.cursor()\n",
    "\n",
    "# Insertamos los datos en la tabla\n",
    "for i in range(10):\n",
    "    cursor.execute(\"INSERT INTO tiendas (nombre_tienda, direccion_tienda, ciudad) VALUES (%s, %s, %s)\",\n",
    "                   (nombre_tienda[i], direccion_tienda[i], ciudades_aleatorias[i]))\n",
    "\n",
    "conexion2.commit()\n",
    "cursor.close()\n",
    "conexion2.close()\n",
    "print(\"Las tiendas han sido insertadas correctamente\")"
   ]
  },
  {
   "cell_type": "markdown",
   "metadata": {},
   "source": [
    "Empleados"
   ]
  },
  {
   "cell_type": "code",
   "execution_count": 9,
   "metadata": {},
   "outputs": [
    {
     "name": "stdout",
     "output_type": "stream",
     "text": [
      "['Cajero', 'Reponedor', 'Cajero', 'Director tienda', 'Pescatero', 'Frutero', 'Pescatero', 'Repartidor', 'Panadero', 'Director tienda', 'Reponedor', 'Reponedor', 'Director tienda', 'Panadero', 'Panadero', 'Director tienda', 'Repartidor', 'Repartidor', 'Reponedor', 'Charcutero', 'Repartidor', 'Charcutero', 'Pescatero', 'Charcutero', 'Frutero', 'Cajero', 'Director tienda', 'Pescatero', 'Panadero', 'Pescatero', 'Frutero', 'Reponedor', 'Charcutero', 'Charcutero', 'Pescatero', 'Pescatero', 'Repartidor', 'Cajero', 'Frutero', 'Cajero', 'Repartidor', 'Reponedor', 'Charcutero', 'Reponedor', 'Charcutero', 'Pescatero', 'Reponedor', 'Charcutero', 'Repartidor', 'Pescatero', 'Repartidor', 'Panadero', 'Pescatero', 'Cajero', 'Repartidor', 'Pescatero', 'Repartidor', 'Cajero', 'Charcutero', 'Pescatero', 'Panadero', 'Frutero', 'Reponedor', 'Frutero', 'Cajero', 'Pescatero', 'Reponedor', 'Director tienda', 'Frutero', 'Repartidor', 'Panadero', 'Director tienda', 'Charcutero', 'Repartidor', 'Cajero', 'Frutero', 'Repartidor', 'Reponedor', 'Panadero', 'Frutero', 'Director tienda', 'Cajero', 'Reponedor', 'Frutero', 'Panadero', 'Director tienda', 'Panadero', 'Pescatero', 'Reponedor', 'Charcutero', 'Panadero', 'Cajero', 'Charcutero', 'Frutero', 'Repartidor', 'Cajero', 'Reponedor', 'Director tienda', 'Repartidor', 'Pescatero', 'Cajero', 'Cajero', 'Director tienda', 'Pescatero', 'Pescatero', 'Panadero', 'Pescatero', 'Pescatero', 'Charcutero', 'Cajero', 'Cajero', 'Director tienda', 'Reponedor', 'Panadero', 'Panadero', 'Panadero', 'Repartidor', 'Reponedor', 'Frutero', 'Charcutero', 'Reponedor', 'Cajero', 'Panadero', 'Repartidor', 'Pescatero', 'Director tienda', 'Pescatero', 'Reponedor', 'Panadero', 'Cajero', 'Reponedor', 'Cajero', 'Repartidor', 'Charcutero', 'Director tienda', 'Panadero', 'Cajero', 'Pescatero', 'Cajero', 'Repartidor', 'Director tienda', 'Panadero', 'Cajero', 'Charcutero', 'Panadero', 'Panadero', 'Frutero', 'Pescatero', 'Pescatero', 'Panadero', 'Panadero', 'Reponedor', 'Cajero', 'Pescatero', 'Charcutero', 'Repartidor', 'Panadero', 'Reponedor', 'Reponedor', 'Charcutero', 'Frutero', 'Reponedor', 'Pescatero', 'Pescatero', 'Panadero', 'Cajero', 'Reponedor', 'Frutero', 'Director tienda', 'Frutero', 'Cajero', 'Panadero', 'Panadero', 'Pescatero', 'Director tienda', 'Repartidor', 'Charcutero', 'Frutero', 'Charcutero', 'Charcutero', 'Pescatero', 'Charcutero', 'Panadero', 'Panadero', 'Panadero', 'Reponedor', 'Reponedor', 'Charcutero', 'Cajero', 'Charcutero', 'Repartidor', 'Pescatero', 'Director tienda', 'Panadero', 'Panadero', 'Director tienda', 'Pescatero', 'Reponedor', 'Reponedor', 'Frutero']\n"
     ]
    }
   ],
   "source": [
    "# Lista de puestos\n",
    "puestos = [\"Director tienda\", \"Panadero\", \"Frutero\", \"Charcutero\", \"Pescatero\", \"Cajero\", \"Reponedor\", \"Repartidor\"]\n",
    "\n",
    "# Número de puestos aleatorias\n",
    "num_puestos = 200  \n",
    "\n",
    "# Generar la lista de puestos aleatorios\n",
    "puestos_aleatorios = [random.choice(puestos) for _ in range(num_puestos)]\n",
    "print(puestos_aleatorios)"
   ]
  },
  {
   "cell_type": "code",
   "execution_count": 10,
   "metadata": {},
   "outputs": [
    {
     "name": "stdout",
     "output_type": "stream",
     "text": [
      "Los 200 empleados han sido insertados correctamente con un puesto y una tienda aleatoria.\n"
     ]
    }
   ],
   "source": [
    "# Llenamos la tabla empleados\n",
    "conexion4 = con.connect(\n",
    "    host=\"localhost\",\n",
    "    port= \"3306\",\n",
    "    user=\"root\",\n",
    "    password=\"admin\",\n",
    "    database=\"supermercado\"\n",
    ")\n",
    "cursor = conexion4.cursor()\n",
    "\n",
    "#Nombre empleados\n",
    "nom_empleados = [f\"Empleado{i}\" for i in range(1, 201)]\n",
    "\n",
    "# Lista de IDs de tiendas disponibles en la tabla \"tiendas\"\n",
    "cursor.execute(\"SELECT id_tienda FROM tiendas\")\n",
    "id_tienda_disponibles = [row[0] for row in cursor.fetchall()]\n",
    "\n",
    "# Inserto empleado con un puesto y un id_tienda aleatorio\n",
    "for i in range(200):\n",
    "    puesto_aleatorio = puestos_aleatorios[i]\n",
    "    id_tienda_aleatorio = random.choice(id_tienda_disponibles)\n",
    "\n",
    "    cursor.execute(\"INSERT INTO empleados (nombre_empleado, puesto, id_tienda) VALUES (%s, %s, %s)\",\n",
    "                   (nom_empleados[i],puesto_aleatorio, id_tienda_aleatorio))\n",
    "\n",
    "conexion4.commit()\n",
    "cursor.close()\n",
    "conexion4.close()\n",
    "\n",
    "print(\"Los 200 empleados han sido insertados correctamente con un puesto y una tienda aleatoria.\")"
   ]
  },
  {
   "cell_type": "markdown",
   "metadata": {},
   "source": [
    "Categorias"
   ]
  },
  {
   "cell_type": "code",
   "execution_count": 11,
   "metadata": {},
   "outputs": [
    {
     "name": "stdout",
     "output_type": "stream",
     "text": [
      "Las 10 categorias se han insertado correctamente\n"
     ]
    }
   ],
   "source": [
    "# Insertar datos en la tabla categorias\n",
    "import mysql.connector as con\n",
    "\n",
    "# Conectar a MySQL\n",
    "conexion5 = con.connect(\n",
    "    host=\"localhost\",\n",
    "    port=\"3306\",\n",
    "    user=\"root\",\n",
    "    password=\"admin\",\n",
    "    database=\"supermercado\"\n",
    ")\n",
    "cursor = conexion5.cursor()\n",
    "\n",
    "# Lista de categorías\n",
    "categorias = [\"Carnes\", \"Lacteos\", \"Frutas\", \"Panaderia\", \"Bebidas\", \n",
    "              \"Cereales\", \"Congelados\", \"Conservas\", \"Limpieza\", \"Belleza\"]\n",
    "\n",
    "# Insertar las categorías en la tabla\n",
    "for categoria in categorias:\n",
    "    cursor.execute(\"INSERT INTO categorias (nombre_categoria) VALUES (%s)\", (categoria,))\n",
    "\n",
    "# Confirmar cambios y cerrar conexión\n",
    "conexion5.commit()\n",
    "cursor.close()\n",
    "conexion5.close()\n",
    "\n",
    "print(\"Las 10 categorias se han insertado correctamente\")"
   ]
  },
  {
   "cell_type": "markdown",
   "metadata": {},
   "source": [
    "Productos"
   ]
  },
  {
   "cell_type": "code",
   "execution_count": 12,
   "metadata": {},
   "outputs": [
    {
     "name": "stdout",
     "output_type": "stream",
     "text": [
      "Todos los productos han sido insertados correctamente con sus categorías correspondientes.\n"
     ]
    }
   ],
   "source": [
    "# Conectar a MySQL\n",
    "conexion6 = con.connect(\n",
    "    host=\"localhost\",\n",
    "    port=\"3306\",\n",
    "    user=\"root\",\n",
    "    password=\"admin\",\n",
    "    database=\"supermercado\"\n",
    ")\n",
    "cursor = conexion6.cursor()\n",
    "\n",
    "# Diccionario de categorías y sus productos\n",
    "productos_por_categoria = {\n",
    "    \"Lacteos\": [\"Leche\", \"Yogur griego natural\", \"Queso mozzarella\", \"Mantequilla\"],\n",
    "    \"Carnes\": [\"Pechuga de pollo\", \"Carne picada\", \"Jamón\", \"Salchichas\"],\n",
    "    \"Frutas\": [\"Manzana roja\", \"Plátano\", \"Zanahoria\", \"Lechuga\"],\n",
    "    \"Panaderia\": [\"Pan integral\", \"Croissants\", \"Galletas\", \"Pastel de chocolate\"],\n",
    "    \"Bebidas\": [\"Coca-Cola\", \"Zumo de naranja\", \"Café\", \"Agua mineral\"],\n",
    "    \"Cereales\": [\"Arroz\", \"Lentejas\", \"Avena\", \"Fideos\"],\n",
    "    \"Congelados\": [\"Helado de fresa\", \"Nuggets de pollo\", \"Espinacas congeladas\", \"Pizza congelada\"],\n",
    "    \"Conservas\": [\"Atún\", \"Salsa de tomate\", \"Caballa\", \"Anchoas\"],\n",
    "    \"Limpieza\": [\"Detergente líquido\", \"Jabón de manos\", \"Papel higiénico\", \"Desinfectante\"],\n",
    "    \"Belleza\": [\"Champu\", \"Pasta de dientes\", \"Desodorante\", \"Crema hidratante\"]\n",
    "}\n",
    "\n",
    "# IDs de las categorías existentes\n",
    "cursor.execute(\"SELECT id_categoria, nombre_categoria FROM categorias\")\n",
    "categorias_disponibles = {nombre: id for id, nombre in cursor.fetchall()}\n",
    "\n",
    "# Inserto productos con su categoría correspondiente\n",
    "for categoria, lista_productos in productos_por_categoria.items():\n",
    "    if categoria in categorias_disponibles:\n",
    "        id_categoria = categorias_disponibles[categoria]\n",
    "        for producto in lista_productos:\n",
    "            precio = round(random.uniform(0.50, 50.00), 2)  # Precio aleatorio entre 1 y 50\n",
    "            stock = random.randint(2, 100)  # Stock aleatorio entre 2 y 100 unidades\n",
    "            \n",
    "            cursor.execute(\"INSERT INTO productos (nombre_producto, precio, stock, id_categoria) VALUES (%s, %s, %s, %s)\",\n",
    "                           (producto, precio, stock, id_categoria))\n",
    "    else:\n",
    "        print(f\"La categoría '{categoria}' no existe en la base de datos.\")\n",
    "\n",
    "conexion6.commit()\n",
    "cursor.close()\n",
    "conexion6.close()\n",
    "\n",
    "print(\"Todos los productos han sido insertados correctamente con sus categorías correspondientes.\")"
   ]
  },
  {
   "cell_type": "markdown",
   "metadata": {},
   "source": [
    "Clientes"
   ]
  },
  {
   "cell_type": "code",
   "execution_count": 13,
   "metadata": {},
   "outputs": [
    {
     "name": "stdout",
     "output_type": "stream",
     "text": [
      "Los 2000 clientes han sido insertados correctamente con todos sus datos.\n"
     ]
    }
   ],
   "source": [
    "# Llenamos la tabla clientes\n",
    "conexion7 = con.connect(\n",
    "    host=\"localhost\",\n",
    "    port= \"3306\",\n",
    "    user=\"root\",\n",
    "    password=\"admin\",\n",
    "    database=\"supermercado\"\n",
    ")\n",
    "cursor = conexion7.cursor()\n",
    "\n",
    "#Nombres y apellidos clientes\n",
    "nom_clientes = [f\"Cliente{i}\" for i in range(1, 2001)]\n",
    "ape_clientes = [f\"Apellido\" for _ in range(2000)]\n",
    "\n",
    "# email clientes\n",
    "mail_clientes = [f\"{nombre}.{apellido}@python.com\" for nombre, apellido in zip(nom_clientes, ape_clientes)]\n",
    "\n",
    "# Telefono clientes\n",
    "tel_clientes = [random.randint(600000000, 699999999) for _ in range(2000)]\n",
    "\n",
    "#Direccion clientes\n",
    "dir_clientes = [f\"Calle_cliente_{i}\" for i in range(1, 2001)]\n",
    "\n",
    "#Codigo postal\n",
    "cod_postal = [random.randint(10000, 99999) for _ in range(2000)]\n",
    "\n",
    "\n",
    "# Actualizar cada empleado con un puesto y un id_tienda aleatorio\n",
    "for i in range(2000):\n",
    "    cursor.execute(\"INSERT INTO clientes (nombre, apellido, email, telefono, direccion, codigo_postal) VALUES (%s, %s, %s, %s, %s, %s)\",\n",
    "                   (nom_clientes[i], ape_clientes[i], mail_clientes[i], tel_clientes[i], dir_clientes[i], cod_postal[i]))\n",
    "\n",
    "conexion7.commit()\n",
    "cursor.close()\n",
    "conexion7.close()\n",
    "\n",
    "print(\"Los 2000 clientes han sido insertados correctamente con todos sus datos.\")"
   ]
  },
  {
   "cell_type": "markdown",
   "metadata": {},
   "source": [
    "Ordenes"
   ]
  },
  {
   "cell_type": "code",
   "execution_count": 14,
   "metadata": {},
   "outputs": [
    {
     "name": "stdout",
     "output_type": "stream",
     "text": [
      "Las 10,000 órdenes han sido insertadas correctamente\n"
     ]
    }
   ],
   "source": [
    "conexion8 = con.connect(\n",
    "    host=\"localhost\",\n",
    "    port=\"3306\",\n",
    "    user=\"root\",\n",
    "    password=\"admin\",\n",
    "    database=\"supermercado\"\n",
    ")\n",
    "cursor = conexion8.cursor()\n",
    "\n",
    "# Obtener lista de ID de clientes\n",
    "cursor.execute(\"SELECT id_cliente FROM clientes\")\n",
    "id_clientes = [row[0] for row in cursor.fetchall()]\n",
    "\n",
    "# Obtener lista de ID de empleados\n",
    "cursor.execute(\"SELECT id_empleado FROM empleados\")\n",
    "id_empleados = [row[0] for row in cursor.fetchall()]\n",
    "\n",
    "# Generar 10,000 fechas aleatorias en 2024\n",
    "fechas = [datetime.datetime(year=2024, month=1, day=1) + datetime.timedelta(days=random.randint(0, 364)) for _ in range(10000)]\n",
    "\n",
    "# Insertar los datos en la tabla ordenes\n",
    "for _ in range(10000): \n",
    "    id_cliente = random.choice(id_clientes) \n",
    "    id_empleado = random.choice(id_empleados) \n",
    "    fecha_orden = random.choice(fechas)  \n",
    "    metodo_pago = random.choice([\"Tarjeta\", \"Efectivo\"])\n",
    "\n",
    "    cursor.execute(\n",
    "        \"INSERT INTO ordenes (id_cliente, id_empleado, fecha_orden, metodo_pago) VALUES (%s, %s, %s, %s)\",\n",
    "        (id_cliente, id_empleado, fecha_orden, metodo_pago)\n",
    "    )\n",
    "\n",
    "conexion8.commit()\n",
    "cursor.close()\n",
    "conexion8.close()\n",
    "\n",
    "print(\"Las 10,000 órdenes han sido insertadas correctamente\")"
   ]
  },
  {
   "cell_type": "markdown",
   "metadata": {},
   "source": [
    "Detalles orden"
   ]
  },
  {
   "cell_type": "code",
   "execution_count": 15,
   "metadata": {},
   "outputs": [
    {
     "name": "stdout",
     "output_type": "stream",
     "text": [
      "Se han insertado 30,000 registros con el descuento aplicado.\n"
     ]
    }
   ],
   "source": [
    "from decimal import Decimal\n",
    "\n",
    "# Conectar a la base de datos\n",
    "conexion9 = con.connect(\n",
    "    host=\"localhost\",\n",
    "    port=3306, \n",
    "    user=\"root\",\n",
    "    password=\"admin\",\n",
    "    database=\"supermercado\"\n",
    ")\n",
    "cursor = conexion9.cursor()\n",
    "\n",
    "# Obtener lista de ID de órdenes existentes\n",
    "cursor.execute(\"SELECT id_orden FROM ordenes\")\n",
    "id_ordenes = [row[0] for row in cursor.fetchall()]\n",
    "\n",
    "# Obtener lista de productos junto con su precio\n",
    "cursor.execute(\"SELECT id_producto, precio FROM productos\")\n",
    "productos_info = {row[0]: row[1] for row in cursor.fetchall()}\n",
    "\n",
    "# Inserto los datos SIN aplicar el descuento al precio total\n",
    "for _ in range(30000): \n",
    "    id_orden = random.choice(id_ordenes)  # Escoge un ID de orden válido\n",
    "    id_producto = random.choice(list(productos_info.keys()))  # Escoge un ID de producto válido\n",
    "    cantidad = random.randint(1, 50)  # Genera una cantidad aleatoria entre 1 y 50\n",
    "    precio_unitario = productos_info[id_producto]  # Obtiene el precio del producto\n",
    "    precio_total = cantidad * precio_unitario  # Calcula el precio total\n",
    "\n",
    "    # Generar un descuento aleatorio entre 0% y 15% y convertirlo a Decimal\n",
    "    descuento = Decimal(str(round(random.uniform(0.00, 0.15), 2)))\n",
    "\n",
    "    # Inserto los datos en la tabla detalle_orden SIN aplicar el descuento\n",
    "    cursor.execute(\n",
    "        \"INSERT INTO detalle_orden (id_orden, id_producto, cantidad, precio_unitario, descuento, precio_total) VALUES (%s, %s, %s, %s, %s, %s)\",\n",
    "        (id_orden, id_producto, cantidad, precio_unitario, descuento, precio_total)\n",
    "    )\n",
    "\n",
    "# Confirmar los cambios\n",
    "conexion9.commit()\n",
    "cursor.close()\n",
    "conexion9.close()\n",
    "\n",
    "print(\"Se han insertado 30,000 registros con el descuento aplicado.\")"
   ]
  },
  {
   "cell_type": "markdown",
   "metadata": {},
   "source": [
    "### 3. Consultas SQL"
   ]
  },
  {
   "cell_type": "markdown",
   "metadata": {},
   "source": [
    "1. Listado de ordenes con detalles de cliente y empleado\n",
    "    * Muestra el ID de la orden, la fecha, el nombre del cliente, el nombre del empleado y el metodo de pago"
   ]
  },
  {
   "cell_type": "code",
   "execution_count": 25,
   "metadata": {},
   "outputs": [
    {
     "name": "stdout",
     "output_type": "stream",
     "text": [
      "Listado de ordenes\n",
      "      ID Orden       Fecha      Cliente     Empleado Método de Pago\n",
      "0          127  2024-04-22  Cliente1845    Empleado1       Efectivo\n",
      "1          287  2024-01-21    Cliente41    Empleado1       Efectivo\n",
      "2          435  2024-07-31    Cliente21    Empleado1       Efectivo\n",
      "3          526  2024-04-30  Cliente1556    Empleado1       Efectivo\n",
      "4          747  2024-03-26   Cliente580    Empleado1        Tarjeta\n",
      "...        ...         ...          ...          ...            ...\n",
      "9995      8776  2024-04-23  Cliente1854  Empleado200        Tarjeta\n",
      "9996      8898  2024-08-06   Cliente843  Empleado200       Efectivo\n",
      "9997      9107  2024-11-15    Cliente48  Empleado200        Tarjeta\n",
      "9998      9173  2024-11-12   Cliente543  Empleado200       Efectivo\n",
      "9999      9625  2024-09-28   Cliente162  Empleado200        Tarjeta\n",
      "\n",
      "[10000 rows x 5 columns]\n"
     ]
    }
   ],
   "source": [
    "conexion10 = con.connect(\n",
    "    host=\"localhost\",\n",
    "    port=3306, \n",
    "    user=\"root\",\n",
    "    password=\"admin\",\n",
    "    database=\"supermercado\"\n",
    ")\n",
    "cursor = conexion10.cursor()\n",
    "\n",
    "query = \"\"\"\n",
    "SELECT \n",
    "    orden.id_orden, \n",
    "    orden.fecha_orden, \n",
    "    clien.nombre AS nombre_cliente, \n",
    "    emple.nombre_empleado, \n",
    "    orden.metodo_pago\n",
    "FROM ordenes orden\n",
    "JOIN clientes clien ON orden.id_cliente = clien.id_cliente\n",
    "JOIN empleados emple ON orden.id_empleado = emple.id_empleado;\n",
    "\"\"\"\n",
    "# Ejecutamos la query\n",
    "cursor.execute(query)\n",
    "\n",
    "# Obtener los resultados\n",
    "resultados = cursor.fetchall()\n",
    "\n",
    "\n",
    "# Convierto los resultados a un DataFrame\n",
    "df_ordenes = pd.DataFrame(resultados, columns=[\"ID Orden\", \"Fecha\", \"Cliente\", \"Empleado\", \"Método de Pago\"])\n",
    "\n",
    "print(\"Listado de ordenes\")\n",
    "print(df_ordenes)\n",
    "\n",
    "conexion10.commit()\n",
    "cursor.close()\n",
    "conexion10.close()"
   ]
  },
  {
   "cell_type": "markdown",
   "metadata": {},
   "source": [
    "2. Productos con stock bajo\n",
    "    * Filtra aquellos productos cuyo stock sea menos  a 10\n",
    "    * Muestra el nombre del producto, categoria y stock"
   ]
  },
  {
   "cell_type": "code",
   "execution_count": 23,
   "metadata": {},
   "outputs": [
    {
     "name": "stdout",
     "output_type": "stream",
     "text": [
      "Productos con stock bajo\n",
      "   Nombre Producto  Stock Nombre Categoria\n",
      "0     Pan integral      8        Panaderia\n",
      "1  Helado de fresa      4       Congelados\n"
     ]
    }
   ],
   "source": [
    "conexion11 = con.connect(\n",
    "    host=\"localhost\",\n",
    "    port=3306, \n",
    "    user=\"root\",\n",
    "    password=\"admin\",\n",
    "    database=\"supermercado\"\n",
    ")\n",
    "cursor = conexion11.cursor()\n",
    "\n",
    "query = \"\"\"\n",
    "SELECT \n",
    "    produc.nombre_producto, \n",
    "    produc.stock, \n",
    "    cat.nombre_categoria \n",
    "FROM productos produc\n",
    "JOIN categorias cat ON produc.id_categoria = cat.id_categoria\n",
    "WHERE produc.stock < 10\n",
    "\"\"\"\n",
    "# Ejecutamos la query\n",
    "cursor.execute(query)\n",
    "\n",
    "# Obtener los resultados\n",
    "resultados = cursor.fetchall()\n",
    "\n",
    "df_stock = pd.DataFrame(resultados, columns=[\"Nombre Producto\", \"Stock\", \"Nombre Categoria\"])\n",
    "\n",
    "print(\"Productos con stock bajo\")\n",
    "print(df_stock)\n",
    "\n",
    "conexion11.commit()\n",
    "cursor.close()\n",
    "conexion11.close()"
   ]
  },
  {
   "cell_type": "markdown",
   "metadata": {},
   "source": [
    "3. Ventas totales por categoria\n",
    "    * Muestra el nombre de la categoria y la suma total de las ventas"
   ]
  },
  {
   "cell_type": "code",
   "execution_count": 24,
   "metadata": {},
   "outputs": [
    {
     "name": "stdout",
     "output_type": "stream",
     "text": [
      "Ventas totales por seccion\n",
      "       Seccion Precio Unitario Cantidad Total ventas\n",
      "0       Carnes           46.87    18848    883405.76\n",
      "1       Carnes           15.12    18524    280082.88\n",
      "2       Carnes            0.95    18091     17186.45\n",
      "3       Carnes           36.33    20189    733466.37\n",
      "4      Lacteos           48.50    17895    867907.50\n",
      "5      Lacteos           36.50    20105    733832.50\n",
      "6      Lacteos           44.74    18045    807333.30\n",
      "7      Lacteos            9.38    18337    172001.06\n",
      "8       Frutas           19.38    18879    365875.02\n",
      "9       Frutas           18.57    18822    349524.54\n",
      "10      Frutas           47.20    18031    851063.20\n",
      "11      Frutas            8.52    18313    156026.76\n",
      "12   Panaderia           17.58    20410    358807.80\n",
      "13   Panaderia           28.53    19327    551399.31\n",
      "14   Panaderia           11.21    19102    214133.42\n",
      "15   Panaderia           38.39    18128    695933.92\n",
      "16     Bebidas           42.38    19347    819925.86\n",
      "17     Bebidas           31.57    19514    616056.98\n",
      "18     Bebidas           43.57    18524    807090.68\n",
      "19     Bebidas            8.69    20001    173808.69\n",
      "20    Cereales           14.14    19402    274344.28\n",
      "21    Cereales           49.64    18911    938742.04\n",
      "22    Cereales           10.11    18301    185023.11\n",
      "23    Cereales           35.56    19563    695660.28\n",
      "24  Congelados           45.90    20382    935533.80\n",
      "25  Congelados           30.83    19743    608676.69\n",
      "26  Congelados           21.09    19538    412056.42\n",
      "27  Congelados           16.12    20160    324979.20\n",
      "28   Conservas           22.71    17545    398446.95\n",
      "29   Conservas            7.10    20342    144428.20\n",
      "30   Conservas           43.17    19503    841944.51\n",
      "31   Conservas           17.01    18999    323172.99\n",
      "32    Limpieza           12.98    18579    241155.42\n",
      "33    Limpieza           35.70    18329    654345.30\n",
      "34    Limpieza            2.50    19880     49700.00\n",
      "35    Limpieza           35.82    20183    722955.06\n",
      "36     Belleza            3.05    19965     60893.25\n",
      "37     Belleza           48.97    18339    898060.83\n",
      "38     Belleza            1.16    19352     22448.32\n",
      "39     Belleza            2.93    19925     58380.25\n"
     ]
    }
   ],
   "source": [
    "conexion12 = con.connect(\n",
    "    host=\"localhost\",\n",
    "    port=3306, \n",
    "    user=\"root\",\n",
    "    password=\"admin\",\n",
    "    database=\"supermercado\"\n",
    ")\n",
    "cursor = conexion12.cursor()\n",
    "\n",
    "query = \"\"\"\n",
    "SELECT  \n",
    "    cat.nombre_categoria,\n",
    "    produc.precio, \n",
    "    SUM(deorden.cantidad),  -- Cantidad total vendida\n",
    "    SUM(deorden.cantidad * produc.precio)  -- Coste total de ventas\n",
    "FROM detalle_orden deorden\n",
    "JOIN productos produc ON deorden.id_producto = produc.id_producto\n",
    "JOIN categorias cat ON produc.id_categoria = cat.id_categoria\n",
    "GROUP BY cat.nombre_categoria, produc.nombre_producto, produc.precio;\n",
    "\"\"\"\n",
    "# Ejecutamos la query\n",
    "cursor.execute(query)\n",
    "\n",
    "# Obtener los resultados\n",
    "resultados = cursor.fetchall()\n",
    "\n",
    "df_ventas = pd.DataFrame(resultados, columns=[\"Seccion\", \"Precio Unitario\", \"Cantidad\", \"Total ventas\"])\n",
    "\n",
    "print(\"Ventas totales por seccion\")\n",
    "print(df_ventas)\n",
    "\n",
    "conexion12.commit()\n",
    "cursor.close()\n",
    "conexion12.close()"
   ]
  },
  {
   "cell_type": "markdown",
   "metadata": {},
   "source": [
    "4. Clientes con mayores gastos acumulados\n",
    "    * Muestra el nombre del cliente y el monto total que ha gastado\n",
    "    * Ten en cuenta los descuentos\n",
    "    * Ordena de mayor a menor el gasto total"
   ]
  },
  {
   "cell_type": "code",
   "execution_count": 26,
   "metadata": {},
   "outputs": [
    {
     "name": "stdout",
     "output_type": "stream",
     "text": [
      "Cientes con mayores gastos\n",
      "          Cliente Gasto Total\n",
      "0     Cliente1568    37112.65\n",
      "1     Cliente1942    31694.21\n",
      "2      Cliente425    31497.78\n",
      "3     Cliente1822    29281.32\n",
      "4      Cliente892    28684.63\n",
      "...           ...         ...\n",
      "1971  Cliente1306      107.38\n",
      "1972   Cliente985       81.91\n",
      "1973    Cliente87       79.99\n",
      "1974   Cliente756       43.05\n",
      "1975   Cliente444        4.93\n",
      "\n",
      "[1976 rows x 2 columns]\n"
     ]
    }
   ],
   "source": [
    "conexion13 = con.connect(\n",
    "    host=\"localhost\",\n",
    "    port=3306, \n",
    "    user=\"root\",\n",
    "    password=\"admin\",\n",
    "    database=\"supermercado\"\n",
    ")\n",
    "cursor = conexion13.cursor()\n",
    "\n",
    "query = \"\"\"\n",
    "SELECT  \n",
    "    clien.nombre, \n",
    "    SUM(deorde.precio_total - deorde.descuento) \n",
    "FROM detalle_orden deorde\n",
    "JOIN ordenes orde ON deorde.id_orden = orde.id_orden\n",
    "JOIN clientes clien ON orde.id_cliente = clien.id_cliente\n",
    "GROUP BY clien.id_cliente, clien.nombre\n",
    "ORDER BY SUM(deorde.precio_total - deorde.descuento) DESC;\n",
    "\"\"\"\n",
    "\n",
    "cursor.execute(query)\n",
    "\n",
    "resultados = cursor.fetchall()\n",
    "\n",
    "df_gastos = pd.DataFrame(resultados, columns=[\"Cliente\", \"Gasto Total\"])\n",
    "print(\"Cientes con mayores gastos\")\n",
    "print(df_gastos)\n",
    "\n",
    "conexion13.commit()\n",
    "cursor.close()\n",
    "conexion13.close()"
   ]
  },
  {
   "cell_type": "markdown",
   "metadata": {},
   "source": [
    "5. Empleados y numero de ordenes gestionadas\n",
    "    * Muestra el nombre del empleado, el puesto y la cantidad de ordenes que ha gestionado\n",
    "    * Utiliza GOUP BY Y COUNT"
   ]
  },
  {
   "cell_type": "code",
   "execution_count": 27,
   "metadata": {},
   "outputs": [
    {
     "name": "stdout",
     "output_type": "stream",
     "text": [
      "Empleados que mas ordenes han gestionado\n",
      "    nombre_empleado           puesto  total_ordenes\n",
      "0        Empleado48       Charcutero             71\n",
      "1        Empleado95       Repartidor             70\n",
      "2       Empleado127        Pescatero             64\n",
      "3       Empleado141  Director tienda             64\n",
      "4       Empleado152        Reponedor             64\n",
      "..              ...              ...            ...\n",
      "195     Empleado199        Reponedor             37\n",
      "196      Empleado39          Frutero             36\n",
      "197      Empleado19        Reponedor             35\n",
      "198     Empleado143           Cajero             35\n",
      "199      Empleado33       Charcutero             33\n",
      "\n",
      "[200 rows x 3 columns]\n"
     ]
    }
   ],
   "source": [
    "conexion14 = con.connect(\n",
    "    host=\"localhost\",\n",
    "    port=3306, \n",
    "    user=\"root\",\n",
    "    password=\"admin\",\n",
    "    database=\"supermercado\"\n",
    ")\n",
    "cursor = conexion14.cursor()\n",
    "\n",
    "query = \"\"\"\n",
    "SELECT  \n",
    "    empl.nombre_empleado, \n",
    "    empl.puesto, \n",
    "    COUNT(orde.id_orden) \n",
    "FROM empleados empl\n",
    "JOIN ordenes orde ON empl.id_empleado = orde.id_empleado\n",
    "GROUP BY empl.id_empleado, empl.nombre_empleado, empl.puesto\n",
    "ORDER BY COUNT(orde.id_orden) DESC;\n",
    "\"\"\"\n",
    "\n",
    "cursor.execute(query)\n",
    "\n",
    "resultados = cursor.fetchall()\n",
    "\n",
    "df_empleados = pd.DataFrame(resultados, columns=[\"nombre_empleado\", \"puesto\", \"total_ordenes\"])\n",
    "\n",
    "print(\"Empleados que mas ordenes han gestionado\")\n",
    "print(df_empleados)\n",
    "\n",
    "conexion14.commit()\n",
    "cursor.close()\n",
    "conexion14.close()"
   ]
  },
  {
   "cell_type": "markdown",
   "metadata": {},
   "source": [
    "6. Ordenes filtradas por fecha y tienda\n",
    "    * Muestra todas las ordenes que se realizan en un rango de fechas determinado en una tienda\n",
    "    * Incluye datos de la tienda y del cliente"
   ]
  },
  {
   "cell_type": "code",
   "execution_count": 28,
   "metadata": {},
   "outputs": [
    {
     "name": "stdout",
     "output_type": "stream",
     "text": [
      "Ordenes por fecha y tienda\n",
      "     Ticket Nº       Fecha Nombre Cliente Apellido Cliente  \\\n",
      "0         7210  2024-10-01    Cliente1732         Apellido   \n",
      "1          290  2024-10-01    Cliente1189         Apellido   \n",
      "2         5257  2024-10-02    Cliente1996         Apellido   \n",
      "3         3321  2024-10-03     Cliente392         Apellido   \n",
      "4         1258  2024-10-03     Cliente849         Apellido   \n",
      "..         ...         ...            ...              ...   \n",
      "102       2635  2024-10-31      Cliente43         Apellido   \n",
      "103        637  2024-10-31     Cliente574         Apellido   \n",
      "104        248  2024-10-31     Cliente761         Apellido   \n",
      "105       1708  2024-10-31     Cliente949         Apellido   \n",
      "106       9821  2024-10-31     Cliente204         Apellido   \n",
      "\n",
      "                       Email Cliente     Tienda Direccion Tienda    Ciudad  \n",
      "0    Cliente1732.Apellido@python.com  Tienda_07    Calle_falsa_7  Albacete  \n",
      "1    Cliente1189.Apellido@python.com  Tienda_07    Calle_falsa_7  Albacete  \n",
      "2    Cliente1996.Apellido@python.com  Tienda_07    Calle_falsa_7  Albacete  \n",
      "3     Cliente392.Apellido@python.com  Tienda_07    Calle_falsa_7  Albacete  \n",
      "4     Cliente849.Apellido@python.com  Tienda_07    Calle_falsa_7  Albacete  \n",
      "..                               ...        ...              ...       ...  \n",
      "102    Cliente43.Apellido@python.com  Tienda_07    Calle_falsa_7  Albacete  \n",
      "103   Cliente574.Apellido@python.com  Tienda_07    Calle_falsa_7  Albacete  \n",
      "104   Cliente761.Apellido@python.com  Tienda_07    Calle_falsa_7  Albacete  \n",
      "105   Cliente949.Apellido@python.com  Tienda_07    Calle_falsa_7  Albacete  \n",
      "106   Cliente204.Apellido@python.com  Tienda_07    Calle_falsa_7  Albacete  \n",
      "\n",
      "[107 rows x 8 columns]\n"
     ]
    }
   ],
   "source": [
    "conexion = con.connect(\n",
    "    host=\"localhost\",\n",
    "    port=3306, \n",
    "    user=\"root\",\n",
    "    password=\"admin\",\n",
    "    database=\"supermercado\"\n",
    ")\n",
    "cursor = conexion.cursor()\n",
    "\n",
    "query = \"\"\"\n",
    "SELECT  \n",
    "    orde.id_orden, \n",
    "    orde.fecha_orden, \n",
    "    clien.nombre, \n",
    "    clien.apellido, \n",
    "    clien.email, \n",
    "    tien.nombre_tienda, \n",
    "    tien.direccion_tienda, \n",
    "    tien.ciudad \n",
    "FROM ordenes orde\n",
    "JOIN clientes clien ON orde.id_cliente = clien.id_cliente\n",
    "JOIN empleados empl ON orde.id_empleado = empl.id_empleado\n",
    "JOIN tiendas tien ON empl.id_tienda = tien.id_tienda\n",
    "WHERE orde.fecha_orden BETWEEN '2024-10-01' AND '2024-10-31'\n",
    "AND tien.id_tienda = 8\n",
    "ORDER BY orde.fecha_orden ASC;\n",
    "\"\"\"\n",
    "\n",
    "cursor.execute(query)\n",
    "\n",
    "resultados = cursor.fetchall()\n",
    "\n",
    "# Convertir los datos a DataFrame\n",
    "df_ordenes = pd.DataFrame(resultados, columns=[\n",
    "    \"Ticket Nº\", \"Fecha\", \"Nombre Cliente\", \"Apellido Cliente\", \"Email Cliente\",\n",
    "    \"Tienda\", \"Direccion Tienda\", \"Ciudad\"\n",
    "])\n",
    "\n",
    "print(\"Ordenes por fecha y tienda\")\n",
    "print(df_ordenes)\n",
    "\n",
    "conexion.commit()\n",
    "cursor.close()\n",
    "conexion.close()"
   ]
  },
  {
   "cell_type": "code",
   "execution_count": null,
   "metadata": {},
   "outputs": [],
   "source": []
  },
  {
   "cell_type": "code",
   "execution_count": null,
   "metadata": {},
   "outputs": [],
   "source": []
  },
  {
   "cell_type": "code",
   "execution_count": null,
   "metadata": {},
   "outputs": [],
   "source": []
  },
  {
   "cell_type": "code",
   "execution_count": null,
   "metadata": {},
   "outputs": [],
   "source": []
  },
  {
   "cell_type": "code",
   "execution_count": null,
   "metadata": {},
   "outputs": [],
   "source": []
  },
  {
   "cell_type": "code",
   "execution_count": null,
   "metadata": {},
   "outputs": [],
   "source": []
  },
  {
   "cell_type": "code",
   "execution_count": null,
   "metadata": {},
   "outputs": [],
   "source": []
  },
  {
   "cell_type": "code",
   "execution_count": null,
   "metadata": {},
   "outputs": [],
   "source": []
  }
 ],
 "metadata": {
  "kernelspec": {
   "display_name": "base",
   "language": "python",
   "name": "python3"
  },
  "language_info": {
   "codemirror_mode": {
    "name": "ipython",
    "version": 3
   },
   "file_extension": ".py",
   "mimetype": "text/x-python",
   "name": "python",
   "nbconvert_exporter": "python",
   "pygments_lexer": "ipython3",
   "version": "3.12.7"
  }
 },
 "nbformat": 4,
 "nbformat_minor": 2
}
