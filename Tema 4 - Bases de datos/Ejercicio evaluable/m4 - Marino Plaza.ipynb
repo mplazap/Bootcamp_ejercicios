{
 "cells": [
  {
   "cell_type": "markdown",
   "metadata": {},
   "source": [
    "### 1. CREAR BASE DE DATOS (33%)\n",
    "\n",
    "* Crear con código SQL una base de datos llamada supermercado.\n",
    "* Código Python con mysql connector que ejecute el SQL para borrar y generar la base de datos vacía."
   ]
  },
  {
   "cell_type": "code",
   "execution_count": 13,
   "metadata": {},
   "outputs": [],
   "source": [
    "import pandas as pd\n",
    "import mysql.connector as con\n",
    "import random\n",
    "import datetime"
   ]
  },
  {
   "cell_type": "code",
   "execution_count": 14,
   "metadata": {},
   "outputs": [],
   "source": [
    "# Crear base de datos \"supermercado\"\n",
    "conexion = con.connect(\n",
    "    host=\"localhost\",\n",
    "    port= \"3306\",\n",
    "    user= \"root\",\n",
    "    password= \"admin\"\n",
    ")\n",
    "cursor = conexion.cursor()\n",
    "cursor.execute(\"DROP DATABASE IF EXISTS supermercado;\")\n",
    "cursor.execute(\"CREATE SCHEMA supermercado DEFAULT CHARACTER SET utf8;\")\n",
    "#cursor.close()\n",
    "#connection.close()\n",
    "#connection.close()"
   ]
  },
  {
   "cell_type": "code",
   "execution_count": 32,
   "metadata": {},
   "outputs": [],
   "source": [
    "# Creo una sola tabla\n",
    "# Conexion\n",
    "conexion = con.connect(\n",
    "    host=\"localhost\",\n",
    "    port= \"3306\",\n",
    "    user= \"root\",\n",
    "    password= \"admin\",\n",
    "    database= \"supermercado\"\n",
    ")\n",
    "cursor = conexion.cursor()\n",
    "\n",
    "# crear tabla\n",
    "query_tabla_tiendas = \"\"\"\n",
    "CREATE TABLE IF NOT EXISTS tiendas (\n",
    "    id_tienda INT AUTO_INCREMENT PRIMARY KEY,\n",
    "    nombre_tienda VARCHAR(30),\n",
    "    direccion_tienda VARCHAR(50),\n",
    "    ciudad VARCHAR (50)\n",
    ")\n",
    "\"\"\"\n",
    "# Hacer los cambios en la base de datos\n",
    "cursor.execute(query_tabla_tiendas)\n",
    "conexion.commit()\n",
    "\n",
    "# Cerra la conexion\n",
    "cursor.close()\n",
    "conexion.close()"
   ]
  },
  {
   "cell_type": "code",
   "execution_count": null,
   "metadata": {},
   "outputs": [],
   "source": [
    "# Creo varias tablas a la vez\n",
    "conexion = con.connect(\n",
    "    host=\"localhost\",\n",
    "    port= \"3306\",\n",
    "    user= \"root\",\n",
    "    password= \"admin\",\n",
    "    database= \"supermercado\"\n",
    ")\n",
    "cursor = conexion.cursor()\n",
    "\n",
    "query_varias_tablas = [\"\"\"\n",
    "    CREATE TABLE IF NOT EXISTS empleados (\n",
    "    id_empleado INT AUTO_INCREMENT PRIMARY KEY,\n",
    "    nombre_empleado VARCHAR(30),\n",
    "    puesto VARCHAR(20),\n",
    "    FOREING KEY (id_tienda) REFERENCES tiendas(tienda_id) \n",
    ")\"\"\"\n",
    "\n",
    "\n",
    "\n",
    "\n",
    "\n",
    "\n",
    "\n",
    "\n",
    "\n",
    "\n",
    "\n",
    "\n",
    "\n",
    "\n",
    "]\n",
    "\n",
    "\n",
    "\n",
    "for query in query_varias_tablas:\n",
    "    cursor.execute(query)\n",
    "    conexion.commit()\n",
    "\n",
    "print(\"Todas las tablas han sido creadas exitosamente.\")\n",
    "\n",
    "# Cerrar la conexión\n",
    "cursor.close()\n",
    "conexion.close()"
   ]
  },
  {
   "cell_type": "code",
   "execution_count": null,
   "metadata": {},
   "outputs": [],
   "source": []
  },
  {
   "cell_type": "code",
   "execution_count": null,
   "metadata": {},
   "outputs": [],
   "source": []
  },
  {
   "cell_type": "code",
   "execution_count": null,
   "metadata": {},
   "outputs": [],
   "source": []
  },
  {
   "cell_type": "code",
   "execution_count": null,
   "metadata": {},
   "outputs": [],
   "source": []
  },
  {
   "cell_type": "code",
   "execution_count": null,
   "metadata": {},
   "outputs": [],
   "source": []
  },
  {
   "cell_type": "code",
   "execution_count": null,
   "metadata": {},
   "outputs": [],
   "source": []
  },
  {
   "cell_type": "code",
   "execution_count": null,
   "metadata": {},
   "outputs": [],
   "source": []
  },
  {
   "cell_type": "code",
   "execution_count": null,
   "metadata": {},
   "outputs": [],
   "source": []
  },
  {
   "cell_type": "code",
   "execution_count": null,
   "metadata": {},
   "outputs": [],
   "source": []
  },
  {
   "cell_type": "code",
   "execution_count": null,
   "metadata": {},
   "outputs": [],
   "source": []
  },
  {
   "cell_type": "code",
   "execution_count": null,
   "metadata": {},
   "outputs": [],
   "source": []
  },
  {
   "cell_type": "code",
   "execution_count": null,
   "metadata": {},
   "outputs": [],
   "source": []
  },
  {
   "cell_type": "code",
   "execution_count": null,
   "metadata": {},
   "outputs": [],
   "source": []
  },
  {
   "cell_type": "code",
   "execution_count": null,
   "metadata": {},
   "outputs": [],
   "source": []
  },
  {
   "cell_type": "code",
   "execution_count": null,
   "metadata": {},
   "outputs": [],
   "source": []
  },
  {
   "cell_type": "code",
   "execution_count": null,
   "metadata": {},
   "outputs": [],
   "source": []
  },
  {
   "cell_type": "code",
   "execution_count": null,
   "metadata": {},
   "outputs": [],
   "source": []
  },
  {
   "cell_type": "code",
   "execution_count": null,
   "metadata": {},
   "outputs": [],
   "source": []
  },
  {
   "cell_type": "code",
   "execution_count": null,
   "metadata": {},
   "outputs": [],
   "source": []
  },
  {
   "cell_type": "code",
   "execution_count": null,
   "metadata": {},
   "outputs": [],
   "source": []
  },
  {
   "cell_type": "code",
   "execution_count": null,
   "metadata": {},
   "outputs": [],
   "source": []
  },
  {
   "cell_type": "code",
   "execution_count": null,
   "metadata": {},
   "outputs": [],
   "source": []
  },
  {
   "cell_type": "code",
   "execution_count": null,
   "metadata": {},
   "outputs": [],
   "source": []
  },
  {
   "cell_type": "code",
   "execution_count": null,
   "metadata": {},
   "outputs": [],
   "source": []
  },
  {
   "cell_type": "code",
   "execution_count": null,
   "metadata": {},
   "outputs": [],
   "source": []
  }
 ],
 "metadata": {
  "kernelspec": {
   "display_name": "Python 3",
   "language": "python",
   "name": "python3"
  },
  "language_info": {
   "codemirror_mode": {
    "name": "ipython",
    "version": 3
   },
   "file_extension": ".py",
   "mimetype": "text/x-python",
   "name": "python",
   "nbconvert_exporter": "python",
   "pygments_lexer": "ipython3",
   "version": "3.13.0"
  }
 },
 "nbformat": 4,
 "nbformat_minor": 2
}
