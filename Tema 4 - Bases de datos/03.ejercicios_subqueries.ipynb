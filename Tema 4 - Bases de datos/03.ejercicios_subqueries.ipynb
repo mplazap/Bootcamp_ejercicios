{
 "cells": [
  {
   "cell_type": "markdown",
   "id": "9fba4bc4",
   "metadata": {},
   "source": [
    "## Ejercicios - Subqueries\n",
    "\n",
    "Usando la base de datos de **Sakila**:"
   ]
  },
  {
   "cell_type": "markdown",
   "id": "e0fcc7f1",
   "metadata": {},
   "source": [
    "### Ejercicios 01: Subqueries\n",
    "\n",
    "1. Encontrar el cliente que ha alquilado más películas.\n",
    "\n",
    "2. Encontrar la categoría con más películas.\n",
    "\n",
    "3. Encontrar la tienda con más ingresos.\n",
    "\n",
    "4. Encontrar la película más alquilada.\n",
    "\n",
    "5. Encontrar el actor que ha aparecido en más películas."
   ]
  },
  {
   "cell_type": "markdown",
   "id": "3f89670a",
   "metadata": {},
   "source": [
    "1. Encontrar el cliente que ha alquilado más películas."
   ]
  },
  {
   "cell_type": "code",
   "execution_count": null,
   "id": "8ff2bd16",
   "metadata": {
    "vscode": {
     "languageId": "sql"
    }
   },
   "outputs": [],
   "source": [
    "select * from sakila.customer\n",
    "where customer_id = (\n",
    "SELECT customer_id FROM sakila.rental\n",
    "group by customer_id\n",
    "order by count(customer_id) desc limit 1)"
   ]
  },
  {
   "cell_type": "code",
   "execution_count": null,
   "id": "ca9f00b3",
   "metadata": {},
   "outputs": [],
   "source": []
  },
  {
   "cell_type": "code",
   "execution_count": null,
   "id": "dae59133",
   "metadata": {},
   "outputs": [],
   "source": []
  },
  {
   "cell_type": "code",
   "execution_count": null,
   "id": "0fd9008f",
   "metadata": {},
   "outputs": [],
   "source": []
  },
  {
   "cell_type": "code",
   "execution_count": null,
   "id": "ef4aa364",
   "metadata": {},
   "outputs": [],
   "source": []
  },
  {
   "cell_type": "code",
   "execution_count": null,
   "id": "66b9ab2d",
   "metadata": {},
   "outputs": [],
   "source": []
  },
  {
   "cell_type": "code",
   "execution_count": null,
   "id": "38a41aa9",
   "metadata": {},
   "outputs": [],
   "source": []
  },
  {
   "cell_type": "code",
   "execution_count": null,
   "id": "4b508e64",
   "metadata": {},
   "outputs": [],
   "source": [
    "################################################################################################################################"
   ]
  }
 ],
 "metadata": {
  "kernelspec": {
   "display_name": "Python 3",
   "language": "python",
   "name": "python3"
  },
  "language_info": {
   "codemirror_mode": {
    "name": "ipython",
    "version": 3
   },
   "file_extension": ".py",
   "mimetype": "text/x-python",
   "name": "python",
   "nbconvert_exporter": "python",
   "pygments_lexer": "ipython3",
   "version": "3.13.0"
  }
 },
 "nbformat": 4,
 "nbformat_minor": 5
}
