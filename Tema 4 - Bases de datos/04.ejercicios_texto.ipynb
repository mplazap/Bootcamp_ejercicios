{
 "cells": [
  {
   "cell_type": "markdown",
   "id": "e34bcca2",
   "metadata": {},
   "source": [
    "## Ejercicios - Texto\n",
    "\n",
    "Usando la base de datos de **Sakila**:"
   ]
  },
  {
   "cell_type": "markdown",
   "id": "56c31ce5",
   "metadata": {},
   "source": [
    "### Ejercicio 01: LENGTH()\n",
    "\n",
    "1. Escribe una query para encontrar todos los clientes cuyo nombre tenga más de 7 caracteres.\n",
    "\n",
    "2. Escribe una query para encontrar todas las películas cuyo título tiene menos de 5 caracteres.\n",
    "\n",
    "3. Escribe una query para calcular la longitud promedio de los nombres de los clientes.\n",
    "\n",
    "4. Escribe una query para encontrar la longitud del nombre del actor más largo.\n",
    "\n",
    "5. Escribe una query para encontrar todas las ciudades cuyo nombre tiene más de 10 caracteres."
   ]
  },
  {
   "cell_type": "code",
   "execution_count": null,
   "id": "379285af",
   "metadata": {},
   "outputs": [],
   "source": []
  },
  {
   "cell_type": "markdown",
   "id": "53b2bf8b",
   "metadata": {},
   "source": [
    "### Ejercicio 02: POSITION()\n",
    "\n",
    "1. Escribe una query para encontrar todos los clientes cuyo nombre contiene la letra 'a'.\n",
    "\n",
    "2. Escribe una query para encontrar todas las películas cuyo título contiene la letra 'e'.\n",
    "\n",
    "3. Escribe una query para calcular la posición de la primera aparición de la letra 'o' en los nombres de los clientes.\n",
    "\n",
    "4. Escribe una query para encontrar la posición de la primera aparición de la letra 'e' en los títulos de las películas que tienen más de 10 caracteres.\n",
    "\n",
    "5. Escribe una query para encontrar todas las ciudades cuyo nombre contiene la letra 's'."
   ]
  },
  {
   "cell_type": "code",
   "execution_count": null,
   "id": "02eadd9a",
   "metadata": {},
   "outputs": [],
   "source": []
  },
  {
   "cell_type": "markdown",
   "id": "1f95d463",
   "metadata": {},
   "source": [
    "### Ejercicio 03: REGEX()\n",
    "\n",
    "1. Escribe una query para encontrar todos los clientes cuyos nombres empiezan con una vocal.\n",
    "\n",
    "2. Escribe una query para encontrar todas las películas cuyo título termina con una vocal.\n",
    "\n",
    "3. Escribe una query para encontrar todos los clientes cuyos nombres tienen exactamente 5 caracteres.\n",
    "\n",
    "4. Escribe una query para encontrar todas las películas cuyo título contiene la palabra 'love'.\n",
    "\n",
    "5. Escribe una query para encontrar todas las ciudades cuyo nombre empieza con 'S' y termina con 's'."
   ]
  },
  {
   "cell_type": "code",
   "execution_count": null,
   "id": "808b524b",
   "metadata": {},
   "outputs": [],
   "source": []
  },
  {
   "cell_type": "markdown",
   "id": "0ba1cf7e",
   "metadata": {},
   "source": [
    "### Ejercicio 04: CONCAT()\n",
    "\n",
    "1. Escribe una query para concatenar el nombre y el apellido de cada cliente.\n",
    "\n",
    "2. Escribe una query para concatenar el título y la descripción de cada película.\n",
    "\n",
    "3. Escribe una query para encontrar todos los clientes cuyo nombre completo es \"HELEN HARRIS\".\n",
    "\n",
    "4. Escribe una query para concatenar el nombre de la ciudad y el país de cada ciudad."
   ]
  },
  {
   "cell_type": "code",
   "execution_count": null,
   "id": "7893ffd0",
   "metadata": {},
   "outputs": [],
   "source": []
  },
  {
   "cell_type": "markdown",
   "id": "6a225c27",
   "metadata": {},
   "source": [
    "### Ejercicio 05: SUBSTRING()\n",
    "\n",
    "1. Escribe una query para extraer los primeros 5 caracteres del nombre de cada cliente.\n",
    "\n",
    "2. Escribe una query para extraer los últimos 5 caracteres del título de cada película.\n",
    "\n",
    "3. Escribe una query para extraer los caracteres del 2 al 4 del nombre de cada categoría."
   ]
  },
  {
   "cell_type": "code",
   "execution_count": null,
   "id": "98a4be0f",
   "metadata": {},
   "outputs": [],
   "source": []
  },
  {
   "cell_type": "code",
   "execution_count": null,
   "id": "90104333",
   "metadata": {},
   "outputs": [],
   "source": [
    "################################################################################################################################"
   ]
  }
 ],
 "metadata": {
  "kernelspec": {
   "display_name": "Python 3 (ipykernel)",
   "language": "python",
   "name": "python3"
  },
  "language_info": {
   "codemirror_mode": {
    "name": "ipython",
    "version": 3
   },
   "file_extension": ".py",
   "mimetype": "text/x-python",
   "name": "python",
   "nbconvert_exporter": "python",
   "pygments_lexer": "ipython3",
   "version": "3.11.7"
  }
 },
 "nbformat": 4,
 "nbformat_minor": 5
}
