{
 "cells": [
  {
   "cell_type": "markdown",
   "metadata": {},
   "source": [
    "## Tipos de datos"
   ]
  },
  {
   "cell_type": "markdown",
   "metadata": {},
   "source": [
    "**int:** \n",
    "- Se usa para representar números enteros, pueden ser positivos, negativos y el cero.\n",
    "    (integer)\n",
    "    \n",
    "**float:** \n",
    "- Se usa para representar los números con coma decimal, estos pueden ser positivos, negativos y el cero.\n",
    "(floating point)\n",
    "      \n",
    "**complex:** \n",
    "- Se usa para representar números reales con parte imaginaria `a + bi`.\n",
    "(complejos)\n",
    "\n",
    "Podemos verificar el tipo de dato de un número usando la función **`type()`**."
   ]
  },
  {
   "cell_type": "markdown",
   "metadata": {},
   "source": [
    "## Operadores Aritméticos\n",
    "\n",
    "Son operaciones aritmeticas que se pueden utilizar con diferentes tipos de datos en python:\n",
    "\n",
    "| Operador | Operación      | Ejemplo |\n",
    "|----------|----------------|---------|\n",
    "| **+**    | Suma           | x + y   |\n",
    "| **-**    | Resta          | x - y   |\n",
    "| **\\***   | Multiplicación | x * y   |\n",
    "| **/**    | División       | x / y   |\n",
    "| **%**    | Modulo         | x % y   |\n",
    "| **\\*\\*** | Exponente      | x ** y  |\n",
    "| **//**   | División Entera| x // y  |"
   ]
  },
  {
   "cell_type": "markdown",
   "metadata": {},
   "source": [
    "## Variables\n",
    "\n",
    "En python podemos inicializar variables con cualquier tipo de dato que queramos utilizando el operador **`=`**.\n",
    "\n",
    "- Al nombrar una variable podemos utilizar letras minúsculas (a-z), letras mayúsculas (A-Z), números (0-9) y underscore (_).\n",
    "\n",
    "\n",
    "- Los nombres de las variables NO pueden empezar por un número.\n",
    "\n",
    "\n",
    "- Aunque es posible, es considerado como mala práctica utilizar palabras reservadas para nombrar variables.\n",
    "\n",
    "\n",
    "- Las variables no pueden solo contener digitos.\n",
    "\n",
    "\n",
    "- Las variables son \"case sensitive\", es decir, diferencian entre mayúsculas y minúsculas.\n",
    "\n",
    "\n",
    "- Para visualizar el contenido de una variable **`print()`**"
   ]
  },
  {
   "cell_type": "code",
   "execution_count": null,
   "metadata": {},
   "outputs": [],
   "source": [
    "# Cuando inicializamos una variable el valor no se muestra en pantalla\n",
    "a = 10\n",
    "\n",
    "# Para poder ver el valor de una variable podemos usar la función print()\n",
    "print(a)\n",
    "\n",
    "# Podemos asignarle a una variable el resultado de una operación\n",
    "a = 10 + 5"
   ]
  },
  {
   "cell_type": "markdown",
   "metadata": {},
   "source": [
    "## Booleans (True & False)\n",
    "\n",
    "Los **Boolans** representan uno de estos dos valores: **True** o **False**.\n",
    "\n",
    "En programación existen situaciones donde es necesario saber si una expresión es verdadera (**True**) o falsa (**False**).\n",
    "\n",
    "En python se pueden evaluar o comparar expresiones y obtener uno de los dos resultados, verdadero o falso.\n",
    "\n",
    "En python, **True** es considerado 1 y **False** es considerado 0.\n",
    "\n",
    "Este tipo de dato se representa con la palabra reservada _**bool**_."
   ]
  },
  {
   "cell_type": "code",
   "execution_count": null,
   "metadata": {},
   "outputs": [],
   "source": [
    "dato = bool(0)\n",
    "print(dato)\n",
    "# Muestra por pantalla \"FALSE\"\n",
    "\n",
    "dato = bool(1)\n",
    "dato\n",
    "# Muestra por pantalla \"TRUE\""
   ]
  },
  {
   "cell_type": "markdown",
   "metadata": {},
   "source": [
    "## Operadores de Comparación\n",
    "\n",
    "- Se utiliza para comparar elementos\n",
    "- Su resultado siempre es **True** o **False**.\n",
    "\n",
    "| Operador     | Operación     | Ejemplo |\n",
    "|--------------|---------------|---------|\n",
    "| **==**       | Igual         | x == y  |\n",
    "| **!=**       | Diferente     | x != y  |\n",
    "| **>**        | Mayor que     | x > y   |\n",
    "| **<**        | Menor que     | x < y   |\n",
    "| **>=**       | Mayor o igual | x >= y  |\n",
    "| **<=**       | Menor o igual | x <= y  |"
   ]
  },
  {
   "cell_type": "markdown",
   "metadata": {},
   "source": [
    "## Operadores Lógicos\n",
    "\n",
    "Se utilizan en conjunto con los operadores de comparación, su función es unir diferentes declaraciones:\n",
    "\n",
    "| Operador          | Descripción                                                                                                   | Ejemplo                     |\n",
    "|-------------------|---------------------------------------------------------------------------------------------------------------|-----------------------------|\n",
    "| **and** o **&** | Retorna **True** si todas las declaraciones son **True**, sino, retorna **False**.                            | x > 5 **and** x < 10        |\n",
    "| **or** o **\\|** | Retorna **True** si al menos una de las declaraciones son **True**, retorna **False** si todas son **False**. | x > 5 **or** x < 10         |\n",
    "| **not** o **~** | Invierte el resultado de la operación.                                                                        | **not**(x > 5 **or** x < 10)|"
   ]
  },
  {
   "cell_type": "code",
   "execution_count": null,
   "metadata": {},
   "outputs": [],
   "source": [
    "# OR es más flexible que AND, con que una de las opciones sea verdadero ya será verdadero todo el resultado\n",
    "edad = 17\n",
    "has_tutor = True\n",
    "has_discount = True\n",
    "\n",
    "has_access = edad >= 18 or has_tutor or has_discount\n",
    "has_access"
   ]
  },
  {
   "cell_type": "markdown",
   "metadata": {},
   "source": [
    "## Strings (str)\n",
    "\n",
    "Las **cadenas de caractéres** o **strings** es un tipo de dato compuesto por secuencias de caracteres que representan texto.\n",
    "\n",
    "Estas cadenas de caracteres se pueden **inicializar** utilizando comillas simples **`'`** o comillas dobles **`\"`**.\n",
    "\n",
    "En python las **cadenas de caractéres** se representan con la palabra reservada **`str`** y tienen una gran variedad de **built-in methods** que nos facilitan mucho el trabajo al momento de manipularlas. \n",
    "\n",
    "En general, si queremos **\"imprimir por pantalla\"** un string, debemos utilizar la función **`print()`**.\n",
    "\n",
    "Operaciones sobre los Strings\n",
    "\n",
    "* count() - Se usa para contar cuantas veces hay un letra o una palabla en un string\n",
    "    - texto = \" Hola mundo\"\n",
    "    - print(texto.count(\"Hola\")) 1\n",
    "    - print(texto.count(\"o\")) 2  \n",
    "\n",
    "* find() - Se usa para obtener la posición (indice) de una letra o inicio de una palabra en un string. Distingue entrte mayusculas y minusculas\n",
    "    - texto = \"Hola mundo, hola Python\"\n",
    "    - print(texto.find(\"mundo\"))  5 (La palabra \"mundo\" empieza en la posición 5)\n",
    "    - print(texto.find(\"hola\"))   13 (Primera aparición de \"hola\")\n",
    "\n",
    "* swapcase() - Invierte mayusculas y minusculas\n",
    "    - texto = \"Hola Mundo\"\n",
    "    - nuevo_texto = texto.swapcase()\n",
    "    - print(nuevo_texto)  # \"hOLA mUNDO\"- \n",
    "\n",
    "* upper() - Convierte las minusculas en mayusculas\n",
    "\n",
    "* lower() - Convierte las mayusculas en minusculas\n",
    "\n",
    "* replace() - Crea un string nuevo remplazando la palabra que le indiquemos en los parametros\n",
    "    - string = \"Hola Mundo, esto es una cadena en PYTHON!\" \n",
    "    - string.replace(\"Mundo\", \"planeta\") -> 'Hola planeta, esto es una cadena en PYTHON!'\n",
    "    - No cambia el String original\n",
    "\n",
    "* split() - Se usa para dividir un string en una lista de subcadenas, utilizando un separador especificado\n",
    "    - texto = \"manzana,naranja,pera,uva\"\n",
    "    - lista_frutas = texto.split(\",\")\n",
    "    - print(lista_frutas) ['manzana', 'naranja', 'pera', 'uva']\n",
    "\n",
    "* len() - Se usa para obtener la cantidad de elementos en un objeto, como strings, listas, tuplas, diccionarios y más, NO funciona con numeros.\n",
    "    - texto = \"Hola Python\"\n",
    "    - print(len(texto)) 11 (Cuenta los caracteres, incluyendo espacios)\n",
    "\n",
    "    - frutas = [\"manzana\", \"pera\", \"uva\", \"naranja\"] (Lista)\n",
    "    - print(len(frutas)) 4 (Hay 4 elementos en la lista)\n",
    "\n",
    "    - numeros = (10, 20, 30, 40, 50) (Tupla)\n",
    "    - print(len(numeros)) 5 (Hay 5 elementos en la tupla)\n",
    "\n",
    "    - persona = {\"nombre\": \"Juan\", \"edad\": 30, \"ciudad\": \"Madrid\"} (Diccionario)\n",
    "    - print(len(persona)) 3 (Cuenta las claves, no los valores)\n",
    "\n",
    "    - numeros_unicos = {1, 2, 3, 4, 5} (Conjuntos - Sets)\n",
    "    - print(len(numeros_unicos)) 5\n",
    "\n",
    "    - datos = {\"nombre\": \"Carlos\", \"amigos\": [\"Ana\", \"Luis\", \"Pedro\"]} (Diccionario)\n",
    "    - print(len(datos[\"amigos\"])) 3 (Hay 3 amigos en la lista dentro del diccionario)"
   ]
  },
  {
   "cell_type": "markdown",
   "metadata": {},
   "source": [
    "### Indexing & Slicing\n",
    "\n",
    "- **Indexing:** Es la forma de \"acceder\" o \"entrar\" a un solo elemento de un **objeto iterable** (strings, lists, dict...).\n",
    "    - Se utilizan los corchetes `[ ]` para hacer indexing.      \n",
    "    \n",
    "\n",
    "- **Slicing:** Es la forma de \"acceder\" o \"entrar\" a varios elementos de un **objeto iterable** (string, lists, dict...).\n",
    "    - Al igual que indexing se utilizan corchetes `[ ]` pero se le agregan el caracter `:`.\n",
    "        \n",
    "**En python el primer elemento de un objeto iterable tiene indice 0.**\n",
    "\n",
    "Para saber el tamaño de un objeto iterable podemos usar la función **`len()`**."
   ]
  },
  {
   "cell_type": "markdown",
   "metadata": {},
   "source": [
    "Si estamos haciendo slincing y el primer elemento es el comienzo del objeto podemos hacer\n",
    "<p style=\"text-align: center;\"> <strong>string[0:10]</strong> o <strong>string[:10]</strong> </p>\n",
    "\n",
    "\n",
    "Y si el ultimo elemento del slicing es el final del objeto podemos hacer:\n",
    "<p style=\"text-align: center;\"> <strong>string[10:20]</strong> o <strong>string[10:]</strong> </p>\n"
   ]
  },
  {
   "cell_type": "markdown",
   "metadata": {},
   "source": [
    "#### Indexing"
   ]
  },
  {
   "cell_type": "code",
   "execution_count": null,
   "metadata": {},
   "outputs": [],
   "source": [
    "string = \"Hola Mundo, esto es una cadena en PYTHON!\"\n",
    "\n",
    "# Si quisieramos el primer elemento de este string, usariamos [0]\n",
    "string[0]\n",
    "\n",
    "# Para el último elemento del string podemos usar [40] o [-1]\n",
    "string[40]\n",
    "string[-1]\n",
    "\n",
    "# Si quisieramos el elemento numero 10 del string usamos [9]\n",
    "string[9]"
   ]
  },
  {
   "cell_type": "markdown",
   "metadata": {},
   "source": [
    "En python, podemos hacer indexing de **izquierda a derecha**, comenzando en 0 y se suma 1 hasta el último indice que sería el tamaño del objeto menos 1.\n",
    "\n",
    "También se puede hacer indexing de **derecha a izquierda**, esta vez comenzando desde -1 y, en lugar de sumar 1, se resta 1."
   ]
  },
  {
   "cell_type": "code",
   "execution_count": null,
   "metadata": {},
   "outputs": [],
   "source": [
    "string = \"Hola Mundo, esto es una cadena en PYTHON!\"\n",
    "\n",
    "string[-1]\n",
    "string[-2]"
   ]
  },
  {
   "cell_type": "markdown",
   "metadata": {},
   "source": [
    "#### Slicing"
   ]
  },
  {
   "cell_type": "code",
   "execution_count": null,
   "metadata": {},
   "outputs": [],
   "source": [
    "# Para hacer slicing usariamos [start:end]\n",
    "# El slicing termina una posición antes al numero que le digamos\n",
    "# Es decir, no incluye al último elemento\n",
    "string = \"Hola Mundo\"\n",
    "string[0:6]\n",
    "# 'Hola M'"
   ]
  },
  {
   "cell_type": "code",
   "execution_count": null,
   "metadata": {},
   "outputs": [],
   "source": [
    "# También podemos usar indices negativos\n",
    "string[-8 : -3]"
   ]
  },
  {
   "cell_type": "code",
   "execution_count": null,
   "metadata": {},
   "outputs": [],
   "source": [
    "# start:stop:step\n",
    "string[0:10:2]"
   ]
  },
  {
   "cell_type": "markdown",
   "metadata": {},
   "source": []
  }
 ],
 "metadata": {
  "kernelspec": {
   "display_name": "Python 3",
   "language": "python",
   "name": "python3"
  },
  "language_info": {
   "codemirror_mode": {
    "name": "ipython",
    "version": 3
   },
   "file_extension": ".py",
   "mimetype": "text/x-python",
   "name": "python",
   "nbconvert_exporter": "python",
   "pygments_lexer": "ipython3",
   "version": "3.13.0"
  }
 },
 "nbformat": 4,
 "nbformat_minor": 4
}
