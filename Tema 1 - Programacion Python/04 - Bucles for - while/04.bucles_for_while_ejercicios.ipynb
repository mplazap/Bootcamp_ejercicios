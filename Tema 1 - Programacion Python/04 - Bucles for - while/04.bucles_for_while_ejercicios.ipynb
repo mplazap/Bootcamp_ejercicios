{
 "cells": [
  {
   "cell_type": "markdown",
   "id": "d6ba5bce",
   "metadata": {},
   "source": [
    "## Ejercicios - Bucles"
   ]
  },
  {
   "cell_type": "markdown",
   "id": "80012d75",
   "metadata": {},
   "source": [
    "### Ejercicio 1\n",
    "\n",
    "- Dada la siguiente **lista = [1, 2, 3, 4, 5, 6, 7, 8, 9, 10]**, imprimir cada número sumandole 10 unidades utilizando un bucle **`for`**."
   ]
  },
  {
   "cell_type": "code",
   "execution_count": 1,
   "id": "5436374e",
   "metadata": {},
   "outputs": [
    {
     "name": "stdout",
     "output_type": "stream",
     "text": [
      "11\n",
      "12\n",
      "13\n",
      "14\n",
      "15\n",
      "16\n",
      "17\n",
      "18\n",
      "19\n",
      "20\n"
     ]
    }
   ],
   "source": [
    "lista = [1, 2, 3, 4, 5, 6, 7, 8, 9, 10]\n",
    "# Recorremos la lista\n",
    "for n in lista:\n",
    "    print(n + 10)"
   ]
  },
  {
   "cell_type": "markdown",
   "id": "615b834a",
   "metadata": {},
   "source": [
    "### Ejercicio 2\n",
    "- Crea un bucle for que muestre la tabla de multiplicar del 1 al 10 de un número dado por el usuario.\n",
    "- Ejemplo:\n",
    "\n",
    "```html\n",
    "1 x 2 = 2\n",
    "2 x 2 = 4\n",
    "3 x 2 = 6\n",
    "4 x 2 = 8\n",
    "5 x 2 = 10\n",
    "6 x 2 = 12\n",
    "7 x 2 = 14\n",
    "8 x 2 = 16\n",
    "9 x 2 = 18\n",
    "10 x 2 = 20\n",
    "```"
   ]
  },
  {
   "cell_type": "code",
   "execution_count": 8,
   "id": "4c07823e",
   "metadata": {},
   "outputs": [
    {
     "name": "stdout",
     "output_type": "stream",
     "text": [
      "2\n",
      "4\n",
      "6\n",
      "8\n",
      "10\n",
      "12\n",
      "14\n",
      "16\n",
      "18\n",
      "20\n"
     ]
    }
   ],
   "source": [
    "num = int(input(\"Introduce un numero\"))\n",
    "tabla = [1, 2, 3, 4, 5, 6, 7, 8, 9, 10]\n",
    "for n in tabla:\n",
    "    print(n * num)\n",
    "    \n",
    "    "
   ]
  },
  {
   "cell_type": "markdown",
   "id": "3c8a4c44",
   "metadata": {},
   "source": [
    "### Ejercicio 3\n",
    "- Crear una lista vacia.\n",
    "- Llenar la lista con los numero del 200 al 215 usando un bucle **`for`**."
   ]
  },
  {
   "cell_type": "code",
   "execution_count": 12,
   "id": "92d1be47",
   "metadata": {},
   "outputs": [
    {
     "name": "stdout",
     "output_type": "stream",
     "text": [
      "[200, 201, 202, 203, 204, 205, 206, 207, 208, 209, 210, 211, 212, 213, 214, 215]\n"
     ]
    }
   ],
   "source": [
    "list = []\n",
    "for i in range(200, 216):\n",
    "    list.append(i)\n",
    "       \n",
    "print(list)"
   ]
  },
  {
   "cell_type": "markdown",
   "id": "073bada8",
   "metadata": {},
   "source": [
    "### Ejercicio 4\n",
    "- Crea una lista de números pares entre el 555 y el 599 utilizando bucle **`for`**."
   ]
  },
  {
   "cell_type": "code",
   "execution_count": 13,
   "id": "2ea6dc60",
   "metadata": {
    "scrolled": true
   },
   "outputs": [
    {
     "name": "stdout",
     "output_type": "stream",
     "text": [
      "[556, 558, 560, 562, 564, 566, 568, 570, 572, 574, 576, 578, 580, 582, 584, 586, 588, 590, 592, 594, 596, 598]\n"
     ]
    }
   ],
   "source": [
    "pares = []\n",
    "for i in range(555, 599):\n",
    "    if i % 2 == 0:\n",
    "        pares.append(i)\n",
    "print (pares)"
   ]
  },
  {
   "cell_type": "markdown",
   "id": "282e98c2",
   "metadata": {},
   "source": [
    "### Ejercicio 5\n",
    "- Crea un bucle for que sume los valores de la siguiente lista: **[51, 52, 53, 54, 55]**."
   ]
  },
  {
   "cell_type": "code",
   "execution_count": 24,
   "id": "3d4d4485",
   "metadata": {},
   "outputs": [
    {
     "name": "stdout",
     "output_type": "stream",
     "text": [
      "51\n",
      "103\n",
      "156\n",
      "210\n",
      "265\n"
     ]
    }
   ],
   "source": [
    "lista = [51, 52, 53, 54, 55]\n",
    "suma = 0 # Variable donde almacenamos la suma\n",
    "for numero in lista: # Recorremos la lista \n",
    "    suma += numero # Sumamos los valores con cada vuelta del bucle for\n",
    "    print(suma)\n",
    "   "
   ]
  },
  {
   "cell_type": "markdown",
   "id": "ac9f3703",
   "metadata": {},
   "source": [
    "### Ejercicio 6\n",
    "- Crea una lista con 5 elementos y cada elemento de esa lista, va a ser una lista con los siguientes datos: **[1, 2, 3]**, utiliza 2 **`for`** anidados.\n",
    "\n",
    "- Resultado: [[1, 2, 3], [1, 2, 3], [1, 2, 3], [1, 2, 3], [1, 2, 3]]"
   ]
  },
  {
   "cell_type": "code",
   "execution_count": 28,
   "id": "70ba6e94",
   "metadata": {},
   "outputs": [
    {
     "name": "stdout",
     "output_type": "stream",
     "text": [
      "[[1, 2, 3], [1, 2, 3], [1, 2, 3], [1, 2, 3], [1, 2, 3]]\n"
     ]
    }
   ],
   "source": [
    "# Lista principal vacia\n",
    "lista_principal = []\n",
    "\n",
    "# Primer bucle: para crear 5 listas\n",
    "for _ in range(5):  # Repite 5 veces. Se usa _ para no usar una variable ya que no se usara el valor del iterador\n",
    "    sublista = []  # Inicializa una sublista\n",
    "    for i in [1, 2, 3]:  # Agrega los elementos 1, 2, 3\n",
    "        sublista.append(i)\n",
    "    lista_principal.append(sublista)  # Agrega la sublista a la lista principal\n",
    "\n",
    "print(lista_principal)"
   ]
  },
  {
   "cell_type": "markdown",
   "id": "b7bb3dcc",
   "metadata": {},
   "source": [
    "### Ejercicio 7\n",
    "- Crea un bucle que cuente del 10 al 1."
   ]
  },
  {
   "cell_type": "code",
   "execution_count": 40,
   "id": "ac6f8092",
   "metadata": {},
   "outputs": [
    {
     "name": "stdout",
     "output_type": "stream",
     "text": [
      "[10, 9, 8, 7, 6, 5, 4, 3, 2, 1]\n"
     ]
    }
   ],
   "source": [
    "cuenta = []\n",
    "for i in range(10, 0, -1): # Rango desde el que queremos contar y paso por el que queremos contar(-1)\n",
    "    cuenta.append(i)\n",
    "print(cuenta)"
   ]
  },
  {
   "cell_type": "markdown",
   "id": "6d158465",
   "metadata": {},
   "source": [
    "### Ejercicio 8\n",
    "- Crea dos variables llamadas **par** e **impar** e inicializalas en 0.\n",
    "- Dada la siguiente lista de números = **[10, 7, 8, 3, 5, 2, 71, 21, 88]**, crea un bucle que recorra la lista y sume los números pares a la variable **par** y sume los números impares a la variable **impares**."
   ]
  },
  {
   "cell_type": "code",
   "execution_count": 50,
   "id": "df34a94b",
   "metadata": {},
   "outputs": [
    {
     "name": "stdout",
     "output_type": "stream",
     "text": [
      "Suma de los numeros pares: 108\n",
      "Suma de los numeros impares: 107\n"
     ]
    }
   ],
   "source": [
    "par = 0\n",
    "impar = 0\n",
    "num = [10, 7, 8, 3, 5, 2, 71, 21, 88]\n",
    "for numero in num: #Recorremos lada numero de la lista\n",
    "    if numero % 2 == 0:\n",
    "        par += numero\n",
    "    else:\n",
    "        impar += numero\n",
    "        \n",
    "print(f\"Suma de los numeros pares: {par}\")\n",
    "print(f\"Suma de los numeros impares: {impar}\")"
   ]
  },
  {
   "cell_type": "markdown",
   "id": "367b6971",
   "metadata": {},
   "source": [
    "### Ejercicio 9\n",
    "- Crea una lista con 5 colores diferentes.\n",
    "- Y con bucles anidados imprime las letras de los colores."
   ]
  },
  {
   "cell_type": "code",
   "execution_count": null,
   "id": "01085cd1",
   "metadata": {},
   "outputs": [],
   "source": []
  },
  {
   "cell_type": "code",
   "execution_count": null,
   "id": "162f2a39",
   "metadata": {},
   "outputs": [],
   "source": []
  },
  {
   "cell_type": "code",
   "execution_count": null,
   "id": "976981fa",
   "metadata": {},
   "outputs": [],
   "source": []
  },
  {
   "cell_type": "markdown",
   "id": "bf59c876",
   "metadata": {},
   "source": [
    "### Ejercicio 10\n",
    "- Imprimir el índice y valor de cada elemento de la **lista = [-5, -4, -3, -2, -1, 0, 1, 2, 3, 4, 5]** utilizando un bucle **for**."
   ]
  },
  {
   "cell_type": "code",
   "execution_count": 51,
   "id": "db8dad4b",
   "metadata": {},
   "outputs": [
    {
     "name": "stdout",
     "output_type": "stream",
     "text": [
      "0 -5\n",
      "1 -4\n",
      "2 -3\n",
      "3 -2\n",
      "4 -1\n",
      "5 0\n",
      "6 1\n",
      "7 2\n",
      "8 3\n",
      "9 4\n",
      "10 5\n"
     ]
    }
   ],
   "source": [
    "lista = [-5, -4, -3, -2, -1, 0, 1, 2, 3, 4, 5]\n",
    "for enum, numero in enumerate(lista): # Ponemos el indice con \"enum\" y con enumerate recorremos la lista poniendoles el indice a dcada elemento\n",
    "    print(enum, numero)"
   ]
  },
  {
   "cell_type": "markdown",
   "id": "eb2b14d4",
   "metadata": {},
   "source": [
    "### Ejercicio 11\n",
    "- Crea un bucle **while** donde le pregunte al usuario un número y si ese número es impar el programa se detiene."
   ]
  },
  {
   "cell_type": "code",
   "execution_count": 55,
   "id": "1f61356a",
   "metadata": {},
   "outputs": [
    {
     "name": "stdout",
     "output_type": "stream",
     "text": [
      "Número par, continúa.\n",
      "Número impar detectado. El programa se detiene.\n"
     ]
    }
   ],
   "source": [
    "numero = 0  # Inicializar la variable\n",
    "\n",
    "while numero % 2 == 0:  # Mientras el número sea par\n",
    "    numero = int(input(\"Introduce un número: \"))  # Pedir un número\n",
    "    if numero % 2 == 0:\n",
    "        print(\"Número par, continúa.\")\n",
    "\n",
    "print(\"Número impar detectado. El programa se detiene.\")"
   ]
  },
  {
   "cell_type": "markdown",
   "id": "506b594c",
   "metadata": {},
   "source": [
    "### Ejercicio 12\n",
    "- Pide al usuario una frase.\n",
    "- Has un bucle que recorra la frase y que imprima las letras de la frase y cuantas veces aparece."
   ]
  },
  {
   "cell_type": "code",
   "execution_count": null,
   "id": "6d5eed1e",
   "metadata": {},
   "outputs": [],
   "source": []
  },
  {
   "cell_type": "code",
   "execution_count": null,
   "id": "7589273f",
   "metadata": {},
   "outputs": [],
   "source": []
  },
  {
   "cell_type": "code",
   "execution_count": null,
   "id": "c80fb589",
   "metadata": {},
   "outputs": [],
   "source": []
  },
  {
   "cell_type": "code",
   "execution_count": null,
   "id": "ed860fac-20fd-4ac9-a1a5-cb60a7d96bc5",
   "metadata": {},
   "outputs": [],
   "source": [
    "##############################################################################################################################"
   ]
  }
 ],
 "metadata": {
  "kernelspec": {
   "display_name": "base",
   "language": "python",
   "name": "python3"
  },
  "language_info": {
   "codemirror_mode": {
    "name": "ipython",
    "version": 3
   },
   "file_extension": ".py",
   "mimetype": "text/x-python",
   "name": "python",
   "nbconvert_exporter": "python",
   "pygments_lexer": "ipython3",
   "version": "3.12.7"
  }
 },
 "nbformat": 4,
 "nbformat_minor": 5
}
