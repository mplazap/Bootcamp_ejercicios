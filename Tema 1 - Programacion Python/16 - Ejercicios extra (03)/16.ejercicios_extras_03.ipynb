{
 "cells": [
  {
   "cell_type": "markdown",
   "id": "876bfaa1",
   "metadata": {},
   "source": [
    "## Ejercicios - Extras 03"
   ]
  },
  {
   "cell_type": "markdown",
   "id": "4b5ce28f",
   "metadata": {},
   "source": [
    "### Ejercicio 01:\n",
    "- Dado un numero **n** positivo en base 10, retornar ese numero en base 7."
   ]
  },
  {
   "cell_type": "code",
   "execution_count": null,
   "id": "451c57be",
   "metadata": {},
   "outputs": [],
   "source": []
  },
  {
   "cell_type": "code",
   "execution_count": null,
   "id": "5aded4cf",
   "metadata": {},
   "outputs": [],
   "source": []
  },
  {
   "cell_type": "markdown",
   "id": "1b472a68",
   "metadata": {},
   "source": [
    "### Ejercicio 02:\n",
    "- Triangulo de Pascal: Dado un numero entero positivo n, retornar las primeras n-filas del triangulo de pascal\n",
    "\n",
    "**Ejemplo:** <br>\n",
    "\n",
    "n = 6<br>\n",
    "\n",
    "[1]<br>\n",
    "[1, 1]<br>\n",
    "[1, 2, 1]<br>\n",
    "[1, 3, 3, 1]<br>\n",
    "[1, 4, 6, 4, 1]<br>\n",
    "[1, 5, 10, 10, 5, 1]"
   ]
  },
  {
   "cell_type": "code",
   "execution_count": null,
   "id": "fc90bb79",
   "metadata": {},
   "outputs": [],
   "source": []
  },
  {
   "cell_type": "code",
   "execution_count": null,
   "id": "96f0ea10-efda-4337-a0ca-593c776e6507",
   "metadata": {},
   "outputs": [],
   "source": []
  },
  {
   "cell_type": "code",
   "execution_count": null,
   "id": "81bf3595-0680-43b2-8bb6-f81d2bd5f2cd",
   "metadata": {},
   "outputs": [],
   "source": []
  },
  {
   "cell_type": "markdown",
   "id": "4bc727a1",
   "metadata": {},
   "source": [
    "### Ejercicio 03:\n",
    "- **Goat Latin**: Tienes una oración separada por espacios en blanco y quieres transformar la oración a **Goat Latin**, las reglas del **Goat Latin** son las siguientes:<br>\n",
    "\n",
    "    - Si la palabra comienza con una vocal añade \"ma\" al final de la palabra.\n",
    "    - Si la palabra no comienza con una vocal, quita la primera letra y añadela al final, luego agrega \"ma\" al final de la palabra\n",
    "    - Añade una \"a\" al final de cada palabra dependiendo de su indice en la oración, asumiendo que la primera palabra tiene indice 1.<br>\n",
    "        Ejemplo: La primera palabra gana una \"a\", la segunda gana \"aa\", la tercera \"aaa\"...\n",
    "    \n",
    "**Ejemplos:** \n",
    "\n",
    "- **Input:** \"I speak Goat Latin\"\n",
    "- **Output:** \"Imaa peaksmaaa oatGmaaaa atinLmaaaaa\"\n",
    "\n",
    "\n",
    "- **Input:** \"The quick brown fox jumped over the lazy dog\"\n",
    "- **Output:** \"heTmaa uickqmaaa rownbmaaaa oxfmaaaaa umpedjmaaaaaa overmaaaaaaa hetmaaaaaaaa azylmaaaaaaaaa ogdmaaaaaaaaaa\""
   ]
  },
  {
   "cell_type": "code",
   "execution_count": null,
   "id": "6ad1bc80",
   "metadata": {},
   "outputs": [],
   "source": []
  },
  {
   "cell_type": "code",
   "execution_count": null,
   "id": "c0644582",
   "metadata": {},
   "outputs": [],
   "source": []
  },
  {
   "cell_type": "code",
   "execution_count": null,
   "id": "7ed11f74",
   "metadata": {},
   "outputs": [],
   "source": []
  },
  {
   "cell_type": "markdown",
   "id": "9c243c33",
   "metadata": {},
   "source": [
    "### Ejercicio 04:\n",
    "- Dado una lista de numeros enteros, retornar la lista con los numeros pares al comienzo y los numeros impares al final."
   ]
  },
  {
   "cell_type": "code",
   "execution_count": null,
   "id": "e0f84d01",
   "metadata": {},
   "outputs": [],
   "source": [
    "lista_num = [85, 61, 55, 41, 58, 85, 82, 5, 40, 19, 19, 94, 97, 63, 57, 4, 35, 5, 71, 36, 51, 91, 27, 75, 54,\n",
    "             24, 99, 50, 76, 37, 92, 70, 7, 4, 68, 94, 72, 47, 72, 17, 49, 44, 74, 12, 52, 16, 81, 83, 18, 93]\n",
    "\n",
    "print(lista_num)"
   ]
  },
  {
   "cell_type": "code",
   "execution_count": null,
   "id": "5e31cd51",
   "metadata": {},
   "outputs": [],
   "source": []
  },
  {
   "cell_type": "code",
   "execution_count": null,
   "id": "36950deb",
   "metadata": {},
   "outputs": [],
   "source": []
  },
  {
   "cell_type": "code",
   "execution_count": null,
   "id": "99f65e99-6b58-4cb9-a676-e38267d6154f",
   "metadata": {},
   "outputs": [],
   "source": [
    "################################################################################################################################"
   ]
  }
 ],
 "metadata": {
  "kernelspec": {
   "display_name": ".venv",
   "language": "python",
   "name": "python3"
  },
  "language_info": {
   "codemirror_mode": {
    "name": "ipython",
    "version": 3
   },
   "file_extension": ".py",
   "mimetype": "text/x-python",
   "name": "python",
   "nbconvert_exporter": "python",
   "pygments_lexer": "ipython3",
   "version": "3.13.0"
  }
 },
 "nbformat": 4,
 "nbformat_minor": 5
}
