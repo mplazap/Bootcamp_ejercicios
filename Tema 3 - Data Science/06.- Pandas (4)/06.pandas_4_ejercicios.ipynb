{
 "cells": [
  {
   "cell_type": "markdown",
   "id": "34896072",
   "metadata": {},
   "source": [
    "## Ejercicios - pandas 4"
   ]
  },
  {
   "cell_type": "code",
   "execution_count": null,
   "id": "eeaec5cf",
   "metadata": {},
   "outputs": [],
   "source": [
    "import numpy as np\n",
    "import pandas as pd"
   ]
  },
  {
   "cell_type": "code",
   "execution_count": null,
   "id": "593aacd6-9023-4ce9-825a-3dfadfb7e930",
   "metadata": {
    "tags": []
   },
   "outputs": [],
   "source": [
    "# Versiones\n",
    "\n",
    "print(f\"numpy=={np.__version__}\")\n",
    "print(f\"pandas=={pd.__version__}\")"
   ]
  },
  {
   "cell_type": "markdown",
   "id": "5367d1ea",
   "metadata": {},
   "source": [
    "#### En la siguiente celda se guarda la información del excel"
   ]
  },
  {
   "cell_type": "code",
   "execution_count": null,
   "id": "a8a448fc",
   "metadata": {},
   "outputs": [],
   "source": [
    "df1 = pd.read_excel(\"../Data/Airbnb_NYC.xlsx\", sheet_name = \"NYC1\")\n",
    "df2 = pd.read_excel(\"../Data/Airbnb_NYC.xlsx\", sheet_name = \"NYC2\")"
   ]
  },
  {
   "cell_type": "markdown",
   "id": "ca9c8998",
   "metadata": {},
   "source": [
    "### Ejercicio 0:\n",
    "- Une los dos DataFrames anteriores por la columna **id**. Guarda en nuevo DataFrame en **df**"
   ]
  },
  {
   "cell_type": "code",
   "execution_count": null,
   "id": "53148f6a",
   "metadata": {},
   "outputs": [],
   "source": []
  },
  {
   "cell_type": "code",
   "execution_count": null,
   "id": "92241b90",
   "metadata": {},
   "outputs": [],
   "source": []
  },
  {
   "cell_type": "code",
   "execution_count": null,
   "id": "1ab706bb",
   "metadata": {},
   "outputs": [],
   "source": []
  },
  {
   "cell_type": "markdown",
   "id": "4f2aacac",
   "metadata": {},
   "source": [
    "### Ejercicio 1:\n",
    "- Si quiero hospedarme en Manhattan una sola noche y para elegir el Airbnb me guio por el que tenga el mayor número de reviews, ¿donde me debería de hospedar?"
   ]
  },
  {
   "cell_type": "code",
   "execution_count": null,
   "id": "aed12f9c",
   "metadata": {},
   "outputs": [],
   "source": []
  },
  {
   "cell_type": "code",
   "execution_count": null,
   "id": "d3453aa8",
   "metadata": {},
   "outputs": [],
   "source": []
  },
  {
   "cell_type": "code",
   "execution_count": null,
   "id": "3caf2cfd",
   "metadata": {},
   "outputs": [],
   "source": []
  },
  {
   "cell_type": "markdown",
   "id": "767a7cb7",
   "metadata": {},
   "source": [
    "### Ejercicio 2:\n",
    "- Busco un Airbnb en el municipio donde el precio promedio de alquiler sea el más bajo y la cantidad de review por mes sea el mayor. ¿Cuáles son las 3 habitaciones que mejor se adaptan a estos criterios?"
   ]
  },
  {
   "cell_type": "code",
   "execution_count": null,
   "id": "e634646d",
   "metadata": {},
   "outputs": [],
   "source": []
  },
  {
   "cell_type": "code",
   "execution_count": null,
   "id": "3e8bc366",
   "metadata": {},
   "outputs": [],
   "source": []
  },
  {
   "cell_type": "code",
   "execution_count": null,
   "id": "6d846126",
   "metadata": {},
   "outputs": [],
   "source": []
  },
  {
   "cell_type": "markdown",
   "id": "6510ba83",
   "metadata": {},
   "source": [
    "### Ejercicio 3:\n",
    "- Quiero rentar un Airbnb completo por un total de 200 días, en Brooklyn o Manhattan; no quiero pagar más de 150 dólares por noche, ¿Cuáles son las 5 opciones más economicas que me ofrece Airbnb?"
   ]
  },
  {
   "cell_type": "code",
   "execution_count": null,
   "id": "7de3a7ef",
   "metadata": {},
   "outputs": [],
   "source": []
  },
  {
   "cell_type": "code",
   "execution_count": null,
   "id": "f375b15a",
   "metadata": {},
   "outputs": [],
   "source": []
  },
  {
   "cell_type": "code",
   "execution_count": null,
   "id": "16bd2747",
   "metadata": {},
   "outputs": [],
   "source": []
  },
  {
   "cell_type": "markdown",
   "id": "117b08e1",
   "metadata": {},
   "source": [
    "### Ejercicio 4:\n",
    "- En un nuevo Dataframe muestra por municipio: el número de habitaciones tipo individual, casa o departamento entero y compartido; también muestra en otra columna el precio promedio de todas las habitaciones por municipio."
   ]
  },
  {
   "cell_type": "code",
   "execution_count": null,
   "id": "1bb5d69c",
   "metadata": {},
   "outputs": [],
   "source": []
  },
  {
   "cell_type": "code",
   "execution_count": null,
   "id": "b8682527",
   "metadata": {},
   "outputs": [],
   "source": []
  },
  {
   "cell_type": "code",
   "execution_count": null,
   "id": "41427c74",
   "metadata": {},
   "outputs": [],
   "source": []
  },
  {
   "cell_type": "markdown",
   "id": "50edbbc5",
   "metadata": {},
   "source": [
    "### Ejercicio 5:\n",
    "- Crea una nueva columna en el DataFrame original, con el rating de acuerdo a la siguiente formula, donde las variables son: puntaje del municipio, número de reviews y disponibilidad de la habitación al año.\n",
    "\n",
    "- Formula: Rating = (Puntaje de ciudad) + (número de review/ 629) + (disponibilidad / 365).\n",
    "\n",
    "- El puntaje para cada ciudad es el siguiente {\"Manhattan\" : 10/10, \"Brooklyn\" : 8/10, \"Queens\" : 6/10, \"Staten Island\" : 4/10, \"Bronx\" : 2/10}."
   ]
  },
  {
   "cell_type": "code",
   "execution_count": null,
   "id": "4bcf70f7",
   "metadata": {},
   "outputs": [],
   "source": []
  },
  {
   "cell_type": "code",
   "execution_count": null,
   "id": "cf50155c",
   "metadata": {},
   "outputs": [],
   "source": []
  },
  {
   "cell_type": "code",
   "execution_count": null,
   "id": "7d668b96",
   "metadata": {},
   "outputs": [],
   "source": []
  },
  {
   "cell_type": "markdown",
   "id": "4e085620",
   "metadata": {},
   "source": [
    "### Ejercicio 6:\n",
    "- Encuentra las 5 habitaciones de cada municipio con mayor rating."
   ]
  },
  {
   "cell_type": "code",
   "execution_count": null,
   "id": "ae136723",
   "metadata": {
    "scrolled": true
   },
   "outputs": [],
   "source": []
  },
  {
   "cell_type": "code",
   "execution_count": null,
   "id": "988d40af",
   "metadata": {},
   "outputs": [],
   "source": []
  },
  {
   "cell_type": "code",
   "execution_count": null,
   "id": "e723149a",
   "metadata": {},
   "outputs": [],
   "source": []
  },
  {
   "cell_type": "markdown",
   "id": "2f8030c7",
   "metadata": {},
   "source": [
    "### Ejercicio 7:\n",
    "- Crea un DataFrame con la cantidad de reviews de cada municipio de acuerdo a tipo de habitación."
   ]
  },
  {
   "cell_type": "code",
   "execution_count": null,
   "id": "2f2458b5",
   "metadata": {},
   "outputs": [],
   "source": []
  },
  {
   "cell_type": "code",
   "execution_count": null,
   "id": "3afa50d8",
   "metadata": {},
   "outputs": [],
   "source": []
  },
  {
   "cell_type": "code",
   "execution_count": null,
   "id": "a4a3a1d4",
   "metadata": {},
   "outputs": [],
   "source": []
  },
  {
   "cell_type": "markdown",
   "id": "c7690384",
   "metadata": {},
   "source": [
    "### Ejercicio 8:\n",
    "- Encuentra los 10 barrios con mayor precio por habitación individual."
   ]
  },
  {
   "cell_type": "code",
   "execution_count": null,
   "id": "dee4e94a",
   "metadata": {},
   "outputs": [],
   "source": []
  },
  {
   "cell_type": "code",
   "execution_count": null,
   "id": "65befc9f",
   "metadata": {},
   "outputs": [],
   "source": []
  },
  {
   "cell_type": "code",
   "execution_count": null,
   "id": "150328df",
   "metadata": {},
   "outputs": [],
   "source": []
  },
  {
   "cell_type": "markdown",
   "id": "4b957948",
   "metadata": {},
   "source": [
    "### Ejercicio 9:\n",
    "- Encuentra el barrio con mejor rating de cada municipio."
   ]
  },
  {
   "cell_type": "code",
   "execution_count": null,
   "id": "6ab51d2e",
   "metadata": {},
   "outputs": [],
   "source": []
  },
  {
   "cell_type": "code",
   "execution_count": null,
   "id": "adaa2215",
   "metadata": {},
   "outputs": [],
   "source": []
  },
  {
   "cell_type": "code",
   "execution_count": null,
   "id": "7a06680e",
   "metadata": {},
   "outputs": [],
   "source": []
  },
  {
   "cell_type": "markdown",
   "id": "88c089bc",
   "metadata": {},
   "source": [
    "### Ejercicio 10:\n",
    "- Del resultado anterio, selecciona los 2 barrios con el menor precio por \"dep/casa completo\"."
   ]
  },
  {
   "cell_type": "code",
   "execution_count": null,
   "id": "f5e0b670",
   "metadata": {},
   "outputs": [],
   "source": []
  },
  {
   "cell_type": "code",
   "execution_count": null,
   "id": "87763a6f",
   "metadata": {},
   "outputs": [],
   "source": []
  },
  {
   "cell_type": "code",
   "execution_count": null,
   "id": "04cee905",
   "metadata": {},
   "outputs": [],
   "source": []
  },
  {
   "cell_type": "code",
   "execution_count": null,
   "id": "5140dda6-29ec-4298-825e-fd5cf58bb13a",
   "metadata": {},
   "outputs": [],
   "source": [
    "################################################################################################################################"
   ]
  }
 ],
 "metadata": {
  "kernelspec": {
   "display_name": "Python 3 (ipykernel)",
   "language": "python",
   "name": "python3"
  },
  "language_info": {
   "codemirror_mode": {
    "name": "ipython",
    "version": 3
   },
   "file_extension": ".py",
   "mimetype": "text/x-python",
   "name": "python",
   "nbconvert_exporter": "python",
   "pygments_lexer": "ipython3",
   "version": "3.11.7"
  }
 },
 "nbformat": 4,
 "nbformat_minor": 5
}
