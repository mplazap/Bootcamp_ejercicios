{
 "cells": [
  {
   "cell_type": "markdown",
   "id": "5c4d1fd2",
   "metadata": {},
   "source": [
    "## Ejercicios API"
   ]
  },
  {
   "cell_type": "code",
   "execution_count": null,
   "id": "2f2a90f6",
   "metadata": {},
   "outputs": [],
   "source": [
    "import numpy as np\n",
    "import pandas as pd\n",
    "\n",
    "import requests\n",
    "\n",
    "from pprint import pprint"
   ]
  },
  {
   "cell_type": "code",
   "execution_count": null,
   "id": "450bb186-e28e-4b98-b9bc-a2fee0963938",
   "metadata": {},
   "outputs": [],
   "source": [
    "# Versiones\n",
    "\n",
    "print(f\"numpy=={np.__version__}\")\n",
    "print(f\"pandas=={pd.__version__}\")\n",
    "print(f\"requests=={requests.__version__}\")"
   ]
  },
  {
   "cell_type": "markdown",
   "id": "666c5d7d",
   "metadata": {},
   "source": [
    "Usando alguna de las siguientes **APIs** (o alguna otra que te interese):\n",
    "\n",
    "- **Huella de carbono**: Free\n",
    "    - https://docs.carboninterface.com/#/?id=getting-started\n",
    "\n",
    "\n",
    "- **GeoCoding**: Freemiun- ApiKey\n",
    "    - https://openweathermap.org/api/geocoding-api\n",
    "    - https://home.openweathermap.org/api_keys\n",
    "\n",
    "\n",
    "- **Weather**: Freemiun - ApiKey\n",
    "    - https://openweathermap.org/current\n",
    "    - https://home.openweathermap.org/api_keys\n",
    "\n",
    "\n",
    "- **Forex currency convertor**: Free - ApiKey\n",
    "    - https://freeforexapi.com/Home/Api\n",
    "\n",
    "\n",
    "- **Cryptocurrency**: Free\n",
    "    - https://cryptingup.com/apidoc/#introduction \n",
    "\n",
    "\n",
    "- **DictionaryApi**: Free\n",
    "    - https://dictionaryapi.dev/\n",
    "    \n",
    "Leer la documentación, hacer consultas y hacer gráficos usando la información rotornada por el **API**."
   ]
  },
  {
   "cell_type": "code",
   "execution_count": null,
   "id": "07343fc8",
   "metadata": {},
   "outputs": [],
   "source": []
  },
  {
   "cell_type": "code",
   "execution_count": null,
   "id": "c899172e",
   "metadata": {},
   "outputs": [],
   "source": []
  },
  {
   "cell_type": "code",
   "execution_count": null,
   "id": "133b85c9",
   "metadata": {},
   "outputs": [],
   "source": []
  },
  {
   "cell_type": "code",
   "execution_count": null,
   "id": "f8eafa55",
   "metadata": {},
   "outputs": [],
   "source": []
  },
  {
   "cell_type": "code",
   "execution_count": null,
   "id": "19ab57f0",
   "metadata": {},
   "outputs": [],
   "source": []
  },
  {
   "cell_type": "code",
   "execution_count": null,
   "id": "88e44b5e",
   "metadata": {},
   "outputs": [],
   "source": []
  },
  {
   "cell_type": "code",
   "execution_count": null,
   "id": "22f26c9f",
   "metadata": {},
   "outputs": [],
   "source": []
  },
  {
   "cell_type": "code",
   "execution_count": null,
   "id": "0511e0e7",
   "metadata": {},
   "outputs": [],
   "source": []
  },
  {
   "cell_type": "code",
   "execution_count": null,
   "id": "6807a7d9",
   "metadata": {},
   "outputs": [],
   "source": []
  },
  {
   "cell_type": "code",
   "execution_count": null,
   "id": "5a21a4b1",
   "metadata": {},
   "outputs": [],
   "source": []
  },
  {
   "cell_type": "code",
   "execution_count": null,
   "id": "0c6edb26",
   "metadata": {},
   "outputs": [],
   "source": []
  },
  {
   "cell_type": "code",
   "execution_count": null,
   "id": "61cb8f2c",
   "metadata": {},
   "outputs": [],
   "source": []
  },
  {
   "cell_type": "code",
   "execution_count": null,
   "id": "f2e79435",
   "metadata": {},
   "outputs": [],
   "source": []
  },
  {
   "cell_type": "code",
   "execution_count": null,
   "id": "ba013a95",
   "metadata": {},
   "outputs": [],
   "source": []
  },
  {
   "cell_type": "code",
   "execution_count": null,
   "id": "7ffdf401",
   "metadata": {},
   "outputs": [],
   "source": []
  }
 ],
 "metadata": {
  "kernelspec": {
   "display_name": "Python 3 (ipykernel)",
   "language": "python",
   "name": "python3"
  },
  "language_info": {
   "codemirror_mode": {
    "name": "ipython",
    "version": 3
   },
   "file_extension": ".py",
   "mimetype": "text/x-python",
   "name": "python",
   "nbconvert_exporter": "python",
   "pygments_lexer": "ipython3",
   "version": "3.12.3"
  }
 },
 "nbformat": 4,
 "nbformat_minor": 5
}
