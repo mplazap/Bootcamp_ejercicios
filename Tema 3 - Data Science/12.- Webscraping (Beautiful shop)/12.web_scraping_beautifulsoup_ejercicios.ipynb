{
 "cells": [
  {
   "cell_type": "markdown",
   "id": "5988379a",
   "metadata": {},
   "source": [
    "## Ejercicios Web Scraping BeautifulSoup"
   ]
  },
  {
   "cell_type": "code",
   "execution_count": null,
   "id": "029889fe",
   "metadata": {},
   "outputs": [],
   "source": [
    "import numpy as np\n",
    "import pandas as pd\n",
    "\n",
    "import requests\n",
    "import bs4 # Para ver la versión\n",
    "from bs4 import BeautifulSoup\n",
    "\n",
    "from time import sleep"
   ]
  },
  {
   "cell_type": "code",
   "execution_count": null,
   "id": "b812295c-5cf5-41a8-a5a3-8b52544d29f8",
   "metadata": {},
   "outputs": [],
   "source": [
    "# Versiones\n",
    "\n",
    "print(f\"numpy=={np.__version__}\")\n",
    "print(f\"pandas=={pd.__version__}\")\n",
    "print(f\"requests=={requests.__version__}\")\n",
    "print(f\"bs4=={bs4.__version__}\")"
   ]
  },
  {
   "cell_type": "markdown",
   "id": "22f45faa",
   "metadata": {},
   "source": [
    "De la pagina:\n",
    "\n",
    "https://www.recetasgratis.net/Recetas-de-Ensaladas-listado_receta-4_1.html\n",
    "\n",
    "- Sacar la siguiente información de las recetas de la primera página:\n",
    "\n",
    "1. **Nombre**\n",
    "2. **Descripcion**\n",
    "3. **Comensales**\n",
    "4. **Tiempo**\n",
    "5. **Categoria**\n",
    "6. **Dificultad**\n",
    "7. **Ingredientes**\n",
    "8. **Instrucciones**\n",
    "\n",
    "Guardalo en un DataFrame y luego en un **`.csv`**."
   ]
  },
  {
   "cell_type": "code",
   "execution_count": null,
   "id": "f92d7232",
   "metadata": {},
   "outputs": [],
   "source": []
  },
  {
   "cell_type": "code",
   "execution_count": null,
   "id": "6feb378f",
   "metadata": {},
   "outputs": [],
   "source": []
  },
  {
   "cell_type": "code",
   "execution_count": null,
   "id": "efc8b375",
   "metadata": {},
   "outputs": [],
   "source": []
  },
  {
   "cell_type": "code",
   "execution_count": null,
   "id": "d56de4b2",
   "metadata": {},
   "outputs": [],
   "source": []
  },
  {
   "cell_type": "markdown",
   "id": "6ae0d51a",
   "metadata": {},
   "source": [
    "- Repetir el ejercicio para todas las recetas de todas las páginas."
   ]
  },
  {
   "cell_type": "code",
   "execution_count": null,
   "id": "654a35b4",
   "metadata": {},
   "outputs": [],
   "source": []
  },
  {
   "cell_type": "code",
   "execution_count": null,
   "id": "0a868894",
   "metadata": {},
   "outputs": [],
   "source": []
  },
  {
   "cell_type": "code",
   "execution_count": null,
   "id": "a5d3af88",
   "metadata": {},
   "outputs": [],
   "source": []
  }
 ],
 "metadata": {
  "kernelspec": {
   "display_name": "Python 3 (ipykernel)",
   "language": "python",
   "name": "python3"
  },
  "language_info": {
   "codemirror_mode": {
    "name": "ipython",
    "version": 3
   },
   "file_extension": ".py",
   "mimetype": "text/x-python",
   "name": "python",
   "nbconvert_exporter": "python",
   "pygments_lexer": "ipython3",
   "version": "3.12.3"
  }
 },
 "nbformat": 4,
 "nbformat_minor": 5
}
