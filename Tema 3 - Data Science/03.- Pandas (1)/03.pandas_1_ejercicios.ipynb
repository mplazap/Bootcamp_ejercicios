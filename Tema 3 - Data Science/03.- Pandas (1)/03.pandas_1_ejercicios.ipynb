{
 "cells": [
  {
   "cell_type": "markdown",
   "id": "725a31ea",
   "metadata": {},
   "source": [
    "## Ejercicios - pandas 1"
   ]
  },
  {
   "cell_type": "code",
   "execution_count": 1,
   "id": "fec45fd2",
   "metadata": {},
   "outputs": [],
   "source": [
    "import pandas as pd\n",
    "import numpy as np"
   ]
  },
  {
   "cell_type": "code",
   "execution_count": 2,
   "id": "cd8a4664-fe33-4db5-b455-4eef2c5af6fc",
   "metadata": {
    "tags": []
   },
   "outputs": [
    {
     "name": "stdout",
     "output_type": "stream",
     "text": [
      "pandas==2.2.3\n",
      "numpy==2.2.1\n"
     ]
    }
   ],
   "source": [
    "# Versión\n",
    "print(f\"pandas=={pd.__version__}\")\n",
    "print(f\"numpy=={np.__version__}\")"
   ]
  },
  {
   "cell_type": "markdown",
   "id": "998e7753",
   "metadata": {},
   "source": [
    "### Ejercicio 1:\n",
    "- Lee el archivo **\"Canada.xlsx\"** y guardalo en la variable **df**"
   ]
  },
  {
   "cell_type": "code",
   "execution_count": 3,
   "id": "53211c2e",
   "metadata": {},
   "outputs": [
    {
     "name": "stdout",
     "output_type": "stream",
     "text": [
      "<class 'pandas.core.frame.DataFrame'>\n",
      "RangeIndex: 195 entries, 0 to 194\n",
      "Data columns (total 41 columns):\n",
      " #   Column            Non-Null Count  Dtype \n",
      "---  ------            --------------  ----- \n",
      " 0   Tipo              195 non-null    object\n",
      " 1   Pais              195 non-null    object\n",
      " 2   Area              195 non-null    int64 \n",
      " 3   Continente        195 non-null    object\n",
      " 4   Region            195 non-null    int64 \n",
      " 5   Nombre de region  195 non-null    object\n",
      " 6   Tipo de region    195 non-null    object\n",
      " 7   1980              195 non-null    int64 \n",
      " 8   1981              195 non-null    int64 \n",
      " 9   1982              195 non-null    int64 \n",
      " 10  1983              195 non-null    int64 \n",
      " 11  1984              195 non-null    int64 \n",
      " 12  1985              195 non-null    int64 \n",
      " 13  1986              195 non-null    int64 \n",
      " 14  1987              195 non-null    int64 \n",
      " 15  1988              195 non-null    int64 \n",
      " 16  1989              195 non-null    int64 \n",
      " 17  1990              195 non-null    int64 \n",
      " 18  1991              195 non-null    int64 \n",
      " 19  1992              195 non-null    int64 \n",
      " 20  1993              195 non-null    int64 \n",
      " 21  1994              195 non-null    int64 \n",
      " 22  1995              195 non-null    int64 \n",
      " 23  1996              195 non-null    int64 \n",
      " 24  1997              195 non-null    int64 \n",
      " 25  1998              195 non-null    int64 \n",
      " 26  1999              195 non-null    int64 \n",
      " 27  2000              195 non-null    int64 \n",
      " 28  2001              195 non-null    int64 \n",
      " 29  2002              195 non-null    int64 \n",
      " 30  2003              195 non-null    int64 \n",
      " 31  2004              195 non-null    int64 \n",
      " 32  2005              195 non-null    int64 \n",
      " 33  2006              195 non-null    int64 \n",
      " 34  2007              195 non-null    int64 \n",
      " 35  2008              195 non-null    int64 \n",
      " 36  2009              195 non-null    int64 \n",
      " 37  2010              195 non-null    int64 \n",
      " 38  2011              195 non-null    int64 \n",
      " 39  2012              195 non-null    int64 \n",
      " 40  2013              195 non-null    int64 \n",
      "dtypes: int64(36), object(5)\n",
      "memory usage: 62.6+ KB\n"
     ]
    }
   ],
   "source": [
    "df = pd.read_excel(\"../Data/Canada.xlsx\")\n",
    "df.info()"
   ]
  },
  {
   "cell_type": "code",
   "execution_count": null,
   "id": "b70b9f8d",
   "metadata": {},
   "outputs": [],
   "source": []
  },
  {
   "cell_type": "code",
   "execution_count": null,
   "id": "0898efa0",
   "metadata": {},
   "outputs": [],
   "source": []
  },
  {
   "cell_type": "markdown",
   "id": "22183796",
   "metadata": {},
   "source": [
    "### Ejercicio 2:\n",
    "- Mostrar el tamaño de DataFrame."
   ]
  },
  {
   "cell_type": "code",
   "execution_count": null,
   "id": "2db0252b",
   "metadata": {},
   "outputs": [],
   "source": []
  },
  {
   "cell_type": "code",
   "execution_count": null,
   "id": "42dbfe68",
   "metadata": {},
   "outputs": [],
   "source": []
  },
  {
   "cell_type": "code",
   "execution_count": null,
   "id": "81fdee15",
   "metadata": {},
   "outputs": [],
   "source": []
  },
  {
   "cell_type": "markdown",
   "id": "df0584c6",
   "metadata": {},
   "source": [
    "### Ejercicio 3:\n",
    "- Mostrar las primeras 3 filas."
   ]
  },
  {
   "cell_type": "code",
   "execution_count": null,
   "id": "94b2f4c4",
   "metadata": {},
   "outputs": [],
   "source": []
  },
  {
   "cell_type": "code",
   "execution_count": null,
   "id": "d6d61967",
   "metadata": {},
   "outputs": [],
   "source": []
  },
  {
   "cell_type": "code",
   "execution_count": null,
   "id": "93562c3f",
   "metadata": {},
   "outputs": [],
   "source": []
  },
  {
   "cell_type": "markdown",
   "id": "014adda6",
   "metadata": {},
   "source": [
    "### Ejercicio 4:\n",
    "- Mostrar las últimas 10 filas."
   ]
  },
  {
   "cell_type": "code",
   "execution_count": null,
   "id": "f1c89817",
   "metadata": {},
   "outputs": [],
   "source": []
  },
  {
   "cell_type": "code",
   "execution_count": null,
   "id": "8efddb4f",
   "metadata": {},
   "outputs": [],
   "source": []
  },
  {
   "cell_type": "code",
   "execution_count": null,
   "id": "74307044",
   "metadata": {},
   "outputs": [],
   "source": []
  },
  {
   "cell_type": "markdown",
   "id": "b904d434",
   "metadata": {},
   "source": [
    "### Ejercicio 5:\n",
    "- Mostrar las estadisticas del DataFrame."
   ]
  },
  {
   "cell_type": "code",
   "execution_count": null,
   "id": "0b24ce9b",
   "metadata": {},
   "outputs": [],
   "source": []
  },
  {
   "cell_type": "code",
   "execution_count": null,
   "id": "92a6bd56",
   "metadata": {},
   "outputs": [],
   "source": []
  },
  {
   "cell_type": "code",
   "execution_count": null,
   "id": "98bd2376",
   "metadata": {},
   "outputs": [],
   "source": []
  },
  {
   "cell_type": "markdown",
   "id": "6d92361f",
   "metadata": {},
   "source": [
    "### Ejercicio 6:\n",
    "- Mostrar la información del DataFrame."
   ]
  },
  {
   "cell_type": "code",
   "execution_count": null,
   "id": "316761a0",
   "metadata": {},
   "outputs": [],
   "source": []
  },
  {
   "cell_type": "code",
   "execution_count": null,
   "id": "8a67d56e",
   "metadata": {},
   "outputs": [],
   "source": []
  },
  {
   "cell_type": "code",
   "execution_count": null,
   "id": "705f487c",
   "metadata": {},
   "outputs": [],
   "source": []
  },
  {
   "cell_type": "markdown",
   "id": "07ffcabf",
   "metadata": {},
   "source": [
    "### Ejercicio 7:\n",
    "- Mostar las columnas del DataFrame en una lista."
   ]
  },
  {
   "cell_type": "code",
   "execution_count": null,
   "id": "db3f22d0",
   "metadata": {},
   "outputs": [],
   "source": []
  },
  {
   "cell_type": "code",
   "execution_count": null,
   "id": "c6f75b90",
   "metadata": {},
   "outputs": [],
   "source": []
  },
  {
   "cell_type": "code",
   "execution_count": null,
   "id": "2f0201e5",
   "metadata": {},
   "outputs": [],
   "source": []
  },
  {
   "cell_type": "markdown",
   "id": "ce8b768b",
   "metadata": {},
   "source": [
    "### Ejercicio 8:\n",
    "- Eliminar las columnas: _**Tipo**_, _**Area**_ y _**Region**_."
   ]
  },
  {
   "cell_type": "code",
   "execution_count": 10,
   "id": "ff5ae623",
   "metadata": {},
   "outputs": [],
   "source": []
  },
  {
   "cell_type": "code",
   "execution_count": null,
   "id": "797070a3",
   "metadata": {},
   "outputs": [],
   "source": []
  },
  {
   "cell_type": "code",
   "execution_count": null,
   "id": "99f73703",
   "metadata": {},
   "outputs": [],
   "source": []
  },
  {
   "cell_type": "markdown",
   "id": "b16f92b6",
   "metadata": {},
   "source": [
    "### Ejercicio 9:\n",
    "- Obtener los valores únicos de la columna _**Continente**_ en una lista."
   ]
  },
  {
   "cell_type": "code",
   "execution_count": null,
   "id": "186d61ef",
   "metadata": {},
   "outputs": [],
   "source": []
  },
  {
   "cell_type": "code",
   "execution_count": null,
   "id": "6672319e",
   "metadata": {},
   "outputs": [],
   "source": []
  },
  {
   "cell_type": "code",
   "execution_count": null,
   "id": "d9dcfc12",
   "metadata": {},
   "outputs": [],
   "source": []
  },
  {
   "cell_type": "markdown",
   "id": "9a727b01",
   "metadata": {},
   "source": [
    "### Ejercicio 10:\n",
    "- Obtener el valor minimo del año 2000."
   ]
  },
  {
   "cell_type": "code",
   "execution_count": null,
   "id": "bf6e133c",
   "metadata": {},
   "outputs": [],
   "source": []
  },
  {
   "cell_type": "code",
   "execution_count": null,
   "id": "29261da6",
   "metadata": {},
   "outputs": [],
   "source": []
  },
  {
   "cell_type": "code",
   "execution_count": null,
   "id": "5a8192f4",
   "metadata": {},
   "outputs": [],
   "source": []
  },
  {
   "cell_type": "markdown",
   "id": "f69b79a4",
   "metadata": {},
   "source": [
    "### Ejercicio 11:\n",
    "- Obtener los valores máximos de 1991-2000."
   ]
  },
  {
   "cell_type": "code",
   "execution_count": null,
   "id": "76a62126",
   "metadata": {},
   "outputs": [],
   "source": []
  },
  {
   "cell_type": "code",
   "execution_count": null,
   "id": "8418ad5a",
   "metadata": {},
   "outputs": [],
   "source": []
  },
  {
   "cell_type": "code",
   "execution_count": null,
   "id": "7249bdc0",
   "metadata": {},
   "outputs": [],
   "source": []
  },
  {
   "cell_type": "markdown",
   "id": "fa13aa92",
   "metadata": {},
   "source": [
    "### Ejercicio 12:\n",
    "- Obtener una lista con la media de migración de todos los años."
   ]
  },
  {
   "cell_type": "code",
   "execution_count": null,
   "id": "1b79ff80",
   "metadata": {},
   "outputs": [],
   "source": []
  },
  {
   "cell_type": "code",
   "execution_count": null,
   "id": "de588efd",
   "metadata": {},
   "outputs": [],
   "source": []
  },
  {
   "cell_type": "code",
   "execution_count": null,
   "id": "dd50593a",
   "metadata": {},
   "outputs": [],
   "source": []
  },
  {
   "cell_type": "markdown",
   "id": "0164287c",
   "metadata": {},
   "source": [
    "### Ejercicio 13:\n",
    "- Obtener el país con más migración en el año 2010."
   ]
  },
  {
   "cell_type": "code",
   "execution_count": null,
   "id": "2290d25f",
   "metadata": {},
   "outputs": [],
   "source": []
  },
  {
   "cell_type": "code",
   "execution_count": null,
   "id": "e5045095",
   "metadata": {},
   "outputs": [],
   "source": []
  },
  {
   "cell_type": "code",
   "execution_count": null,
   "id": "a5a11e9a",
   "metadata": {},
   "outputs": [],
   "source": []
  },
  {
   "cell_type": "markdown",
   "id": "fb9eaad8",
   "metadata": {},
   "source": [
    "### Ejercicio 14\n",
    "- Obtener el país con menor migración en el año 2005."
   ]
  },
  {
   "cell_type": "code",
   "execution_count": null,
   "id": "a89d4035",
   "metadata": {},
   "outputs": [],
   "source": []
  },
  {
   "cell_type": "code",
   "execution_count": null,
   "id": "9d0a68c1",
   "metadata": {},
   "outputs": [],
   "source": []
  },
  {
   "cell_type": "code",
   "execution_count": null,
   "id": "7accc134",
   "metadata": {},
   "outputs": [],
   "source": []
  },
  {
   "cell_type": "markdown",
   "id": "4c278ad5",
   "metadata": {},
   "source": [
    "### Ejercicio 15:\n",
    "- Encuentra el año en que más migración hubo de España a Canada."
   ]
  },
  {
   "cell_type": "code",
   "execution_count": null,
   "id": "e03798c0",
   "metadata": {},
   "outputs": [],
   "source": []
  },
  {
   "cell_type": "code",
   "execution_count": null,
   "id": "2abd75b5",
   "metadata": {},
   "outputs": [],
   "source": []
  },
  {
   "cell_type": "code",
   "execution_count": null,
   "id": "a02f4b50",
   "metadata": {},
   "outputs": [],
   "source": []
  },
  {
   "cell_type": "markdown",
   "id": "23cc5be8",
   "metadata": {},
   "source": [
    "### Ejercicio 16:\n",
    "- Encuentra el año en que menor migración hubo de España a Canada."
   ]
  },
  {
   "cell_type": "code",
   "execution_count": null,
   "id": "bd71d1ae",
   "metadata": {},
   "outputs": [],
   "source": []
  },
  {
   "cell_type": "code",
   "execution_count": null,
   "id": "120e2cd7",
   "metadata": {},
   "outputs": [],
   "source": []
  },
  {
   "cell_type": "code",
   "execution_count": null,
   "id": "062f7529",
   "metadata": {},
   "outputs": [],
   "source": []
  },
  {
   "cell_type": "markdown",
   "id": "8298f80b",
   "metadata": {},
   "source": [
    "### Ejercicio 17:\n",
    "- Ordena en una lista los años de migración en España de menor a mayor de acuerdo a la información de cada año."
   ]
  },
  {
   "cell_type": "code",
   "execution_count": null,
   "id": "abafb8ee",
   "metadata": {},
   "outputs": [],
   "source": []
  },
  {
   "cell_type": "code",
   "execution_count": null,
   "id": "b79e4846",
   "metadata": {},
   "outputs": [],
   "source": []
  },
  {
   "cell_type": "code",
   "execution_count": null,
   "id": "53b1a728",
   "metadata": {},
   "outputs": [],
   "source": []
  },
  {
   "cell_type": "markdown",
   "id": "4d895b14",
   "metadata": {},
   "source": [
    "### Ejercicio 18:\n",
    "- Crea una lista con todos los países."
   ]
  },
  {
   "cell_type": "code",
   "execution_count": null,
   "id": "16be4e85",
   "metadata": {},
   "outputs": [],
   "source": []
  },
  {
   "cell_type": "code",
   "execution_count": null,
   "id": "5ac6396a",
   "metadata": {},
   "outputs": [],
   "source": []
  },
  {
   "cell_type": "code",
   "execution_count": null,
   "id": "69a9a9d2",
   "metadata": {},
   "outputs": [],
   "source": []
  },
  {
   "cell_type": "markdown",
   "id": "ed58810b",
   "metadata": {},
   "source": [
    "### Ejercicio 19:\n",
    "- Encuentra el número de paises por continente y agrega los nombres a un diccionario.\n",
    "    - Ejemplo: **{\"Asía\" : 20, \"Africa\" : 10, \"Europa\" : 5}**"
   ]
  },
  {
   "cell_type": "code",
   "execution_count": null,
   "id": "b46d1fb2",
   "metadata": {},
   "outputs": [],
   "source": []
  },
  {
   "cell_type": "code",
   "execution_count": 22,
   "id": "dd70064a",
   "metadata": {},
   "outputs": [],
   "source": []
  },
  {
   "cell_type": "code",
   "execution_count": null,
   "id": "982d20b0",
   "metadata": {},
   "outputs": [],
   "source": []
  },
  {
   "cell_type": "markdown",
   "id": "c353ddef",
   "metadata": {},
   "source": [
    "### Ejercicio 20:\n",
    "- Crea un DataFrame a partir del diccionario anterior."
   ]
  },
  {
   "cell_type": "code",
   "execution_count": null,
   "id": "9d394ba0",
   "metadata": {},
   "outputs": [],
   "source": []
  },
  {
   "cell_type": "code",
   "execution_count": 24,
   "id": "4746538a",
   "metadata": {},
   "outputs": [],
   "source": []
  },
  {
   "cell_type": "code",
   "execution_count": null,
   "id": "65300975",
   "metadata": {},
   "outputs": [],
   "source": []
  },
  {
   "cell_type": "markdown",
   "id": "efb22aae",
   "metadata": {},
   "source": [
    "### Ejercicio 21:\n",
    "- Repite los últimos dos ejercicios tomando en cuenta que america latina y america del norte son un solo continente."
   ]
  },
  {
   "cell_type": "code",
   "execution_count": null,
   "id": "f81d26d0",
   "metadata": {},
   "outputs": [],
   "source": []
  },
  {
   "cell_type": "code",
   "execution_count": null,
   "id": "71994f5b",
   "metadata": {},
   "outputs": [],
   "source": []
  },
  {
   "cell_type": "code",
   "execution_count": null,
   "id": "ea854e82",
   "metadata": {},
   "outputs": [],
   "source": []
  },
  {
   "cell_type": "markdown",
   "id": "352092b8",
   "metadata": {},
   "source": [
    "### Ejercicio 22:\n",
    "- Crea un DataFrame por continente y en cada DataFrame apareceran los paises de dicho contiente.\n",
    "- Muestra las 3 primeras filas de cada DataFrame."
   ]
  },
  {
   "cell_type": "code",
   "execution_count": 28,
   "id": "e497217a",
   "metadata": {},
   "outputs": [],
   "source": []
  },
  {
   "cell_type": "code",
   "execution_count": null,
   "id": "2fc6a13c",
   "metadata": {},
   "outputs": [],
   "source": []
  },
  {
   "cell_type": "code",
   "execution_count": null,
   "id": "37401551",
   "metadata": {},
   "outputs": [],
   "source": []
  },
  {
   "cell_type": "code",
   "execution_count": null,
   "id": "771f284e",
   "metadata": {},
   "outputs": [],
   "source": []
  },
  {
   "cell_type": "code",
   "execution_count": null,
   "id": "88df4364",
   "metadata": {},
   "outputs": [],
   "source": []
  },
  {
   "cell_type": "code",
   "execution_count": null,
   "id": "26cc8acd",
   "metadata": {},
   "outputs": [],
   "source": []
  },
  {
   "cell_type": "code",
   "execution_count": null,
   "id": "6da4abfd",
   "metadata": {},
   "outputs": [],
   "source": []
  },
  {
   "cell_type": "code",
   "execution_count": null,
   "id": "d427dde8",
   "metadata": {},
   "outputs": [],
   "source": []
  },
  {
   "cell_type": "code",
   "execution_count": null,
   "id": "3d66cd78",
   "metadata": {},
   "outputs": [],
   "source": []
  },
  {
   "cell_type": "code",
   "execution_count": null,
   "id": "fe46f58a",
   "metadata": {},
   "outputs": [],
   "source": []
  },
  {
   "cell_type": "code",
   "execution_count": null,
   "id": "e6f45003",
   "metadata": {},
   "outputs": [],
   "source": []
  },
  {
   "cell_type": "markdown",
   "id": "a3eeb181",
   "metadata": {},
   "source": [
    "### Ejercicio 23:\n",
    "- Obtener los valores maximos de migración de cada año y crea un DataFrame con los años y el número de migración máximo de cada año.\n",
    "\n",
    "|     |Año |Numero de Migrantes|\n",
    "|-----|----|-------------------|\n",
    "|**0**|1980|22045              |\n",
    "|**1**|1981|24796              |\n",
    "|**2**|1982|20620              |\n",
    "|**3**|1983|10015              |\n",
    "|**4**|1984|10170              |"
   ]
  },
  {
   "cell_type": "code",
   "execution_count": null,
   "id": "5af864f2",
   "metadata": {},
   "outputs": [],
   "source": []
  },
  {
   "cell_type": "code",
   "execution_count": 37,
   "id": "e36ee9b2",
   "metadata": {},
   "outputs": [],
   "source": []
  },
  {
   "cell_type": "code",
   "execution_count": null,
   "id": "7d1d6125",
   "metadata": {
    "tags": []
   },
   "outputs": [],
   "source": []
  },
  {
   "cell_type": "markdown",
   "id": "8d762598",
   "metadata": {},
   "source": [
    "### Ejercicio 24:\n",
    "- Ordenar por número mayor de migración a menor el DataFrame anterior."
   ]
  },
  {
   "cell_type": "code",
   "execution_count": null,
   "id": "8ebae29e",
   "metadata": {},
   "outputs": [],
   "source": []
  },
  {
   "cell_type": "code",
   "execution_count": null,
   "id": "aa5dd93a",
   "metadata": {},
   "outputs": [],
   "source": []
  },
  {
   "cell_type": "code",
   "execution_count": null,
   "id": "5f4a6b96",
   "metadata": {},
   "outputs": [],
   "source": []
  },
  {
   "cell_type": "markdown",
   "id": "ebde50e8",
   "metadata": {},
   "source": [
    "### Ejercicio 25:\n",
    "- Obtener el promedio y la mediana de cada año de migración y agregar al dataframe anterior.\n",
    "\n",
    "\n",
    "|     |Año |Numero de Migrantes|promedio  |mediana|\n",
    "|-----|----|-------------------|----------|-------|\n",
    "|**0**|1980|22045              |508.394872|13.0   |\n",
    "|**1**|1981|24796              |566.989744|10.0   |\n",
    "|**2**|1982|20620              |534.723077|11.0   |\n",
    "|**3**|1983|10015              |387.435897|12.0   |\n",
    "|**4**|1984|10170              |376.497436|13.0   |"
   ]
  },
  {
   "cell_type": "code",
   "execution_count": 40,
   "id": "b9c7efee",
   "metadata": {},
   "outputs": [],
   "source": []
  },
  {
   "cell_type": "code",
   "execution_count": null,
   "id": "84d977ad",
   "metadata": {},
   "outputs": [],
   "source": []
  },
  {
   "cell_type": "code",
   "execution_count": null,
   "id": "0f5c3554",
   "metadata": {},
   "outputs": [],
   "source": []
  },
  {
   "cell_type": "markdown",
   "id": "331277c1",
   "metadata": {},
   "source": [
    "### Ejercicio 26:\n",
    "- Encontrar el año en que hubo más migración por continente y crear un dataframe con nombre de continente, el año de máxima migración y cantidad de migración.\n",
    "\n",
    "|     |Continente|Año |Migraciones|\n",
    "|-----|----------|----|-----------|\n",
    "|**0**|Asia      |2010|163845     |\n",
    "|**1**|Europe    |1990|68301      |\n",
    "|**2**|Africa    |2010|40892      |\n",
    "|**3**|Oceania   |1992|2871       |\n",
    "|**4**|America   |1992|44699      |"
   ]
  },
  {
   "cell_type": "code",
   "execution_count": null,
   "id": "f5408938",
   "metadata": {},
   "outputs": [],
   "source": []
  },
  {
   "cell_type": "code",
   "execution_count": 43,
   "id": "b2ed28a8",
   "metadata": {},
   "outputs": [],
   "source": []
  },
  {
   "cell_type": "code",
   "execution_count": 4,
   "id": "5cfd000f",
   "metadata": {},
   "outputs": [
    {
     "ename": "NameError",
     "evalue": "name 'df_26' is not defined",
     "output_type": "error",
     "traceback": [
      "\u001b[0;31m---------------------------------------------------------------------------\u001b[0m",
      "\u001b[0;31mNameError\u001b[0m                                 Traceback (most recent call last)",
      "Cell \u001b[0;32mIn[4], line 1\u001b[0m\n\u001b[0;32m----> 1\u001b[0m \u001b[43mdf_26\u001b[49m\n",
      "\u001b[0;31mNameError\u001b[0m: name 'df_26' is not defined"
     ]
    }
   ],
   "source": [
    "df_26"
   ]
  },
  {
   "cell_type": "markdown",
   "id": "5626edb6",
   "metadata": {},
   "source": [
    "### Ejercicio 27:\n",
    "- Encontrar los 10 paises con más migración entre el 2008 y 2010.\n",
    "\n",
    "|       |Pais                                             |2008 |2009 |2010|migracion_2010|\n",
    "|-------|-------------------------------------------------|-----|-----|-----|--------------|\n",
    "|**136**|Philippines                                      |24887|28573|38617|         92077|\n",
    "|**79** |India                                            |28261|29456|34235|         91952|\n",
    "|**36** |China                                            |30037|29622|30391|         90050|\n",
    "|**185**|United States of America                         |10190|8995 |8142 |         27327|\n",
    "|**183**|United Kingdom of Great Britain and Northern I...|8979 |8876 |8724 |         26579|\n",
    "|**130**|Pakistan                                         |8994 |7217 |6811 |         23022|\n",
    "|**81** |Iran (Islamic Republic of)                       |6475 |6580 |7477 |         20532|\n",
    "|**140**|Republic of Korea                                |7294 |5874 |5537 |         18705|\n",
    "|**116**|Morocco                                          |4226 |5532 |6242 |         16000|\n",
    "|**39** |Colombia                                         |5452 |4652 |5218 |         15322|"
   ]
  },
  {
   "cell_type": "code",
   "execution_count": 45,
   "id": "9564a261",
   "metadata": {},
   "outputs": [
    {
     "data": {
      "text/html": [
       "<div>\n",
       "<style scoped>\n",
       "    .dataframe tbody tr th:only-of-type {\n",
       "        vertical-align: middle;\n",
       "    }\n",
       "\n",
       "    .dataframe tbody tr th {\n",
       "        vertical-align: top;\n",
       "    }\n",
       "\n",
       "    .dataframe thead th {\n",
       "        text-align: right;\n",
       "    }\n",
       "</style>\n",
       "<table border=\"1\" class=\"dataframe\">\n",
       "  <thead>\n",
       "    <tr style=\"text-align: right;\">\n",
       "      <th></th>\n",
       "      <th>Pais</th>\n",
       "      <th>Continente</th>\n",
       "      <th>Nombre de region</th>\n",
       "      <th>Tipo de region</th>\n",
       "      <th>1980</th>\n",
       "      <th>1981</th>\n",
       "      <th>1982</th>\n",
       "      <th>1983</th>\n",
       "      <th>1984</th>\n",
       "      <th>1985</th>\n",
       "      <th>...</th>\n",
       "      <th>2005</th>\n",
       "      <th>2006</th>\n",
       "      <th>2007</th>\n",
       "      <th>2008</th>\n",
       "      <th>2009</th>\n",
       "      <th>2010</th>\n",
       "      <th>2011</th>\n",
       "      <th>2012</th>\n",
       "      <th>2013</th>\n",
       "      <th>migracion_2010</th>\n",
       "    </tr>\n",
       "  </thead>\n",
       "  <tbody>\n",
       "    <tr>\n",
       "      <th>0</th>\n",
       "      <td>Afghanistan</td>\n",
       "      <td>Asia</td>\n",
       "      <td>Southern Asia</td>\n",
       "      <td>Developing regions</td>\n",
       "      <td>16</td>\n",
       "      <td>39</td>\n",
       "      <td>39</td>\n",
       "      <td>47</td>\n",
       "      <td>71</td>\n",
       "      <td>340</td>\n",
       "      <td>...</td>\n",
       "      <td>3436</td>\n",
       "      <td>3009</td>\n",
       "      <td>2652</td>\n",
       "      <td>2111</td>\n",
       "      <td>1746</td>\n",
       "      <td>1758</td>\n",
       "      <td>2203</td>\n",
       "      <td>2635</td>\n",
       "      <td>2004</td>\n",
       "      <td>5615</td>\n",
       "    </tr>\n",
       "    <tr>\n",
       "      <th>1</th>\n",
       "      <td>Albania</td>\n",
       "      <td>Europe</td>\n",
       "      <td>Southern Europe</td>\n",
       "      <td>Developed regions</td>\n",
       "      <td>1</td>\n",
       "      <td>0</td>\n",
       "      <td>0</td>\n",
       "      <td>0</td>\n",
       "      <td>0</td>\n",
       "      <td>0</td>\n",
       "      <td>...</td>\n",
       "      <td>1223</td>\n",
       "      <td>856</td>\n",
       "      <td>702</td>\n",
       "      <td>560</td>\n",
       "      <td>716</td>\n",
       "      <td>561</td>\n",
       "      <td>539</td>\n",
       "      <td>620</td>\n",
       "      <td>603</td>\n",
       "      <td>1837</td>\n",
       "    </tr>\n",
       "    <tr>\n",
       "      <th>2</th>\n",
       "      <td>Algeria</td>\n",
       "      <td>Africa</td>\n",
       "      <td>Northern Africa</td>\n",
       "      <td>Developing regions</td>\n",
       "      <td>80</td>\n",
       "      <td>67</td>\n",
       "      <td>71</td>\n",
       "      <td>69</td>\n",
       "      <td>63</td>\n",
       "      <td>44</td>\n",
       "      <td>...</td>\n",
       "      <td>3626</td>\n",
       "      <td>4807</td>\n",
       "      <td>3623</td>\n",
       "      <td>4005</td>\n",
       "      <td>5393</td>\n",
       "      <td>4752</td>\n",
       "      <td>4325</td>\n",
       "      <td>3774</td>\n",
       "      <td>4331</td>\n",
       "      <td>14150</td>\n",
       "    </tr>\n",
       "  </tbody>\n",
       "</table>\n",
       "<p>3 rows × 39 columns</p>\n",
       "</div>"
      ],
      "text/plain": [
       "          Pais Continente Nombre de region      Tipo de region  1980  1981  \\\n",
       "0  Afghanistan       Asia    Southern Asia  Developing regions    16    39   \n",
       "1      Albania     Europe  Southern Europe   Developed regions     1     0   \n",
       "2      Algeria     Africa  Northern Africa  Developing regions    80    67   \n",
       "\n",
       "   1982  1983  1984  1985  ...  2005  2006  2007  2008  2009  2010  2011  \\\n",
       "0    39    47    71   340  ...  3436  3009  2652  2111  1746  1758  2203   \n",
       "1     0     0     0     0  ...  1223   856   702   560   716   561   539   \n",
       "2    71    69    63    44  ...  3626  4807  3623  4005  5393  4752  4325   \n",
       "\n",
       "   2012  2013  migracion_2010  \n",
       "0  2635  2004            5615  \n",
       "1   620   603            1837  \n",
       "2  3774  4331           14150  \n",
       "\n",
       "[3 rows x 39 columns]"
      ]
     },
     "execution_count": 45,
     "metadata": {},
     "output_type": "execute_result"
    }
   ],
   "source": []
  },
  {
   "cell_type": "code",
   "execution_count": 46,
   "id": "05ec9a6b",
   "metadata": {},
   "outputs": [
    {
     "data": {
      "text/html": [
       "<div>\n",
       "<style scoped>\n",
       "    .dataframe tbody tr th:only-of-type {\n",
       "        vertical-align: middle;\n",
       "    }\n",
       "\n",
       "    .dataframe tbody tr th {\n",
       "        vertical-align: top;\n",
       "    }\n",
       "\n",
       "    .dataframe thead th {\n",
       "        text-align: right;\n",
       "    }\n",
       "</style>\n",
       "<table border=\"1\" class=\"dataframe\">\n",
       "  <thead>\n",
       "    <tr style=\"text-align: right;\">\n",
       "      <th></th>\n",
       "      <th>Pais</th>\n",
       "      <th>2008</th>\n",
       "      <th>2009</th>\n",
       "      <th>2010</th>\n",
       "      <th>migracion_2010</th>\n",
       "    </tr>\n",
       "  </thead>\n",
       "  <tbody>\n",
       "    <tr>\n",
       "      <th>136</th>\n",
       "      <td>Philippines</td>\n",
       "      <td>24887</td>\n",
       "      <td>28573</td>\n",
       "      <td>38617</td>\n",
       "      <td>92077</td>\n",
       "    </tr>\n",
       "    <tr>\n",
       "      <th>79</th>\n",
       "      <td>India</td>\n",
       "      <td>28261</td>\n",
       "      <td>29456</td>\n",
       "      <td>34235</td>\n",
       "      <td>91952</td>\n",
       "    </tr>\n",
       "    <tr>\n",
       "      <th>36</th>\n",
       "      <td>China</td>\n",
       "      <td>30037</td>\n",
       "      <td>29622</td>\n",
       "      <td>30391</td>\n",
       "      <td>90050</td>\n",
       "    </tr>\n",
       "    <tr>\n",
       "      <th>185</th>\n",
       "      <td>United States of America</td>\n",
       "      <td>10190</td>\n",
       "      <td>8995</td>\n",
       "      <td>8142</td>\n",
       "      <td>27327</td>\n",
       "    </tr>\n",
       "    <tr>\n",
       "      <th>183</th>\n",
       "      <td>United Kingdom of Great Britain and Northern I...</td>\n",
       "      <td>8979</td>\n",
       "      <td>8876</td>\n",
       "      <td>8724</td>\n",
       "      <td>26579</td>\n",
       "    </tr>\n",
       "    <tr>\n",
       "      <th>130</th>\n",
       "      <td>Pakistan</td>\n",
       "      <td>8994</td>\n",
       "      <td>7217</td>\n",
       "      <td>6811</td>\n",
       "      <td>23022</td>\n",
       "    </tr>\n",
       "    <tr>\n",
       "      <th>81</th>\n",
       "      <td>Iran (Islamic Republic of)</td>\n",
       "      <td>6475</td>\n",
       "      <td>6580</td>\n",
       "      <td>7477</td>\n",
       "      <td>20532</td>\n",
       "    </tr>\n",
       "    <tr>\n",
       "      <th>140</th>\n",
       "      <td>Republic of Korea</td>\n",
       "      <td>7294</td>\n",
       "      <td>5874</td>\n",
       "      <td>5537</td>\n",
       "      <td>18705</td>\n",
       "    </tr>\n",
       "    <tr>\n",
       "      <th>116</th>\n",
       "      <td>Morocco</td>\n",
       "      <td>4226</td>\n",
       "      <td>5532</td>\n",
       "      <td>6242</td>\n",
       "      <td>16000</td>\n",
       "    </tr>\n",
       "    <tr>\n",
       "      <th>39</th>\n",
       "      <td>Colombia</td>\n",
       "      <td>5452</td>\n",
       "      <td>4652</td>\n",
       "      <td>5218</td>\n",
       "      <td>15322</td>\n",
       "    </tr>\n",
       "  </tbody>\n",
       "</table>\n",
       "</div>"
      ],
      "text/plain": [
       "                                                  Pais   2008   2009   2010  \\\n",
       "136                                        Philippines  24887  28573  38617   \n",
       "79                                               India  28261  29456  34235   \n",
       "36                                               China  30037  29622  30391   \n",
       "185                           United States of America  10190   8995   8142   \n",
       "183  United Kingdom of Great Britain and Northern I...   8979   8876   8724   \n",
       "130                                           Pakistan   8994   7217   6811   \n",
       "81                          Iran (Islamic Republic of)   6475   6580   7477   \n",
       "140                                  Republic of Korea   7294   5874   5537   \n",
       "116                                            Morocco   4226   5532   6242   \n",
       "39                                            Colombia   5452   4652   5218   \n",
       "\n",
       "     migracion_2010  \n",
       "136           92077  \n",
       "79            91952  \n",
       "36            90050  \n",
       "185           27327  \n",
       "183           26579  \n",
       "130           23022  \n",
       "81            20532  \n",
       "140           18705  \n",
       "116           16000  \n",
       "39            15322  "
      ]
     },
     "execution_count": 46,
     "metadata": {},
     "output_type": "execute_result"
    }
   ],
   "source": []
  },
  {
   "cell_type": "code",
   "execution_count": null,
   "id": "0d340ed7",
   "metadata": {},
   "outputs": [],
   "source": []
  },
  {
   "cell_type": "markdown",
   "id": "633e5bba",
   "metadata": {},
   "source": [
    "### Ejercicio 28:\n",
    "- Agregar una columna al **DataFrame inicial** con el número total de migración de 1980 al 2013 por pais."
   ]
  },
  {
   "cell_type": "code",
   "execution_count": 47,
   "id": "cdb5c708",
   "metadata": {},
   "outputs": [
    {
     "data": {
      "text/html": [
       "<div>\n",
       "<style scoped>\n",
       "    .dataframe tbody tr th:only-of-type {\n",
       "        vertical-align: middle;\n",
       "    }\n",
       "\n",
       "    .dataframe tbody tr th {\n",
       "        vertical-align: top;\n",
       "    }\n",
       "\n",
       "    .dataframe thead th {\n",
       "        text-align: right;\n",
       "    }\n",
       "</style>\n",
       "<table border=\"1\" class=\"dataframe\">\n",
       "  <thead>\n",
       "    <tr style=\"text-align: right;\">\n",
       "      <th></th>\n",
       "      <th>Pais</th>\n",
       "      <th>Continente</th>\n",
       "      <th>Nombre de region</th>\n",
       "      <th>Tipo de region</th>\n",
       "      <th>1980</th>\n",
       "      <th>1981</th>\n",
       "      <th>1982</th>\n",
       "      <th>1983</th>\n",
       "      <th>1984</th>\n",
       "      <th>1985</th>\n",
       "      <th>...</th>\n",
       "      <th>2006</th>\n",
       "      <th>2007</th>\n",
       "      <th>2008</th>\n",
       "      <th>2009</th>\n",
       "      <th>2010</th>\n",
       "      <th>2011</th>\n",
       "      <th>2012</th>\n",
       "      <th>2013</th>\n",
       "      <th>migracion_2010</th>\n",
       "      <th>Total Migracion</th>\n",
       "    </tr>\n",
       "  </thead>\n",
       "  <tbody>\n",
       "    <tr>\n",
       "      <th>0</th>\n",
       "      <td>Afghanistan</td>\n",
       "      <td>Asia</td>\n",
       "      <td>Southern Asia</td>\n",
       "      <td>Developing regions</td>\n",
       "      <td>16</td>\n",
       "      <td>39</td>\n",
       "      <td>39</td>\n",
       "      <td>47</td>\n",
       "      <td>71</td>\n",
       "      <td>340</td>\n",
       "      <td>...</td>\n",
       "      <td>3009</td>\n",
       "      <td>2652</td>\n",
       "      <td>2111</td>\n",
       "      <td>1746</td>\n",
       "      <td>1758</td>\n",
       "      <td>2203</td>\n",
       "      <td>2635</td>\n",
       "      <td>2004</td>\n",
       "      <td>5615</td>\n",
       "      <td>12457</td>\n",
       "    </tr>\n",
       "    <tr>\n",
       "      <th>1</th>\n",
       "      <td>Albania</td>\n",
       "      <td>Europe</td>\n",
       "      <td>Southern Europe</td>\n",
       "      <td>Developed regions</td>\n",
       "      <td>1</td>\n",
       "      <td>0</td>\n",
       "      <td>0</td>\n",
       "      <td>0</td>\n",
       "      <td>0</td>\n",
       "      <td>0</td>\n",
       "      <td>...</td>\n",
       "      <td>856</td>\n",
       "      <td>702</td>\n",
       "      <td>560</td>\n",
       "      <td>716</td>\n",
       "      <td>561</td>\n",
       "      <td>539</td>\n",
       "      <td>620</td>\n",
       "      <td>603</td>\n",
       "      <td>1837</td>\n",
       "      <td>3599</td>\n",
       "    </tr>\n",
       "    <tr>\n",
       "      <th>2</th>\n",
       "      <td>Algeria</td>\n",
       "      <td>Africa</td>\n",
       "      <td>Northern Africa</td>\n",
       "      <td>Developing regions</td>\n",
       "      <td>80</td>\n",
       "      <td>67</td>\n",
       "      <td>71</td>\n",
       "      <td>69</td>\n",
       "      <td>63</td>\n",
       "      <td>44</td>\n",
       "      <td>...</td>\n",
       "      <td>4807</td>\n",
       "      <td>3623</td>\n",
       "      <td>4005</td>\n",
       "      <td>5393</td>\n",
       "      <td>4752</td>\n",
       "      <td>4325</td>\n",
       "      <td>3774</td>\n",
       "      <td>4331</td>\n",
       "      <td>14150</td>\n",
       "      <td>26580</td>\n",
       "    </tr>\n",
       "    <tr>\n",
       "      <th>3</th>\n",
       "      <td>American Samoa</td>\n",
       "      <td>Oceania</td>\n",
       "      <td>Polynesia</td>\n",
       "      <td>Developing regions</td>\n",
       "      <td>0</td>\n",
       "      <td>1</td>\n",
       "      <td>0</td>\n",
       "      <td>0</td>\n",
       "      <td>0</td>\n",
       "      <td>0</td>\n",
       "      <td>...</td>\n",
       "      <td>1</td>\n",
       "      <td>0</td>\n",
       "      <td>0</td>\n",
       "      <td>0</td>\n",
       "      <td>0</td>\n",
       "      <td>0</td>\n",
       "      <td>0</td>\n",
       "      <td>0</td>\n",
       "      <td>0</td>\n",
       "      <td>0</td>\n",
       "    </tr>\n",
       "    <tr>\n",
       "      <th>4</th>\n",
       "      <td>Andorra</td>\n",
       "      <td>Europe</td>\n",
       "      <td>Southern Europe</td>\n",
       "      <td>Developed regions</td>\n",
       "      <td>0</td>\n",
       "      <td>0</td>\n",
       "      <td>0</td>\n",
       "      <td>0</td>\n",
       "      <td>0</td>\n",
       "      <td>0</td>\n",
       "      <td>...</td>\n",
       "      <td>1</td>\n",
       "      <td>1</td>\n",
       "      <td>0</td>\n",
       "      <td>0</td>\n",
       "      <td>0</td>\n",
       "      <td>0</td>\n",
       "      <td>1</td>\n",
       "      <td>1</td>\n",
       "      <td>0</td>\n",
       "      <td>2</td>\n",
       "    </tr>\n",
       "  </tbody>\n",
       "</table>\n",
       "<p>5 rows × 40 columns</p>\n",
       "</div>"
      ],
      "text/plain": [
       "             Pais Continente Nombre de region      Tipo de region  1980  1981  \\\n",
       "0     Afghanistan       Asia    Southern Asia  Developing regions    16    39   \n",
       "1         Albania     Europe  Southern Europe   Developed regions     1     0   \n",
       "2         Algeria     Africa  Northern Africa  Developing regions    80    67   \n",
       "3  American Samoa    Oceania        Polynesia  Developing regions     0     1   \n",
       "4         Andorra     Europe  Southern Europe   Developed regions     0     0   \n",
       "\n",
       "   1982  1983  1984  1985  ...  2006  2007  2008  2009  2010  2011  2012  \\\n",
       "0    39    47    71   340  ...  3009  2652  2111  1746  1758  2203  2635   \n",
       "1     0     0     0     0  ...   856   702   560   716   561   539   620   \n",
       "2    71    69    63    44  ...  4807  3623  4005  5393  4752  4325  3774   \n",
       "3     0     0     0     0  ...     1     0     0     0     0     0     0   \n",
       "4     0     0     0     0  ...     1     1     0     0     0     0     1   \n",
       "\n",
       "   2013  migracion_2010  Total Migracion  \n",
       "0  2004            5615            12457  \n",
       "1   603            1837             3599  \n",
       "2  4331           14150            26580  \n",
       "3     0               0                0  \n",
       "4     1               0                2  \n",
       "\n",
       "[5 rows x 40 columns]"
      ]
     },
     "execution_count": 47,
     "metadata": {},
     "output_type": "execute_result"
    }
   ],
   "source": []
  },
  {
   "cell_type": "code",
   "execution_count": null,
   "id": "1a4fe325",
   "metadata": {},
   "outputs": [],
   "source": []
  },
  {
   "cell_type": "code",
   "execution_count": null,
   "id": "2dc02780",
   "metadata": {},
   "outputs": [],
   "source": []
  },
  {
   "cell_type": "markdown",
   "id": "a90225d5",
   "metadata": {},
   "source": [
    "### Ejercicio 29:\n",
    "- Encuentra el país de cada continente con más migración y crea un DataFrame con estos paises."
   ]
  },
  {
   "cell_type": "code",
   "execution_count": 48,
   "id": "6f754af4",
   "metadata": {},
   "outputs": [
    {
     "data": {
      "text/html": [
       "<div>\n",
       "<style scoped>\n",
       "    .dataframe tbody tr th:only-of-type {\n",
       "        vertical-align: middle;\n",
       "    }\n",
       "\n",
       "    .dataframe tbody tr th {\n",
       "        vertical-align: top;\n",
       "    }\n",
       "\n",
       "    .dataframe thead th {\n",
       "        text-align: right;\n",
       "    }\n",
       "</style>\n",
       "<table border=\"1\" class=\"dataframe\">\n",
       "  <thead>\n",
       "    <tr style=\"text-align: right;\">\n",
       "      <th></th>\n",
       "      <th>Pais</th>\n",
       "      <th>Continente</th>\n",
       "      <th>Nombre de region</th>\n",
       "      <th>Tipo de region</th>\n",
       "      <th>1980</th>\n",
       "      <th>1981</th>\n",
       "      <th>1982</th>\n",
       "      <th>1983</th>\n",
       "      <th>1984</th>\n",
       "      <th>1985</th>\n",
       "      <th>...</th>\n",
       "      <th>2006</th>\n",
       "      <th>2007</th>\n",
       "      <th>2008</th>\n",
       "      <th>2009</th>\n",
       "      <th>2010</th>\n",
       "      <th>2011</th>\n",
       "      <th>2012</th>\n",
       "      <th>2013</th>\n",
       "      <th>migracion_2010</th>\n",
       "      <th>Total Migracion</th>\n",
       "    </tr>\n",
       "  </thead>\n",
       "  <tbody>\n",
       "    <tr>\n",
       "      <th>136</th>\n",
       "      <td>Philippines</td>\n",
       "      <td>Asia</td>\n",
       "      <td>South-Eastern Asia</td>\n",
       "      <td>Developing regions</td>\n",
       "      <td>6051</td>\n",
       "      <td>5921</td>\n",
       "      <td>5249</td>\n",
       "      <td>4562</td>\n",
       "      <td>3801</td>\n",
       "      <td>3150</td>\n",
       "      <td>...</td>\n",
       "      <td>18400</td>\n",
       "      <td>19837</td>\n",
       "      <td>24887</td>\n",
       "      <td>28573</td>\n",
       "      <td>38617</td>\n",
       "      <td>36765</td>\n",
       "      <td>34315</td>\n",
       "      <td>29544</td>\n",
       "      <td>92077</td>\n",
       "      <td>192701</td>\n",
       "    </tr>\n",
       "    <tr>\n",
       "      <th>183</th>\n",
       "      <td>United Kingdom of Great Britain and Northern I...</td>\n",
       "      <td>Europe</td>\n",
       "      <td>Northern Europe</td>\n",
       "      <td>Developed regions</td>\n",
       "      <td>22045</td>\n",
       "      <td>24796</td>\n",
       "      <td>20620</td>\n",
       "      <td>10015</td>\n",
       "      <td>10170</td>\n",
       "      <td>9564</td>\n",
       "      <td>...</td>\n",
       "      <td>7140</td>\n",
       "      <td>8216</td>\n",
       "      <td>8979</td>\n",
       "      <td>8876</td>\n",
       "      <td>8724</td>\n",
       "      <td>6204</td>\n",
       "      <td>6195</td>\n",
       "      <td>5827</td>\n",
       "      <td>26579</td>\n",
       "      <td>44805</td>\n",
       "    </tr>\n",
       "    <tr>\n",
       "      <th>116</th>\n",
       "      <td>Morocco</td>\n",
       "      <td>Africa</td>\n",
       "      <td>Northern Africa</td>\n",
       "      <td>Developing regions</td>\n",
       "      <td>325</td>\n",
       "      <td>471</td>\n",
       "      <td>447</td>\n",
       "      <td>335</td>\n",
       "      <td>248</td>\n",
       "      <td>328</td>\n",
       "      <td>...</td>\n",
       "      <td>3322</td>\n",
       "      <td>4021</td>\n",
       "      <td>4226</td>\n",
       "      <td>5532</td>\n",
       "      <td>6242</td>\n",
       "      <td>4399</td>\n",
       "      <td>3878</td>\n",
       "      <td>3261</td>\n",
       "      <td>16000</td>\n",
       "      <td>27538</td>\n",
       "    </tr>\n",
       "    <tr>\n",
       "      <th>9</th>\n",
       "      <td>Australia</td>\n",
       "      <td>Oceania</td>\n",
       "      <td>Australia and New Zealand</td>\n",
       "      <td>Developed regions</td>\n",
       "      <td>702</td>\n",
       "      <td>639</td>\n",
       "      <td>484</td>\n",
       "      <td>317</td>\n",
       "      <td>317</td>\n",
       "      <td>319</td>\n",
       "      <td>...</td>\n",
       "      <td>875</td>\n",
       "      <td>1033</td>\n",
       "      <td>1018</td>\n",
       "      <td>1018</td>\n",
       "      <td>933</td>\n",
       "      <td>851</td>\n",
       "      <td>982</td>\n",
       "      <td>1121</td>\n",
       "      <td>2969</td>\n",
       "      <td>5923</td>\n",
       "    </tr>\n",
       "    <tr>\n",
       "      <th>185</th>\n",
       "      <td>United States of America</td>\n",
       "      <td>America</td>\n",
       "      <td>Northern America</td>\n",
       "      <td>Developed regions</td>\n",
       "      <td>9378</td>\n",
       "      <td>10030</td>\n",
       "      <td>9074</td>\n",
       "      <td>7100</td>\n",
       "      <td>6661</td>\n",
       "      <td>6543</td>\n",
       "      <td>...</td>\n",
       "      <td>9613</td>\n",
       "      <td>9463</td>\n",
       "      <td>10190</td>\n",
       "      <td>8995</td>\n",
       "      <td>8142</td>\n",
       "      <td>7676</td>\n",
       "      <td>7891</td>\n",
       "      <td>8501</td>\n",
       "      <td>27327</td>\n",
       "      <td>51395</td>\n",
       "    </tr>\n",
       "  </tbody>\n",
       "</table>\n",
       "<p>5 rows × 40 columns</p>\n",
       "</div>"
      ],
      "text/plain": [
       "                                                  Pais Continente  \\\n",
       "136                                        Philippines       Asia   \n",
       "183  United Kingdom of Great Britain and Northern I...     Europe   \n",
       "116                                            Morocco     Africa   \n",
       "9                                            Australia    Oceania   \n",
       "185                           United States of America    America   \n",
       "\n",
       "              Nombre de region      Tipo de region   1980   1981   1982  \\\n",
       "136         South-Eastern Asia  Developing regions   6051   5921   5249   \n",
       "183            Northern Europe   Developed regions  22045  24796  20620   \n",
       "116            Northern Africa  Developing regions    325    471    447   \n",
       "9    Australia and New Zealand   Developed regions    702    639    484   \n",
       "185           Northern America   Developed regions   9378  10030   9074   \n",
       "\n",
       "      1983   1984  1985  ...   2006   2007   2008   2009   2010   2011   2012  \\\n",
       "136   4562   3801  3150  ...  18400  19837  24887  28573  38617  36765  34315   \n",
       "183  10015  10170  9564  ...   7140   8216   8979   8876   8724   6204   6195   \n",
       "116    335    248   328  ...   3322   4021   4226   5532   6242   4399   3878   \n",
       "9      317    317   319  ...    875   1033   1018   1018    933    851    982   \n",
       "185   7100   6661  6543  ...   9613   9463  10190   8995   8142   7676   7891   \n",
       "\n",
       "      2013  migracion_2010  Total Migracion  \n",
       "136  29544           92077           192701  \n",
       "183   5827           26579            44805  \n",
       "116   3261           16000            27538  \n",
       "9     1121            2969             5923  \n",
       "185   8501           27327            51395  \n",
       "\n",
       "[5 rows x 40 columns]"
      ]
     },
     "execution_count": 48,
     "metadata": {},
     "output_type": "execute_result"
    }
   ],
   "source": []
  },
  {
   "cell_type": "code",
   "execution_count": null,
   "id": "c6d32539",
   "metadata": {},
   "outputs": [],
   "source": []
  },
  {
   "cell_type": "code",
   "execution_count": null,
   "id": "34754a0c",
   "metadata": {},
   "outputs": [],
   "source": []
  },
  {
   "cell_type": "markdown",
   "id": "bdc2ca60",
   "metadata": {},
   "source": [
    "### Ejercicio 30:\n",
    "- Encontrar los 3 paises con más migración de cada continente y agregarlos en un DataFrame.\n",
    "\n",
    "|       |Continente|Pais                                             |Total Migracion|\n",
    "|-------|----------|-------------------------------------------------|---------------|\n",
    "|**79**\t|Asia\t   |India                                            |691904         |\n",
    "|**36**\t|Asia\t   |China                                            |659962         |\n",
    "|**136**|Asia\t   |Philippines                                      |511391         |\n",
    "|**183**|Europa\t   |United Kingdom of Great Britain and Northern I...|551500         |\n",
    "|**137**|Europa\t   |Poland                                           |139241         |\n",
    "|**63**\t|Europa\t   |France                                           |109091         |\n",
    "|**55**\t|Africa\t   |Egypt                                            |72745          |\n",
    "|**116**|Africa\t   |Morocco                                          |72267          |\n",
    "|**2**\t|Africa\t   |Algeria                                          |69439          |\n",
    "|**9**\t|Oceania   |Australia                                        |23829          |\n",
    "|**61**\t|Oceania   |Fiji                                             |20609          |\n",
    "|**124**|Oceania   |New Zealand                                      |10386          |\n",
    "|**185**|America   |United States of America                         |241122         |\n",
    "|**86**\t|America   |Jamaica                                          |106431         |\n",
    "|**75**\t|America   |Haiti                                            |84813          |"
   ]
  },
  {
   "cell_type": "code",
   "execution_count": 49,
   "id": "f0e48d98",
   "metadata": {},
   "outputs": [
    {
     "data": {
      "text/html": [
       "<div>\n",
       "<style scoped>\n",
       "    .dataframe tbody tr th:only-of-type {\n",
       "        vertical-align: middle;\n",
       "    }\n",
       "\n",
       "    .dataframe tbody tr th {\n",
       "        vertical-align: top;\n",
       "    }\n",
       "\n",
       "    .dataframe thead th {\n",
       "        text-align: right;\n",
       "    }\n",
       "</style>\n",
       "<table border=\"1\" class=\"dataframe\">\n",
       "  <thead>\n",
       "    <tr style=\"text-align: right;\">\n",
       "      <th></th>\n",
       "      <th>Pais</th>\n",
       "      <th>Total Migracion</th>\n",
       "    </tr>\n",
       "  </thead>\n",
       "  <tbody>\n",
       "    <tr>\n",
       "      <th>136</th>\n",
       "      <td>Philippines</td>\n",
       "      <td>192701</td>\n",
       "    </tr>\n",
       "    <tr>\n",
       "      <th>36</th>\n",
       "      <td>China</td>\n",
       "      <td>185705</td>\n",
       "    </tr>\n",
       "    <tr>\n",
       "      <th>79</th>\n",
       "      <td>India</td>\n",
       "      <td>183481</td>\n",
       "    </tr>\n",
       "    <tr>\n",
       "      <th>183</th>\n",
       "      <td>United Kingdom of Great Britain and Northern I...</td>\n",
       "      <td>44805</td>\n",
       "    </tr>\n",
       "    <tr>\n",
       "      <th>63</th>\n",
       "      <td>France</td>\n",
       "      <td>30212</td>\n",
       "    </tr>\n",
       "    <tr>\n",
       "      <th>67</th>\n",
       "      <td>Germany</td>\n",
       "      <td>15648</td>\n",
       "    </tr>\n",
       "    <tr>\n",
       "      <th>116</th>\n",
       "      <td>Morocco</td>\n",
       "      <td>27538</td>\n",
       "    </tr>\n",
       "    <tr>\n",
       "      <th>55</th>\n",
       "      <td>Egypt</td>\n",
       "      <td>27208</td>\n",
       "    </tr>\n",
       "    <tr>\n",
       "      <th>2</th>\n",
       "      <td>Algeria</td>\n",
       "      <td>26580</td>\n",
       "    </tr>\n",
       "    <tr>\n",
       "      <th>9</th>\n",
       "      <td>Australia</td>\n",
       "      <td>5923</td>\n",
       "    </tr>\n",
       "    <tr>\n",
       "      <th>124</th>\n",
       "      <td>New Zealand</td>\n",
       "      <td>2697</td>\n",
       "    </tr>\n",
       "    <tr>\n",
       "      <th>61</th>\n",
       "      <td>Fiji</td>\n",
       "      <td>1844</td>\n",
       "    </tr>\n",
       "    <tr>\n",
       "      <th>185</th>\n",
       "      <td>United States of America</td>\n",
       "      <td>51395</td>\n",
       "    </tr>\n",
       "    <tr>\n",
       "      <th>39</th>\n",
       "      <td>Colombia</td>\n",
       "      <td>27060</td>\n",
       "    </tr>\n",
       "    <tr>\n",
       "      <th>75</th>\n",
       "      <td>Haiti</td>\n",
       "      <td>25838</td>\n",
       "    </tr>\n",
       "  </tbody>\n",
       "</table>\n",
       "</div>"
      ],
      "text/plain": [
       "                                                  Pais  Total Migracion\n",
       "136                                        Philippines           192701\n",
       "36                                               China           185705\n",
       "79                                               India           183481\n",
       "183  United Kingdom of Great Britain and Northern I...            44805\n",
       "63                                              France            30212\n",
       "67                                             Germany            15648\n",
       "116                                            Morocco            27538\n",
       "55                                               Egypt            27208\n",
       "2                                              Algeria            26580\n",
       "9                                            Australia             5923\n",
       "124                                        New Zealand             2697\n",
       "61                                                Fiji             1844\n",
       "185                           United States of America            51395\n",
       "39                                            Colombia            27060\n",
       "75                                               Haiti            25838"
      ]
     },
     "execution_count": 49,
     "metadata": {},
     "output_type": "execute_result"
    }
   ],
   "source": []
  },
  {
   "cell_type": "code",
   "execution_count": null,
   "id": "21663cab",
   "metadata": {},
   "outputs": [],
   "source": []
  },
  {
   "cell_type": "code",
   "execution_count": null,
   "id": "e8610e22",
   "metadata": {},
   "outputs": [],
   "source": []
  },
  {
   "cell_type": "markdown",
   "id": "4d6cf5ab",
   "metadata": {},
   "source": [
    "### Ejercicio 31:\n",
    "- Cambiar los nombres de cada continente a español."
   ]
  },
  {
   "cell_type": "code",
   "execution_count": 50,
   "id": "2e9b6b20",
   "metadata": {},
   "outputs": [
    {
     "data": {
      "text/plain": [
       "array(['Asia', 'Europa', 'Africa', 'Oceania', 'America'], dtype=object)"
      ]
     },
     "execution_count": 50,
     "metadata": {},
     "output_type": "execute_result"
    }
   ],
   "source": []
  },
  {
   "cell_type": "code",
   "execution_count": null,
   "id": "2b22cd50",
   "metadata": {},
   "outputs": [],
   "source": []
  },
  {
   "cell_type": "code",
   "execution_count": null,
   "id": "36f3b7c5",
   "metadata": {},
   "outputs": [],
   "source": []
  },
  {
   "cell_type": "markdown",
   "id": "4c8b9454",
   "metadata": {},
   "source": [
    "#### Extra: Obtener un Dataframe que te parezca relevante a partir de la aplicación de filtros. ¡Se creativo!"
   ]
  },
  {
   "cell_type": "code",
   "execution_count": null,
   "id": "d402393a",
   "metadata": {},
   "outputs": [],
   "source": []
  },
  {
   "cell_type": "code",
   "execution_count": null,
   "id": "e274d687",
   "metadata": {},
   "outputs": [],
   "source": []
  },
  {
   "cell_type": "code",
   "execution_count": null,
   "id": "7cbd4de9",
   "metadata": {},
   "outputs": [],
   "source": []
  },
  {
   "cell_type": "code",
   "execution_count": null,
   "id": "307fc560-5f3a-4d62-888a-592a070da4d9",
   "metadata": {},
   "outputs": [],
   "source": [
    "################################################################################################################################"
   ]
  }
 ],
 "metadata": {
  "kernelspec": {
   "display_name": "Python 3",
   "language": "python",
   "name": "python3"
  },
  "language_info": {
   "codemirror_mode": {
    "name": "ipython",
    "version": 3
   },
   "file_extension": ".py",
   "mimetype": "text/x-python",
   "name": "python",
   "nbconvert_exporter": "python",
   "pygments_lexer": "ipython3",
   "version": "3.13.0"
  }
 },
 "nbformat": 4,
 "nbformat_minor": 5
}
