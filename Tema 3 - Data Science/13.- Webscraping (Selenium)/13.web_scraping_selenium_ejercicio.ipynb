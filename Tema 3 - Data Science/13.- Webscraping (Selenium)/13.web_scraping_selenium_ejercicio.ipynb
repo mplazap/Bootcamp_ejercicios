{
 "cells": [
  {
   "cell_type": "markdown",
   "id": "45acbd53",
   "metadata": {},
   "source": [
    "## Selenium\n",
    "\n",
    "**`Selenium WebDriver`** es una herramienta para recopilar datos de los sitios web y simular las interacciones del usuario.\n",
    "\n",
    "```python\n",
    "pip install selenium\n",
    "```\n",
    "\n",
    "*__Documentación__: https://selenium-python.readthedocs.io/index.html*\n",
    "\n",
    "Para utilizar **`selenium`** debemos tener el archivo **`chromedriver.exe`** si estamos usando Chrome. Este se puede descargar desde la documentación, hay que descargar el **`chromedriver.exe`** que sea compatible con la versión de nuestro navegador."
   ]
  },
  {
   "cell_type": "code",
   "execution_count": 1,
   "id": "673ef577",
   "metadata": {},
   "outputs": [],
   "source": [
    "import requests \n",
    "\n",
    "import bs4 # Para ver la versión\n",
    "from bs4 import BeautifulSoup\n",
    "\n",
    "import selenium # Para ver la versión\n",
    "from selenium import webdriver\n",
    "from selenium.webdriver.common.by import By\n",
    "\n",
    "from time import sleep"
   ]
  },
  {
   "cell_type": "code",
   "execution_count": 2,
   "id": "8adacb48",
   "metadata": {},
   "outputs": [
    {
     "name": "stdout",
     "output_type": "stream",
     "text": [
      "requests==2.32.3\n",
      "bs4==4.12.3\n",
      "selenium==4.27.1\n"
     ]
    }
   ],
   "source": [
    "# Versiones\n",
    "\n",
    "print(f\"requests=={requests.__version__}\")\n",
    "print(f\"bs4=={bs4.__version__}\")\n",
    "print(f\"selenium=={selenium.__version__}\")"
   ]
  },
  {
   "cell_type": "code",
   "execution_count": 4,
   "id": "d7537cb8",
   "metadata": {},
   "outputs": [],
   "source": [
    "# Ejecutar webdriver.Chrome abrirá una ventana nueva en el navegador \n",
    "# A traves de esta ventana podremos seguir usando selenium\n",
    "\n",
    "browser = webdriver.Chrome()\n",
    "\n",
    "browser.get(\"https://google.com\")\n",
    "\n",
    "browser.maximize_window()"
   ]
  },
  {
   "cell_type": "markdown",
   "id": "dc998db4",
   "metadata": {},
   "source": [
    "## Ejercicio Web Scraping bs4/Selenium\n",
    "\n",
    "_**url** = https://www.20minutos.es/_\n",
    "\n",
    "Vamos a hacer Web Scraping de las primeras 3 páginas de una de las siguientes categorias de noticias: **Ciencia**, **Deporte**, **Gente**, **Economía**, **Grastronomía** y **Opinión**.\n",
    "\n",
    "Y de cada noticia/articulo vamos a obtener:\n",
    "\n",
    "- **Titulo**\n",
    "- **Hora**\n",
    "- **Fecha**\n",
    "- **Autor**\n",
    "- **Texto completo**\n",
    "- **Categoria de la noticia**\n",
    "\n",
    "Genera un DataFrame con esta información y guardalo en el archivo **`20minutos_1.csv`**."
   ]
  },
  {
   "cell_type": "code",
   "execution_count": null,
   "id": "ec0d81b7",
   "metadata": {},
   "outputs": [],
   "source": []
  },
  {
   "cell_type": "code",
   "execution_count": null,
   "id": "7678e6c3",
   "metadata": {},
   "outputs": [],
   "source": []
  },
  {
   "cell_type": "markdown",
   "id": "b90547ae",
   "metadata": {},
   "source": [
    "- **Escribe el código para sacar la información de las primeras 5 páginas de las 6 categorias anteriores. Guarda esta información en el archivo `20minutos_2.csv`**"
   ]
  },
  {
   "cell_type": "code",
   "execution_count": null,
   "id": "a5a7b514",
   "metadata": {},
   "outputs": [],
   "source": []
  },
  {
   "cell_type": "code",
   "execution_count": null,
   "id": "cf4c7713",
   "metadata": {},
   "outputs": [],
   "source": []
  },
  {
   "cell_type": "code",
   "execution_count": null,
   "id": "94b802c7",
   "metadata": {},
   "outputs": [],
   "source": []
  },
  {
   "cell_type": "code",
   "execution_count": null,
   "id": "7358a572",
   "metadata": {},
   "outputs": [],
   "source": []
  },
  {
   "cell_type": "code",
   "execution_count": null,
   "id": "8c66ea4e",
   "metadata": {},
   "outputs": [],
   "source": []
  },
  {
   "cell_type": "code",
   "execution_count": null,
   "id": "2edc3495",
   "metadata": {},
   "outputs": [],
   "source": []
  },
  {
   "cell_type": "code",
   "execution_count": null,
   "id": "8d27d08b",
   "metadata": {},
   "outputs": [],
   "source": []
  }
 ],
 "metadata": {
  "kernelspec": {
   "display_name": "Python 3",
   "language": "python",
   "name": "python3"
  },
  "language_info": {
   "codemirror_mode": {
    "name": "ipython",
    "version": 3
   },
   "file_extension": ".py",
   "mimetype": "text/x-python",
   "name": "python",
   "nbconvert_exporter": "python",
   "pygments_lexer": "ipython3",
   "version": "3.13.0"
  }
 },
 "nbformat": 4,
 "nbformat_minor": 5
}
