{
 "cells": [
  {
   "cell_type": "markdown",
   "id": "94338a65",
   "metadata": {},
   "source": [
    "## Ejercicios - NumPy 1"
   ]
  },
  {
   "cell_type": "code",
   "execution_count": 1,
   "id": "c5e694ac",
   "metadata": {},
   "outputs": [],
   "source": [
    "import numpy as np"
   ]
  },
  {
   "cell_type": "code",
   "execution_count": 2,
   "id": "230265d0-4569-4582-84ca-845fcb91aed6",
   "metadata": {
    "tags": []
   },
   "outputs": [
    {
     "name": "stdout",
     "output_type": "stream",
     "text": [
      "numpy==1.26.4\n"
     ]
    }
   ],
   "source": [
    "# Versión\n",
    "print(f\"numpy=={np.__version__}\")"
   ]
  },
  {
   "cell_type": "markdown",
   "id": "fa919e9a",
   "metadata": {},
   "source": [
    "### Ejercicio 1:\n",
    "- Crea un vector con 10 elementos pares."
   ]
  },
  {
   "cell_type": "code",
   "execution_count": null,
   "id": "12914c1b",
   "metadata": {},
   "outputs": [],
   "source": []
  },
  {
   "cell_type": "code",
   "execution_count": null,
   "id": "dec735d3",
   "metadata": {},
   "outputs": [],
   "source": []
  },
  {
   "cell_type": "code",
   "execution_count": null,
   "id": "e37dc4bb",
   "metadata": {},
   "outputs": [],
   "source": []
  },
  {
   "cell_type": "markdown",
   "id": "83420425",
   "metadata": {},
   "source": [
    "### Ejercicio 2:\n",
    "- Obten el número de dimensiones y el tamaño del vector anterior."
   ]
  },
  {
   "cell_type": "code",
   "execution_count": null,
   "id": "3216bb58",
   "metadata": {},
   "outputs": [],
   "source": []
  },
  {
   "cell_type": "code",
   "execution_count": null,
   "id": "ef81c396",
   "metadata": {},
   "outputs": [],
   "source": []
  },
  {
   "cell_type": "code",
   "execution_count": null,
   "id": "cb679748",
   "metadata": {},
   "outputs": [],
   "source": []
  },
  {
   "cell_type": "markdown",
   "id": "50b94f88",
   "metadata": {},
   "source": [
    "### Ejercicio 3:\n",
    "- Crea una lista con 5 números pares y otra lista con 5 números impares utilizando **list comprehension** y conviertelos en una matriz de (5, 2) dimensiones."
   ]
  },
  {
   "cell_type": "code",
   "execution_count": null,
   "id": "5f8738d9",
   "metadata": {},
   "outputs": [],
   "source": []
  },
  {
   "cell_type": "code",
   "execution_count": null,
   "id": "a46adfc2",
   "metadata": {},
   "outputs": [],
   "source": []
  },
  {
   "cell_type": "code",
   "execution_count": null,
   "id": "52ab96be",
   "metadata": {},
   "outputs": [],
   "source": []
  },
  {
   "cell_type": "markdown",
   "id": "5a6d6f9b",
   "metadata": {},
   "source": [
    "### Ejercicio 4:\n",
    "- Obten el tipo de datos de la matriz anterior."
   ]
  },
  {
   "cell_type": "code",
   "execution_count": null,
   "id": "39f29d4f",
   "metadata": {},
   "outputs": [],
   "source": []
  },
  {
   "cell_type": "code",
   "execution_count": null,
   "id": "dcb2ff00",
   "metadata": {},
   "outputs": [],
   "source": []
  },
  {
   "cell_type": "code",
   "execution_count": null,
   "id": "6ae5b8ab",
   "metadata": {},
   "outputs": [],
   "source": []
  },
  {
   "cell_type": "markdown",
   "id": "f65930e0",
   "metadata": {},
   "source": [
    "### Ejercicio 5:\n",
    "- Crea una matriz de ceros de dimensión (4, 4) y remplaza los elementos de la diagonal principal por los números 5."
   ]
  },
  {
   "cell_type": "code",
   "execution_count": null,
   "id": "b68dd617",
   "metadata": {},
   "outputs": [],
   "source": []
  },
  {
   "cell_type": "code",
   "execution_count": null,
   "id": "734d9f67",
   "metadata": {},
   "outputs": [],
   "source": []
  },
  {
   "cell_type": "code",
   "execution_count": null,
   "id": "96d7b73d",
   "metadata": {},
   "outputs": [],
   "source": []
  },
  {
   "cell_type": "markdown",
   "id": "ff424246",
   "metadata": {},
   "source": [
    "### Ejercicio 6:\n",
    "- Utiliza la función _**np.linspace()**_ para crear un vector con 10 elementos entre los números: -5 y 5."
   ]
  },
  {
   "cell_type": "code",
   "execution_count": null,
   "id": "84675849",
   "metadata": {},
   "outputs": [],
   "source": []
  },
  {
   "cell_type": "code",
   "execution_count": null,
   "id": "53aedee4",
   "metadata": {},
   "outputs": [],
   "source": []
  },
  {
   "cell_type": "code",
   "execution_count": null,
   "id": "d39256a3",
   "metadata": {},
   "outputs": [],
   "source": []
  },
  {
   "cell_type": "markdown",
   "id": "d4d2232c",
   "metadata": {},
   "source": [
    "### Ejercicio 7:\n",
    "- Crea una matriz vacía de tamaño (3, 6) con elementos del tipo flotante."
   ]
  },
  {
   "cell_type": "code",
   "execution_count": null,
   "id": "15f8820b",
   "metadata": {},
   "outputs": [],
   "source": []
  },
  {
   "cell_type": "code",
   "execution_count": null,
   "id": "79c50a7d",
   "metadata": {},
   "outputs": [],
   "source": []
  },
  {
   "cell_type": "code",
   "execution_count": null,
   "id": "531685ae",
   "metadata": {},
   "outputs": [],
   "source": []
  },
  {
   "cell_type": "markdown",
   "id": "1239053e",
   "metadata": {},
   "source": [
    "### Ejercicio 8:\n",
    "- Utiliza la matriz anterior para llenarla con números primos (investiga en internet una función que genere números primos e implementala)."
   ]
  },
  {
   "cell_type": "code",
   "execution_count": null,
   "id": "cfb83730",
   "metadata": {},
   "outputs": [],
   "source": []
  },
  {
   "cell_type": "code",
   "execution_count": null,
   "id": "0b816486",
   "metadata": {},
   "outputs": [],
   "source": []
  },
  {
   "cell_type": "code",
   "execution_count": null,
   "id": "038eb273",
   "metadata": {},
   "outputs": [],
   "source": []
  },
  {
   "cell_type": "markdown",
   "id": "a92d1972",
   "metadata": {},
   "source": [
    "### Ejercicio 9:\n",
    "- Reemplaza los números de color azul por un 99 utilizando slicing.\n",
    "\n",
    "$$\\Large\n",
    "\\begin{bmatrix}\n",
    " 1 &  2 &  \\color{Blue}{3} &  4 \\\\\n",
    " 5 &  \\color{Blue}{6} &  7 &  \\color{Blue}{8} \\\\\n",
    " \\color{Blue}{9} & 10 & 11 & 12 \\\\\n",
    "13 & 14 & \\color{Blue}{15} & 16\n",
    "\\end{bmatrix}\n",
    "$$"
   ]
  },
  {
   "cell_type": "code",
   "execution_count": null,
   "id": "ed329abf",
   "metadata": {},
   "outputs": [],
   "source": []
  },
  {
   "cell_type": "code",
   "execution_count": null,
   "id": "c05f196c",
   "metadata": {},
   "outputs": [],
   "source": []
  },
  {
   "cell_type": "code",
   "execution_count": null,
   "id": "d148695c",
   "metadata": {},
   "outputs": [],
   "source": []
  },
  {
   "cell_type": "markdown",
   "id": "817ee31c",
   "metadata": {},
   "source": [
    "### Ejercicio 10:\n",
    "- Obten la primera y tercera fila de la matriz."
   ]
  },
  {
   "cell_type": "code",
   "execution_count": null,
   "id": "0a1496e8",
   "metadata": {},
   "outputs": [],
   "source": []
  },
  {
   "cell_type": "code",
   "execution_count": null,
   "id": "6aee8f31",
   "metadata": {},
   "outputs": [],
   "source": []
  },
  {
   "cell_type": "code",
   "execution_count": null,
   "id": "c3761ae2",
   "metadata": {},
   "outputs": [],
   "source": []
  },
  {
   "cell_type": "markdown",
   "id": "a4abb3c0",
   "metadata": {},
   "source": [
    "### Ejercico 11:\n",
    "- Obten la tercera columna de la matriz."
   ]
  },
  {
   "cell_type": "code",
   "execution_count": null,
   "id": "047311f5",
   "metadata": {},
   "outputs": [],
   "source": []
  },
  {
   "cell_type": "code",
   "execution_count": null,
   "id": "b1368522",
   "metadata": {},
   "outputs": [],
   "source": []
  },
  {
   "cell_type": "code",
   "execution_count": null,
   "id": "19aa1a30",
   "metadata": {},
   "outputs": [],
   "source": []
  },
  {
   "cell_type": "markdown",
   "id": "85659833",
   "metadata": {},
   "source": [
    "### Ejercicio 12:\n",
    "- Obtener la segunda y tercera columna de la matriz."
   ]
  },
  {
   "cell_type": "code",
   "execution_count": null,
   "id": "f9f72826",
   "metadata": {},
   "outputs": [],
   "source": []
  },
  {
   "cell_type": "code",
   "execution_count": null,
   "id": "72247f04",
   "metadata": {},
   "outputs": [],
   "source": []
  },
  {
   "cell_type": "code",
   "execution_count": null,
   "id": "3de230f8",
   "metadata": {},
   "outputs": [],
   "source": []
  },
  {
   "cell_type": "markdown",
   "id": "3a118c9a",
   "metadata": {},
   "source": [
    "### Ejercicio 13:\n",
    "- Obten una submatriz con los 4 números del centro."
   ]
  },
  {
   "cell_type": "code",
   "execution_count": null,
   "id": "6efd36bc",
   "metadata": {},
   "outputs": [],
   "source": []
  },
  {
   "cell_type": "code",
   "execution_count": null,
   "id": "15b53998",
   "metadata": {},
   "outputs": [],
   "source": []
  },
  {
   "cell_type": "code",
   "execution_count": null,
   "id": "197192ee",
   "metadata": {},
   "outputs": [],
   "source": []
  },
  {
   "cell_type": "markdown",
   "id": "270239a7",
   "metadata": {},
   "source": [
    "### Ejercicio 14:\n",
    "- Aplica la función _**np.flatten()**_ a la matriz anterior para obtener un vector."
   ]
  },
  {
   "cell_type": "code",
   "execution_count": null,
   "id": "f9d01c3b",
   "metadata": {},
   "outputs": [],
   "source": []
  },
  {
   "cell_type": "code",
   "execution_count": null,
   "id": "7e33d442",
   "metadata": {},
   "outputs": [],
   "source": []
  },
  {
   "cell_type": "code",
   "execution_count": null,
   "id": "c459d98f",
   "metadata": {},
   "outputs": [],
   "source": []
  },
  {
   "cell_type": "markdown",
   "id": "aa26d703",
   "metadata": {},
   "source": [
    "### Ejercicio 15:\n",
    "- Aplica el método _**.reshape()**_ al vector anterior para obtener una matriz de (1, 4) dimensiones."
   ]
  },
  {
   "cell_type": "code",
   "execution_count": null,
   "id": "8e045ee7",
   "metadata": {},
   "outputs": [],
   "source": []
  },
  {
   "cell_type": "code",
   "execution_count": null,
   "id": "78df5ad8",
   "metadata": {},
   "outputs": [],
   "source": []
  },
  {
   "cell_type": "code",
   "execution_count": null,
   "id": "0529314d",
   "metadata": {},
   "outputs": [],
   "source": []
  },
  {
   "cell_type": "markdown",
   "id": "f61d6d34",
   "metadata": {},
   "source": [
    "### Ejercicio 16:\n",
    "- Crea dos matrices de dimensión (4, 4) con números aleatorios y concatenalas verticalmente."
   ]
  },
  {
   "cell_type": "code",
   "execution_count": null,
   "id": "1dd66c12",
   "metadata": {},
   "outputs": [],
   "source": []
  },
  {
   "cell_type": "code",
   "execution_count": null,
   "id": "4ca5da60",
   "metadata": {},
   "outputs": [],
   "source": []
  },
  {
   "cell_type": "code",
   "execution_count": null,
   "id": "6d5150b4",
   "metadata": {},
   "outputs": [],
   "source": []
  },
  {
   "cell_type": "code",
   "execution_count": null,
   "id": "46d3968e-3ca3-4976-a7dd-14bc3279a9cc",
   "metadata": {},
   "outputs": [],
   "source": [
    "################################################################################################################################"
   ]
  }
 ],
 "metadata": {
  "kernelspec": {
   "display_name": "Python 3 (ipykernel)",
   "language": "python",
   "name": "python3"
  },
  "language_info": {
   "codemirror_mode": {
    "name": "ipython",
    "version": 3
   },
   "file_extension": ".py",
   "mimetype": "text/x-python",
   "name": "python",
   "nbconvert_exporter": "python",
   "pygments_lexer": "ipython3",
   "version": "3.11.5"
  }
 },
 "nbformat": 4,
 "nbformat_minor": 5
}
