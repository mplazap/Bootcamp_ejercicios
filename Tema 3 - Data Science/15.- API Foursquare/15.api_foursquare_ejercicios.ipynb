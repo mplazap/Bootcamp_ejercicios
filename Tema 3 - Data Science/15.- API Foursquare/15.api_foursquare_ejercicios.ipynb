{
 "cells": [
  {
   "cell_type": "markdown",
   "id": "ab05d636",
   "metadata": {},
   "source": [
    "### Ejercicios API Foursquare"
   ]
  },
  {
   "cell_type": "code",
   "execution_count": null,
   "id": "4f577e6f",
   "metadata": {},
   "outputs": [],
   "source": [
    "import numpy as np\n",
    "import pandas as pd\n",
    "\n",
    "import requests\n",
    "import pprint"
   ]
  },
  {
   "cell_type": "code",
   "execution_count": null,
   "id": "9f84ae32-dbc3-4ce1-bdbb-1fa563317629",
   "metadata": {},
   "outputs": [],
   "source": [
    "# Versiones\n",
    "\n",
    "print(f\"numpy=={np.__version__}\")\n",
    "print(f\"pandas=={pd.__version__}\")\n",
    "print(f\"requests=={requests.__version__}\")"
   ]
  },
  {
   "cell_type": "markdown",
   "id": "7eba7afb",
   "metadata": {},
   "source": [
    "### Credenciales"
   ]
  },
  {
   "cell_type": "code",
   "execution_count": null,
   "id": "ba24ed5c",
   "metadata": {},
   "outputs": [],
   "source": [
    "# Credenciales\n",
    "\n",
    "CLIENT_ID = \"\"\n",
    "\n",
    "CLIENT_SECRET = \"\"\n",
    "\n",
    "API_KEY = \"\""
   ]
  },
  {
   "cell_type": "markdown",
   "id": "f22fe67b",
   "metadata": {},
   "source": [
    "### Ejercicio 1:\n",
    "\n",
    "- Haz una consulta usando el API de **`Foursquare Places`** y genera un **`DataFrame`** con esta información. Este **`DataFrame`** debe tener la información de latitud y longitud.\n",
    "- En un mapa de **`folium`** muestra la información del **`DataFrame`**."
   ]
  },
  {
   "cell_type": "code",
   "execution_count": null,
   "id": "e2657365",
   "metadata": {},
   "outputs": [],
   "source": []
  },
  {
   "cell_type": "code",
   "execution_count": null,
   "id": "bc83d8c0",
   "metadata": {},
   "outputs": [],
   "source": []
  },
  {
   "cell_type": "code",
   "execution_count": null,
   "id": "fb948618",
   "metadata": {},
   "outputs": [],
   "source": []
  },
  {
   "cell_type": "markdown",
   "id": "bbe1404c",
   "metadata": {},
   "source": [
    "### Ejercicio 2:\n",
    "- Haz otra consulta usando el API de **`Foursquare Places`** y genera un **`DataFrame`** con esta información, ésta vez que sea una consulta mucho más general y que sea por provincia de España o país Europeo. En cada caso la búsqueda debe estar centrada en la capital de cada provincia o país.\n",
    "- Muestra la información usando un mapa **`Choropleth`**.\n",
    "\n",
    "Recuerda buscar un archivo **`GeoJSON`** que se adapte a la información que quieres mostrar."
   ]
  },
  {
   "cell_type": "code",
   "execution_count": null,
   "id": "9e9e99c7",
   "metadata": {},
   "outputs": [],
   "source": []
  },
  {
   "cell_type": "code",
   "execution_count": null,
   "id": "578633d4",
   "metadata": {},
   "outputs": [],
   "source": []
  },
  {
   "cell_type": "code",
   "execution_count": null,
   "id": "437c0360",
   "metadata": {},
   "outputs": [],
   "source": []
  }
 ],
 "metadata": {
  "kernelspec": {
   "display_name": "Python 3 (ipykernel)",
   "language": "python",
   "name": "python3"
  },
  "language_info": {
   "codemirror_mode": {
    "name": "ipython",
    "version": 3
   },
   "file_extension": ".py",
   "mimetype": "text/x-python",
   "name": "python",
   "nbconvert_exporter": "python",
   "pygments_lexer": "ipython3",
   "version": "3.12.3"
  }
 },
 "nbformat": 4,
 "nbformat_minor": 5
}
