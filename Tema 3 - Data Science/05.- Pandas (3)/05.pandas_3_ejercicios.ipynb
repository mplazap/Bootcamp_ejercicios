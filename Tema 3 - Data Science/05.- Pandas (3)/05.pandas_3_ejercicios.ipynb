{
 "cells": [
  {
   "cell_type": "markdown",
   "id": "c0dfa3ba",
   "metadata": {},
   "source": [
    "## Ejercicio - pandas 3"
   ]
  },
  {
   "cell_type": "code",
   "execution_count": null,
   "id": "a48526c3",
   "metadata": {
    "tags": []
   },
   "outputs": [],
   "source": [
    "import numpy as np\n",
    "import pandas as pd"
   ]
  },
  {
   "cell_type": "code",
   "execution_count": null,
   "id": "578d7108-4d27-4f25-bd41-46a1faf8bb64",
   "metadata": {
    "tags": []
   },
   "outputs": [],
   "source": [
    "# Versiones\n",
    "\n",
    "print(f\"numpy=={np.__version__}\")\n",
    "print(f\"pandas=={pd.__version__}\")"
   ]
  },
  {
   "cell_type": "markdown",
   "id": "b4b00b26",
   "metadata": {},
   "source": [
    "### Ejercicio 0:\n",
    "- Carga ambos archivos **titanic_1.csv** y **titanic_2.csv** y guardalos en **df1** y **df2** respectivamente:"
   ]
  },
  {
   "cell_type": "code",
   "execution_count": null,
   "id": "3395863d",
   "metadata": {},
   "outputs": [],
   "source": []
  },
  {
   "cell_type": "code",
   "execution_count": null,
   "id": "cb5b6f2f",
   "metadata": {},
   "outputs": [],
   "source": []
  },
  {
   "cell_type": "markdown",
   "id": "69fdda19",
   "metadata": {},
   "source": [
    "### Ejercicio 1:\n",
    "- Mostrar las estadisticas de cada uno de los DataFrames."
   ]
  },
  {
   "cell_type": "code",
   "execution_count": null,
   "id": "700ec390",
   "metadata": {},
   "outputs": [],
   "source": []
  },
  {
   "cell_type": "code",
   "execution_count": null,
   "id": "f21f443c",
   "metadata": {},
   "outputs": [],
   "source": []
  },
  {
   "cell_type": "code",
   "execution_count": null,
   "id": "d5cd2f1b",
   "metadata": {},
   "outputs": [],
   "source": []
  },
  {
   "cell_type": "markdown",
   "id": "75bb80b3",
   "metadata": {},
   "source": [
    "### Ejercicio 2:\n",
    "- Unir los DataFrames para obtener solo uno."
   ]
  },
  {
   "cell_type": "code",
   "execution_count": null,
   "id": "41f6d33f",
   "metadata": {},
   "outputs": [],
   "source": []
  },
  {
   "cell_type": "code",
   "execution_count": null,
   "id": "ac4e3205",
   "metadata": {},
   "outputs": [],
   "source": []
  },
  {
   "cell_type": "code",
   "execution_count": null,
   "id": "f94c3547",
   "metadata": {},
   "outputs": [],
   "source": []
  },
  {
   "cell_type": "markdown",
   "id": "606daf44",
   "metadata": {},
   "source": [
    "### Ejercicio 3:\n",
    "- Imprimir las últimas 5 filas de las columnas de nombre y edad"
   ]
  },
  {
   "cell_type": "code",
   "execution_count": null,
   "id": "5dbe3ccb",
   "metadata": {},
   "outputs": [],
   "source": []
  },
  {
   "cell_type": "code",
   "execution_count": null,
   "id": "b1a68577",
   "metadata": {},
   "outputs": [],
   "source": []
  },
  {
   "cell_type": "code",
   "execution_count": null,
   "id": "1ac48459",
   "metadata": {},
   "outputs": [],
   "source": []
  },
  {
   "cell_type": "markdown",
   "id": "f8e06689",
   "metadata": {},
   "source": [
    "### Ejercicio 4:\n",
    "- Imprimir las primeras 10 filas de las instancias que en sexo sean igual a femenino."
   ]
  },
  {
   "cell_type": "code",
   "execution_count": null,
   "id": "6558bf13",
   "metadata": {},
   "outputs": [],
   "source": []
  },
  {
   "cell_type": "code",
   "execution_count": null,
   "id": "89928162",
   "metadata": {},
   "outputs": [],
   "source": []
  },
  {
   "cell_type": "code",
   "execution_count": null,
   "id": "9a1ea213",
   "metadata": {},
   "outputs": [],
   "source": []
  },
  {
   "cell_type": "markdown",
   "id": "e534d75e",
   "metadata": {},
   "source": [
    "### Ejercicio 5:\n",
    "- Imprimir las instancias que en la columna **Fare** sean menor a 33 y en la columna **Pclass** igual a 2."
   ]
  },
  {
   "cell_type": "code",
   "execution_count": null,
   "id": "0db7aad9",
   "metadata": {},
   "outputs": [],
   "source": []
  },
  {
   "cell_type": "code",
   "execution_count": null,
   "id": "b2790ab9",
   "metadata": {},
   "outputs": [],
   "source": []
  },
  {
   "cell_type": "code",
   "execution_count": null,
   "id": "e35abccb",
   "metadata": {},
   "outputs": [],
   "source": []
  },
  {
   "cell_type": "markdown",
   "id": "6d002006",
   "metadata": {},
   "source": [
    "### Ejercicio 6:\n",
    "- Del resultado anterior obten el número de hombres y el número de mujeres."
   ]
  },
  {
   "cell_type": "code",
   "execution_count": null,
   "id": "f854c556",
   "metadata": {},
   "outputs": [],
   "source": []
  },
  {
   "cell_type": "code",
   "execution_count": null,
   "id": "3d5e8ec6",
   "metadata": {},
   "outputs": [],
   "source": []
  },
  {
   "cell_type": "code",
   "execution_count": null,
   "id": "51f1de2d",
   "metadata": {},
   "outputs": [],
   "source": []
  },
  {
   "cell_type": "markdown",
   "id": "d80b4f7e",
   "metadata": {},
   "source": [
    "### Ejercicio 7:\n",
    "- Obten el costo total de los tickets de hombres y el costo total de los tickets de mujeres."
   ]
  },
  {
   "cell_type": "code",
   "execution_count": null,
   "id": "3db5791f",
   "metadata": {},
   "outputs": [],
   "source": []
  },
  {
   "cell_type": "code",
   "execution_count": null,
   "id": "75940d39",
   "metadata": {},
   "outputs": [],
   "source": []
  },
  {
   "cell_type": "code",
   "execution_count": null,
   "id": "70e65887",
   "metadata": {},
   "outputs": [],
   "source": []
  },
  {
   "cell_type": "markdown",
   "id": "46387b3e",
   "metadata": {},
   "source": [
    "### Ejercicio 8:\n",
    "- Obten el costo total de los tickets por cada clase (1, 2 y 3) y el número de pasajeros de cada clase."
   ]
  },
  {
   "cell_type": "code",
   "execution_count": null,
   "id": "47c5519f",
   "metadata": {},
   "outputs": [],
   "source": []
  },
  {
   "cell_type": "code",
   "execution_count": null,
   "id": "9fc59434",
   "metadata": {},
   "outputs": [],
   "source": []
  },
  {
   "cell_type": "code",
   "execution_count": null,
   "id": "c062574a",
   "metadata": {},
   "outputs": [],
   "source": []
  },
  {
   "cell_type": "code",
   "execution_count": null,
   "id": "ce87b8cd",
   "metadata": {},
   "outputs": [],
   "source": []
  },
  {
   "cell_type": "markdown",
   "id": "97fae7e6",
   "metadata": {},
   "source": [
    "### Ejercicio 9:\n",
    "- Crear una columna con el apellido de cada pasajero y agregala al DataFrame."
   ]
  },
  {
   "cell_type": "code",
   "execution_count": null,
   "id": "1ca800e9",
   "metadata": {},
   "outputs": [],
   "source": []
  },
  {
   "cell_type": "code",
   "execution_count": null,
   "id": "b91bb7d9",
   "metadata": {},
   "outputs": [],
   "source": []
  },
  {
   "cell_type": "code",
   "execution_count": null,
   "id": "51ff38cc",
   "metadata": {},
   "outputs": [],
   "source": []
  },
  {
   "cell_type": "markdown",
   "id": "28cf8844",
   "metadata": {},
   "source": [
    "### Ejercicio 10:\n",
    "- Encuentra si se repiten apellidos en la columna que se creo en el ejercicio anterior. (Usa _**.value_counts()**_)"
   ]
  },
  {
   "cell_type": "code",
   "execution_count": null,
   "id": "bc3e5a06",
   "metadata": {},
   "outputs": [],
   "source": []
  },
  {
   "cell_type": "code",
   "execution_count": null,
   "id": "94314f1d",
   "metadata": {},
   "outputs": [],
   "source": []
  },
  {
   "cell_type": "code",
   "execution_count": null,
   "id": "9798a8c4",
   "metadata": {},
   "outputs": [],
   "source": []
  },
  {
   "cell_type": "markdown",
   "id": "a9d5d876",
   "metadata": {},
   "source": [
    "### Ejercicio 11:\n",
    "- Encuentra los apellidos que se repiten en la columna recien creada. Es decir, solo muestra los apellidos que aparecen más de 1 vez."
   ]
  },
  {
   "cell_type": "code",
   "execution_count": null,
   "id": "e25f047e",
   "metadata": {},
   "outputs": [],
   "source": []
  },
  {
   "cell_type": "code",
   "execution_count": null,
   "id": "26e3399d",
   "metadata": {},
   "outputs": [],
   "source": []
  },
  {
   "cell_type": "code",
   "execution_count": null,
   "id": "a956fa67",
   "metadata": {},
   "outputs": [],
   "source": []
  },
  {
   "cell_type": "markdown",
   "id": "382c4cfb",
   "metadata": {},
   "source": [
    "### Ejercicio 12:\n",
    "- Imprime los primeros 10 pasajeros que tengan un **PassengerID** multiplo de 3."
   ]
  },
  {
   "cell_type": "code",
   "execution_count": null,
   "id": "afb53912",
   "metadata": {},
   "outputs": [],
   "source": []
  },
  {
   "cell_type": "code",
   "execution_count": null,
   "id": "e0fb02d9",
   "metadata": {},
   "outputs": [],
   "source": []
  },
  {
   "cell_type": "code",
   "execution_count": null,
   "id": "0910b0e6",
   "metadata": {},
   "outputs": [],
   "source": []
  },
  {
   "cell_type": "markdown",
   "id": "8f8dc46f",
   "metadata": {},
   "source": [
    "### Ejercicio 13:\n",
    "- ¿Cuales son los apellidos de los pasajeros que son mujeres y menores de 20 años?"
   ]
  },
  {
   "cell_type": "code",
   "execution_count": null,
   "id": "6f05d72a",
   "metadata": {
    "scrolled": true
   },
   "outputs": [],
   "source": []
  },
  {
   "cell_type": "code",
   "execution_count": null,
   "id": "bcfb6b10",
   "metadata": {},
   "outputs": [],
   "source": []
  },
  {
   "cell_type": "code",
   "execution_count": null,
   "id": "115a919c",
   "metadata": {},
   "outputs": [],
   "source": []
  },
  {
   "cell_type": "markdown",
   "id": "0d19ff1d",
   "metadata": {},
   "source": [
    "### Ejercicio 14:\n",
    "- ¿Cuales son los apellidos de los pasajeros que son hombres y mayor de 45 años?"
   ]
  },
  {
   "cell_type": "code",
   "execution_count": null,
   "id": "fa9ec747",
   "metadata": {
    "scrolled": true
   },
   "outputs": [],
   "source": []
  },
  {
   "cell_type": "code",
   "execution_count": null,
   "id": "73540b18",
   "metadata": {},
   "outputs": [],
   "source": []
  },
  {
   "cell_type": "code",
   "execution_count": null,
   "id": "3620716c",
   "metadata": {},
   "outputs": [],
   "source": []
  },
  {
   "cell_type": "markdown",
   "id": "e3d2ddc1",
   "metadata": {},
   "source": [
    "### Ejercicio 15:\n",
    "- Compara si coinciden los apellidos generados en los ejercicios anteriores."
   ]
  },
  {
   "cell_type": "code",
   "execution_count": null,
   "id": "0bd8f994",
   "metadata": {},
   "outputs": [],
   "source": []
  },
  {
   "cell_type": "code",
   "execution_count": null,
   "id": "9ad8721d",
   "metadata": {},
   "outputs": [],
   "source": []
  },
  {
   "cell_type": "code",
   "execution_count": null,
   "id": "ea6f74eb",
   "metadata": {},
   "outputs": [],
   "source": []
  },
  {
   "cell_type": "markdown",
   "id": "591cb3a1",
   "metadata": {},
   "source": [
    "### Ejercicio 16:\n",
    "- Encuentra los 10 pasajeros que no sobrevivieron más jovenes e imprime cuantos son hombres y cuantos son mujeres."
   ]
  },
  {
   "cell_type": "code",
   "execution_count": null,
   "id": "c5ec7a5c",
   "metadata": {},
   "outputs": [],
   "source": []
  },
  {
   "cell_type": "code",
   "execution_count": null,
   "id": "74891e2c",
   "metadata": {},
   "outputs": [],
   "source": []
  },
  {
   "cell_type": "code",
   "execution_count": null,
   "id": "bef9f278",
   "metadata": {},
   "outputs": [],
   "source": []
  },
  {
   "cell_type": "markdown",
   "id": "18ec5580",
   "metadata": {},
   "source": [
    "### Ejercicio 17:\n",
    "-  En un DataFrame muestra 3 pasajeros que sean hombres y 3 que sean mujeres, que hayan sobrevivido y para cada clase de la columna **Pclass**."
   ]
  },
  {
   "cell_type": "code",
   "execution_count": null,
   "id": "ce0a95a3",
   "metadata": {},
   "outputs": [],
   "source": []
  },
  {
   "cell_type": "code",
   "execution_count": null,
   "id": "52e701cc",
   "metadata": {},
   "outputs": [],
   "source": []
  },
  {
   "cell_type": "code",
   "execution_count": null,
   "id": "a1ee7bcd",
   "metadata": {},
   "outputs": [],
   "source": []
  },
  {
   "cell_type": "markdown",
   "id": "62aa7e57",
   "metadata": {},
   "source": [
    "### Ejercicio 18:\n",
    "- Obtener el tipo de elementos de cada columna y convierte los que sean \"int64\" a \"int32\". Evalua la memoria que consume antes y después de convertir las columnas y comenta la diferencia."
   ]
  },
  {
   "cell_type": "code",
   "execution_count": null,
   "id": "2adde1e4",
   "metadata": {},
   "outputs": [],
   "source": []
  },
  {
   "cell_type": "code",
   "execution_count": null,
   "id": "1e8c0d95",
   "metadata": {},
   "outputs": [],
   "source": []
  },
  {
   "cell_type": "code",
   "execution_count": null,
   "id": "94f2d200",
   "metadata": {},
   "outputs": [],
   "source": []
  },
  {
   "cell_type": "markdown",
   "id": "99bb5d71",
   "metadata": {},
   "source": [
    "### Ejercicio 19:\n",
    "- Encuentra a los pasajeros de la clase 1 y 3 entre 20 y 25 años y comprueba si son más hombres o mujeres."
   ]
  },
  {
   "cell_type": "code",
   "execution_count": null,
   "id": "967bfec6",
   "metadata": {},
   "outputs": [],
   "source": []
  },
  {
   "cell_type": "code",
   "execution_count": null,
   "id": "a6265d21",
   "metadata": {},
   "outputs": [],
   "source": []
  },
  {
   "cell_type": "code",
   "execution_count": null,
   "id": "8d36a925",
   "metadata": {},
   "outputs": [],
   "source": []
  },
  {
   "cell_type": "markdown",
   "id": "61a74deb",
   "metadata": {},
   "source": [
    "### Ejercicio 20:\n",
    "- Agrega una nueva columna al DataFrame que se llame: \"Rango edad\" y va a categorizar de la siguiente manera:\n",
    "    - Niño < 11 años\n",
    "    - Joven < 18 años\n",
    "    - Adulto < 50 años\n",
    "    - Mayor >= 50 años"
   ]
  },
  {
   "cell_type": "code",
   "execution_count": null,
   "id": "34ba18c7",
   "metadata": {},
   "outputs": [],
   "source": []
  },
  {
   "cell_type": "code",
   "execution_count": null,
   "id": "62e9cf3f",
   "metadata": {},
   "outputs": [],
   "source": []
  },
  {
   "cell_type": "code",
   "execution_count": null,
   "id": "e7a9330a",
   "metadata": {},
   "outputs": [],
   "source": []
  },
  {
   "cell_type": "markdown",
   "id": "675ad30a",
   "metadata": {},
   "source": [
    "### Ejercicio 21:\n",
    "- Encontrar a los pasajeros \"jovenes\" y \"mayores\" de la clase 2 y 3 que hayan sobrevivido. Imprimir los 10 primeros."
   ]
  },
  {
   "cell_type": "code",
   "execution_count": null,
   "id": "1b6181a3",
   "metadata": {},
   "outputs": [],
   "source": []
  },
  {
   "cell_type": "code",
   "execution_count": null,
   "id": "e9455a78",
   "metadata": {},
   "outputs": [],
   "source": []
  },
  {
   "cell_type": "code",
   "execution_count": null,
   "id": "c596d6f4",
   "metadata": {},
   "outputs": [],
   "source": []
  },
  {
   "cell_type": "markdown",
   "id": "2d55b763",
   "metadata": {},
   "source": [
    "### Ejercicio 22:\n",
    "- Encuentra la edad promedio de todos los pasajeros y reemmplazala por los **NaN** en la columna de **Age** y ejecuta el ejercicio anterior."
   ]
  },
  {
   "cell_type": "code",
   "execution_count": null,
   "id": "e3685698",
   "metadata": {},
   "outputs": [],
   "source": []
  },
  {
   "cell_type": "code",
   "execution_count": null,
   "id": "505533c3",
   "metadata": {},
   "outputs": [],
   "source": []
  },
  {
   "cell_type": "code",
   "execution_count": null,
   "id": "23d0fdb9",
   "metadata": {},
   "outputs": [],
   "source": []
  },
  {
   "cell_type": "markdown",
   "id": "cf4a4f37",
   "metadata": {},
   "source": [
    "### Ejercicio 23:\n",
    "- Cambia a español la columna **Sex**."
   ]
  },
  {
   "cell_type": "code",
   "execution_count": null,
   "id": "31ce34ac",
   "metadata": {},
   "outputs": [],
   "source": []
  },
  {
   "cell_type": "code",
   "execution_count": null,
   "id": "6bd14502",
   "metadata": {},
   "outputs": [],
   "source": []
  },
  {
   "cell_type": "code",
   "execution_count": null,
   "id": "204b46f3",
   "metadata": {},
   "outputs": [],
   "source": []
  },
  {
   "cell_type": "markdown",
   "id": "5c9834c8",
   "metadata": {},
   "source": [
    "### Ejercicio 24:\n",
    "- Convierte a mayusculas todas las columnas que los valores sean cadenas."
   ]
  },
  {
   "cell_type": "code",
   "execution_count": null,
   "id": "128e274f",
   "metadata": {},
   "outputs": [],
   "source": []
  },
  {
   "cell_type": "code",
   "execution_count": null,
   "id": "da755f85",
   "metadata": {},
   "outputs": [],
   "source": []
  },
  {
   "cell_type": "code",
   "execution_count": null,
   "id": "23d4dda3",
   "metadata": {},
   "outputs": [],
   "source": []
  },
  {
   "cell_type": "markdown",
   "id": "c56e5a3b",
   "metadata": {},
   "source": [
    "### Ejercicio 25:\n",
    "- Agrupa por sexo y rango de edad y encuentra la edad promedio."
   ]
  },
  {
   "cell_type": "code",
   "execution_count": null,
   "id": "4d8c243e",
   "metadata": {},
   "outputs": [],
   "source": []
  },
  {
   "cell_type": "code",
   "execution_count": null,
   "id": "dff1b94f",
   "metadata": {},
   "outputs": [],
   "source": []
  },
  {
   "cell_type": "code",
   "execution_count": null,
   "id": "f8067c0b",
   "metadata": {},
   "outputs": [],
   "source": []
  },
  {
   "cell_type": "markdown",
   "id": "cd9632e8",
   "metadata": {},
   "source": [
    "### Ejercicio 26:\n",
    "- Divide la columna name en las siguientes columnas:\n",
    "    - Mrs/Miss\n",
    "    - Apellido\n",
    "    - Nombre(s)\n",
    "    \n",
    "**Nota: Ignora el resto de información.**"
   ]
  },
  {
   "cell_type": "code",
   "execution_count": null,
   "id": "8e1f2ef6",
   "metadata": {},
   "outputs": [],
   "source": []
  },
  {
   "cell_type": "code",
   "execution_count": null,
   "id": "6bec4f40",
   "metadata": {},
   "outputs": [],
   "source": []
  },
  {
   "cell_type": "code",
   "execution_count": null,
   "id": "f6d8f68f",
   "metadata": {},
   "outputs": [],
   "source": []
  },
  {
   "cell_type": "code",
   "execution_count": null,
   "id": "86bffd4b",
   "metadata": {
    "tags": []
   },
   "outputs": [],
   "source": [
    "################################################################################################################################"
   ]
  }
 ],
 "metadata": {
  "kernelspec": {
   "display_name": "Python 3 (ipykernel)",
   "language": "python",
   "name": "python3"
  },
  "language_info": {
   "codemirror_mode": {
    "name": "ipython",
    "version": 3
   },
   "file_extension": ".py",
   "mimetype": "text/x-python",
   "name": "python",
   "nbconvert_exporter": "python",
   "pygments_lexer": "ipython3",
   "version": "3.11.5"
  }
 },
 "nbformat": 4,
 "nbformat_minor": 5
}
