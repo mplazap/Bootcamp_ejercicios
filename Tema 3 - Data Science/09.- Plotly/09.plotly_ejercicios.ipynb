{
 "cells": [
  {
   "cell_type": "markdown",
   "id": "f3ba530e",
   "metadata": {},
   "source": [
    "## Ejercicios plotly"
   ]
  },
  {
   "cell_type": "code",
   "execution_count": 3,
   "id": "eab5c268",
   "metadata": {},
   "outputs": [],
   "source": [
    "import numpy as np\n",
    "import pandas as pd\n",
    "\n",
    "import plotly # Para ver la versión\n",
    "import plotly.express as px\n",
    "\n",
    "from datetime import datetime"
   ]
  },
  {
   "cell_type": "code",
   "execution_count": null,
   "id": "5f993e74-3fce-487a-abf1-22927e48951e",
   "metadata": {},
   "outputs": [],
   "source": [
    "# Versiones\n",
    "\n",
    "print(f\"numpy=={np.__version__}\")\n",
    "print(f\"pandas=={pd.__version__}\")\n",
    "print(f\"plotly=={plotly.__version__}\")"
   ]
  },
  {
   "cell_type": "markdown",
   "id": "0159c8cc",
   "metadata": {},
   "source": [
    "**ref**: _https://www.kaggle.com/datasets/matthieugimbert/french-bakery-daily-sales_"
   ]
  },
  {
   "cell_type": "markdown",
   "id": "5d78a17a",
   "metadata": {},
   "source": [
    "### Ejercicio 0:\n",
    "- Carga el DataFrame **`Bakery sales.csv`**."
   ]
  },
  {
   "cell_type": "code",
   "execution_count": 7,
   "id": "ec679657",
   "metadata": {},
   "outputs": [
    {
     "data": {
      "text/html": [
       "<div>\n",
       "<style scoped>\n",
       "    .dataframe tbody tr th:only-of-type {\n",
       "        vertical-align: middle;\n",
       "    }\n",
       "\n",
       "    .dataframe tbody tr th {\n",
       "        vertical-align: top;\n",
       "    }\n",
       "\n",
       "    .dataframe thead th {\n",
       "        text-align: right;\n",
       "    }\n",
       "</style>\n",
       "<table border=\"1\" class=\"dataframe\">\n",
       "  <thead>\n",
       "    <tr style=\"text-align: right;\">\n",
       "      <th></th>\n",
       "      <th>Unnamed: 0</th>\n",
       "      <th>date</th>\n",
       "      <th>time</th>\n",
       "      <th>ticket_number</th>\n",
       "      <th>article</th>\n",
       "      <th>Quantity</th>\n",
       "      <th>unit_price</th>\n",
       "    </tr>\n",
       "  </thead>\n",
       "  <tbody>\n",
       "    <tr>\n",
       "      <th>0</th>\n",
       "      <td>0</td>\n",
       "      <td>2021-01-02</td>\n",
       "      <td>08:38</td>\n",
       "      <td>150040.0</td>\n",
       "      <td>BAGUETTE</td>\n",
       "      <td>1.0</td>\n",
       "      <td>0,90 €</td>\n",
       "    </tr>\n",
       "    <tr>\n",
       "      <th>1</th>\n",
       "      <td>1</td>\n",
       "      <td>2021-01-02</td>\n",
       "      <td>08:38</td>\n",
       "      <td>150040.0</td>\n",
       "      <td>PAIN AU CHOCOLAT</td>\n",
       "      <td>3.0</td>\n",
       "      <td>1,20 €</td>\n",
       "    </tr>\n",
       "  </tbody>\n",
       "</table>\n",
       "</div>"
      ],
      "text/plain": [
       "   Unnamed: 0        date   time  ticket_number           article  Quantity  \\\n",
       "0           0  2021-01-02  08:38       150040.0          BAGUETTE       1.0   \n",
       "1           1  2021-01-02  08:38       150040.0  PAIN AU CHOCOLAT       3.0   \n",
       "\n",
       "  unit_price  \n",
       "0     0,90 €  \n",
       "1     1,20 €  "
      ]
     },
     "execution_count": 7,
     "metadata": {},
     "output_type": "execute_result"
    }
   ],
   "source": [
    "df = pd.read_csv('../Data/Bakery sales.csv')\n",
    "df.head(2)"
   ]
  },
  {
   "cell_type": "markdown",
   "id": "6293f5d2",
   "metadata": {},
   "source": [
    "### Ejercicio 1:\n",
    "- Transforma la columna **`unit_price`** a `float`.\n",
    "\n",
    "\n",
    "- Transforma la columna **`date`** a `datetime`.\n",
    "\n",
    "\n",
    "- Crea las columnas **`weekday`**, **`month`**, **`year`** y **`hour`**. Las columnas **`weekday`** y **`month`** deben estar representados por nombre, no por número."
   ]
  },
  {
   "cell_type": "code",
   "execution_count": null,
   "id": "a1371a61",
   "metadata": {},
   "outputs": [],
   "source": []
  },
  {
   "cell_type": "code",
   "execution_count": null,
   "id": "4ad64dfa",
   "metadata": {},
   "outputs": [],
   "source": []
  },
  {
   "cell_type": "markdown",
   "id": "ce1ccadc",
   "metadata": {},
   "source": [
    "### Ejercicio 2:\n",
    "\n",
    "¿A que hora se venden más productos?\n",
    "\n",
    "- Grafica un histograma usando la columna de `hour` y `quantity`.\n",
    "- Agrega el parámetro `color = year` y `nbins = 48`.\n",
    "- Haz que el eje X muestre todas las 24 horas del día."
   ]
  },
  {
   "cell_type": "code",
   "execution_count": null,
   "id": "be149328",
   "metadata": {},
   "outputs": [],
   "source": []
  },
  {
   "cell_type": "code",
   "execution_count": null,
   "id": "415e2335",
   "metadata": {},
   "outputs": [],
   "source": []
  },
  {
   "cell_type": "code",
   "execution_count": null,
   "id": "217b1c22",
   "metadata": {},
   "outputs": [],
   "source": []
  },
  {
   "cell_type": "markdown",
   "id": "c6c750f0",
   "metadata": {},
   "source": [
    "### Ejercicio 3:\n",
    "- Repite la gráfica anterior, pero quita el filtro por color y separa la gráfica en dos, usando el parámetro `facet_col`.\n",
    "- Agrega a esa gráfica un violin plot usando el parámetro `marginal`."
   ]
  },
  {
   "cell_type": "code",
   "execution_count": null,
   "id": "14a9c7ec",
   "metadata": {},
   "outputs": [],
   "source": []
  },
  {
   "cell_type": "code",
   "execution_count": null,
   "id": "c48e185e",
   "metadata": {},
   "outputs": [],
   "source": []
  },
  {
   "cell_type": "code",
   "execution_count": null,
   "id": "05f14429",
   "metadata": {},
   "outputs": [],
   "source": []
  },
  {
   "cell_type": "markdown",
   "id": "73d86c3c",
   "metadata": {},
   "source": [
    "### Ejercicio 4:\n",
    "\n",
    "- Filtra el **DataFrame** por las filas donde la columna `article` tenga la palabra **\"BAGUETTE\"**.\n",
    "    - ```html\n",
    "      df[df[\"article\"].str.contains(\"\")]\n",
    "      ```\n",
    "    \n",
    "- Haz una gráfica de **`sunburst`**, separando por año y mes, mostrando la cantidad de elementos vendidos usando el filtro de **\"BAGUETTE\"**."
   ]
  },
  {
   "cell_type": "code",
   "execution_count": null,
   "id": "4105c5e9",
   "metadata": {},
   "outputs": [],
   "source": []
  },
  {
   "cell_type": "code",
   "execution_count": null,
   "id": "04837822",
   "metadata": {},
   "outputs": [],
   "source": []
  },
  {
   "cell_type": "code",
   "execution_count": null,
   "id": "3efc3bcf",
   "metadata": {},
   "outputs": [],
   "source": []
  },
  {
   "cell_type": "markdown",
   "id": "3766aadd",
   "metadata": {},
   "source": [
    "### Ejercicio 5:\n",
    "- Calcula el precio total de cada fila, multiplicando las columnas `quantity` y `unit_price`. Crea una nueva columna `total_article_price` con esta información.\n",
    "\n",
    "- Elimina las filas donde `quantity` tiene un outlier.\n",
    "\n",
    "- Haz un violin plot con esa nueva columna."
   ]
  },
  {
   "cell_type": "code",
   "execution_count": null,
   "id": "9787fdc7",
   "metadata": {},
   "outputs": [],
   "source": []
  },
  {
   "cell_type": "code",
   "execution_count": null,
   "id": "40fa52d1",
   "metadata": {},
   "outputs": [],
   "source": []
  },
  {
   "cell_type": "code",
   "execution_count": null,
   "id": "de70e7b3",
   "metadata": {},
   "outputs": [],
   "source": []
  },
  {
   "cell_type": "markdown",
   "id": "5b27437e",
   "metadata": {},
   "source": [
    "### Ejercicio 6:\n",
    "- Agrupa el **DataFrame** por fecha y obten la suma de la columna **`total_article_price`**. Crea un **DataFrame** nuevo.\n",
    "- Busca la forma de quedarte con la columna **`weekday`** durante la agrupación.\n",
    "- Haz un line plot con este **DataFrame**, utiliza también la columna **`weekday`**."
   ]
  },
  {
   "cell_type": "code",
   "execution_count": null,
   "id": "23e057be",
   "metadata": {},
   "outputs": [],
   "source": []
  },
  {
   "cell_type": "code",
   "execution_count": null,
   "id": "0a9b21b9",
   "metadata": {},
   "outputs": [],
   "source": []
  },
  {
   "cell_type": "code",
   "execution_count": null,
   "id": "d10f694f",
   "metadata": {},
   "outputs": [],
   "source": []
  },
  {
   "cell_type": "markdown",
   "id": "4f71fe4f",
   "metadata": {},
   "source": [
    "### Ejercicio 7:\n",
    "- Crea un nuevo DataFrame agrupando por la columna **`ticket_number`**, que tenga como columnas la suma de **`quantity`**, **`total_article_price`** y el maximo de **`year`**. Renombra las columnas.\n",
    "\n",
    "- Haz un box plot usando la columnas **`quantity`** y **`year`**."
   ]
  },
  {
   "cell_type": "code",
   "execution_count": null,
   "id": "eb1f8e43",
   "metadata": {},
   "outputs": [],
   "source": []
  },
  {
   "cell_type": "code",
   "execution_count": null,
   "id": "f4df92d0",
   "metadata": {},
   "outputs": [],
   "source": []
  },
  {
   "cell_type": "code",
   "execution_count": null,
   "id": "1b0cb80f",
   "metadata": {},
   "outputs": [],
   "source": []
  },
  {
   "cell_type": "markdown",
   "id": "93da8acf",
   "metadata": {},
   "source": [
    "### Ejercicio 8:\n",
    "- Haz un pie plot mostrando el total vendido por día de la semana.\n",
    "- Haz un pie plot mostrando el total vendido por mes."
   ]
  },
  {
   "cell_type": "code",
   "execution_count": null,
   "id": "22fac86a",
   "metadata": {},
   "outputs": [],
   "source": []
  },
  {
   "cell_type": "code",
   "execution_count": null,
   "id": "2b7c7f8e",
   "metadata": {},
   "outputs": [],
   "source": []
  },
  {
   "cell_type": "code",
   "execution_count": null,
   "id": "f6fff2bd",
   "metadata": {},
   "outputs": [],
   "source": []
  },
  {
   "cell_type": "markdown",
   "id": "8c4811e2",
   "metadata": {},
   "source": [
    "### Ejercicio 9:\n",
    "- Agrupa los datos por la columna **`article`** y crea un nuevo DataFrame, donde las columnas sean la suma de **`quantity`** y **`total_article_price`** y la media de **`unit_price`** y el mínimo/máximo de **`year`**.\n",
    "- Encuentra cuales son los 20 elementos más vendidos y muestralos en un bar plot, usa la columna **`total_article_price`** con el parámetro `color`."
   ]
  },
  {
   "cell_type": "code",
   "execution_count": null,
   "id": "c60061ef",
   "metadata": {},
   "outputs": [],
   "source": []
  },
  {
   "cell_type": "code",
   "execution_count": null,
   "id": "aeb7706d",
   "metadata": {},
   "outputs": [],
   "source": []
  },
  {
   "cell_type": "code",
   "execution_count": null,
   "id": "859fc20b",
   "metadata": {},
   "outputs": [],
   "source": []
  },
  {
   "cell_type": "markdown",
   "id": "9b3ab5e4",
   "metadata": {},
   "source": [
    "### Ejercicio 10:\n",
    "- Usando el DataFrame, crea una nueva columna **`article_new`**, si el artículo de esa fila no está entre los 20 más vendidos entonces que tenga el nombre de **`OTRO`**, si el artículo está si entre los 20 más vendidos que no se cambie el nombre.\n",
    "\n",
    "- Repite el bar plot anterior, esta vez usando todas las filas."
   ]
  },
  {
   "cell_type": "code",
   "execution_count": null,
   "id": "e8ed0532",
   "metadata": {},
   "outputs": [],
   "source": []
  },
  {
   "cell_type": "code",
   "execution_count": null,
   "id": "4e1997d7",
   "metadata": {},
   "outputs": [],
   "source": []
  },
  {
   "cell_type": "code",
   "execution_count": null,
   "id": "bd04fbbb",
   "metadata": {},
   "outputs": [],
   "source": []
  },
  {
   "cell_type": "markdown",
   "id": "39cee141",
   "metadata": {},
   "source": [
    "### Ejercicio 11:\n",
    "- Comprueba qué relación existe entre la cantidad de productos comprados y el precio total del ticket.\n",
    "- Aplica una transformación logarítmica en base 10 al precio y dibuja un box plot para cada cantidad de artículos totales.\n",
    "- Asegúrate de que, si bien el precio sufre una transformación, las anotaciones del plot representen el valor real."
   ]
  },
  {
   "cell_type": "code",
   "execution_count": null,
   "id": "1c8b7e96",
   "metadata": {},
   "outputs": [],
   "source": []
  },
  {
   "cell_type": "code",
   "execution_count": null,
   "id": "e0e28e77",
   "metadata": {},
   "outputs": [],
   "source": []
  },
  {
   "cell_type": "code",
   "execution_count": null,
   "id": "5715cf75",
   "metadata": {},
   "outputs": [],
   "source": []
  },
  {
   "cell_type": "code",
   "execution_count": null,
   "id": "e2d6db00",
   "metadata": {},
   "outputs": [],
   "source": [
    "################################################################################################################################"
   ]
  }
 ],
 "metadata": {
  "kernelspec": {
   "display_name": "Python 3 (ipykernel)",
   "language": "python",
   "name": "python3"
  },
  "language_info": {
   "codemirror_mode": {
    "name": "ipython",
    "version": 3
   },
   "file_extension": ".py",
   "mimetype": "text/x-python",
   "name": "python",
   "nbconvert_exporter": "python",
   "pygments_lexer": "ipython3",
   "version": "3.12.3"
  }
 },
 "nbformat": 4,
 "nbformat_minor": 5
}
