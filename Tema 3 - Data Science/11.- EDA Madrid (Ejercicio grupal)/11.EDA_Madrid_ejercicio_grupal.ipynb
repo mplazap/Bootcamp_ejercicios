{
 "cells": [
  {
   "cell_type": "markdown",
   "id": "909e3672",
   "metadata": {},
   "source": [
    "## Exploratory Data Analysis (EDA) Madrid\n",
    "\n",
    "En este ejercicio vamos a utilizar el excel **`DatosMadrid.xlsx`**, este excel contiene información sobre los distritos y barrios de Madrid.\n",
    "\n",
    "Para esta actividad vamos a explorar el **`DataFrame`**, veamos que tipo de información tiene y luego vamos a generar visualizaciones que represente la información del **`DataFrame`**.\n",
    "\n",
    "Este ejercicio es libre, es decir, puedes decidir que información poner en las visualizaciones y cuantas quieres hacer, la idea es realizar un **`EDA`** y entender los datos con los que estamos trabajando.\n",
    "\n",
    "Prueba creando tus propios atributos utilizando la información del **`DataFrame`**.\n",
    "\n",
    "Escribe en un documento (o en el notebook) una lista de todas las graficas que quieres hacer y lo que representan, como por ejemplo:<br> **`El número de personas mayores de 65 por barrio o municipio`**.\n",
    "\n",
    "Durante este proceso lo más probable es que consigas valores atípicos (**outliers**) y/o valores faltantes (**NaN's**).\n",
    "\n",
    "Al final del ejercicios explica las gráficas y tus hallazgos/conclusiones."
   ]
  },
  {
   "cell_type": "code",
   "execution_count": null,
   "id": "aa42e65d",
   "metadata": {},
   "outputs": [],
   "source": [
    "import numpy as np\n",
    "import pandas as pd\n",
    "\n",
    "import matplotlib # Para ver la versión\n",
    "import matplotlib.pyplot as plt\n",
    "import seaborn as sns\n",
    "\n",
    "import folium"
   ]
  },
  {
   "cell_type": "code",
   "execution_count": null,
   "id": "a8e57615-93ee-4f10-962e-c06aa98622b0",
   "metadata": {},
   "outputs": [],
   "source": [
    "# Versiones\n",
    "\n",
    "print(f\"numpy=={np.__version__}\")\n",
    "print(f\"pandas=={pd.__version__}\")\n",
    "print(f\"matplotlib=={matplotlib.__version__}\")\n",
    "print(f\"seaborn=={sns.__version__}\")\n",
    "print(f\"folium=={folium.__version__}\")"
   ]
  },
  {
   "cell_type": "code",
   "execution_count": null,
   "id": "386e0eb5",
   "metadata": {},
   "outputs": [],
   "source": [
    "df = pd.read_excel(\"data/DatosMadrid.xlsx\")\n",
    "\n",
    "df.head()"
   ]
  },
  {
   "cell_type": "code",
   "execution_count": null,
   "id": "8d8b7ddf",
   "metadata": {},
   "outputs": [],
   "source": [
    "df.drop(df._get_numeric_data().columns, axis = 1)"
   ]
  },
  {
   "cell_type": "code",
   "execution_count": null,
   "id": "0506a4da",
   "metadata": {},
   "outputs": [],
   "source": []
  },
  {
   "cell_type": "code",
   "execution_count": null,
   "id": "f567e8a4",
   "metadata": {},
   "outputs": [],
   "source": []
  },
  {
   "cell_type": "code",
   "execution_count": null,
   "id": "12e46c43",
   "metadata": {},
   "outputs": [],
   "source": []
  },
  {
   "cell_type": "code",
   "execution_count": null,
   "id": "51b53d43",
   "metadata": {},
   "outputs": [],
   "source": []
  },
  {
   "cell_type": "code",
   "execution_count": null,
   "id": "4c40d5f6",
   "metadata": {},
   "outputs": [],
   "source": []
  },
  {
   "cell_type": "code",
   "execution_count": null,
   "id": "40e44e6b",
   "metadata": {},
   "outputs": [],
   "source": []
  }
 ],
 "metadata": {
  "kernelspec": {
   "display_name": "Python 3 (ipykernel)",
   "language": "python",
   "name": "python3"
  },
  "language_info": {
   "codemirror_mode": {
    "name": "ipython",
    "version": 3
   },
   "file_extension": ".py",
   "mimetype": "text/x-python",
   "name": "python",
   "nbconvert_exporter": "python",
   "pygments_lexer": "ipython3",
   "version": "3.12.3"
  }
 },
 "nbformat": 4,
 "nbformat_minor": 5
}
