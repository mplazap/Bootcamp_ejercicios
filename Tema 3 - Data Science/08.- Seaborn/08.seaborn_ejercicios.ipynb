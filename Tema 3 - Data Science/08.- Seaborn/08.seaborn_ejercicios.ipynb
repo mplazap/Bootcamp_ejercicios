{
 "cells": [
  {
   "cell_type": "markdown",
   "id": "d589ecb7",
   "metadata": {},
   "source": [
    "## Ejercicios Seaborn"
   ]
  },
  {
   "cell_type": "code",
   "execution_count": null,
   "id": "529d9b5d",
   "metadata": {},
   "outputs": [],
   "source": [
    "import numpy as np\n",
    "import pandas as pd\n",
    "\n",
    "import matplotlib # Para ver la versión\n",
    "import matplotlib.pyplot as plt\n",
    "import seaborn as sns"
   ]
  },
  {
   "cell_type": "code",
   "execution_count": null,
   "id": "c3a1e383-bb6e-4d87-8e4a-60804246164b",
   "metadata": {},
   "outputs": [],
   "source": [
    "# Versiones\n",
    "\n",
    "print(f\"numpy=={np.__version__}\")\n",
    "print(f\"pandas=={pd.__version__}\")\n",
    "print(f\"matplotlib=={matplotlib.__version__}\")\n",
    "print(f\"seaborn=={sns.__version__}\")"
   ]
  },
  {
   "cell_type": "markdown",
   "id": "3da7ac28",
   "metadata": {},
   "source": [
    "### Ejercicio 0:\n",
    "- Lee el archivo **`pokemon.csv`** y guardalo en la variable **`df`**."
   ]
  },
  {
   "cell_type": "code",
   "execution_count": null,
   "id": "3d30b9b9",
   "metadata": {},
   "outputs": [],
   "source": []
  },
  {
   "cell_type": "code",
   "execution_count": null,
   "id": "cfda32a4",
   "metadata": {},
   "outputs": [],
   "source": []
  },
  {
   "cell_type": "code",
   "execution_count": null,
   "id": "196033e9",
   "metadata": {},
   "outputs": [],
   "source": []
  },
  {
   "cell_type": "markdown",
   "id": "8c56603a",
   "metadata": {},
   "source": [
    "### Ejercicio 1:\n",
    "- Haz un diagrama de barras con el número de pokémons en cada generación."
   ]
  },
  {
   "cell_type": "code",
   "execution_count": null,
   "id": "96eff0ed",
   "metadata": {},
   "outputs": [],
   "source": []
  },
  {
   "cell_type": "code",
   "execution_count": null,
   "id": "8f7a02d5",
   "metadata": {},
   "outputs": [],
   "source": []
  },
  {
   "cell_type": "code",
   "execution_count": null,
   "id": "48b8a11a",
   "metadata": {},
   "outputs": [],
   "source": []
  },
  {
   "cell_type": "markdown",
   "id": "496d2def",
   "metadata": {},
   "source": [
    "### Ejercicio 2:\n",
    "- Representar la frecuencia de pokémons por tipo 1 en un gráfico de barras."
   ]
  },
  {
   "cell_type": "code",
   "execution_count": null,
   "id": "a516e55d",
   "metadata": {},
   "outputs": [],
   "source": []
  },
  {
   "cell_type": "code",
   "execution_count": null,
   "id": "3b30af49",
   "metadata": {},
   "outputs": [],
   "source": []
  },
  {
   "cell_type": "code",
   "execution_count": null,
   "id": "2b38c4d5",
   "metadata": {},
   "outputs": [],
   "source": []
  },
  {
   "cell_type": "markdown",
   "id": "2c0f6af0",
   "metadata": {},
   "source": [
    "### Ejercicio 3:\n",
    "- Haz un diagrama de barras con el número de pokémons tipo 1 igual a \"Grass\" y \"Fire\"."
   ]
  },
  {
   "cell_type": "code",
   "execution_count": null,
   "id": "de52da89",
   "metadata": {},
   "outputs": [],
   "source": []
  },
  {
   "cell_type": "code",
   "execution_count": null,
   "id": "374999c8",
   "metadata": {},
   "outputs": [],
   "source": []
  },
  {
   "cell_type": "code",
   "execution_count": null,
   "id": "38c3078a",
   "metadata": {},
   "outputs": [],
   "source": []
  },
  {
   "cell_type": "markdown",
   "id": "041d02dd",
   "metadata": {},
   "source": [
    "### Ejercicio 4:\n",
    "- Haz un histograma con los puntos de salud HP de los pokémons, utiliza el color verde.\n",
    "- Dibuja una línea vertical magenta que represente el promedio."
   ]
  },
  {
   "cell_type": "code",
   "execution_count": null,
   "id": "5561e2c0",
   "metadata": {},
   "outputs": [],
   "source": []
  },
  {
   "cell_type": "code",
   "execution_count": null,
   "id": "6fd6b451",
   "metadata": {},
   "outputs": [],
   "source": []
  },
  {
   "cell_type": "code",
   "execution_count": null,
   "id": "ff2cded1",
   "metadata": {},
   "outputs": [],
   "source": []
  },
  {
   "cell_type": "markdown",
   "id": "edcd196f",
   "metadata": {},
   "source": [
    "### Ejercicio 5:\n",
    "-  Haz un histograma con la frecuencia de pokémons por rapidez (Speed).\n",
    "-  Dibuja una línea vertical magenta que corresponda con la mediana.\n",
    "-  Dibuja unas líneas verticales discontinuas de color magenta que correspondan con los cuartiles Q1 y Q3."
   ]
  },
  {
   "cell_type": "code",
   "execution_count": null,
   "id": "fc88fc15",
   "metadata": {},
   "outputs": [],
   "source": []
  },
  {
   "cell_type": "code",
   "execution_count": null,
   "id": "9e4667ac",
   "metadata": {},
   "outputs": [],
   "source": []
  },
  {
   "cell_type": "code",
   "execution_count": null,
   "id": "22aca8ea",
   "metadata": {},
   "outputs": [],
   "source": []
  },
  {
   "cell_type": "markdown",
   "id": "7050c5b7",
   "metadata": {},
   "source": [
    "### Ejercicio 6:\n",
    "- Haz un histograma con los puntos de salud (HP) de los pokémons (Type 1) = \"Fire\"."
   ]
  },
  {
   "cell_type": "code",
   "execution_count": null,
   "id": "2299ac16",
   "metadata": {},
   "outputs": [],
   "source": []
  },
  {
   "cell_type": "code",
   "execution_count": null,
   "id": "4d8a15ef",
   "metadata": {},
   "outputs": [],
   "source": []
  },
  {
   "cell_type": "code",
   "execution_count": null,
   "id": "b6abda9a",
   "metadata": {},
   "outputs": [],
   "source": []
  },
  {
   "cell_type": "markdown",
   "id": "0cd6353e",
   "metadata": {},
   "source": [
    "### Ejercicio 7:\n",
    "- Haz un scatter plot y un scatter hex plot con los valores de \"Attack\" y \"Defense\"de los pokémons."
   ]
  },
  {
   "cell_type": "code",
   "execution_count": null,
   "id": "ef44ef78",
   "metadata": {},
   "outputs": [],
   "source": []
  },
  {
   "cell_type": "code",
   "execution_count": null,
   "id": "134814c5",
   "metadata": {},
   "outputs": [],
   "source": []
  },
  {
   "cell_type": "code",
   "execution_count": null,
   "id": "e12b150b",
   "metadata": {},
   "outputs": [],
   "source": []
  },
  {
   "cell_type": "markdown",
   "id": "aa440fab",
   "metadata": {},
   "source": [
    "### Ejercicio 8:\n",
    "- Haz un scatter hex plot con los valores de \"Attack\" y \"Defense\"de los pokémons tipo \"Water\" y \"Fire\"."
   ]
  },
  {
   "cell_type": "code",
   "execution_count": null,
   "id": "e1a9b6f3",
   "metadata": {},
   "outputs": [],
   "source": []
  },
  {
   "cell_type": "code",
   "execution_count": null,
   "id": "f5f53ea7",
   "metadata": {},
   "outputs": [],
   "source": []
  },
  {
   "cell_type": "code",
   "execution_count": null,
   "id": "8ab3cf97",
   "metadata": {},
   "outputs": [],
   "source": []
  },
  {
   "cell_type": "markdown",
   "id": "18b207da",
   "metadata": {},
   "source": [
    "### Ejercicio 9:\n",
    "- Haz un KDE plot con la salud y el ataque de los pokémons."
   ]
  },
  {
   "cell_type": "code",
   "execution_count": null,
   "id": "284b486a",
   "metadata": {},
   "outputs": [],
   "source": []
  },
  {
   "cell_type": "code",
   "execution_count": null,
   "id": "e972a568",
   "metadata": {},
   "outputs": [],
   "source": []
  },
  {
   "cell_type": "code",
   "execution_count": null,
   "id": "ee72f331",
   "metadata": {},
   "outputs": [],
   "source": []
  },
  {
   "cell_type": "markdown",
   "id": "a20e6ae4",
   "metadata": {},
   "source": [
    "### Ejercicio 10:\n",
    "- Haz una grafica de caja con el ataque de los pokémons legendarios y no legendarios."
   ]
  },
  {
   "cell_type": "code",
   "execution_count": null,
   "id": "c9b10280",
   "metadata": {},
   "outputs": [],
   "source": []
  },
  {
   "cell_type": "code",
   "execution_count": null,
   "id": "6c3cd80a",
   "metadata": {},
   "outputs": [],
   "source": []
  },
  {
   "cell_type": "code",
   "execution_count": null,
   "id": "235fb8ae",
   "metadata": {},
   "outputs": [],
   "source": []
  },
  {
   "cell_type": "markdown",
   "id": "ac98966a",
   "metadata": {},
   "source": [
    "### Ejercicio 11:\n",
    "- Haz una grafica de violin con el ataque de los pokémons legendarios y no legendarios."
   ]
  },
  {
   "cell_type": "code",
   "execution_count": null,
   "id": "a795e222",
   "metadata": {},
   "outputs": [],
   "source": []
  },
  {
   "cell_type": "code",
   "execution_count": null,
   "id": "191872ef",
   "metadata": {},
   "outputs": [],
   "source": []
  },
  {
   "cell_type": "code",
   "execution_count": null,
   "id": "d82f9069",
   "metadata": {},
   "outputs": [],
   "source": []
  },
  {
   "cell_type": "markdown",
   "id": "d012ca83",
   "metadata": {},
   "source": [
    "### Ejercicio 12:\n",
    "- Haz un pairplot y compara los puntos de salud (HP), el ataque y la defensa de los pokémons."
   ]
  },
  {
   "cell_type": "code",
   "execution_count": null,
   "id": "e6bed8be",
   "metadata": {},
   "outputs": [],
   "source": []
  },
  {
   "cell_type": "code",
   "execution_count": null,
   "id": "9111cd9a",
   "metadata": {},
   "outputs": [],
   "source": []
  },
  {
   "cell_type": "code",
   "execution_count": null,
   "id": "7cc301a7",
   "metadata": {},
   "outputs": [],
   "source": []
  },
  {
   "cell_type": "markdown",
   "id": "704d3517",
   "metadata": {},
   "source": [
    "### Ejercicio 13:\n",
    "- Haz boxplots de la variable 'Total' distiguiendo por generación y entre legendarios y no legendarios."
   ]
  },
  {
   "cell_type": "code",
   "execution_count": null,
   "id": "2cd92bef",
   "metadata": {},
   "outputs": [],
   "source": []
  },
  {
   "cell_type": "code",
   "execution_count": null,
   "id": "1f97945c",
   "metadata": {},
   "outputs": [],
   "source": []
  },
  {
   "cell_type": "code",
   "execution_count": null,
   "id": "aa2fc8a0",
   "metadata": {},
   "outputs": [],
   "source": []
  },
  {
   "cell_type": "markdown",
   "id": "5794392b",
   "metadata": {},
   "source": [
    "### Ejercicio 14:\n",
    "- Haz un heatmap para comparar la correlación entre salud, ataque, ataque especial, defensa, defensa especial y velocidad."
   ]
  },
  {
   "cell_type": "code",
   "execution_count": null,
   "id": "bc71b403",
   "metadata": {},
   "outputs": [],
   "source": []
  },
  {
   "cell_type": "code",
   "execution_count": null,
   "id": "d5391973",
   "metadata": {},
   "outputs": [],
   "source": []
  },
  {
   "cell_type": "code",
   "execution_count": null,
   "id": "819d2890",
   "metadata": {},
   "outputs": [],
   "source": []
  },
  {
   "cell_type": "markdown",
   "id": "374a26ce",
   "metadata": {},
   "source": [
    "### Ejercicio 15:\n",
    "- Encontrar los 5 mejores pokémons con respecto a la columna \"Total\", del tipo \"Electric\", \"Fire\", \"Water\" y comparar su salud, ataque, defensa y velocidad en un mapa de calor."
   ]
  },
  {
   "cell_type": "code",
   "execution_count": null,
   "id": "6570bd21",
   "metadata": {},
   "outputs": [],
   "source": []
  },
  {
   "cell_type": "code",
   "execution_count": null,
   "id": "9ad77429",
   "metadata": {},
   "outputs": [],
   "source": []
  },
  {
   "cell_type": "code",
   "execution_count": null,
   "id": "8b0c6345",
   "metadata": {},
   "outputs": [],
   "source": []
  },
  {
   "cell_type": "markdown",
   "id": "0a3475a8",
   "metadata": {},
   "source": [
    "### Ejercicio 16:\n",
    "- Usando FacetGrid obtén un KDE plot del ataque para legendarios y no legendarios.\n",
    "- Repite lo mismo, ahora separándolos también por generaciones en cada fila."
   ]
  },
  {
   "cell_type": "code",
   "execution_count": null,
   "id": "12488332",
   "metadata": {},
   "outputs": [],
   "source": []
  },
  {
   "cell_type": "code",
   "execution_count": null,
   "id": "cf6612b1",
   "metadata": {},
   "outputs": [],
   "source": []
  },
  {
   "cell_type": "code",
   "execution_count": null,
   "id": "2439c7a1",
   "metadata": {},
   "outputs": [],
   "source": []
  }
 ],
 "metadata": {
  "kernelspec": {
   "display_name": "Python 3 (ipykernel)",
   "language": "python",
   "name": "python3"
  },
  "language_info": {
   "codemirror_mode": {
    "name": "ipython",
    "version": 3
   },
   "file_extension": ".py",
   "mimetype": "text/x-python",
   "name": "python",
   "nbconvert_exporter": "python",
   "pygments_lexer": "ipython3",
   "version": "3.12.3"
  }
 },
 "nbformat": 4,
 "nbformat_minor": 5
}
