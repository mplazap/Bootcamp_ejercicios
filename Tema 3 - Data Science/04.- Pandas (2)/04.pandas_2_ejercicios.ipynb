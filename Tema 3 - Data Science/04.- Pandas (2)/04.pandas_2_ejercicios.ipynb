{
 "cells": [
  {
   "cell_type": "markdown",
   "id": "65cccf20",
   "metadata": {},
   "source": [
    "## Ejercicio - pandas 2"
   ]
  },
  {
   "cell_type": "code",
   "execution_count": 1,
   "id": "607b6d66",
   "metadata": {
    "tags": []
   },
   "outputs": [],
   "source": [
    "import numpy as np\n",
    "import pandas as pd"
   ]
  },
  {
   "cell_type": "code",
   "execution_count": 2,
   "id": "8cd54a54-6063-4149-8ae5-d88f52541bbb",
   "metadata": {
    "tags": []
   },
   "outputs": [
    {
     "name": "stdout",
     "output_type": "stream",
     "text": [
      "numpy==1.26.4\n",
      "pandas==2.2.2\n"
     ]
    }
   ],
   "source": [
    "# Versiones\n",
    "print(f\"numpy=={np.__version__}\")\n",
    "print(f\"pandas=={pd.__version__}\")"
   ]
  },
  {
   "cell_type": "markdown",
   "id": "81c36bb1",
   "metadata": {},
   "source": [
    "### Ejercicio 0:\n",
    "- Carga el archivo **titanic.csv** y guardalo en la variable **df**."
   ]
  },
  {
   "cell_type": "code",
   "execution_count": 10,
   "id": "7de6ad27",
   "metadata": {
    "tags": []
   },
   "outputs": [
    {
     "data": {
      "text/html": [
       "<div>\n",
       "<style scoped>\n",
       "    .dataframe tbody tr th:only-of-type {\n",
       "        vertical-align: middle;\n",
       "    }\n",
       "\n",
       "    .dataframe tbody tr th {\n",
       "        vertical-align: top;\n",
       "    }\n",
       "\n",
       "    .dataframe thead th {\n",
       "        text-align: right;\n",
       "    }\n",
       "</style>\n",
       "<table border=\"1\" class=\"dataframe\">\n",
       "  <thead>\n",
       "    <tr style=\"text-align: right;\">\n",
       "      <th></th>\n",
       "      <th>PassengerId</th>\n",
       "      <th>Name</th>\n",
       "      <th>Sex</th>\n",
       "      <th>Age</th>\n",
       "      <th>Survived</th>\n",
       "      <th>Pclass</th>\n",
       "      <th>Ticket</th>\n",
       "      <th>Fare</th>\n",
       "    </tr>\n",
       "  </thead>\n",
       "  <tbody>\n",
       "    <tr>\n",
       "      <th>0</th>\n",
       "      <td>1</td>\n",
       "      <td>Braund, Mr. Owen Harris</td>\n",
       "      <td>male</td>\n",
       "      <td>22.0</td>\n",
       "      <td>0</td>\n",
       "      <td>3</td>\n",
       "      <td>A/5 21171</td>\n",
       "      <td>7.2500</td>\n",
       "    </tr>\n",
       "    <tr>\n",
       "      <th>1</th>\n",
       "      <td>2</td>\n",
       "      <td>Cumings, Mrs. John Bradley (Florence Briggs Th...</td>\n",
       "      <td>female</td>\n",
       "      <td>38.0</td>\n",
       "      <td>1</td>\n",
       "      <td>1</td>\n",
       "      <td>PC 17599</td>\n",
       "      <td>71.2833</td>\n",
       "    </tr>\n",
       "    <tr>\n",
       "      <th>2</th>\n",
       "      <td>3</td>\n",
       "      <td>Heikkinen, Miss. Laina</td>\n",
       "      <td>female</td>\n",
       "      <td>26.0</td>\n",
       "      <td>1</td>\n",
       "      <td>3</td>\n",
       "      <td>STON/O2. 3101282</td>\n",
       "      <td>7.9250</td>\n",
       "    </tr>\n",
       "    <tr>\n",
       "      <th>3</th>\n",
       "      <td>4</td>\n",
       "      <td>Futrelle, Mrs. Jacques Heath (Lily May Peel)</td>\n",
       "      <td>female</td>\n",
       "      <td>35.0</td>\n",
       "      <td>1</td>\n",
       "      <td>1</td>\n",
       "      <td>113803</td>\n",
       "      <td>53.1000</td>\n",
       "    </tr>\n",
       "    <tr>\n",
       "      <th>4</th>\n",
       "      <td>5</td>\n",
       "      <td>Allen, Mr. William Henry</td>\n",
       "      <td>male</td>\n",
       "      <td>35.0</td>\n",
       "      <td>0</td>\n",
       "      <td>3</td>\n",
       "      <td>373450</td>\n",
       "      <td>8.0500</td>\n",
       "    </tr>\n",
       "  </tbody>\n",
       "</table>\n",
       "</div>"
      ],
      "text/plain": [
       "   PassengerId                                               Name     Sex  \\\n",
       "0            1                            Braund, Mr. Owen Harris    male   \n",
       "1            2  Cumings, Mrs. John Bradley (Florence Briggs Th...  female   \n",
       "2            3                             Heikkinen, Miss. Laina  female   \n",
       "3            4       Futrelle, Mrs. Jacques Heath (Lily May Peel)  female   \n",
       "4            5                           Allen, Mr. William Henry    male   \n",
       "\n",
       "    Age  Survived  Pclass            Ticket     Fare  \n",
       "0  22.0         0       3         A/5 21171   7.2500  \n",
       "1  38.0         1       1          PC 17599  71.2833  \n",
       "2  26.0         1       3  STON/O2. 3101282   7.9250  \n",
       "3  35.0         1       1            113803  53.1000  \n",
       "4  35.0         0       3            373450   8.0500  "
      ]
     },
     "execution_count": 10,
     "metadata": {},
     "output_type": "execute_result"
    }
   ],
   "source": [
    "df = pd.read_csv(\"../Data/titanic.csv\")\n",
    "df.head() # Mostramos las 5 primeras filas"
   ]
  },
  {
   "cell_type": "markdown",
   "id": "8bba03c4",
   "metadata": {},
   "source": [
    "### Ejercicio 1:\n",
    "- Muestra la información del DataFrame."
   ]
  },
  {
   "cell_type": "code",
   "execution_count": 5,
   "id": "ca4be22c",
   "metadata": {},
   "outputs": [
    {
     "name": "stdout",
     "output_type": "stream",
     "text": [
      "<class 'pandas.core.frame.DataFrame'>\n",
      "RangeIndex: 891 entries, 0 to 890\n",
      "Data columns (total 8 columns):\n",
      " #   Column       Non-Null Count  Dtype  \n",
      "---  ------       --------------  -----  \n",
      " 0   PassengerId  891 non-null    int64  \n",
      " 1   Name         891 non-null    object \n",
      " 2   Sex          891 non-null    object \n",
      " 3   Age          714 non-null    float64\n",
      " 4   Survived     891 non-null    int64  \n",
      " 5   Pclass       891 non-null    int64  \n",
      " 6   Ticket       891 non-null    object \n",
      " 7   Fare         891 non-null    float64\n",
      "dtypes: float64(2), int64(3), object(3)\n",
      "memory usage: 55.8+ KB\n"
     ]
    }
   ],
   "source": [
    "df.info()"
   ]
  },
  {
   "cell_type": "markdown",
   "id": "a50f68aa",
   "metadata": {},
   "source": [
    "### Ejercicio 2:\n",
    "- Cambia las columnas del tipo **\"object\"** a tipo **\"category\"**."
   ]
  },
  {
   "cell_type": "code",
   "execution_count": 6,
   "id": "9dc5f03b",
   "metadata": {},
   "outputs": [
    {
     "data": {
      "text/plain": [
       "0        male\n",
       "1      female\n",
       "2      female\n",
       "3      female\n",
       "4        male\n",
       "        ...  \n",
       "886      male\n",
       "887    female\n",
       "888    female\n",
       "889      male\n",
       "890      male\n",
       "Name: Sex, Length: 891, dtype: category\n",
       "Categories (2, object): ['female', 'male']"
      ]
     },
     "execution_count": 6,
     "metadata": {},
     "output_type": "execute_result"
    }
   ],
   "source": [
    "# De una en una\n",
    "df['Sex'].astype('category') # Asi no se guarda\n",
    "\n",
    "df['Sex'] = df['Sex'].astype('category') # Asi si se guarda"
   ]
  },
  {
   "cell_type": "code",
   "execution_count": 8,
   "id": "04b61d8d",
   "metadata": {},
   "outputs": [
    {
     "name": "stdout",
     "output_type": "stream",
     "text": [
      "<class 'pandas.core.frame.DataFrame'>\n",
      "RangeIndex: 891 entries, 0 to 890\n",
      "Data columns (total 8 columns):\n",
      " #   Column       Non-Null Count  Dtype   \n",
      "---  ------       --------------  -----   \n",
      " 0   PassengerId  891 non-null    int64   \n",
      " 1   Name         891 non-null    category\n",
      " 2   Sex          891 non-null    category\n",
      " 3   Age          714 non-null    float64 \n",
      " 4   Survived     891 non-null    int64   \n",
      " 5   Pclass       891 non-null    int64   \n",
      " 6   Ticket       891 non-null    category\n",
      " 7   Fare         891 non-null    float64 \n",
      "dtypes: category(3), float64(2), int64(3)\n",
      "memory usage: 100.1 KB\n"
     ]
    }
   ],
   "source": [
    "# Mas de una a la vez\n",
    "df[['Sex', 'Ticket', 'Name']] = df[['Sex', 'Ticket', 'Name']].astype('category')\n",
    "df.info()"
   ]
  },
  {
   "cell_type": "markdown",
   "id": "8ec43403",
   "metadata": {},
   "source": [
    "### Ejercicio 3:\n",
    "- Obten un DataFrame solo con hombres."
   ]
  },
  {
   "cell_type": "code",
   "execution_count": 11,
   "id": "76a8c1bc",
   "metadata": {},
   "outputs": [],
   "source": [
    "# Solo el filtro sin guardar\n",
    "df[\"Sex\"] == \"Male\"\n",
    "\n",
    "# Se hace el filtro y se guarda en df_male a la vez\n",
    "df_male = df[df[\"Sex\"] == \"Male\"] "
   ]
  },
  {
   "cell_type": "markdown",
   "id": "e5c5e0bd",
   "metadata": {},
   "source": [
    "### Ejercicio 4:\n",
    "- Obten un DataFrame con los pasajeros de clase 1 y 2."
   ]
  },
  {
   "cell_type": "code",
   "execution_count": null,
   "id": "d091e031",
   "metadata": {},
   "outputs": [],
   "source": [
    "df[(df[\"Pclass\"] == 1) | (df[\"Pclass\"] == 2)]"
   ]
  },
  {
   "cell_type": "code",
   "execution_count": null,
   "id": "334b3272",
   "metadata": {},
   "outputs": [],
   "source": [
    "df[df[\"Pclass\"].isin([1,2])] # Es lo mismo que el anterior pero en una sola linea"
   ]
  },
  {
   "cell_type": "markdown",
   "id": "f5db0e99",
   "metadata": {},
   "source": [
    "### Ejercicio 5:\n",
    "- Obten un DataFrame con los pasajeros de la clase 1 y 3, menores a 30 años."
   ]
  },
  {
   "cell_type": "code",
   "execution_count": null,
   "id": "74e09ee4",
   "metadata": {},
   "outputs": [],
   "source": [
    "df[(df[\"Pclass\"].isin([1,3])) & (df[\"Age\"] < 30) ]"
   ]
  },
  {
   "cell_type": "code",
   "execution_count": null,
   "id": "bd0a3964",
   "metadata": {},
   "outputs": [],
   "source": [
    "# Lo mismo que el de arriba pero desglosado\n",
    "clase_1_3 = df[\"Pclass\"].isin([1,3])\n",
    "menor_30 = df[\"Age\"] < 30\n",
    "df[clase_1_3 & menor_30]"
   ]
  },
  {
   "cell_type": "markdown",
   "id": "64c8f82d",
   "metadata": {},
   "source": [
    "### Ejercicio 6:\n",
    "- Obten un DataFrame con los pasajeros entre 20 y 30 años."
   ]
  },
  {
   "cell_type": "code",
   "execution_count": null,
   "id": "9c39caab",
   "metadata": {},
   "outputs": [],
   "source": [
    "df[(df[\"Age\"].between(20, 30))]"
   ]
  },
  {
   "cell_type": "code",
   "execution_count": null,
   "id": "d1e5f60b",
   "metadata": {},
   "outputs": [],
   "source": [
    "df[(df[\"Age\"].between(20, 30))].describe()"
   ]
  },
  {
   "cell_type": "markdown",
   "id": "82abbe64",
   "metadata": {},
   "source": [
    "### Ejercicio 7:\n",
    "- Obten un DataFrame con los pasajeros menores a 25 años y mayores a 50 años."
   ]
  },
  {
   "cell_type": "code",
   "execution_count": null,
   "id": "c9b70dcf",
   "metadata": {},
   "outputs": [],
   "source": [
    "# Usamos el filtro Between para el resultado opuesto de Between\n",
    "df[~(df['Age'].between(25, 50))]"
   ]
  },
  {
   "cell_type": "markdown",
   "id": "d229482f",
   "metadata": {},
   "source": [
    "### Ejercicio 8:\n",
    "- Remplaza los valores de sexo, por M para male y F para female."
   ]
  },
  {
   "cell_type": "code",
   "execution_count": null,
   "id": "b27f19e2",
   "metadata": {
    "tags": []
   },
   "outputs": [],
   "source": [
    "# Paso1 - Crear un diccionario de python que tenga clave M y valor male, clave F y valor female\n",
    "# Las claves a mapear deben coincidir exactamentye con valor que ya exista en la columna\n",
    "genero_dic = {\n",
    "    \"male\" : \"M\",\n",
    "    \"female\" : \"F\"\n",
    "}\n",
    "# Paso2 - Pasar el diccionario como parametro de la funcion .map sobre la columna genero\n",
    "# df['Sex'] = df['Sex'].map(genero_dic) Asi se guarda\n",
    "df['Sex'].map(genero_dic) # Asi no se guarda\n",
    "# Si hay algun NaN es porque co coincide con lo que esta escrito en la columna"
   ]
  },
  {
   "cell_type": "markdown",
   "id": "18ee25b5",
   "metadata": {},
   "source": [
    "### Ejercicio 9:\n",
    "- Convierte en mayusculas todos los nombres de los pasajeros."
   ]
  },
  {
   "cell_type": "code",
   "execution_count": 13,
   "id": "55519fba",
   "metadata": {},
   "outputs": [
    {
     "data": {
      "text/plain": [
       "0                                BRAUND, MR. OWEN HARRIS\n",
       "1      CUMINGS, MRS. JOHN BRADLEY (FLORENCE BRIGGS TH...\n",
       "2                                 HEIKKINEN, MISS. LAINA\n",
       "3           FUTRELLE, MRS. JACQUES HEATH (LILY MAY PEEL)\n",
       "4                               ALLEN, MR. WILLIAM HENRY\n",
       "                             ...                        \n",
       "886                                MONTVILA, REV. JUOZAS\n",
       "887                         GRAHAM, MISS. MARGARET EDITH\n",
       "888             JOHNSTON, MISS. CATHERINE HELEN \"CARRIE\"\n",
       "889                                BEHR, MR. KARL HOWELL\n",
       "890                                  DOOLEY, MR. PATRICK\n",
       "Name: Name, Length: 891, dtype: object"
      ]
     },
     "execution_count": 13,
     "metadata": {},
     "output_type": "execute_result"
    }
   ],
   "source": [
    "# Con la funcion Apply, recibe una funcion def o una funcion lamba\n",
    "def con_mayu(text):\n",
    "    return text.upper()\n",
    "df['Name'].apply(con_mayu)\n"
   ]
  },
  {
   "cell_type": "code",
   "execution_count": 16,
   "id": "fc495902",
   "metadata": {},
   "outputs": [
    {
     "data": {
      "text/plain": [
       "0                                BRAUND, MR. OWEN HARRIS\n",
       "1      CUMINGS, MRS. JOHN BRADLEY (FLORENCE BRIGGS TH...\n",
       "2                                 HEIKKINEN, MISS. LAINA\n",
       "3           FUTRELLE, MRS. JACQUES HEATH (LILY MAY PEEL)\n",
       "4                               ALLEN, MR. WILLIAM HENRY\n",
       "                             ...                        \n",
       "886                                MONTVILA, REV. JUOZAS\n",
       "887                         GRAHAM, MISS. MARGARET EDITH\n",
       "888             JOHNSTON, MISS. CATHERINE HELEN \"CARRIE\"\n",
       "889                                BEHR, MR. KARL HOWELL\n",
       "890                                  DOOLEY, MR. PATRICK\n",
       "Name: Name, Length: 891, dtype: object"
      ]
     },
     "execution_count": 16,
     "metadata": {},
     "output_type": "execute_result"
    }
   ],
   "source": [
    "# Con una lambda cuando la transformacio requiere poco codigo\n",
    "df['Name'].apply(lambda name: name.upper())"
   ]
  },
  {
   "cell_type": "code",
   "execution_count": 15,
   "id": "ece978d1",
   "metadata": {},
   "outputs": [
    {
     "data": {
      "text/plain": [
       "0                                BRAUND, MR. OWEN HARRIS\n",
       "1      CUMINGS, MRS. JOHN BRADLEY (FLORENCE BRIGGS TH...\n",
       "2                                 HEIKKINEN, MISS. LAINA\n",
       "3           FUTRELLE, MRS. JACQUES HEATH (LILY MAY PEEL)\n",
       "4                               ALLEN, MR. WILLIAM HENRY\n",
       "                             ...                        \n",
       "886                                MONTVILA, REV. JUOZAS\n",
       "887                         GRAHAM, MISS. MARGARET EDITH\n",
       "888             JOHNSTON, MISS. CATHERINE HELEN \"CARRIE\"\n",
       "889                                BEHR, MR. KARL HOWELL\n",
       "890                                  DOOLEY, MR. PATRICK\n",
       "Name: Name, Length: 891, dtype: object"
      ]
     },
     "execution_count": 15,
     "metadata": {},
     "output_type": "execute_result"
    }
   ],
   "source": [
    "# Otra version mas reducida\n",
    "df['Name'].apply(str.upper)"
   ]
  },
  {
   "cell_type": "code",
   "execution_count": 18,
   "id": "faab986d",
   "metadata": {},
   "outputs": [
    {
     "data": {
      "text/plain": [
       "Sex\n",
       "male      577\n",
       "female    314\n",
       "Name: count, dtype: int64"
      ]
     },
     "execution_count": 18,
     "metadata": {},
     "output_type": "execute_result"
    }
   ],
   "source": [
    "# Value counts\n",
    "df['Sex'].value_counts()"
   ]
  },
  {
   "cell_type": "code",
   "execution_count": 22,
   "id": "29d56ebd-0ef7-4100-8dd0-492118d2b4f6",
   "metadata": {},
   "outputs": [
    {
     "data": {
      "text/html": [
       "<div>\n",
       "<style scoped>\n",
       "    .dataframe tbody tr th:only-of-type {\n",
       "        vertical-align: middle;\n",
       "    }\n",
       "\n",
       "    .dataframe tbody tr th {\n",
       "        vertical-align: top;\n",
       "    }\n",
       "\n",
       "    .dataframe thead th {\n",
       "        text-align: right;\n",
       "    }\n",
       "</style>\n",
       "<table border=\"1\" class=\"dataframe\">\n",
       "  <thead>\n",
       "    <tr style=\"text-align: right;\">\n",
       "      <th></th>\n",
       "      <th>PassengerId</th>\n",
       "      <th>Name</th>\n",
       "      <th>Sex</th>\n",
       "      <th>Age</th>\n",
       "      <th>Survived</th>\n",
       "      <th>Pclass</th>\n",
       "      <th>Ticket</th>\n",
       "      <th>Fare</th>\n",
       "    </tr>\n",
       "  </thead>\n",
       "  <tbody>\n",
       "    <tr>\n",
       "      <th>5</th>\n",
       "      <td>6</td>\n",
       "      <td>Moran, Mr. James</td>\n",
       "      <td>male</td>\n",
       "      <td>NaN</td>\n",
       "      <td>0</td>\n",
       "      <td>3</td>\n",
       "      <td>330877</td>\n",
       "      <td>8.4583</td>\n",
       "    </tr>\n",
       "    <tr>\n",
       "      <th>17</th>\n",
       "      <td>18</td>\n",
       "      <td>Williams, Mr. Charles Eugene</td>\n",
       "      <td>male</td>\n",
       "      <td>NaN</td>\n",
       "      <td>1</td>\n",
       "      <td>2</td>\n",
       "      <td>244373</td>\n",
       "      <td>13.0000</td>\n",
       "    </tr>\n",
       "    <tr>\n",
       "      <th>19</th>\n",
       "      <td>20</td>\n",
       "      <td>Masselmani, Mrs. Fatima</td>\n",
       "      <td>female</td>\n",
       "      <td>NaN</td>\n",
       "      <td>1</td>\n",
       "      <td>3</td>\n",
       "      <td>2649</td>\n",
       "      <td>7.2250</td>\n",
       "    </tr>\n",
       "    <tr>\n",
       "      <th>26</th>\n",
       "      <td>27</td>\n",
       "      <td>Emir, Mr. Farred Chehab</td>\n",
       "      <td>male</td>\n",
       "      <td>NaN</td>\n",
       "      <td>0</td>\n",
       "      <td>3</td>\n",
       "      <td>2631</td>\n",
       "      <td>7.2250</td>\n",
       "    </tr>\n",
       "    <tr>\n",
       "      <th>28</th>\n",
       "      <td>29</td>\n",
       "      <td>O'Dwyer, Miss. Ellen \"Nellie\"</td>\n",
       "      <td>female</td>\n",
       "      <td>NaN</td>\n",
       "      <td>1</td>\n",
       "      <td>3</td>\n",
       "      <td>330959</td>\n",
       "      <td>7.8792</td>\n",
       "    </tr>\n",
       "    <tr>\n",
       "      <th>...</th>\n",
       "      <td>...</td>\n",
       "      <td>...</td>\n",
       "      <td>...</td>\n",
       "      <td>...</td>\n",
       "      <td>...</td>\n",
       "      <td>...</td>\n",
       "      <td>...</td>\n",
       "      <td>...</td>\n",
       "    </tr>\n",
       "    <tr>\n",
       "      <th>859</th>\n",
       "      <td>860</td>\n",
       "      <td>Razi, Mr. Raihed</td>\n",
       "      <td>male</td>\n",
       "      <td>NaN</td>\n",
       "      <td>0</td>\n",
       "      <td>3</td>\n",
       "      <td>2629</td>\n",
       "      <td>7.2292</td>\n",
       "    </tr>\n",
       "    <tr>\n",
       "      <th>863</th>\n",
       "      <td>864</td>\n",
       "      <td>Sage, Miss. Dorothy Edith \"Dolly\"</td>\n",
       "      <td>female</td>\n",
       "      <td>NaN</td>\n",
       "      <td>0</td>\n",
       "      <td>3</td>\n",
       "      <td>CA. 2343</td>\n",
       "      <td>69.5500</td>\n",
       "    </tr>\n",
       "    <tr>\n",
       "      <th>868</th>\n",
       "      <td>869</td>\n",
       "      <td>van Melkebeke, Mr. Philemon</td>\n",
       "      <td>male</td>\n",
       "      <td>NaN</td>\n",
       "      <td>0</td>\n",
       "      <td>3</td>\n",
       "      <td>345777</td>\n",
       "      <td>9.5000</td>\n",
       "    </tr>\n",
       "    <tr>\n",
       "      <th>878</th>\n",
       "      <td>879</td>\n",
       "      <td>Laleff, Mr. Kristo</td>\n",
       "      <td>male</td>\n",
       "      <td>NaN</td>\n",
       "      <td>0</td>\n",
       "      <td>3</td>\n",
       "      <td>349217</td>\n",
       "      <td>7.8958</td>\n",
       "    </tr>\n",
       "    <tr>\n",
       "      <th>888</th>\n",
       "      <td>889</td>\n",
       "      <td>Johnston, Miss. Catherine Helen \"Carrie\"</td>\n",
       "      <td>female</td>\n",
       "      <td>NaN</td>\n",
       "      <td>0</td>\n",
       "      <td>3</td>\n",
       "      <td>W./C. 6607</td>\n",
       "      <td>23.4500</td>\n",
       "    </tr>\n",
       "  </tbody>\n",
       "</table>\n",
       "<p>177 rows × 8 columns</p>\n",
       "</div>"
      ],
      "text/plain": [
       "     PassengerId                                      Name     Sex  Age  \\\n",
       "5              6                          Moran, Mr. James    male  NaN   \n",
       "17            18              Williams, Mr. Charles Eugene    male  NaN   \n",
       "19            20                   Masselmani, Mrs. Fatima  female  NaN   \n",
       "26            27                   Emir, Mr. Farred Chehab    male  NaN   \n",
       "28            29             O'Dwyer, Miss. Ellen \"Nellie\"  female  NaN   \n",
       "..           ...                                       ...     ...  ...   \n",
       "859          860                          Razi, Mr. Raihed    male  NaN   \n",
       "863          864         Sage, Miss. Dorothy Edith \"Dolly\"  female  NaN   \n",
       "868          869               van Melkebeke, Mr. Philemon    male  NaN   \n",
       "878          879                        Laleff, Mr. Kristo    male  NaN   \n",
       "888          889  Johnston, Miss. Catherine Helen \"Carrie\"  female  NaN   \n",
       "\n",
       "     Survived  Pclass      Ticket     Fare  \n",
       "5           0       3      330877   8.4583  \n",
       "17          1       2      244373  13.0000  \n",
       "19          1       3        2649   7.2250  \n",
       "26          0       3        2631   7.2250  \n",
       "28          1       3      330959   7.8792  \n",
       "..        ...     ...         ...      ...  \n",
       "859         0       3        2629   7.2292  \n",
       "863         0       3    CA. 2343  69.5500  \n",
       "868         0       3      345777   9.5000  \n",
       "878         0       3      349217   7.8958  \n",
       "888         0       3  W./C. 6607  23.4500  \n",
       "\n",
       "[177 rows x 8 columns]"
      ]
     },
     "execution_count": 22,
     "metadata": {},
     "output_type": "execute_result"
    }
   ],
   "source": [
    "nulos = df['Age'].isnull()\n",
    "df[nulos]"
   ]
  },
  {
   "cell_type": "code",
   "execution_count": 23,
   "id": "60597ea9",
   "metadata": {},
   "outputs": [
    {
     "data": {
      "text/plain": [
       "PassengerId      0\n",
       "Name             0\n",
       "Sex              0\n",
       "Age            177\n",
       "Survived         0\n",
       "Pclass           0\n",
       "Ticket           0\n",
       "Fare             0\n",
       "dtype: int64"
      ]
     },
     "execution_count": 23,
     "metadata": {},
     "output_type": "execute_result"
    }
   ],
   "source": [
    "df.isnull().sum() # Suma los NaN de cada columna y muestra la suma"
   ]
  },
  {
   "cell_type": "code",
   "execution_count": 24,
   "id": "9c91a2d9",
   "metadata": {},
   "outputs": [
    {
     "data": {
      "text/plain": [
       "PassengerId     0.00000\n",
       "Name            0.00000\n",
       "Sex             0.00000\n",
       "Age            19.86532\n",
       "Survived        0.00000\n",
       "Pclass          0.00000\n",
       "Ticket          0.00000\n",
       "Fare            0.00000\n",
       "dtype: float64"
      ]
     },
     "execution_count": 24,
     "metadata": {},
     "output_type": "execute_result"
    }
   ],
   "source": [
    "df.isnull().sum()*100/df.shape[0] # Porcentaje de nulos"
   ]
  },
  {
   "cell_type": "code",
   "execution_count": null,
   "id": "b1432608",
   "metadata": {},
   "outputs": [],
   "source": [
    "# Rellenar nulos numericos con la mediana\n",
    "df['Age'].fillna(df['Age'].median())"
   ]
  },
  {
   "cell_type": "code",
   "execution_count": null,
   "id": "4ee3d712",
   "metadata": {},
   "outputs": [],
   "source": []
  },
  {
   "cell_type": "code",
   "execution_count": null,
   "id": "9a5d7d00-3061-41d4-84b4-a0e199f462b8",
   "metadata": {},
   "outputs": [],
   "source": [
    "################################################################################################################################"
   ]
  }
 ],
 "metadata": {
  "kernelspec": {
   "display_name": "base",
   "language": "python",
   "name": "python3"
  },
  "language_info": {
   "codemirror_mode": {
    "name": "ipython",
    "version": 3
   },
   "file_extension": ".py",
   "mimetype": "text/x-python",
   "name": "python",
   "nbconvert_exporter": "python",
   "pygments_lexer": "ipython3",
   "version": "3.12.7"
  }
 },
 "nbformat": 4,
 "nbformat_minor": 5
}
