{
 "cells": [
  {
   "cell_type": "markdown",
   "id": "65cccf20",
   "metadata": {},
   "source": [
    "## Ejercicio - pandas 2"
   ]
  },
  {
   "cell_type": "code",
   "execution_count": null,
   "id": "607b6d66",
   "metadata": {
    "tags": []
   },
   "outputs": [],
   "source": [
    "import numpy as np\n",
    "import pandas as pd"
   ]
  },
  {
   "cell_type": "code",
   "execution_count": null,
   "id": "8cd54a54-6063-4149-8ae5-d88f52541bbb",
   "metadata": {
    "tags": []
   },
   "outputs": [],
   "source": [
    "# Versiones\n",
    "\n",
    "print(f\"numpy=={np.__version__}\")\n",
    "print(f\"pandas=={pd.__version__}\")"
   ]
  },
  {
   "cell_type": "markdown",
   "id": "81c36bb1",
   "metadata": {},
   "source": [
    "### Ejercicio 0:\n",
    "- Carga el archivo **titanic.csv** y guardalo en la variable **df**."
   ]
  },
  {
   "cell_type": "code",
   "execution_count": null,
   "id": "7de6ad27",
   "metadata": {
    "tags": []
   },
   "outputs": [],
   "source": []
  },
  {
   "cell_type": "markdown",
   "id": "8bba03c4",
   "metadata": {},
   "source": [
    "### Ejercicio 1:\n",
    "- Muestra la información del DataFrame."
   ]
  },
  {
   "cell_type": "code",
   "execution_count": null,
   "id": "ca4be22c",
   "metadata": {},
   "outputs": [],
   "source": []
  },
  {
   "cell_type": "code",
   "execution_count": null,
   "id": "908b4748",
   "metadata": {},
   "outputs": [],
   "source": []
  },
  {
   "cell_type": "code",
   "execution_count": null,
   "id": "9fdd6bb2",
   "metadata": {},
   "outputs": [],
   "source": []
  },
  {
   "cell_type": "markdown",
   "id": "a50f68aa",
   "metadata": {},
   "source": [
    "### Ejercicio 2:\n",
    "- Cambia las columnas del tipo **\"object\"** a tipo **\"category\"**."
   ]
  },
  {
   "cell_type": "code",
   "execution_count": null,
   "id": "9dc5f03b",
   "metadata": {},
   "outputs": [],
   "source": []
  },
  {
   "cell_type": "code",
   "execution_count": null,
   "id": "04b61d8d",
   "metadata": {},
   "outputs": [],
   "source": []
  },
  {
   "cell_type": "code",
   "execution_count": null,
   "id": "9f727ea6",
   "metadata": {},
   "outputs": [],
   "source": []
  },
  {
   "cell_type": "markdown",
   "id": "8ec43403",
   "metadata": {},
   "source": [
    "### Ejercicio 3:\n",
    "- Obten un DataFrame solo con hombres."
   ]
  },
  {
   "cell_type": "code",
   "execution_count": null,
   "id": "76a8c1bc",
   "metadata": {},
   "outputs": [],
   "source": []
  },
  {
   "cell_type": "code",
   "execution_count": null,
   "id": "9480ce5f",
   "metadata": {},
   "outputs": [],
   "source": []
  },
  {
   "cell_type": "code",
   "execution_count": null,
   "id": "9bb1a82c",
   "metadata": {},
   "outputs": [],
   "source": []
  },
  {
   "cell_type": "markdown",
   "id": "e5c5e0bd",
   "metadata": {},
   "source": [
    "### Ejercicio 4:\n",
    "- Obten un DataFrame con los pasajeros de clase 1 y 2."
   ]
  },
  {
   "cell_type": "code",
   "execution_count": null,
   "id": "d091e031",
   "metadata": {},
   "outputs": [],
   "source": []
  },
  {
   "cell_type": "code",
   "execution_count": null,
   "id": "334b3272",
   "metadata": {},
   "outputs": [],
   "source": []
  },
  {
   "cell_type": "code",
   "execution_count": null,
   "id": "039e5d18",
   "metadata": {},
   "outputs": [],
   "source": []
  },
  {
   "cell_type": "markdown",
   "id": "f5db0e99",
   "metadata": {},
   "source": [
    "### Ejercicio 5:\n",
    "- Obten un DataFrame con los pasajeros de la clase 1 y 3, menores a 30 años."
   ]
  },
  {
   "cell_type": "code",
   "execution_count": null,
   "id": "74e09ee4",
   "metadata": {},
   "outputs": [],
   "source": []
  },
  {
   "cell_type": "code",
   "execution_count": null,
   "id": "bd0a3964",
   "metadata": {},
   "outputs": [],
   "source": []
  },
  {
   "cell_type": "code",
   "execution_count": null,
   "id": "810403fb",
   "metadata": {},
   "outputs": [],
   "source": []
  },
  {
   "cell_type": "markdown",
   "id": "64c8f82d",
   "metadata": {},
   "source": [
    "### Ejercicio 6:\n",
    "- Obten un DataFrame con los pasajeros entre 20 y 30 años."
   ]
  },
  {
   "cell_type": "code",
   "execution_count": null,
   "id": "9c39caab",
   "metadata": {},
   "outputs": [],
   "source": []
  },
  {
   "cell_type": "code",
   "execution_count": null,
   "id": "d1e5f60b",
   "metadata": {},
   "outputs": [],
   "source": []
  },
  {
   "cell_type": "code",
   "execution_count": null,
   "id": "c766dd79",
   "metadata": {},
   "outputs": [],
   "source": []
  },
  {
   "cell_type": "markdown",
   "id": "82abbe64",
   "metadata": {},
   "source": [
    "### Ejercicio 7:\n",
    "- Obten un DataFrame con los pasajeros menores a 25 años y mayores a 50 años."
   ]
  },
  {
   "cell_type": "code",
   "execution_count": null,
   "id": "c9b70dcf",
   "metadata": {},
   "outputs": [],
   "source": []
  },
  {
   "cell_type": "code",
   "execution_count": null,
   "id": "70c26922",
   "metadata": {},
   "outputs": [],
   "source": []
  },
  {
   "cell_type": "code",
   "execution_count": null,
   "id": "af7f1ac6",
   "metadata": {},
   "outputs": [],
   "source": []
  },
  {
   "cell_type": "markdown",
   "id": "d229482f",
   "metadata": {},
   "source": [
    "### Ejercicio 8:\n",
    "- Remplaza los valores de sexo, por M para male y F para female."
   ]
  },
  {
   "cell_type": "code",
   "execution_count": null,
   "id": "b27f19e2",
   "metadata": {
    "tags": []
   },
   "outputs": [],
   "source": []
  },
  {
   "cell_type": "code",
   "execution_count": null,
   "id": "ad358a00",
   "metadata": {
    "tags": []
   },
   "outputs": [],
   "source": []
  },
  {
   "cell_type": "code",
   "execution_count": null,
   "id": "fd94757e",
   "metadata": {},
   "outputs": [],
   "source": []
  },
  {
   "cell_type": "markdown",
   "id": "18ee25b5",
   "metadata": {},
   "source": [
    "### Ejercicio 9:\n",
    "- Convierte en mayusculas todos los nombres de los pasajeros."
   ]
  },
  {
   "cell_type": "code",
   "execution_count": null,
   "id": "55519fba",
   "metadata": {},
   "outputs": [],
   "source": []
  },
  {
   "cell_type": "code",
   "execution_count": null,
   "id": "faab986d",
   "metadata": {},
   "outputs": [],
   "source": []
  },
  {
   "cell_type": "code",
   "execution_count": null,
   "id": "29d56ebd-0ef7-4100-8dd0-492118d2b4f6",
   "metadata": {},
   "outputs": [],
   "source": []
  },
  {
   "cell_type": "code",
   "execution_count": null,
   "id": "9a5d7d00-3061-41d4-84b4-a0e199f462b8",
   "metadata": {},
   "outputs": [],
   "source": [
    "################################################################################################################################"
   ]
  }
 ],
 "metadata": {
  "kernelspec": {
   "display_name": "Python 3 (ipykernel)",
   "language": "python",
   "name": "python3"
  },
  "language_info": {
   "codemirror_mode": {
    "name": "ipython",
    "version": 3
   },
   "file_extension": ".py",
   "mimetype": "text/x-python",
   "name": "python",
   "nbconvert_exporter": "python",
   "pygments_lexer": "ipython3",
   "version": "3.11.5"
  }
 },
 "nbformat": 4,
 "nbformat_minor": 5
}
