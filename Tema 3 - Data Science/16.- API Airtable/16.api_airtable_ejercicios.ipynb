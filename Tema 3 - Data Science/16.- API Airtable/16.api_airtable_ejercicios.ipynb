{
 "cells": [
  {
   "cell_type": "markdown",
   "id": "db36edab",
   "metadata": {},
   "source": [
    "## Ejercicios Airtable"
   ]
  },
  {
   "cell_type": "code",
   "execution_count": null,
   "id": "fb2721a7",
   "metadata": {},
   "outputs": [],
   "source": [
    "import numpy as np\n",
    "import pandas as pd\n",
    "from time import sleep\n",
    "\n",
    "import requests\n",
    "\n",
    "from pprint import pprint"
   ]
  },
  {
   "cell_type": "code",
   "execution_count": null,
   "id": "308e09e4-2b63-4a8b-938c-f17e2f37eaf2",
   "metadata": {},
   "outputs": [],
   "source": [
    "# Versiones\n",
    "\n",
    "print(f\"numpy=={np.__version__}\")\n",
    "print(f\"pandas=={pd.__version__}\")\n",
    "print(f\"requests=={requests.__version__}\")"
   ]
  },
  {
   "cell_type": "markdown",
   "id": "c0132d97",
   "metadata": {},
   "source": [
    "### Ejercicio 1:\n",
    "- Crear una tabla en **Airtable** y cargar los datos de las recetas de ensaladas del ejercicios de **Web Scraping** con **BeautifulSoup**.\n",
    "\n",
    "- Si tienes algúna otra información o datos puedes usarlos para hacer este ejercicio.\n",
    "\n",
    "- **Recuerda que el nombre y el tipo de dato de las columnas del DataFrame deben ser iguales a las columnas de Airtable.**"
   ]
  },
  {
   "cell_type": "code",
   "execution_count": null,
   "id": "0a6a2a81",
   "metadata": {},
   "outputs": [],
   "source": [
    "API_KEY = \"\" # Usuario\n",
    "\n",
    "BASE_ID = \"\" # Base: Tabla API\n",
    "\n",
    "TABLE_ID = \"\" # Tabla: Ensaladas API\n",
    "\n",
    "airtable_base_url = \"https://api.airtable.com/v0\"\n",
    "\n",
    "# Headers\n",
    "headers = {\"Authorization\" : f\"Bearer {API_KEY}\",\n",
    "           \"Content-Type\"  : \"application/json\"}"
   ]
  },
  {
   "cell_type": "code",
   "execution_count": null,
   "id": "cae30f63",
   "metadata": {},
   "outputs": [],
   "source": []
  },
  {
   "cell_type": "code",
   "execution_count": null,
   "id": "1f4ce5c4",
   "metadata": {},
   "outputs": [],
   "source": []
  },
  {
   "cell_type": "code",
   "execution_count": null,
   "id": "b8476970",
   "metadata": {},
   "outputs": [],
   "source": []
  },
  {
   "cell_type": "code",
   "execution_count": null,
   "id": "fc634bb2",
   "metadata": {},
   "outputs": [],
   "source": []
  },
  {
   "cell_type": "code",
   "execution_count": null,
   "id": "2b2057be",
   "metadata": {},
   "outputs": [],
   "source": []
  },
  {
   "cell_type": "code",
   "execution_count": null,
   "id": "af9f323f",
   "metadata": {},
   "outputs": [],
   "source": []
  },
  {
   "cell_type": "code",
   "execution_count": null,
   "id": "b109baa7",
   "metadata": {},
   "outputs": [],
   "source": []
  },
  {
   "cell_type": "markdown",
   "id": "71d8d5fd",
   "metadata": {},
   "source": [
    "### Ejercicio 2:\n",
    "- Extrae todos los datos de la tabla de **Airtable** y transformalo en un DataFrame.\n",
    "- Elimina la tabla usando el endpoint **DELETE**."
   ]
  },
  {
   "cell_type": "code",
   "execution_count": null,
   "id": "3e503720",
   "metadata": {},
   "outputs": [],
   "source": []
  },
  {
   "cell_type": "code",
   "execution_count": null,
   "id": "2b6b5ea9",
   "metadata": {},
   "outputs": [],
   "source": []
  },
  {
   "cell_type": "code",
   "execution_count": null,
   "id": "7ff2886c",
   "metadata": {},
   "outputs": [],
   "source": []
  },
  {
   "cell_type": "code",
   "execution_count": null,
   "id": "56e065a5",
   "metadata": {},
   "outputs": [],
   "source": []
  },
  {
   "cell_type": "code",
   "execution_count": null,
   "id": "7b8385c6",
   "metadata": {},
   "outputs": [],
   "source": []
  }
 ],
 "metadata": {
  "kernelspec": {
   "display_name": "Python 3 (ipykernel)",
   "language": "python",
   "name": "python3"
  },
  "language_info": {
   "codemirror_mode": {
    "name": "ipython",
    "version": 3
   },
   "file_extension": ".py",
   "mimetype": "text/x-python",
   "name": "python",
   "nbconvert_exporter": "python",
   "pygments_lexer": "ipython3",
   "version": "3.12.3"
  }
 },
 "nbformat": 4,
 "nbformat_minor": 5
}
