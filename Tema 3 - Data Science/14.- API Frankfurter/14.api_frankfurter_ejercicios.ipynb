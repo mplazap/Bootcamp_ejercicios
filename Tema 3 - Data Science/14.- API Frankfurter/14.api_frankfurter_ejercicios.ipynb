{
 "cells": [
  {
   "cell_type": "markdown",
   "id": "edaadef9",
   "metadata": {},
   "source": [
    "## Ejercicios API Frankfurter"
   ]
  },
  {
   "cell_type": "code",
   "execution_count": null,
   "id": "0d2cd095",
   "metadata": {},
   "outputs": [],
   "source": [
    "import numpy as np\n",
    "import pandas as pd\n",
    "import matplotlib # Para ver la versión\n",
    "import matplotlib.pyplot as plt\n",
    "import seaborn as sns\n",
    "\n",
    "from datetime import datetime\n",
    "\n",
    "import requests\n",
    "\n",
    "from pprint import pprint"
   ]
  },
  {
   "cell_type": "code",
   "execution_count": null,
   "id": "35413059-5b35-4a5e-b51c-a2ff53a883b3",
   "metadata": {},
   "outputs": [],
   "source": [
    "# Versiones\n",
    "\n",
    "print(f\"numpy=={np.__version__}\")\n",
    "print(f\"pandas=={pd.__version__}\")\n",
    "print(f\"matplotlib=={matplotlib.__version__}\")\n",
    "print(f\"sns=={sns.__version__}\")\n",
    "print(f\"requests=={requests.__version__}\")"
   ]
  },
  {
   "cell_type": "markdown",
   "id": "7bb534d5",
   "metadata": {},
   "source": [
    "### Ejercicio 1:\n",
    "\n",
    "- Definir una función que tome como parámetro un año y una moneda diferente del euro y que muestre la relación entre el euro y la otra moneda en ese año. En la gráfica se debe marcar el máximo y el mínimo. Imprime los endpoints que utilizados para extraer la información."
   ]
  },
  {
   "cell_type": "code",
   "execution_count": null,
   "id": "b4633fef",
   "metadata": {},
   "outputs": [],
   "source": []
  },
  {
   "cell_type": "code",
   "execution_count": null,
   "id": "81911a51",
   "metadata": {},
   "outputs": [],
   "source": []
  },
  {
   "cell_type": "code",
   "execution_count": null,
   "id": "e88134ce",
   "metadata": {},
   "outputs": [],
   "source": []
  },
  {
   "cell_type": "markdown",
   "id": "8627d506",
   "metadata": {},
   "source": [
    "### Ejercicio 2:\n",
    "\n",
    "- Repite el ejercicio 1 pero esta vez agregando al mismo plot tantas monedas como el usuario lo indique. Esta vez no hace falta indicar los máximos y mínimos de cada moneda."
   ]
  },
  {
   "cell_type": "code",
   "execution_count": null,
   "id": "76348dc2",
   "metadata": {},
   "outputs": [],
   "source": []
  },
  {
   "cell_type": "code",
   "execution_count": null,
   "id": "cf531338",
   "metadata": {},
   "outputs": [],
   "source": []
  },
  {
   "cell_type": "code",
   "execution_count": null,
   "id": "83d27e8e",
   "metadata": {},
   "outputs": [],
   "source": []
  },
  {
   "cell_type": "markdown",
   "id": "a6f9dde7",
   "metadata": {},
   "source": [
    "### Ejercicio 3:\n",
    "\n",
    "- Repite el ejercicio 1 esta vez evaluando la relación de dos monedas que no sean el euro. Muestra el máximo y el mínimo de la relación entre las monedas."
   ]
  },
  {
   "cell_type": "code",
   "execution_count": null,
   "id": "dee96db7",
   "metadata": {},
   "outputs": [],
   "source": []
  },
  {
   "cell_type": "code",
   "execution_count": null,
   "id": "7b127494",
   "metadata": {},
   "outputs": [],
   "source": []
  },
  {
   "cell_type": "code",
   "execution_count": null,
   "id": "3f081cf8",
   "metadata": {},
   "outputs": [],
   "source": []
  }
 ],
 "metadata": {
  "kernelspec": {
   "display_name": "Python 3 (ipykernel)",
   "language": "python",
   "name": "python3"
  },
  "language_info": {
   "codemirror_mode": {
    "name": "ipython",
    "version": 3
   },
   "file_extension": ".py",
   "mimetype": "text/x-python",
   "name": "python",
   "nbconvert_exporter": "python",
   "pygments_lexer": "ipython3",
   "version": "3.12.3"
  }
 },
 "nbformat": 4,
 "nbformat_minor": 5
}
