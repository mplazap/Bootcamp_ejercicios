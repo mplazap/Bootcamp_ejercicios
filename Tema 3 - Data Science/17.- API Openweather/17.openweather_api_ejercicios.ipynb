{
 "cells": [
  {
   "cell_type": "markdown",
   "id": "98187123",
   "metadata": {},
   "source": [
    "## OpenWeather API - Ejercicios"
   ]
  },
  {
   "cell_type": "code",
   "execution_count": null,
   "id": "09c5f01d",
   "metadata": {},
   "outputs": [],
   "source": [
    "import numpy as np\n",
    "import pandas as pd\n",
    "import matplotlib # Para ver la versión\n",
    "import matplotlib.pyplot as plt\n",
    "import seaborn as sns\n",
    "\n",
    "import plotly # Para ver la versión\n",
    "import plotly.express as px\n",
    "import folium\n",
    "\n",
    "import requests\n",
    "\n",
    "from datetime import datetime\n",
    "from time import sleep\n",
    "\n",
    "from pprint import pprint"
   ]
  },
  {
   "cell_type": "code",
   "execution_count": null,
   "id": "c6c901c1-be54-469d-b654-ca5c85d6dd20",
   "metadata": {},
   "outputs": [],
   "source": [
    "# Versiones\n",
    "\n",
    "print(f\"numpy=={np.__version__}\")\n",
    "print(f\"pandas=={pd.__version__}\")\n",
    "print(f\"matplotlib=={matplotlib.__version__}\")\n",
    "print(f\"sns=={sns.__version__}\")\n",
    "print(f\"plotly=={plotly.__version__}\")\n",
    "print(f\"folium=={folium.__version__}\")\n",
    "print(f\"requests=={requests.__version__}\")"
   ]
  },
  {
   "cell_type": "code",
   "execution_count": null,
   "id": "b177ac77",
   "metadata": {},
   "outputs": [],
   "source": [
    "def get_current_weather(lat, lon, api_key):\n",
    "    \n",
    "    params = {\"appid\" : api_key,\n",
    "              \"lat\"   : lat,\n",
    "              \"lon\"   : lon,\n",
    "              \"units\" : \"metric\"}\n",
    "\n",
    "    endpoint = f\"https://api.openweathermap.org/data/2.5/weather\"\n",
    "\n",
    "    response = requests.get(url = endpoint, params = params)\n",
    "\n",
    "    return response.json()"
   ]
  },
  {
   "cell_type": "code",
   "execution_count": null,
   "id": "b496a286",
   "metadata": {},
   "outputs": [],
   "source": [
    "api_key = \"\""
   ]
  },
  {
   "cell_type": "markdown",
   "id": "254a3f26",
   "metadata": {},
   "source": [
    "### Ejercicio 01:\n",
    "\n",
    "- Usando la función _**get_current_weather()**_ extrae la información principal de 10 países.\n",
    "- Muestra la información en un mapa de **folium**.\n",
    "- Muestra la diferencia de temperatura en un mapa **Choropleth** de esos 10 países."
   ]
  },
  {
   "cell_type": "code",
   "execution_count": null,
   "id": "50f6049e",
   "metadata": {},
   "outputs": [],
   "source": []
  },
  {
   "cell_type": "code",
   "execution_count": null,
   "id": "0ee1d5d9",
   "metadata": {},
   "outputs": [],
   "source": []
  },
  {
   "cell_type": "code",
   "execution_count": null,
   "id": "76958c05",
   "metadata": {},
   "outputs": [],
   "source": []
  },
  {
   "cell_type": "code",
   "execution_count": null,
   "id": "a887578e",
   "metadata": {},
   "outputs": [],
   "source": []
  },
  {
   "cell_type": "markdown",
   "id": "0c018850",
   "metadata": {},
   "source": [
    "### Ejercicio 02:\n",
    "- Define una función que extraiga la información de contaminación del aire para un punto geográfico.\n",
    "- La función debe de tomar los parámetros: _**start**_, _**end**_, _**api_key**_, _**lat**_ & _**lon**_.\n",
    "- La función debe retornar un **DataFrame** y la columna de tiempo debe de ser un objeto **datetime**."
   ]
  },
  {
   "cell_type": "code",
   "execution_count": null,
   "id": "0ea124be",
   "metadata": {},
   "outputs": [],
   "source": []
  },
  {
   "cell_type": "code",
   "execution_count": null,
   "id": "2b6f017c",
   "metadata": {},
   "outputs": [],
   "source": []
  },
  {
   "cell_type": "code",
   "execution_count": null,
   "id": "26f28335",
   "metadata": {},
   "outputs": [],
   "source": []
  },
  {
   "cell_type": "markdown",
   "id": "3f4521a8",
   "metadata": {},
   "source": [
    "### Ejercicio 03:\n",
    "\n",
    "- Usa la función definida en el ejercicio anterior para extraer la información desde el año 2020 hasta el día de hoy de una ciudad.\n",
    "- Realiza visualizaciones con estos datos. Prueba agrupando por mes, trimestre o año."
   ]
  },
  {
   "cell_type": "code",
   "execution_count": null,
   "id": "e0caf901",
   "metadata": {},
   "outputs": [],
   "source": []
  },
  {
   "cell_type": "code",
   "execution_count": null,
   "id": "caae2b73",
   "metadata": {},
   "outputs": [],
   "source": []
  },
  {
   "cell_type": "code",
   "execution_count": null,
   "id": "720c5bb2",
   "metadata": {},
   "outputs": [],
   "source": []
  },
  {
   "cell_type": "code",
   "execution_count": null,
   "id": "2afffebe",
   "metadata": {},
   "outputs": [],
   "source": []
  },
  {
   "cell_type": "code",
   "execution_count": null,
   "id": "ffe0711a",
   "metadata": {},
   "outputs": [],
   "source": []
  },
  {
   "cell_type": "code",
   "execution_count": null,
   "id": "91bcd2e7",
   "metadata": {},
   "outputs": [],
   "source": []
  },
  {
   "cell_type": "code",
   "execution_count": null,
   "id": "2edf6617",
   "metadata": {},
   "outputs": [],
   "source": []
  },
  {
   "cell_type": "code",
   "execution_count": null,
   "id": "7d7ec26c",
   "metadata": {},
   "outputs": [],
   "source": [
    "################################################################################################################################"
   ]
  }
 ],
 "metadata": {
  "kernelspec": {
   "display_name": "Python 3 (ipykernel)",
   "language": "python",
   "name": "python3"
  },
  "language_info": {
   "codemirror_mode": {
    "name": "ipython",
    "version": 3
   },
   "file_extension": ".py",
   "mimetype": "text/x-python",
   "name": "python",
   "nbconvert_exporter": "python",
   "pygments_lexer": "ipython3",
   "version": "3.12.3"
  }
 },
 "nbformat": 4,
 "nbformat_minor": 5
}
