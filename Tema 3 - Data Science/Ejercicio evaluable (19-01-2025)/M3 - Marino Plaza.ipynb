{
 "cells": [
  {
   "cell_type": "markdown",
   "metadata": {},
   "source": [
    "Carga con Pandas: pd.read_csv\n",
    "\n",
    "\n",
    "Limpieza de nulos (limpiar valores NaN):\n",
    "\n",
    "Nulos en columnas continuas: mediana, media\n",
    "Nulos en columnas categóricas: moda, un valor fijo\n",
    "\n",
    "\n",
    "\n",
    "Cambio de tipo de dato: .astype()\n",
    "\n",
    "\n",
    "Limpieza de valores error:\n",
    "\n",
    "llegue un valor incorrecto, por ejemplo una columna número le llega una interrogación\n",
    "\n",
    "\n",
    "\n",
    "Encoding: texto a numérico\n",
    "\n",
    "Uso de la función get_dummies() para encoding one_hot\n",
    "\n",
    "\n",
    "\n",
    "Uso de función map o apply\n",
    "\n",
    "\n",
    "Ordenar por dos columnas con sort_values()\n",
    "\n",
    "\n",
    "Agrupaciones con groupby y visualizarla\n",
    "\n",
    "\n",
    "Seaborn EDAS:\n",
    "\n",
    "univariantes:\n",
    "\n",
    "histogramas y curvas de densidad\n",
    "boxplot\n",
    "countplot\n",
    "\n",
    "\n",
    "bivariantes y multivariantes\n",
    "\n",
    "scatterplot con hue, con size, con style\n",
    "Calcular correlación con Pandas y mostrarla con seaborn\n",
    "\n",
    "\n",
    "Combinarlas con filtros\n",
    "\n",
    "\n",
    "\n",
    "Outliers: Visualización y filtrado\n",
    "\n",
    "\n",
    "asimetría, curtosis y transformar datos con logaritmo o raíz cuadrada"
   ]
  },
  {
   "cell_type": "markdown",
   "metadata": {},
   "source": [
    "### Importar librerias necesarias"
   ]
  },
  {
   "cell_type": "code",
   "execution_count": 1,
   "metadata": {},
   "outputs": [],
   "source": [
    "import pandas as pd\n",
    "import seaborn as sns"
   ]
  },
  {
   "cell_type": "markdown",
   "metadata": {},
   "source": [
    "### Carga del CSV con Pandas"
   ]
  },
  {
   "cell_type": "code",
   "execution_count": 25,
   "metadata": {},
   "outputs": [
    {
     "name": "stdout",
     "output_type": "stream",
     "text": [
      "<class 'pandas.core.frame.DataFrame'>\n",
      "RangeIndex: 115 entries, 0 to 114\n",
      "Data columns (total 7 columns):\n",
      " #   Column       Non-Null Count  Dtype  \n",
      "---  ------       --------------  -----  \n",
      " 0   name         115 non-null    object \n",
      " 1   victories    115 non-null    int64  \n",
      " 2   2nd          95 non-null     float64\n",
      " 3   3rd          99 non-null     float64\n",
      " 4   poles        54 non-null     float64\n",
      " 5   fastest_lap  96 non-null     float64\n",
      " 6   world_champ  27 non-null     float64\n",
      "dtypes: float64(5), int64(1), object(1)\n",
      "memory usage: 6.4+ KB\n"
     ]
    }
   ],
   "source": [
    "df_motogp = pd.read_csv('../Data/motogp_allriders.csv')\n",
    "df_motogp.info()"
   ]
  },
  {
   "cell_type": "markdown",
   "metadata": {},
   "source": [
    "#### Informacón sobre el CSV"
   ]
  },
  {
   "cell_type": "code",
   "execution_count": 31,
   "metadata": {},
   "outputs": [
    {
     "data": {
      "text/html": [
       "<div>\n",
       "<style scoped>\n",
       "    .dataframe tbody tr th:only-of-type {\n",
       "        vertical-align: middle;\n",
       "    }\n",
       "\n",
       "    .dataframe tbody tr th {\n",
       "        vertical-align: top;\n",
       "    }\n",
       "\n",
       "    .dataframe thead th {\n",
       "        text-align: right;\n",
       "    }\n",
       "</style>\n",
       "<table border=\"1\" class=\"dataframe\">\n",
       "  <thead>\n",
       "    <tr style=\"text-align: right;\">\n",
       "      <th></th>\n",
       "      <th>victories</th>\n",
       "      <th>2nd</th>\n",
       "      <th>3rd</th>\n",
       "      <th>poles</th>\n",
       "      <th>fastest_lap</th>\n",
       "      <th>world_champ</th>\n",
       "    </tr>\n",
       "  </thead>\n",
       "  <tbody>\n",
       "    <tr>\n",
       "      <th>count</th>\n",
       "      <td>115.000000</td>\n",
       "      <td>95.000000</td>\n",
       "      <td>99.000000</td>\n",
       "      <td>54.000000</td>\n",
       "      <td>96.000000</td>\n",
       "      <td>27.000000</td>\n",
       "    </tr>\n",
       "    <tr>\n",
       "      <th>mean</th>\n",
       "      <td>8.000000</td>\n",
       "      <td>8.157895</td>\n",
       "      <td>6.949495</td>\n",
       "      <td>12.111111</td>\n",
       "      <td>8.937500</td>\n",
       "      <td>2.666667</td>\n",
       "    </tr>\n",
       "    <tr>\n",
       "      <th>std</th>\n",
       "      <td>14.490771</td>\n",
       "      <td>10.233774</td>\n",
       "      <td>7.973648</td>\n",
       "      <td>15.051693</td>\n",
       "      <td>14.241387</td>\n",
       "      <td>2.000000</td>\n",
       "    </tr>\n",
       "    <tr>\n",
       "      <th>min</th>\n",
       "      <td>1.000000</td>\n",
       "      <td>1.000000</td>\n",
       "      <td>1.000000</td>\n",
       "      <td>1.000000</td>\n",
       "      <td>1.000000</td>\n",
       "      <td>1.000000</td>\n",
       "    </tr>\n",
       "    <tr>\n",
       "      <th>25%</th>\n",
       "      <td>1.000000</td>\n",
       "      <td>2.000000</td>\n",
       "      <td>2.000000</td>\n",
       "      <td>2.000000</td>\n",
       "      <td>1.000000</td>\n",
       "      <td>1.000000</td>\n",
       "    </tr>\n",
       "    <tr>\n",
       "      <th>50%</th>\n",
       "      <td>2.000000</td>\n",
       "      <td>4.000000</td>\n",
       "      <td>4.000000</td>\n",
       "      <td>6.500000</td>\n",
       "      <td>3.000000</td>\n",
       "      <td>2.000000</td>\n",
       "    </tr>\n",
       "    <tr>\n",
       "      <th>75%</th>\n",
       "      <td>7.000000</td>\n",
       "      <td>9.500000</td>\n",
       "      <td>8.500000</td>\n",
       "      <td>15.000000</td>\n",
       "      <td>10.000000</td>\n",
       "      <td>4.000000</td>\n",
       "    </tr>\n",
       "    <tr>\n",
       "      <th>max</th>\n",
       "      <td>89.000000</td>\n",
       "      <td>61.000000</td>\n",
       "      <td>49.000000</td>\n",
       "      <td>62.000000</td>\n",
       "      <td>76.000000</td>\n",
       "      <td>8.000000</td>\n",
       "    </tr>\n",
       "  </tbody>\n",
       "</table>\n",
       "</div>"
      ],
      "text/plain": [
       "        victories        2nd        3rd      poles  fastest_lap  world_champ\n",
       "count  115.000000  95.000000  99.000000  54.000000    96.000000    27.000000\n",
       "mean     8.000000   8.157895   6.949495  12.111111     8.937500     2.666667\n",
       "std     14.490771  10.233774   7.973648  15.051693    14.241387     2.000000\n",
       "min      1.000000   1.000000   1.000000   1.000000     1.000000     1.000000\n",
       "25%      1.000000   2.000000   2.000000   2.000000     1.000000     1.000000\n",
       "50%      2.000000   4.000000   4.000000   6.500000     3.000000     2.000000\n",
       "75%      7.000000   9.500000   8.500000  15.000000    10.000000     4.000000\n",
       "max     89.000000  61.000000  49.000000  62.000000    76.000000     8.000000"
      ]
     },
     "execution_count": 31,
     "metadata": {},
     "output_type": "execute_result"
    }
   ],
   "source": [
    "df_motogp.describe()"
   ]
  },
  {
   "cell_type": "code",
   "execution_count": 33,
   "metadata": {},
   "outputs": [
    {
     "data": {
      "text/plain": [
       "name            0\n",
       "victories       0\n",
       "2nd            20\n",
       "3rd            16\n",
       "poles          61\n",
       "fastest_lap    19\n",
       "world_champ    88\n",
       "dtype: int64"
      ]
     },
     "execution_count": 33,
     "metadata": {},
     "output_type": "execute_result"
    }
   ],
   "source": [
    "df_motogp.isna().sum()"
   ]
  },
  {
   "cell_type": "markdown",
   "metadata": {},
   "source": [
    "#### Limpieza de nulos (limpiar valores NaN):\n",
    "- Nulos en columnas continuas: mediana, media\n",
    "- Nulos en columnas categóricas: moda, un valor fijo"
   ]
  },
  {
   "cell_type": "markdown",
   "metadata": {},
   "source": []
  }
 ],
 "metadata": {
  "kernelspec": {
   "display_name": "Python 3",
   "language": "python",
   "name": "python3"
  },
  "language_info": {
   "codemirror_mode": {
    "name": "ipython",
    "version": 3
   },
   "file_extension": ".py",
   "mimetype": "text/x-python",
   "name": "python",
   "nbconvert_exporter": "python",
   "pygments_lexer": "ipython3",
   "version": "3.13.0"
  }
 },
 "nbformat": 4,
 "nbformat_minor": 2
}
