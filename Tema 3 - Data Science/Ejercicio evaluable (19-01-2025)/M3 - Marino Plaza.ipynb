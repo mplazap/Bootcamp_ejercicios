{
 "cells": [
  {
   "cell_type": "markdown",
   "metadata": {},
   "source": [
    "### Importar librerias necesarias"
   ]
  },
  {
   "cell_type": "markdown",
   "metadata": {},
   "source": [
    "## EJERCICIO MÓDULO 3:\n",
    "\n",
    "Uso de Pandas y Seaborn + algún gráfico de Plotly.\n",
    "\n",
    "* Agrupaciones con groupby y visualizarla\n",
    "        * Agrupar por las 3 que hay de tipo categórico calculando la media, max, min por ejemplo de alguna de las numéricas: price, carat, depth\n",
    "\n",
    "* PARTE 3: 20 % distribuciones: \n",
    "\n",
    "* Outliers: Visualización Q1 y Q3 y calcular límites tukey y filtrar. Sobre la columna precio.\n",
    "\n",
    "* asimetría, curtosis y transformar datos con logaritmo o raíz cuadrada\n",
    "\n",
    "* Discretizar la columna precio por barato, medio, caro usando la función pd.cut\n",
    "\n",
    "\n",
    "* PARTE 4: 30 % visualizaciones:\n",
    "\n",
    "* Seaborn EDAS:\n",
    "    * univariantes:\n",
    "        * histogramas y curvas de densidad\n",
    "        * boxplot\n",
    "        * countplot\n",
    "    * bivariantes y multivariantes\n",
    "        * scatterplot con hue, con size, con style\n",
    "        * Calcular correlación con Pandas y mostrarla con seaborn\n",
    "        * Hacer la correlación en un gráfico de barras para la columna 'price'\n",
    "        * Crear una pivot table usando como index y columns algunas variables categóricas y como values usar el price y visualizarla con heatmap de seaborn\n",
    "    * Combinarlas con:\n",
    "        * hue, style, size, row, col usando un relplot\n",
    "        * filtro\n",
    "\n",
    "Domingo 19/01 23:59 fecha entrega.\n",
    "\n",
    "* m3_nombre_apellido.ipynb"
   ]
  },
  {
   "cell_type": "markdown",
   "metadata": {},
   "source": []
  },
  {
   "cell_type": "code",
   "execution_count": 1,
   "metadata": {},
   "outputs": [],
   "source": [
    "import pandas as pd\n",
    "import seaborn as sns\n",
    "import matplotlib.pyplot as plt"
   ]
  },
  {
   "cell_type": "markdown",
   "metadata": {},
   "source": [
    "## PARTE 1"
   ]
  },
  {
   "cell_type": "markdown",
   "metadata": {},
   "source": [
    "### Carga del CSV con Pandas"
   ]
  },
  {
   "cell_type": "code",
   "execution_count": 2,
   "metadata": {},
   "outputs": [
    {
     "name": "stdout",
     "output_type": "stream",
     "text": [
      "<class 'pandas.core.frame.DataFrame'>\n",
      "RangeIndex: 53940 entries, 0 to 53939\n",
      "Data columns (total 10 columns):\n",
      " #   Column   Non-Null Count  Dtype  \n",
      "---  ------   --------------  -----  \n",
      " 0   carat    53939 non-null  float64\n",
      " 1   cut      53937 non-null  object \n",
      " 2   color    53938 non-null  object \n",
      " 3   clarity  53938 non-null  object \n",
      " 4   depth    53940 non-null  float64\n",
      " 5   table    53938 non-null  float64\n",
      " 6   price    53938 non-null  object \n",
      " 7   x        53938 non-null  object \n",
      " 8   y        53939 non-null  float64\n",
      " 9   z        53939 non-null  float64\n",
      "dtypes: float64(5), object(5)\n",
      "memory usage: 4.1+ MB\n"
     ]
    }
   ],
   "source": [
    "df_diamonds = pd.read_csv('../Data/diamonds.csv')\n",
    "df_diamonds.info()"
   ]
  },
  {
   "cell_type": "markdown",
   "metadata": {},
   "source": [
    "#### Informacón sobre el CSV"
   ]
  },
  {
   "cell_type": "code",
   "execution_count": 3,
   "metadata": {},
   "outputs": [
    {
     "data": {
      "text/html": [
       "<div>\n",
       "<style scoped>\n",
       "    .dataframe tbody tr th:only-of-type {\n",
       "        vertical-align: middle;\n",
       "    }\n",
       "\n",
       "    .dataframe tbody tr th {\n",
       "        vertical-align: top;\n",
       "    }\n",
       "\n",
       "    .dataframe thead th {\n",
       "        text-align: right;\n",
       "    }\n",
       "</style>\n",
       "<table border=\"1\" class=\"dataframe\">\n",
       "  <thead>\n",
       "    <tr style=\"text-align: right;\">\n",
       "      <th></th>\n",
       "      <th>carat</th>\n",
       "      <th>depth</th>\n",
       "      <th>table</th>\n",
       "      <th>y</th>\n",
       "      <th>z</th>\n",
       "    </tr>\n",
       "  </thead>\n",
       "  <tbody>\n",
       "    <tr>\n",
       "      <th>count</th>\n",
       "      <td>53939.000000</td>\n",
       "      <td>53940.000000</td>\n",
       "      <td>53938.000000</td>\n",
       "      <td>53939.000000</td>\n",
       "      <td>53939.000000</td>\n",
       "    </tr>\n",
       "    <tr>\n",
       "      <th>mean</th>\n",
       "      <td>0.797946</td>\n",
       "      <td>61.749405</td>\n",
       "      <td>57.457145</td>\n",
       "      <td>5.734479</td>\n",
       "      <td>3.538722</td>\n",
       "    </tr>\n",
       "    <tr>\n",
       "      <th>std</th>\n",
       "      <td>0.474013</td>\n",
       "      <td>1.432621</td>\n",
       "      <td>2.234521</td>\n",
       "      <td>1.142092</td>\n",
       "      <td>0.705700</td>\n",
       "    </tr>\n",
       "    <tr>\n",
       "      <th>min</th>\n",
       "      <td>0.200000</td>\n",
       "      <td>43.000000</td>\n",
       "      <td>43.000000</td>\n",
       "      <td>0.000000</td>\n",
       "      <td>0.000000</td>\n",
       "    </tr>\n",
       "    <tr>\n",
       "      <th>25%</th>\n",
       "      <td>0.400000</td>\n",
       "      <td>61.000000</td>\n",
       "      <td>56.000000</td>\n",
       "      <td>4.720000</td>\n",
       "      <td>2.910000</td>\n",
       "    </tr>\n",
       "    <tr>\n",
       "      <th>50%</th>\n",
       "      <td>0.700000</td>\n",
       "      <td>61.800000</td>\n",
       "      <td>57.000000</td>\n",
       "      <td>5.710000</td>\n",
       "      <td>3.530000</td>\n",
       "    </tr>\n",
       "    <tr>\n",
       "      <th>75%</th>\n",
       "      <td>1.040000</td>\n",
       "      <td>62.500000</td>\n",
       "      <td>59.000000</td>\n",
       "      <td>6.540000</td>\n",
       "      <td>4.040000</td>\n",
       "    </tr>\n",
       "    <tr>\n",
       "      <th>max</th>\n",
       "      <td>5.010000</td>\n",
       "      <td>79.000000</td>\n",
       "      <td>95.000000</td>\n",
       "      <td>58.900000</td>\n",
       "      <td>31.800000</td>\n",
       "    </tr>\n",
       "  </tbody>\n",
       "</table>\n",
       "</div>"
      ],
      "text/plain": [
       "              carat         depth         table             y             z\n",
       "count  53939.000000  53940.000000  53938.000000  53939.000000  53939.000000\n",
       "mean       0.797946     61.749405     57.457145      5.734479      3.538722\n",
       "std        0.474013      1.432621      2.234521      1.142092      0.705700\n",
       "min        0.200000     43.000000     43.000000      0.000000      0.000000\n",
       "25%        0.400000     61.000000     56.000000      4.720000      2.910000\n",
       "50%        0.700000     61.800000     57.000000      5.710000      3.530000\n",
       "75%        1.040000     62.500000     59.000000      6.540000      4.040000\n",
       "max        5.010000     79.000000     95.000000     58.900000     31.800000"
      ]
     },
     "execution_count": 3,
     "metadata": {},
     "output_type": "execute_result"
    }
   ],
   "source": [
    "df_diamonds.describe()"
   ]
  },
  {
   "cell_type": "code",
   "execution_count": 4,
   "metadata": {},
   "outputs": [
    {
     "data": {
      "text/plain": [
       "carat      1\n",
       "cut        3\n",
       "color      2\n",
       "clarity    2\n",
       "depth      0\n",
       "table      2\n",
       "price      2\n",
       "x          2\n",
       "y          1\n",
       "z          1\n",
       "dtype: int64"
      ]
     },
     "execution_count": 4,
     "metadata": {},
     "output_type": "execute_result"
    }
   ],
   "source": [
    "df_diamonds.isna().sum()"
   ]
  },
  {
   "cell_type": "markdown",
   "metadata": {},
   "source": [
    "Limpieza de valores error: \n",
    "* hay columnas que tienen un valor '?', por tanto se deben reemplazar por un valor nan."
   ]
  },
  {
   "cell_type": "code",
   "execution_count": 6,
   "metadata": {},
   "outputs": [
    {
     "data": {
      "text/html": [
       "<div>\n",
       "<style scoped>\n",
       "    .dataframe tbody tr th:only-of-type {\n",
       "        vertical-align: middle;\n",
       "    }\n",
       "\n",
       "    .dataframe tbody tr th {\n",
       "        vertical-align: top;\n",
       "    }\n",
       "\n",
       "    .dataframe thead th {\n",
       "        text-align: right;\n",
       "    }\n",
       "</style>\n",
       "<table border=\"1\" class=\"dataframe\">\n",
       "  <thead>\n",
       "    <tr style=\"text-align: right;\">\n",
       "      <th></th>\n",
       "      <th>carat</th>\n",
       "      <th>cut</th>\n",
       "      <th>color</th>\n",
       "      <th>clarity</th>\n",
       "      <th>depth</th>\n",
       "      <th>table</th>\n",
       "      <th>price</th>\n",
       "      <th>x</th>\n",
       "      <th>y</th>\n",
       "      <th>z</th>\n",
       "    </tr>\n",
       "  </thead>\n",
       "  <tbody>\n",
       "    <tr>\n",
       "      <th>49222</th>\n",
       "      <td>0.56</td>\n",
       "      <td>Ideal</td>\n",
       "      <td>?</td>\n",
       "      <td>VVS2</td>\n",
       "      <td>61.6</td>\n",
       "      <td>56.0</td>\n",
       "      <td>2081</td>\n",
       "      <td>?</td>\n",
       "      <td>5.29</td>\n",
       "      <td>3.27</td>\n",
       "    </tr>\n",
       "    <tr>\n",
       "      <th>49227</th>\n",
       "      <td>0.50</td>\n",
       "      <td>?</td>\n",
       "      <td>E</td>\n",
       "      <td>VVS2</td>\n",
       "      <td>61.7</td>\n",
       "      <td>61.0</td>\n",
       "      <td>2083</td>\n",
       "      <td>5.09</td>\n",
       "      <td>5.12</td>\n",
       "      <td>3.15</td>\n",
       "    </tr>\n",
       "    <tr>\n",
       "      <th>49229</th>\n",
       "      <td>0.70</td>\n",
       "      <td>Good</td>\n",
       "      <td>H</td>\n",
       "      <td>VS2</td>\n",
       "      <td>63.8</td>\n",
       "      <td>60.0</td>\n",
       "      <td>?</td>\n",
       "      <td>5.59</td>\n",
       "      <td>5.51</td>\n",
       "      <td>3.54</td>\n",
       "    </tr>\n",
       "  </tbody>\n",
       "</table>\n",
       "</div>"
      ],
      "text/plain": [
       "       carat    cut color clarity  depth  table price     x     y     z\n",
       "49222   0.56  Ideal     ?    VVS2   61.6   56.0  2081     ?  5.29  3.27\n",
       "49227   0.50      ?     E    VVS2   61.7   61.0  2083  5.09  5.12  3.15\n",
       "49229   0.70   Good     H     VS2   63.8   60.0     ?  5.59  5.51  3.54"
      ]
     },
     "execution_count": 6,
     "metadata": {},
     "output_type": "execute_result"
    }
   ],
   "source": [
    "# Buscamos los valores erroneos y los pasamos a nulos para despues limpiarlos\n",
    "df_diamonds[df_diamonds.isin([\"?\"]).any(axis=1)]"
   ]
  },
  {
   "cell_type": "code",
   "execution_count": 7,
   "metadata": {},
   "outputs": [
    {
     "data": {
      "text/html": [
       "<div>\n",
       "<style scoped>\n",
       "    .dataframe tbody tr th:only-of-type {\n",
       "        vertical-align: middle;\n",
       "    }\n",
       "\n",
       "    .dataframe tbody tr th {\n",
       "        vertical-align: top;\n",
       "    }\n",
       "\n",
       "    .dataframe thead th {\n",
       "        text-align: right;\n",
       "    }\n",
       "</style>\n",
       "<table border=\"1\" class=\"dataframe\">\n",
       "  <thead>\n",
       "    <tr style=\"text-align: right;\">\n",
       "      <th></th>\n",
       "      <th>carat</th>\n",
       "      <th>cut</th>\n",
       "      <th>color</th>\n",
       "      <th>clarity</th>\n",
       "      <th>depth</th>\n",
       "      <th>table</th>\n",
       "      <th>price</th>\n",
       "      <th>x</th>\n",
       "      <th>y</th>\n",
       "      <th>z</th>\n",
       "    </tr>\n",
       "  </thead>\n",
       "  <tbody>\n",
       "  </tbody>\n",
       "</table>\n",
       "</div>"
      ],
      "text/plain": [
       "Empty DataFrame\n",
       "Columns: [carat, cut, color, clarity, depth, table, price, x, y, z]\n",
       "Index: []"
      ]
     },
     "execution_count": 7,
     "metadata": {},
     "output_type": "execute_result"
    }
   ],
   "source": [
    "# Comprobamos que hemos eliminado los valores \"?\"\n",
    "df_diamonds = df_diamonds.replace(\"?\", pd.NA)\n",
    "df_diamonds[df_diamonds.isin([\"?\"]).any(axis=1)]"
   ]
  },
  {
   "cell_type": "markdown",
   "metadata": {},
   "source": [
    "* En las columnas x, y, z si el valor es cero ponerlo a nan para luego imputarlo"
   ]
  },
  {
   "cell_type": "code",
   "execution_count": 34,
   "metadata": {},
   "outputs": [
    {
     "name": "stdout",
     "output_type": "stream",
     "text": [
      "Número de ceros en la columna: 0\n"
     ]
    }
   ],
   "source": [
    "conteo_ceros = (df_diamonds['x'] == 0).sum()\n",
    "print(f\"Número de ceros en la columna: {conteo_ceros}\")"
   ]
  },
  {
   "cell_type": "code",
   "execution_count": 35,
   "metadata": {},
   "outputs": [
    {
     "name": "stdout",
     "output_type": "stream",
     "text": [
      "Número de ceros en la columna: 7\n"
     ]
    }
   ],
   "source": [
    "conteo_ceros = (df_diamonds['y'] == 0).sum()\n",
    "print(f\"Número de ceros en la columna: {conteo_ceros}\")"
   ]
  },
  {
   "cell_type": "code",
   "execution_count": 43,
   "metadata": {},
   "outputs": [
    {
     "name": "stdout",
     "output_type": "stream",
     "text": [
      "Número de ceros en la columna: 0\n"
     ]
    }
   ],
   "source": [
    "import numpy as np\n",
    "\n",
    "# Remplazamos los valores 0\n",
    "df_diamonds['y'] = df_diamonds['y'].replace(0, np.nan)\n",
    "\n",
    "# Comprobamos que ya no hay valores 0\n",
    "conteo_ceros = (df_diamonds['y'] == 0).sum()\n",
    "print(f\"Número de ceros en la columna: {conteo_ceros}\")"
   ]
  },
  {
   "cell_type": "code",
   "execution_count": 36,
   "metadata": {},
   "outputs": [
    {
     "name": "stdout",
     "output_type": "stream",
     "text": [
      "Número de ceros en la columna: 20\n"
     ]
    }
   ],
   "source": [
    "conteo_ceros = (df_diamonds['z'] == 0).sum()\n",
    "print(f\"Número de ceros en la columna: {conteo_ceros}\")"
   ]
  },
  {
   "cell_type": "code",
   "execution_count": 44,
   "metadata": {},
   "outputs": [
    {
     "name": "stdout",
     "output_type": "stream",
     "text": [
      "Número de ceros en la columna: 0\n"
     ]
    }
   ],
   "source": [
    "# Remplazamos los valores 0\n",
    "df_diamonds['z'] = df_diamonds['z'].replace(0, np.nan)\n",
    "\n",
    "# Comprobamos que ya no hay valores 0\n",
    "conteo_ceros = (df_diamonds['z'] == 0).sum()\n",
    "print(f\"Número de ceros en la columna: {conteo_ceros}\")"
   ]
  },
  {
   "cell_type": "markdown",
   "metadata": {},
   "source": [
    "#### Limpieza de nulos (limpiar valores NaN):\n",
    "- Nulos en columnas continuas: mediana, media"
   ]
  },
  {
   "cell_type": "code",
   "execution_count": 10,
   "metadata": {},
   "outputs": [
    {
     "data": {
      "text/plain": [
       "carat      1\n",
       "cut        4\n",
       "color      3\n",
       "clarity    2\n",
       "depth      0\n",
       "table      2\n",
       "price      3\n",
       "x          3\n",
       "y          1\n",
       "z          1\n",
       "dtype: int64"
      ]
     },
     "execution_count": 10,
     "metadata": {},
     "output_type": "execute_result"
    }
   ],
   "source": [
    "# Comprobamos los nulos\n",
    "df_diamonds.isna().sum()"
   ]
  },
  {
   "cell_type": "code",
   "execution_count": 11,
   "metadata": {},
   "outputs": [
    {
     "name": "stdout",
     "output_type": "stream",
     "text": [
      " La media de quilates es: 0.8\n"
     ]
    }
   ],
   "source": [
    "# Columna Carat\n",
    "media_carat = round(df_diamonds['carat'].mean(), 2)\n",
    "print(f\" La media de quilates es: {media_carat}\")"
   ]
  },
  {
   "cell_type": "code",
   "execution_count": 12,
   "metadata": {},
   "outputs": [
    {
     "data": {
      "text/plain": [
       "np.int64(0)"
      ]
     },
     "execution_count": 12,
     "metadata": {},
     "output_type": "execute_result"
    }
   ],
   "source": [
    "df_diamonds['carat'] = df_diamonds['carat'].fillna(media_carat)\n",
    "df_diamonds['carat'].isna().sum()"
   ]
  },
  {
   "cell_type": "code",
   "execution_count": 13,
   "metadata": {},
   "outputs": [
    {
     "name": "stdout",
     "output_type": "stream",
     "text": [
      " La moda de corte es: Ideal\n"
     ]
    }
   ],
   "source": [
    "# Columna Cut\n",
    "moda_cut = df_diamonds['cut'].mode()[0]\n",
    "print(f\" La moda de corte es: {moda_cut}\")"
   ]
  },
  {
   "cell_type": "code",
   "execution_count": 14,
   "metadata": {},
   "outputs": [
    {
     "data": {
      "text/plain": [
       "np.int64(0)"
      ]
     },
     "execution_count": 14,
     "metadata": {},
     "output_type": "execute_result"
    }
   ],
   "source": [
    "df_diamonds['cut'] = df_diamonds['cut'].fillna(moda_cut)\n",
    "df_diamonds['cut'].isna().sum()"
   ]
  },
  {
   "cell_type": "code",
   "execution_count": 15,
   "metadata": {},
   "outputs": [
    {
     "name": "stdout",
     "output_type": "stream",
     "text": [
      " La mediana de color es: G\n"
     ]
    }
   ],
   "source": [
    "# Columna Color\n",
    "mediana_color = df_diamonds['color'].mode()[0]\n",
    "print(f\" La mediana de color es: {mediana_color}\")"
   ]
  },
  {
   "cell_type": "code",
   "execution_count": 16,
   "metadata": {},
   "outputs": [
    {
     "data": {
      "text/plain": [
       "np.int64(0)"
      ]
     },
     "execution_count": 16,
     "metadata": {},
     "output_type": "execute_result"
    }
   ],
   "source": [
    "df_diamonds['color'] = df_diamonds['color'].fillna(mediana_color)\n",
    "df_diamonds['color'].isna().sum()"
   ]
  },
  {
   "cell_type": "code",
   "execution_count": 17,
   "metadata": {},
   "outputs": [
    {
     "name": "stdout",
     "output_type": "stream",
     "text": [
      " La mediana de claridad es: SI1\n"
     ]
    }
   ],
   "source": [
    "# Columna Clarrity\n",
    "mode_clarity = df_diamonds['clarity'].mode()[0]\n",
    "print(f\" La mediana de claridad es: {mode_clarity}\")"
   ]
  },
  {
   "cell_type": "code",
   "execution_count": 18,
   "metadata": {},
   "outputs": [
    {
     "data": {
      "text/plain": [
       "np.int64(0)"
      ]
     },
     "execution_count": 18,
     "metadata": {},
     "output_type": "execute_result"
    }
   ],
   "source": [
    "# Rrelleno con un valor fijo tambien como pedia el enunciado\n",
    "df_diamonds['clarity'] = df_diamonds['clarity'].fillna(\"Relleno\")\n",
    "df_diamonds['clarity'].isna().sum()"
   ]
  },
  {
   "cell_type": "code",
   "execution_count": 19,
   "metadata": {},
   "outputs": [
    {
     "name": "stdout",
     "output_type": "stream",
     "text": [
      " La mediana del plano superior es: 57.46\n"
     ]
    }
   ],
   "source": [
    "# Columna Table\n",
    "mediana_table = round(df_diamonds['table'].mean(), 2)\n",
    "print(f\" La mediana del plano superior es: {mediana_table}\")"
   ]
  },
  {
   "cell_type": "code",
   "execution_count": 20,
   "metadata": {},
   "outputs": [
    {
     "data": {
      "text/plain": [
       "np.int64(0)"
      ]
     },
     "execution_count": 20,
     "metadata": {},
     "output_type": "execute_result"
    }
   ],
   "source": [
    "df_diamonds['table'] = df_diamonds['table'].fillna(mediana_table)\n",
    "df_diamonds['table'].isna().sum()"
   ]
  },
  {
   "cell_type": "code",
   "execution_count": 21,
   "metadata": {},
   "outputs": [
    {
     "name": "stdout",
     "output_type": "stream",
     "text": [
      " La moda del plano superior es: 605\n"
     ]
    }
   ],
   "source": [
    "# Columna Price\n",
    "mode_price = df_diamonds['price'].mode()[0]\n",
    "print(f\" La moda del plano superior es: {mode_price}\")"
   ]
  },
  {
   "cell_type": "code",
   "execution_count": 22,
   "metadata": {},
   "outputs": [
    {
     "data": {
      "text/plain": [
       "np.int64(0)"
      ]
     },
     "execution_count": 22,
     "metadata": {},
     "output_type": "execute_result"
    }
   ],
   "source": [
    "df_diamonds['price'] = df_diamonds['price'].fillna(mode_price)\n",
    "df_diamonds['price'].isna().sum()"
   ]
  },
  {
   "cell_type": "code",
   "execution_count": 23,
   "metadata": {},
   "outputs": [
    {
     "name": "stdout",
     "output_type": "stream",
     "text": [
      " La moda de la columna X es: 4.37\n"
     ]
    }
   ],
   "source": [
    "# Columna X\n",
    "mode_x_column = df_diamonds['x'].mode()[0]\n",
    "print(f\" La moda de la columna X es: {mode_x_column}\")"
   ]
  },
  {
   "cell_type": "code",
   "execution_count": 45,
   "metadata": {},
   "outputs": [
    {
     "data": {
      "text/plain": [
       "np.int64(0)"
      ]
     },
     "execution_count": 45,
     "metadata": {},
     "output_type": "execute_result"
    }
   ],
   "source": [
    "df_diamonds['x'] = df_diamonds['x'].fillna(mode_x_column)\n",
    "df_diamonds['x'].isna().sum()"
   ]
  },
  {
   "cell_type": "code",
   "execution_count": 25,
   "metadata": {},
   "outputs": [
    {
     "name": "stdout",
     "output_type": "stream",
     "text": [
      " La media de la columna Y es: 5.73\n"
     ]
    }
   ],
   "source": [
    "# Columna Y\n",
    "mode_y_column = round(df_diamonds['y'].mean(), 2)\n",
    "print(f\" La media de la columna Y es: {mode_y_column}\")"
   ]
  },
  {
   "cell_type": "code",
   "execution_count": 26,
   "metadata": {},
   "outputs": [
    {
     "data": {
      "text/plain": [
       "np.int64(0)"
      ]
     },
     "execution_count": 26,
     "metadata": {},
     "output_type": "execute_result"
    }
   ],
   "source": [
    "df_diamonds['y'] = df_diamonds['y'].fillna(mode_y_column)\n",
    "df_diamonds['y'].isna().sum()"
   ]
  },
  {
   "cell_type": "code",
   "execution_count": 27,
   "metadata": {},
   "outputs": [
    {
     "name": "stdout",
     "output_type": "stream",
     "text": [
      " La media de la columna Y es: 3.54\n"
     ]
    }
   ],
   "source": [
    "# Columna Z\n",
    "mode_z_column = round(df_diamonds['z'].mean(), 2)\n",
    "print(f\" La media de la columna Y es: {mode_z_column}\")"
   ]
  },
  {
   "cell_type": "code",
   "execution_count": 28,
   "metadata": {},
   "outputs": [
    {
     "data": {
      "text/plain": [
       "np.int64(0)"
      ]
     },
     "execution_count": 28,
     "metadata": {},
     "output_type": "execute_result"
    }
   ],
   "source": [
    "df_diamonds['z'] = df_diamonds['z'].fillna(mode_z_column)\n",
    "df_diamonds['z'].isna().sum()"
   ]
  },
  {
   "cell_type": "code",
   "execution_count": 29,
   "metadata": {},
   "outputs": [
    {
     "data": {
      "text/plain": [
       "carat      0\n",
       "cut        0\n",
       "color      0\n",
       "clarity    0\n",
       "depth      0\n",
       "table      0\n",
       "price      0\n",
       "x          0\n",
       "y          0\n",
       "z          0\n",
       "dtype: int64"
      ]
     },
     "execution_count": 29,
     "metadata": {},
     "output_type": "execute_result"
    }
   ],
   "source": [
    "# Comprobamos que ya no hay nulos\n",
    "df_diamonds.isna().sum()"
   ]
  },
  {
   "cell_type": "markdown",
   "metadata": {},
   "source": [
    "#### Cambio de tipo de dato: .astype()\n",
    "- Columna \"carat\" a tipo \"float16\"\n",
    "- Columna \"cut\" a tipo \"categorical\"\n"
   ]
  },
  {
   "cell_type": "code",
   "execution_count": 30,
   "metadata": {},
   "outputs": [
    {
     "name": "stdout",
     "output_type": "stream",
     "text": [
      "<class 'pandas.core.frame.DataFrame'>\n",
      "RangeIndex: 53940 entries, 0 to 53939\n",
      "Data columns (total 10 columns):\n",
      " #   Column   Non-Null Count  Dtype  \n",
      "---  ------   --------------  -----  \n",
      " 0   carat    53940 non-null  float64\n",
      " 1   cut      53940 non-null  object \n",
      " 2   color    53940 non-null  object \n",
      " 3   clarity  53940 non-null  object \n",
      " 4   depth    53940 non-null  float64\n",
      " 5   table    53940 non-null  float64\n",
      " 6   price    53940 non-null  object \n",
      " 7   x        53940 non-null  object \n",
      " 8   y        53940 non-null  float64\n",
      " 9   z        53940 non-null  float64\n",
      "dtypes: float64(5), object(5)\n",
      "memory usage: 4.1+ MB\n"
     ]
    }
   ],
   "source": [
    "# Comprobamos los tipo de datos actuales\n",
    "df_diamonds.info()"
   ]
  },
  {
   "cell_type": "code",
   "execution_count": 47,
   "metadata": {},
   "outputs": [
    {
     "name": "stdout",
     "output_type": "stream",
     "text": [
      "float16\n"
     ]
    }
   ],
   "source": [
    "df_diamonds[\"carat\"] = df_diamonds[\"carat\"].astype(\"float16\")\n",
    "print(df_diamonds[\"carat\"].dtypes)"
   ]
  },
  {
   "cell_type": "code",
   "execution_count": 48,
   "metadata": {},
   "outputs": [
    {
     "name": "stdout",
     "output_type": "stream",
     "text": [
      "category\n"
     ]
    }
   ],
   "source": [
    "df_diamonds[\"cut\"] = df_diamonds[\"cut\"].astype(\"category\")\n",
    "print(df_diamonds[\"cut\"].dtypes)"
   ]
  },
  {
   "cell_type": "markdown",
   "metadata": {},
   "source": [
    "* Borrado de duplicados: drop_duplicates()"
   ]
  },
  {
   "cell_type": "code",
   "execution_count": null,
   "metadata": {},
   "outputs": [
    {
     "name": "stdout",
     "output_type": "stream",
     "text": [
      "Duplicados encontrados:\n",
      "          carat    cut color clarity  depth  table price     x     y     z\n",
      "1005   0.790039  Ideal     G     SI1   62.3   57.0  2898   5.9  5.85  3.66\n",
      "1006   0.790039  Ideal     G     SI1   62.3   57.0  2898   5.9  5.85  3.66\n",
      "1007   0.790039  Ideal     G     SI1   62.3   57.0  2898   5.9  5.85  3.66\n",
      "1008   0.790039  Ideal     G     SI1   62.3   57.0  2898   5.9  5.85  3.66\n",
      "2025   1.519531   Good     E      I1   57.3   58.0  3105  7.53  7.42  4.28\n",
      "...         ...    ...   ...     ...    ...    ...   ...   ...   ...   ...\n",
      "47969  0.520020  Ideal     D     VS2   61.8   55.0  1919  5.19  5.16  3.20\n",
      "49326  0.509766  Ideal     F    VVS2   61.2   56.0  2093  5.17  5.19  3.17\n",
      "49557  0.709961   Good     F     SI2   64.1   60.0  2130     0   NaN   NaN\n",
      "50079  0.509766  Ideal     F    VVS2   61.2   56.0  2203  5.19  5.17  3.17\n",
      "52861  0.500000   Fair     E     VS2   79.0   73.0  2579  5.21  5.18  4.09\n",
      "\n",
      "[146 rows x 10 columns]\n"
     ]
    },
    {
     "name": "stderr",
     "output_type": "stream",
     "text": [
      "/Library/Frameworks/Python.framework/Versions/3.13/lib/python3.13/site-packages/pandas/io/formats/format.py:1458: RuntimeWarning: overflow encountered in cast\n",
      "  has_large_values = (abs_vals > 1e6).any()\n"
     ]
    }
   ],
   "source": [
    "# Vemos los duplicados que hay\n",
    "duplicados = df_diamonds[df_diamonds.duplicated()]\n",
    "print(\"Duplicados encontrados:\")\n",
    "print(duplicados)"
   ]
  },
  {
   "cell_type": "code",
   "execution_count": 55,
   "metadata": {},
   "outputs": [
    {
     "name": "stdout",
     "output_type": "stream",
     "text": [
      "Duplicados encontrados:\n",
      "Empty DataFrame\n",
      "Columns: [carat, cut, color, clarity, depth, table, price, x, y, z]\n",
      "Index: []\n"
     ]
    }
   ],
   "source": [
    "# Eliminar filas duplicados\n",
    "df_diamonds = df_diamonds.drop_duplicates()\n",
    "\n",
    "# Comprobamos que ya no hay filas con valores duplicados\n",
    "duplicados = df_diamonds[df_diamonds.duplicated()]\n",
    "print(\"Duplicados encontrados:\")\n",
    "print(duplicados)"
   ]
  },
  {
   "cell_type": "markdown",
   "metadata": {},
   "source": [
    "#### Encoding: texto a numérico\n",
    "- Uso de la función get_dummies() para encoding one_hot"
   ]
  },
  {
   "cell_type": "code",
   "execution_count": 56,
   "metadata": {},
   "outputs": [],
   "source": [
    "df_diamonds_encoding = pd.read_csv('../Data/diamonds.csv')"
   ]
  },
  {
   "cell_type": "code",
   "execution_count": 57,
   "metadata": {},
   "outputs": [
    {
     "data": {
      "text/html": [
       "<div>\n",
       "<style scoped>\n",
       "    .dataframe tbody tr th:only-of-type {\n",
       "        vertical-align: middle;\n",
       "    }\n",
       "\n",
       "    .dataframe tbody tr th {\n",
       "        vertical-align: top;\n",
       "    }\n",
       "\n",
       "    .dataframe thead th {\n",
       "        text-align: right;\n",
       "    }\n",
       "</style>\n",
       "<table border=\"1\" class=\"dataframe\">\n",
       "  <thead>\n",
       "    <tr style=\"text-align: right;\">\n",
       "      <th></th>\n",
       "      <th>carat</th>\n",
       "      <th>cut</th>\n",
       "      <th>color</th>\n",
       "      <th>clarity</th>\n",
       "      <th>depth</th>\n",
       "      <th>table</th>\n",
       "      <th>price</th>\n",
       "      <th>x</th>\n",
       "      <th>y</th>\n",
       "      <th>z</th>\n",
       "    </tr>\n",
       "  </thead>\n",
       "  <tbody>\n",
       "    <tr>\n",
       "      <th>0</th>\n",
       "      <td>0.23</td>\n",
       "      <td>Ideal</td>\n",
       "      <td>E</td>\n",
       "      <td>SI2</td>\n",
       "      <td>61.5</td>\n",
       "      <td>55.0</td>\n",
       "      <td>326</td>\n",
       "      <td>3.95</td>\n",
       "      <td>3.98</td>\n",
       "      <td>2.43</td>\n",
       "    </tr>\n",
       "    <tr>\n",
       "      <th>1</th>\n",
       "      <td>0.21</td>\n",
       "      <td>Premium</td>\n",
       "      <td>E</td>\n",
       "      <td>SI1</td>\n",
       "      <td>59.8</td>\n",
       "      <td>61.0</td>\n",
       "      <td>326</td>\n",
       "      <td>3.89</td>\n",
       "      <td>3.84</td>\n",
       "      <td>2.31</td>\n",
       "    </tr>\n",
       "  </tbody>\n",
       "</table>\n",
       "</div>"
      ],
      "text/plain": [
       "   carat      cut color clarity  depth  table price     x     y     z\n",
       "0   0.23    Ideal     E     SI2   61.5   55.0   326  3.95  3.98  2.43\n",
       "1   0.21  Premium     E     SI1   59.8   61.0   326  3.89  3.84  2.31"
      ]
     },
     "execution_count": 57,
     "metadata": {},
     "output_type": "execute_result"
    }
   ],
   "source": [
    "df_diamonds_encoding.head(2)"
   ]
  },
  {
   "cell_type": "code",
   "execution_count": 58,
   "metadata": {},
   "outputs": [
    {
     "data": {
      "text/html": [
       "<div>\n",
       "<style scoped>\n",
       "    .dataframe tbody tr th:only-of-type {\n",
       "        vertical-align: middle;\n",
       "    }\n",
       "\n",
       "    .dataframe tbody tr th {\n",
       "        vertical-align: top;\n",
       "    }\n",
       "\n",
       "    .dataframe thead th {\n",
       "        text-align: right;\n",
       "    }\n",
       "</style>\n",
       "<table border=\"1\" class=\"dataframe\">\n",
       "  <thead>\n",
       "    <tr style=\"text-align: right;\">\n",
       "      <th></th>\n",
       "      <th>carat</th>\n",
       "      <th>depth</th>\n",
       "      <th>table</th>\n",
       "      <th>y</th>\n",
       "      <th>z</th>\n",
       "      <th>cut_?</th>\n",
       "      <th>cut_Fair</th>\n",
       "      <th>cut_Good</th>\n",
       "      <th>cut_Ideal</th>\n",
       "      <th>cut_Premium</th>\n",
       "      <th>...</th>\n",
       "      <th>x_9.42</th>\n",
       "      <th>x_9.44</th>\n",
       "      <th>x_9.49</th>\n",
       "      <th>x_9.51</th>\n",
       "      <th>x_9.53</th>\n",
       "      <th>x_9.54</th>\n",
       "      <th>x_9.65</th>\n",
       "      <th>x_9.66</th>\n",
       "      <th>x_9.86</th>\n",
       "      <th>x_?</th>\n",
       "    </tr>\n",
       "  </thead>\n",
       "  <tbody>\n",
       "    <tr>\n",
       "      <th>0</th>\n",
       "      <td>0.23</td>\n",
       "      <td>61.5</td>\n",
       "      <td>55.0</td>\n",
       "      <td>3.98</td>\n",
       "      <td>2.43</td>\n",
       "      <td>False</td>\n",
       "      <td>False</td>\n",
       "      <td>False</td>\n",
       "      <td>True</td>\n",
       "      <td>False</td>\n",
       "      <td>...</td>\n",
       "      <td>False</td>\n",
       "      <td>False</td>\n",
       "      <td>False</td>\n",
       "      <td>False</td>\n",
       "      <td>False</td>\n",
       "      <td>False</td>\n",
       "      <td>False</td>\n",
       "      <td>False</td>\n",
       "      <td>False</td>\n",
       "      <td>False</td>\n",
       "    </tr>\n",
       "    <tr>\n",
       "      <th>1</th>\n",
       "      <td>0.21</td>\n",
       "      <td>59.8</td>\n",
       "      <td>61.0</td>\n",
       "      <td>3.84</td>\n",
       "      <td>2.31</td>\n",
       "      <td>False</td>\n",
       "      <td>False</td>\n",
       "      <td>False</td>\n",
       "      <td>False</td>\n",
       "      <td>True</td>\n",
       "      <td>...</td>\n",
       "      <td>False</td>\n",
       "      <td>False</td>\n",
       "      <td>False</td>\n",
       "      <td>False</td>\n",
       "      <td>False</td>\n",
       "      <td>False</td>\n",
       "      <td>False</td>\n",
       "      <td>False</td>\n",
       "      <td>False</td>\n",
       "      <td>False</td>\n",
       "    </tr>\n",
       "    <tr>\n",
       "      <th>2</th>\n",
       "      <td>0.23</td>\n",
       "      <td>56.9</td>\n",
       "      <td>65.0</td>\n",
       "      <td>4.07</td>\n",
       "      <td>2.31</td>\n",
       "      <td>False</td>\n",
       "      <td>False</td>\n",
       "      <td>True</td>\n",
       "      <td>False</td>\n",
       "      <td>False</td>\n",
       "      <td>...</td>\n",
       "      <td>False</td>\n",
       "      <td>False</td>\n",
       "      <td>False</td>\n",
       "      <td>False</td>\n",
       "      <td>False</td>\n",
       "      <td>False</td>\n",
       "      <td>False</td>\n",
       "      <td>False</td>\n",
       "      <td>False</td>\n",
       "      <td>False</td>\n",
       "    </tr>\n",
       "    <tr>\n",
       "      <th>3</th>\n",
       "      <td>0.29</td>\n",
       "      <td>62.4</td>\n",
       "      <td>58.0</td>\n",
       "      <td>4.23</td>\n",
       "      <td>2.63</td>\n",
       "      <td>False</td>\n",
       "      <td>False</td>\n",
       "      <td>False</td>\n",
       "      <td>False</td>\n",
       "      <td>True</td>\n",
       "      <td>...</td>\n",
       "      <td>False</td>\n",
       "      <td>False</td>\n",
       "      <td>False</td>\n",
       "      <td>False</td>\n",
       "      <td>False</td>\n",
       "      <td>False</td>\n",
       "      <td>False</td>\n",
       "      <td>False</td>\n",
       "      <td>False</td>\n",
       "      <td>False</td>\n",
       "    </tr>\n",
       "    <tr>\n",
       "      <th>4</th>\n",
       "      <td>0.31</td>\n",
       "      <td>63.3</td>\n",
       "      <td>58.0</td>\n",
       "      <td>4.35</td>\n",
       "      <td>2.75</td>\n",
       "      <td>False</td>\n",
       "      <td>False</td>\n",
       "      <td>True</td>\n",
       "      <td>False</td>\n",
       "      <td>False</td>\n",
       "      <td>...</td>\n",
       "      <td>False</td>\n",
       "      <td>False</td>\n",
       "      <td>False</td>\n",
       "      <td>False</td>\n",
       "      <td>False</td>\n",
       "      <td>False</td>\n",
       "      <td>False</td>\n",
       "      <td>False</td>\n",
       "      <td>False</td>\n",
       "      <td>False</td>\n",
       "    </tr>\n",
       "    <tr>\n",
       "      <th>...</th>\n",
       "      <td>...</td>\n",
       "      <td>...</td>\n",
       "      <td>...</td>\n",
       "      <td>...</td>\n",
       "      <td>...</td>\n",
       "      <td>...</td>\n",
       "      <td>...</td>\n",
       "      <td>...</td>\n",
       "      <td>...</td>\n",
       "      <td>...</td>\n",
       "      <td>...</td>\n",
       "      <td>...</td>\n",
       "      <td>...</td>\n",
       "      <td>...</td>\n",
       "      <td>...</td>\n",
       "      <td>...</td>\n",
       "      <td>...</td>\n",
       "      <td>...</td>\n",
       "      <td>...</td>\n",
       "      <td>...</td>\n",
       "      <td>...</td>\n",
       "    </tr>\n",
       "    <tr>\n",
       "      <th>53935</th>\n",
       "      <td>0.72</td>\n",
       "      <td>60.8</td>\n",
       "      <td>57.0</td>\n",
       "      <td>5.76</td>\n",
       "      <td>3.50</td>\n",
       "      <td>False</td>\n",
       "      <td>False</td>\n",
       "      <td>False</td>\n",
       "      <td>True</td>\n",
       "      <td>False</td>\n",
       "      <td>...</td>\n",
       "      <td>False</td>\n",
       "      <td>False</td>\n",
       "      <td>False</td>\n",
       "      <td>False</td>\n",
       "      <td>False</td>\n",
       "      <td>False</td>\n",
       "      <td>False</td>\n",
       "      <td>False</td>\n",
       "      <td>False</td>\n",
       "      <td>False</td>\n",
       "    </tr>\n",
       "    <tr>\n",
       "      <th>53936</th>\n",
       "      <td>0.72</td>\n",
       "      <td>63.1</td>\n",
       "      <td>55.0</td>\n",
       "      <td>5.75</td>\n",
       "      <td>3.61</td>\n",
       "      <td>False</td>\n",
       "      <td>False</td>\n",
       "      <td>True</td>\n",
       "      <td>False</td>\n",
       "      <td>False</td>\n",
       "      <td>...</td>\n",
       "      <td>False</td>\n",
       "      <td>False</td>\n",
       "      <td>False</td>\n",
       "      <td>False</td>\n",
       "      <td>False</td>\n",
       "      <td>False</td>\n",
       "      <td>False</td>\n",
       "      <td>False</td>\n",
       "      <td>False</td>\n",
       "      <td>False</td>\n",
       "    </tr>\n",
       "    <tr>\n",
       "      <th>53937</th>\n",
       "      <td>0.70</td>\n",
       "      <td>62.8</td>\n",
       "      <td>60.0</td>\n",
       "      <td>5.68</td>\n",
       "      <td>3.56</td>\n",
       "      <td>False</td>\n",
       "      <td>False</td>\n",
       "      <td>False</td>\n",
       "      <td>False</td>\n",
       "      <td>False</td>\n",
       "      <td>...</td>\n",
       "      <td>False</td>\n",
       "      <td>False</td>\n",
       "      <td>False</td>\n",
       "      <td>False</td>\n",
       "      <td>False</td>\n",
       "      <td>False</td>\n",
       "      <td>False</td>\n",
       "      <td>False</td>\n",
       "      <td>False</td>\n",
       "      <td>False</td>\n",
       "    </tr>\n",
       "    <tr>\n",
       "      <th>53938</th>\n",
       "      <td>0.86</td>\n",
       "      <td>61.0</td>\n",
       "      <td>58.0</td>\n",
       "      <td>6.12</td>\n",
       "      <td>3.74</td>\n",
       "      <td>False</td>\n",
       "      <td>False</td>\n",
       "      <td>False</td>\n",
       "      <td>False</td>\n",
       "      <td>True</td>\n",
       "      <td>...</td>\n",
       "      <td>False</td>\n",
       "      <td>False</td>\n",
       "      <td>False</td>\n",
       "      <td>False</td>\n",
       "      <td>False</td>\n",
       "      <td>False</td>\n",
       "      <td>False</td>\n",
       "      <td>False</td>\n",
       "      <td>False</td>\n",
       "      <td>False</td>\n",
       "    </tr>\n",
       "    <tr>\n",
       "      <th>53939</th>\n",
       "      <td>0.75</td>\n",
       "      <td>62.2</td>\n",
       "      <td>55.0</td>\n",
       "      <td>5.87</td>\n",
       "      <td>3.64</td>\n",
       "      <td>False</td>\n",
       "      <td>False</td>\n",
       "      <td>False</td>\n",
       "      <td>True</td>\n",
       "      <td>False</td>\n",
       "      <td>...</td>\n",
       "      <td>False</td>\n",
       "      <td>False</td>\n",
       "      <td>False</td>\n",
       "      <td>False</td>\n",
       "      <td>False</td>\n",
       "      <td>False</td>\n",
       "      <td>False</td>\n",
       "      <td>False</td>\n",
       "      <td>False</td>\n",
       "      <td>False</td>\n",
       "    </tr>\n",
       "  </tbody>\n",
       "</table>\n",
       "<p>53940 rows × 12184 columns</p>\n",
       "</div>"
      ],
      "text/plain": [
       "       carat  depth  table     y     z  cut_?  cut_Fair  cut_Good  cut_Ideal  \\\n",
       "0       0.23   61.5   55.0  3.98  2.43  False     False     False       True   \n",
       "1       0.21   59.8   61.0  3.84  2.31  False     False     False      False   \n",
       "2       0.23   56.9   65.0  4.07  2.31  False     False      True      False   \n",
       "3       0.29   62.4   58.0  4.23  2.63  False     False     False      False   \n",
       "4       0.31   63.3   58.0  4.35  2.75  False     False      True      False   \n",
       "...      ...    ...    ...   ...   ...    ...       ...       ...        ...   \n",
       "53935   0.72   60.8   57.0  5.76  3.50  False     False     False       True   \n",
       "53936   0.72   63.1   55.0  5.75  3.61  False     False      True      False   \n",
       "53937   0.70   62.8   60.0  5.68  3.56  False     False     False      False   \n",
       "53938   0.86   61.0   58.0  6.12  3.74  False     False     False      False   \n",
       "53939   0.75   62.2   55.0  5.87  3.64  False     False     False       True   \n",
       "\n",
       "       cut_Premium  ...  x_9.42  x_9.44  x_9.49  x_9.51  x_9.53  x_9.54  \\\n",
       "0            False  ...   False   False   False   False   False   False   \n",
       "1             True  ...   False   False   False   False   False   False   \n",
       "2            False  ...   False   False   False   False   False   False   \n",
       "3             True  ...   False   False   False   False   False   False   \n",
       "4            False  ...   False   False   False   False   False   False   \n",
       "...            ...  ...     ...     ...     ...     ...     ...     ...   \n",
       "53935        False  ...   False   False   False   False   False   False   \n",
       "53936        False  ...   False   False   False   False   False   False   \n",
       "53937        False  ...   False   False   False   False   False   False   \n",
       "53938         True  ...   False   False   False   False   False   False   \n",
       "53939        False  ...   False   False   False   False   False   False   \n",
       "\n",
       "       x_9.65  x_9.66  x_9.86    x_?  \n",
       "0       False   False   False  False  \n",
       "1       False   False   False  False  \n",
       "2       False   False   False  False  \n",
       "3       False   False   False  False  \n",
       "4       False   False   False  False  \n",
       "...       ...     ...     ...    ...  \n",
       "53935   False   False   False  False  \n",
       "53936   False   False   False  False  \n",
       "53937   False   False   False  False  \n",
       "53938   False   False   False  False  \n",
       "53939   False   False   False  False  \n",
       "\n",
       "[53940 rows x 12184 columns]"
      ]
     },
     "execution_count": 58,
     "metadata": {},
     "output_type": "execute_result"
    }
   ],
   "source": [
    "pd.get_dummies(df_diamonds_encoding)"
   ]
  },
  {
   "cell_type": "markdown",
   "metadata": {},
   "source": [
    "* Uso de map para encoding ordinal para la columna cut como una nueva columna cut_int: 1, 2, 3, 4"
   ]
  },
  {
   "cell_type": "code",
   "execution_count": 59,
   "metadata": {},
   "outputs": [
    {
     "data": {
      "text/plain": [
       "['Ideal', 'Premium', 'Good', 'Very Good', 'Fair']\n",
       "Categories (5, object): ['Fair', 'Good', 'Ideal', 'Premium', 'Very Good']"
      ]
     },
     "execution_count": 59,
     "metadata": {},
     "output_type": "execute_result"
    }
   ],
   "source": [
    "# Buscamos los tipos de corte que hay\n",
    "tipos_corte =  df_diamonds['cut'].unique()\n",
    "tipos_corte"
   ]
  },
  {
   "cell_type": "code",
   "execution_count": 60,
   "metadata": {},
   "outputs": [
    {
     "data": {
      "text/plain": [
       "{'Ideal': 1, 'Premium': 2, 'Good': 3, 'Very Good': 4, 'Fair': 5}"
      ]
     },
     "execution_count": 60,
     "metadata": {},
     "output_type": "execute_result"
    }
   ],
   "source": [
    "# Creamos un diccionario con los numeros ordinales \n",
    "num_ordinal = {categoria: i + 1 for i, categoria in enumerate(tipos_corte)}\n",
    "num_ordinal"
   ]
  },
  {
   "cell_type": "code",
   "execution_count": 61,
   "metadata": {},
   "outputs": [
    {
     "name": "stdout",
     "output_type": "stream",
     "text": [
      "       carat        cut color clarity  depth  table price     x     y     z  \\\n",
      "0       0.23      Ideal     E     SI2   61.5   55.0   326  3.95  3.98  2.43   \n",
      "1       0.21    Premium     E     SI1   59.8   61.0   326  3.89  3.84  2.31   \n",
      "2       0.23       Good     E     VS1   56.9   65.0   327  4.05  4.07  2.31   \n",
      "3       0.29    Premium     I     VS2   62.4   58.0   334   4.2  4.23  2.63   \n",
      "4       0.31       Good     J     SI2   63.3   58.0   335  4.34  4.35  2.75   \n",
      "...      ...        ...   ...     ...    ...    ...   ...   ...   ...   ...   \n",
      "53935   0.72      Ideal     D     SI1   60.8   57.0  2757  5.75  5.76  3.50   \n",
      "53936   0.72       Good     D     SI1   63.1   55.0  2757  5.69  5.75  3.61   \n",
      "53937   0.70  Very Good     D     SI1   62.8   60.0  2757  5.66  5.68  3.56   \n",
      "53938   0.86    Premium     H     SI2   61.0   58.0  2757  6.15  6.12  3.74   \n",
      "53939   0.75      Ideal     D     SI2   62.2   55.0  2757  5.83  5.87  3.64   \n",
      "\n",
      "       cut_int  \n",
      "0          1.0  \n",
      "1          2.0  \n",
      "2          3.0  \n",
      "3          2.0  \n",
      "4          3.0  \n",
      "...        ...  \n",
      "53935      1.0  \n",
      "53936      3.0  \n",
      "53937      4.0  \n",
      "53938      2.0  \n",
      "53939      1.0  \n",
      "\n",
      "[53940 rows x 11 columns]\n"
     ]
    }
   ],
   "source": [
    "# Creamos la columna con los numeros ordinales\n",
    "df_diamonds_encoding['cut_int'] = df_diamonds_encoding['cut'].map(num_ordinal)\n",
    "print(df_diamonds_encoding)"
   ]
  },
  {
   "cell_type": "markdown",
   "metadata": {},
   "source": [
    "## PARTE 2"
   ]
  },
  {
   "cell_type": "markdown",
   "metadata": {},
   "source": [
    "#### Uso de función map o apply\n",
    " * crear una columna price_iva a partir de la columna price que muestre el precio + IVA (21%)"
   ]
  },
  {
   "cell_type": "code",
   "execution_count": 62,
   "metadata": {},
   "outputs": [
    {
     "name": "stdout",
     "output_type": "stream",
     "text": [
      "object\n"
     ]
    }
   ],
   "source": [
    "# Comprobamos de que tipo es la columna \"Price\"\n",
    "print(df_diamonds[\"price\"].dtypes)"
   ]
  },
  {
   "cell_type": "code",
   "execution_count": 63,
   "metadata": {},
   "outputs": [
    {
     "name": "stdout",
     "output_type": "stream",
     "text": [
      "float16\n"
     ]
    }
   ],
   "source": [
    "# Cambiamos el tipo de la columna de \"Object\" a \"Float16\"\n",
    "df_diamonds[\"price\"] = df_diamonds[\"price\"].astype(\"float16\")\n",
    "print(df_diamonds[\"price\"].dtypes)"
   ]
  },
  {
   "cell_type": "code",
   "execution_count": 67,
   "metadata": {},
   "outputs": [
    {
     "name": "stderr",
     "output_type": "stream",
     "text": [
      "/Library/Frameworks/Python.framework/Versions/3.13/lib/python3.13/site-packages/pandas/io/formats/format.py:1458: RuntimeWarning: overflow encountered in cast\n",
      "  has_large_values = (abs_vals > 1e6).any()\n"
     ]
    },
    {
     "data": {
      "text/html": [
       "<div>\n",
       "<style scoped>\n",
       "    .dataframe tbody tr th:only-of-type {\n",
       "        vertical-align: middle;\n",
       "    }\n",
       "\n",
       "    .dataframe tbody tr th {\n",
       "        vertical-align: top;\n",
       "    }\n",
       "\n",
       "    .dataframe thead th {\n",
       "        text-align: right;\n",
       "    }\n",
       "</style>\n",
       "<table border=\"1\" class=\"dataframe\">\n",
       "  <thead>\n",
       "    <tr style=\"text-align: right;\">\n",
       "      <th></th>\n",
       "      <th>carat</th>\n",
       "      <th>cut</th>\n",
       "      <th>color</th>\n",
       "      <th>clarity</th>\n",
       "      <th>depth</th>\n",
       "      <th>table</th>\n",
       "      <th>price</th>\n",
       "      <th>x</th>\n",
       "      <th>y</th>\n",
       "      <th>z</th>\n",
       "      <th>price_iva</th>\n",
       "      <th>volumen</th>\n",
       "    </tr>\n",
       "  </thead>\n",
       "  <tbody>\n",
       "    <tr>\n",
       "      <th>0</th>\n",
       "      <td>0.229980</td>\n",
       "      <td>Ideal</td>\n",
       "      <td>E</td>\n",
       "      <td>SI2</td>\n",
       "      <td>61.5</td>\n",
       "      <td>55.0</td>\n",
       "      <td>326.0</td>\n",
       "      <td>3.949219</td>\n",
       "      <td>3.98</td>\n",
       "      <td>2.43</td>\n",
       "      <td>394.46</td>\n",
       "      <td>38.194474</td>\n",
       "    </tr>\n",
       "    <tr>\n",
       "      <th>1</th>\n",
       "      <td>0.209961</td>\n",
       "      <td>Premium</td>\n",
       "      <td>E</td>\n",
       "      <td>SI1</td>\n",
       "      <td>59.8</td>\n",
       "      <td>61.0</td>\n",
       "      <td>326.0</td>\n",
       "      <td>3.890625</td>\n",
       "      <td>3.84</td>\n",
       "      <td>2.31</td>\n",
       "      <td>394.46</td>\n",
       "      <td>34.511400</td>\n",
       "    </tr>\n",
       "    <tr>\n",
       "      <th>2</th>\n",
       "      <td>0.229980</td>\n",
       "      <td>Good</td>\n",
       "      <td>E</td>\n",
       "      <td>VS1</td>\n",
       "      <td>56.9</td>\n",
       "      <td>65.0</td>\n",
       "      <td>327.0</td>\n",
       "      <td>4.050781</td>\n",
       "      <td>4.07</td>\n",
       "      <td>2.31</td>\n",
       "      <td>395.67</td>\n",
       "      <td>38.084230</td>\n",
       "    </tr>\n",
       "    <tr>\n",
       "      <th>3</th>\n",
       "      <td>0.290039</td>\n",
       "      <td>Premium</td>\n",
       "      <td>I</td>\n",
       "      <td>VS2</td>\n",
       "      <td>62.4</td>\n",
       "      <td>58.0</td>\n",
       "      <td>334.0</td>\n",
       "      <td>4.199219</td>\n",
       "      <td>4.23</td>\n",
       "      <td>2.63</td>\n",
       "      <td>404.14</td>\n",
       "      <td>46.715889</td>\n",
       "    </tr>\n",
       "    <tr>\n",
       "      <th>4</th>\n",
       "      <td>0.310059</td>\n",
       "      <td>Good</td>\n",
       "      <td>J</td>\n",
       "      <td>SI2</td>\n",
       "      <td>63.3</td>\n",
       "      <td>58.0</td>\n",
       "      <td>335.0</td>\n",
       "      <td>4.339844</td>\n",
       "      <td>4.35</td>\n",
       "      <td>2.75</td>\n",
       "      <td>405.35</td>\n",
       "      <td>51.915381</td>\n",
       "    </tr>\n",
       "    <tr>\n",
       "      <th>...</th>\n",
       "      <td>...</td>\n",
       "      <td>...</td>\n",
       "      <td>...</td>\n",
       "      <td>...</td>\n",
       "      <td>...</td>\n",
       "      <td>...</td>\n",
       "      <td>...</td>\n",
       "      <td>...</td>\n",
       "      <td>...</td>\n",
       "      <td>...</td>\n",
       "      <td>...</td>\n",
       "      <td>...</td>\n",
       "    </tr>\n",
       "    <tr>\n",
       "      <th>53935</th>\n",
       "      <td>0.720215</td>\n",
       "      <td>Ideal</td>\n",
       "      <td>D</td>\n",
       "      <td>SI1</td>\n",
       "      <td>60.8</td>\n",
       "      <td>57.0</td>\n",
       "      <td>2756.0</td>\n",
       "      <td>5.750000</td>\n",
       "      <td>5.76</td>\n",
       "      <td>3.50</td>\n",
       "      <td>3334.76</td>\n",
       "      <td>115.920000</td>\n",
       "    </tr>\n",
       "    <tr>\n",
       "      <th>53936</th>\n",
       "      <td>0.720215</td>\n",
       "      <td>Good</td>\n",
       "      <td>D</td>\n",
       "      <td>SI1</td>\n",
       "      <td>63.1</td>\n",
       "      <td>55.0</td>\n",
       "      <td>2756.0</td>\n",
       "      <td>5.691406</td>\n",
       "      <td>5.75</td>\n",
       "      <td>3.61</td>\n",
       "      <td>3334.76</td>\n",
       "      <td>118.139365</td>\n",
       "    </tr>\n",
       "    <tr>\n",
       "      <th>53937</th>\n",
       "      <td>0.700195</td>\n",
       "      <td>Very Good</td>\n",
       "      <td>D</td>\n",
       "      <td>SI1</td>\n",
       "      <td>62.8</td>\n",
       "      <td>60.0</td>\n",
       "      <td>2756.0</td>\n",
       "      <td>5.660156</td>\n",
       "      <td>5.68</td>\n",
       "      <td>3.56</td>\n",
       "      <td>3334.76</td>\n",
       "      <td>114.452888</td>\n",
       "    </tr>\n",
       "    <tr>\n",
       "      <th>53938</th>\n",
       "      <td>0.859863</td>\n",
       "      <td>Premium</td>\n",
       "      <td>H</td>\n",
       "      <td>SI2</td>\n",
       "      <td>61.0</td>\n",
       "      <td>58.0</td>\n",
       "      <td>2756.0</td>\n",
       "      <td>6.148438</td>\n",
       "      <td>6.12</td>\n",
       "      <td>3.74</td>\n",
       "      <td>3334.76</td>\n",
       "      <td>140.730356</td>\n",
       "    </tr>\n",
       "    <tr>\n",
       "      <th>53939</th>\n",
       "      <td>0.750000</td>\n",
       "      <td>Ideal</td>\n",
       "      <td>D</td>\n",
       "      <td>SI2</td>\n",
       "      <td>62.2</td>\n",
       "      <td>55.0</td>\n",
       "      <td>2756.0</td>\n",
       "      <td>5.828125</td>\n",
       "      <td>5.87</td>\n",
       "      <td>3.64</td>\n",
       "      <td>3334.76</td>\n",
       "      <td>124.528381</td>\n",
       "    </tr>\n",
       "  </tbody>\n",
       "</table>\n",
       "<p>53794 rows × 12 columns</p>\n",
       "</div>"
      ],
      "text/plain": [
       "          carat        cut color clarity  depth  table   price         x  \\\n",
       "0      0.229980      Ideal     E     SI2   61.5   55.0   326.0  3.949219   \n",
       "1      0.209961    Premium     E     SI1   59.8   61.0   326.0  3.890625   \n",
       "2      0.229980       Good     E     VS1   56.9   65.0   327.0  4.050781   \n",
       "3      0.290039    Premium     I     VS2   62.4   58.0   334.0  4.199219   \n",
       "4      0.310059       Good     J     SI2   63.3   58.0   335.0  4.339844   \n",
       "...         ...        ...   ...     ...    ...    ...     ...       ...   \n",
       "53935  0.720215      Ideal     D     SI1   60.8   57.0  2756.0  5.750000   \n",
       "53936  0.720215       Good     D     SI1   63.1   55.0  2756.0  5.691406   \n",
       "53937  0.700195  Very Good     D     SI1   62.8   60.0  2756.0  5.660156   \n",
       "53938  0.859863    Premium     H     SI2   61.0   58.0  2756.0  6.148438   \n",
       "53939  0.750000      Ideal     D     SI2   62.2   55.0  2756.0  5.828125   \n",
       "\n",
       "          y     z  price_iva     volumen  \n",
       "0      3.98  2.43     394.46   38.194474  \n",
       "1      3.84  2.31     394.46   34.511400  \n",
       "2      4.07  2.31     395.67   38.084230  \n",
       "3      4.23  2.63     404.14   46.715889  \n",
       "4      4.35  2.75     405.35   51.915381  \n",
       "...     ...   ...        ...         ...  \n",
       "53935  5.76  3.50    3334.76  115.920000  \n",
       "53936  5.75  3.61    3334.76  118.139365  \n",
       "53937  5.68  3.56    3334.76  114.452888  \n",
       "53938  6.12  3.74    3334.76  140.730356  \n",
       "53939  5.87  3.64    3334.76  124.528381  \n",
       "\n",
       "[53794 rows x 12 columns]"
      ]
     },
     "execution_count": 67,
     "metadata": {},
     "output_type": "execute_result"
    }
   ],
   "source": [
    "# Añadimos la columna\n",
    "df_diamonds['price_iva'] = df_diamonds['price'].apply(lambda x: round(x * 1.21, 2))\n",
    "df_diamonds"
   ]
  },
  {
   "cell_type": "markdown",
   "metadata": {},
   "source": [
    "* Crear una columna price_discount usando apply a partir de la columna price(con lambda o def):"
   ]
  },
  {
   "cell_type": "code",
   "execution_count": 71,
   "metadata": {},
   "outputs": [
    {
     "name": "stderr",
     "output_type": "stream",
     "text": [
      "/Library/Frameworks/Python.framework/Versions/3.13/lib/python3.13/site-packages/pandas/io/formats/format.py:1458: RuntimeWarning: overflow encountered in cast\n",
      "  has_large_values = (abs_vals > 1e6).any()\n"
     ]
    },
    {
     "data": {
      "text/html": [
       "<div>\n",
       "<style scoped>\n",
       "    .dataframe tbody tr th:only-of-type {\n",
       "        vertical-align: middle;\n",
       "    }\n",
       "\n",
       "    .dataframe tbody tr th {\n",
       "        vertical-align: top;\n",
       "    }\n",
       "\n",
       "    .dataframe thead th {\n",
       "        text-align: right;\n",
       "    }\n",
       "</style>\n",
       "<table border=\"1\" class=\"dataframe\">\n",
       "  <thead>\n",
       "    <tr style=\"text-align: right;\">\n",
       "      <th></th>\n",
       "      <th>price</th>\n",
       "      <th>cut</th>\n",
       "      <th>price_discount</th>\n",
       "    </tr>\n",
       "  </thead>\n",
       "  <tbody>\n",
       "    <tr>\n",
       "      <th>0</th>\n",
       "      <td>326.0</td>\n",
       "      <td>Ideal</td>\n",
       "      <td>293.4</td>\n",
       "    </tr>\n",
       "    <tr>\n",
       "      <th>1</th>\n",
       "      <td>326.0</td>\n",
       "      <td>Premium</td>\n",
       "      <td>326.0</td>\n",
       "    </tr>\n",
       "    <tr>\n",
       "      <th>2</th>\n",
       "      <td>327.0</td>\n",
       "      <td>Good</td>\n",
       "      <td>327.0</td>\n",
       "    </tr>\n",
       "    <tr>\n",
       "      <th>3</th>\n",
       "      <td>334.0</td>\n",
       "      <td>Premium</td>\n",
       "      <td>334.0</td>\n",
       "    </tr>\n",
       "    <tr>\n",
       "      <th>4</th>\n",
       "      <td>335.0</td>\n",
       "      <td>Good</td>\n",
       "      <td>335.0</td>\n",
       "    </tr>\n",
       "  </tbody>\n",
       "</table>\n",
       "</div>"
      ],
      "text/plain": [
       "   price      cut  price_discount\n",
       "0  326.0    Ideal           293.4\n",
       "1  326.0  Premium           326.0\n",
       "2  327.0     Good           327.0\n",
       "3  334.0  Premium           334.0\n",
       "4  335.0     Good           335.0"
      ]
     },
     "execution_count": 71,
     "metadata": {},
     "output_type": "execute_result"
    }
   ],
   "source": [
    "# Función para calcular el descuento\n",
    "def discount(des):\n",
    "    if des['price'] < 1000 and des['cut'] == 'Ideal':\n",
    "        return des['price'] * 0.9  # 10% de descuento\n",
    "    elif 1000 <= des['price'] <= 5000 and des['cut'] == 'Premium':\n",
    "        return des['price'] * 0.85  # 15% de descuento\n",
    "    else:\n",
    "        return des['price']  # Sin descuento\n",
    "\n",
    "# Aplicar la función usando apply\n",
    "df_diamonds['price_discount'] = df_diamonds.apply(discount, axis=1)\n",
    "\n",
    "# Verificar las primeras filas del resultado\n",
    "df_diamonds[['price', 'cut', 'price_discount']].head()"
   ]
  },
  {
   "cell_type": "markdown",
   "metadata": {},
   "source": [
    "* Crear una nueva columna volumen combinando: x * y * z"
   ]
  },
  {
   "cell_type": "code",
   "execution_count": 72,
   "metadata": {},
   "outputs": [
    {
     "name": "stderr",
     "output_type": "stream",
     "text": [
      "/Library/Frameworks/Python.framework/Versions/3.13/lib/python3.13/site-packages/pandas/io/formats/format.py:1458: RuntimeWarning: overflow encountered in cast\n",
      "  has_large_values = (abs_vals > 1e6).any()\n"
     ]
    },
    {
     "data": {
      "text/html": [
       "<div>\n",
       "<style scoped>\n",
       "    .dataframe tbody tr th:only-of-type {\n",
       "        vertical-align: middle;\n",
       "    }\n",
       "\n",
       "    .dataframe tbody tr th {\n",
       "        vertical-align: top;\n",
       "    }\n",
       "\n",
       "    .dataframe thead th {\n",
       "        text-align: right;\n",
       "    }\n",
       "</style>\n",
       "<table border=\"1\" class=\"dataframe\">\n",
       "  <thead>\n",
       "    <tr style=\"text-align: right;\">\n",
       "      <th></th>\n",
       "      <th>carat</th>\n",
       "      <th>cut</th>\n",
       "      <th>color</th>\n",
       "      <th>clarity</th>\n",
       "      <th>depth</th>\n",
       "      <th>table</th>\n",
       "      <th>price</th>\n",
       "      <th>x</th>\n",
       "      <th>y</th>\n",
       "      <th>z</th>\n",
       "      <th>price_iva</th>\n",
       "      <th>volumen</th>\n",
       "      <th>price_discount</th>\n",
       "    </tr>\n",
       "  </thead>\n",
       "  <tbody>\n",
       "    <tr>\n",
       "      <th>0</th>\n",
       "      <td>0.229980</td>\n",
       "      <td>Ideal</td>\n",
       "      <td>E</td>\n",
       "      <td>SI2</td>\n",
       "      <td>61.5</td>\n",
       "      <td>55.0</td>\n",
       "      <td>326.0</td>\n",
       "      <td>3.949219</td>\n",
       "      <td>3.98</td>\n",
       "      <td>2.43</td>\n",
       "      <td>394.46</td>\n",
       "      <td>38.194474</td>\n",
       "      <td>293.4</td>\n",
       "    </tr>\n",
       "    <tr>\n",
       "      <th>1</th>\n",
       "      <td>0.209961</td>\n",
       "      <td>Premium</td>\n",
       "      <td>E</td>\n",
       "      <td>SI1</td>\n",
       "      <td>59.8</td>\n",
       "      <td>61.0</td>\n",
       "      <td>326.0</td>\n",
       "      <td>3.890625</td>\n",
       "      <td>3.84</td>\n",
       "      <td>2.31</td>\n",
       "      <td>394.46</td>\n",
       "      <td>34.511400</td>\n",
       "      <td>326.0</td>\n",
       "    </tr>\n",
       "    <tr>\n",
       "      <th>2</th>\n",
       "      <td>0.229980</td>\n",
       "      <td>Good</td>\n",
       "      <td>E</td>\n",
       "      <td>VS1</td>\n",
       "      <td>56.9</td>\n",
       "      <td>65.0</td>\n",
       "      <td>327.0</td>\n",
       "      <td>4.050781</td>\n",
       "      <td>4.07</td>\n",
       "      <td>2.31</td>\n",
       "      <td>395.67</td>\n",
       "      <td>38.084230</td>\n",
       "      <td>327.0</td>\n",
       "    </tr>\n",
       "    <tr>\n",
       "      <th>3</th>\n",
       "      <td>0.290039</td>\n",
       "      <td>Premium</td>\n",
       "      <td>I</td>\n",
       "      <td>VS2</td>\n",
       "      <td>62.4</td>\n",
       "      <td>58.0</td>\n",
       "      <td>334.0</td>\n",
       "      <td>4.199219</td>\n",
       "      <td>4.23</td>\n",
       "      <td>2.63</td>\n",
       "      <td>404.14</td>\n",
       "      <td>46.715889</td>\n",
       "      <td>334.0</td>\n",
       "    </tr>\n",
       "    <tr>\n",
       "      <th>4</th>\n",
       "      <td>0.310059</td>\n",
       "      <td>Good</td>\n",
       "      <td>J</td>\n",
       "      <td>SI2</td>\n",
       "      <td>63.3</td>\n",
       "      <td>58.0</td>\n",
       "      <td>335.0</td>\n",
       "      <td>4.339844</td>\n",
       "      <td>4.35</td>\n",
       "      <td>2.75</td>\n",
       "      <td>405.35</td>\n",
       "      <td>51.915381</td>\n",
       "      <td>335.0</td>\n",
       "    </tr>\n",
       "    <tr>\n",
       "      <th>...</th>\n",
       "      <td>...</td>\n",
       "      <td>...</td>\n",
       "      <td>...</td>\n",
       "      <td>...</td>\n",
       "      <td>...</td>\n",
       "      <td>...</td>\n",
       "      <td>...</td>\n",
       "      <td>...</td>\n",
       "      <td>...</td>\n",
       "      <td>...</td>\n",
       "      <td>...</td>\n",
       "      <td>...</td>\n",
       "      <td>...</td>\n",
       "    </tr>\n",
       "    <tr>\n",
       "      <th>53935</th>\n",
       "      <td>0.720215</td>\n",
       "      <td>Ideal</td>\n",
       "      <td>D</td>\n",
       "      <td>SI1</td>\n",
       "      <td>60.8</td>\n",
       "      <td>57.0</td>\n",
       "      <td>2756.0</td>\n",
       "      <td>5.750000</td>\n",
       "      <td>5.76</td>\n",
       "      <td>3.50</td>\n",
       "      <td>3334.76</td>\n",
       "      <td>115.920000</td>\n",
       "      <td>2756.0</td>\n",
       "    </tr>\n",
       "    <tr>\n",
       "      <th>53936</th>\n",
       "      <td>0.720215</td>\n",
       "      <td>Good</td>\n",
       "      <td>D</td>\n",
       "      <td>SI1</td>\n",
       "      <td>63.1</td>\n",
       "      <td>55.0</td>\n",
       "      <td>2756.0</td>\n",
       "      <td>5.691406</td>\n",
       "      <td>5.75</td>\n",
       "      <td>3.61</td>\n",
       "      <td>3334.76</td>\n",
       "      <td>118.139365</td>\n",
       "      <td>2756.0</td>\n",
       "    </tr>\n",
       "    <tr>\n",
       "      <th>53937</th>\n",
       "      <td>0.700195</td>\n",
       "      <td>Very Good</td>\n",
       "      <td>D</td>\n",
       "      <td>SI1</td>\n",
       "      <td>62.8</td>\n",
       "      <td>60.0</td>\n",
       "      <td>2756.0</td>\n",
       "      <td>5.660156</td>\n",
       "      <td>5.68</td>\n",
       "      <td>3.56</td>\n",
       "      <td>3334.76</td>\n",
       "      <td>114.452888</td>\n",
       "      <td>2756.0</td>\n",
       "    </tr>\n",
       "    <tr>\n",
       "      <th>53938</th>\n",
       "      <td>0.859863</td>\n",
       "      <td>Premium</td>\n",
       "      <td>H</td>\n",
       "      <td>SI2</td>\n",
       "      <td>61.0</td>\n",
       "      <td>58.0</td>\n",
       "      <td>2756.0</td>\n",
       "      <td>6.148438</td>\n",
       "      <td>6.12</td>\n",
       "      <td>3.74</td>\n",
       "      <td>3334.76</td>\n",
       "      <td>140.730356</td>\n",
       "      <td>2342.6</td>\n",
       "    </tr>\n",
       "    <tr>\n",
       "      <th>53939</th>\n",
       "      <td>0.750000</td>\n",
       "      <td>Ideal</td>\n",
       "      <td>D</td>\n",
       "      <td>SI2</td>\n",
       "      <td>62.2</td>\n",
       "      <td>55.0</td>\n",
       "      <td>2756.0</td>\n",
       "      <td>5.828125</td>\n",
       "      <td>5.87</td>\n",
       "      <td>3.64</td>\n",
       "      <td>3334.76</td>\n",
       "      <td>124.528381</td>\n",
       "      <td>2756.0</td>\n",
       "    </tr>\n",
       "  </tbody>\n",
       "</table>\n",
       "<p>53794 rows × 13 columns</p>\n",
       "</div>"
      ],
      "text/plain": [
       "          carat        cut color clarity  depth  table   price         x  \\\n",
       "0      0.229980      Ideal     E     SI2   61.5   55.0   326.0  3.949219   \n",
       "1      0.209961    Premium     E     SI1   59.8   61.0   326.0  3.890625   \n",
       "2      0.229980       Good     E     VS1   56.9   65.0   327.0  4.050781   \n",
       "3      0.290039    Premium     I     VS2   62.4   58.0   334.0  4.199219   \n",
       "4      0.310059       Good     J     SI2   63.3   58.0   335.0  4.339844   \n",
       "...         ...        ...   ...     ...    ...    ...     ...       ...   \n",
       "53935  0.720215      Ideal     D     SI1   60.8   57.0  2756.0  5.750000   \n",
       "53936  0.720215       Good     D     SI1   63.1   55.0  2756.0  5.691406   \n",
       "53937  0.700195  Very Good     D     SI1   62.8   60.0  2756.0  5.660156   \n",
       "53938  0.859863    Premium     H     SI2   61.0   58.0  2756.0  6.148438   \n",
       "53939  0.750000      Ideal     D     SI2   62.2   55.0  2756.0  5.828125   \n",
       "\n",
       "          y     z  price_iva     volumen  price_discount  \n",
       "0      3.98  2.43     394.46   38.194474           293.4  \n",
       "1      3.84  2.31     394.46   34.511400           326.0  \n",
       "2      4.07  2.31     395.67   38.084230           327.0  \n",
       "3      4.23  2.63     404.14   46.715889           334.0  \n",
       "4      4.35  2.75     405.35   51.915381           335.0  \n",
       "...     ...   ...        ...         ...             ...  \n",
       "53935  5.76  3.50    3334.76  115.920000          2756.0  \n",
       "53936  5.75  3.61    3334.76  118.139365          2756.0  \n",
       "53937  5.68  3.56    3334.76  114.452888          2756.0  \n",
       "53938  6.12  3.74    3334.76  140.730356          2342.6  \n",
       "53939  5.87  3.64    3334.76  124.528381          2756.0  \n",
       "\n",
       "[53794 rows x 13 columns]"
      ]
     },
     "execution_count": 72,
     "metadata": {},
     "output_type": "execute_result"
    }
   ],
   "source": [
    "df_diamonds[\"x\"] = df_diamonds[\"x\"].astype(\"float16\")\n",
    "df_diamonds['volumen'] = (df_diamonds['x'] * df_diamonds['y'] * df_diamonds['z'])\n",
    "df_diamonds"
   ]
  },
  {
   "cell_type": "markdown",
   "metadata": {},
   "source": [
    "#### Ordenar por dos columnas con sort_values():\n",
    "* tipo de corte (cut) y precio (price)"
   ]
  },
  {
   "cell_type": "code",
   "execution_count": 73,
   "metadata": {},
   "outputs": [
    {
     "name": "stderr",
     "output_type": "stream",
     "text": [
      "/Library/Frameworks/Python.framework/Versions/3.13/lib/python3.13/site-packages/pandas/io/formats/format.py:1458: RuntimeWarning: overflow encountered in cast\n",
      "  has_large_values = (abs_vals > 1e6).any()\n"
     ]
    },
    {
     "data": {
      "text/html": [
       "<div>\n",
       "<style scoped>\n",
       "    .dataframe tbody tr th:only-of-type {\n",
       "        vertical-align: middle;\n",
       "    }\n",
       "\n",
       "    .dataframe tbody tr th {\n",
       "        vertical-align: top;\n",
       "    }\n",
       "\n",
       "    .dataframe thead th {\n",
       "        text-align: right;\n",
       "    }\n",
       "</style>\n",
       "<table border=\"1\" class=\"dataframe\">\n",
       "  <thead>\n",
       "    <tr style=\"text-align: right;\">\n",
       "      <th></th>\n",
       "      <th>carat</th>\n",
       "      <th>cut</th>\n",
       "      <th>color</th>\n",
       "      <th>clarity</th>\n",
       "      <th>depth</th>\n",
       "      <th>table</th>\n",
       "      <th>price</th>\n",
       "      <th>x</th>\n",
       "      <th>y</th>\n",
       "      <th>z</th>\n",
       "      <th>price_iva</th>\n",
       "      <th>volumen</th>\n",
       "      <th>price_discount</th>\n",
       "    </tr>\n",
       "  </thead>\n",
       "  <tbody>\n",
       "    <tr>\n",
       "      <th>8</th>\n",
       "      <td>0.219971</td>\n",
       "      <td>Fair</td>\n",
       "      <td>E</td>\n",
       "      <td>VS2</td>\n",
       "      <td>65.1</td>\n",
       "      <td>61.0</td>\n",
       "      <td>337.0</td>\n",
       "      <td>3.869141</td>\n",
       "      <td>3.78</td>\n",
       "      <td>2.49</td>\n",
       "      <td>407.77</td>\n",
       "      <td>36.417125</td>\n",
       "      <td>337.0</td>\n",
       "    </tr>\n",
       "    <tr>\n",
       "      <th>28270</th>\n",
       "      <td>0.250000</td>\n",
       "      <td>Fair</td>\n",
       "      <td>E</td>\n",
       "      <td>VS1</td>\n",
       "      <td>55.2</td>\n",
       "      <td>64.0</td>\n",
       "      <td>361.0</td>\n",
       "      <td>4.210938</td>\n",
       "      <td>4.23</td>\n",
       "      <td>2.33</td>\n",
       "      <td>436.81</td>\n",
       "      <td>41.502579</td>\n",
       "      <td>361.0</td>\n",
       "    </tr>\n",
       "    <tr>\n",
       "      <th>31611</th>\n",
       "      <td>0.229980</td>\n",
       "      <td>Fair</td>\n",
       "      <td>G</td>\n",
       "      <td>VVS2</td>\n",
       "      <td>61.4</td>\n",
       "      <td>66.0</td>\n",
       "      <td>369.0</td>\n",
       "      <td>3.869141</td>\n",
       "      <td>3.91</td>\n",
       "      <td>2.39</td>\n",
       "      <td>446.49</td>\n",
       "      <td>36.156732</td>\n",
       "      <td>369.0</td>\n",
       "    </tr>\n",
       "    <tr>\n",
       "      <th>31615</th>\n",
       "      <td>0.270020</td>\n",
       "      <td>Fair</td>\n",
       "      <td>E</td>\n",
       "      <td>VS1</td>\n",
       "      <td>66.4</td>\n",
       "      <td>58.0</td>\n",
       "      <td>371.0</td>\n",
       "      <td>3.990234</td>\n",
       "      <td>4.02</td>\n",
       "      <td>2.66</td>\n",
       "      <td>448.91</td>\n",
       "      <td>42.668374</td>\n",
       "      <td>371.0</td>\n",
       "    </tr>\n",
       "    <tr>\n",
       "      <th>10030</th>\n",
       "      <td>0.300049</td>\n",
       "      <td>Fair</td>\n",
       "      <td>J</td>\n",
       "      <td>VS2</td>\n",
       "      <td>64.8</td>\n",
       "      <td>58.0</td>\n",
       "      <td>416.0</td>\n",
       "      <td>4.238281</td>\n",
       "      <td>4.16</td>\n",
       "      <td>2.72</td>\n",
       "      <td>503.36</td>\n",
       "      <td>47.957000</td>\n",
       "      <td>416.0</td>\n",
       "    </tr>\n",
       "    <tr>\n",
       "      <th>...</th>\n",
       "      <td>...</td>\n",
       "      <td>...</td>\n",
       "      <td>...</td>\n",
       "      <td>...</td>\n",
       "      <td>...</td>\n",
       "      <td>...</td>\n",
       "      <td>...</td>\n",
       "      <td>...</td>\n",
       "      <td>...</td>\n",
       "      <td>...</td>\n",
       "      <td>...</td>\n",
       "      <td>...</td>\n",
       "      <td>...</td>\n",
       "    </tr>\n",
       "    <tr>\n",
       "      <th>27729</th>\n",
       "      <td>2.000000</td>\n",
       "      <td>Very Good</td>\n",
       "      <td>F</td>\n",
       "      <td>SI1</td>\n",
       "      <td>57.9</td>\n",
       "      <td>60.0</td>\n",
       "      <td>18752.0</td>\n",
       "      <td>8.281250</td>\n",
       "      <td>8.34</td>\n",
       "      <td>4.81</td>\n",
       "      <td>22689.92</td>\n",
       "      <td>332.205656</td>\n",
       "      <td>18752.0</td>\n",
       "    </tr>\n",
       "    <tr>\n",
       "      <th>27733</th>\n",
       "      <td>1.509766</td>\n",
       "      <td>Very Good</td>\n",
       "      <td>F</td>\n",
       "      <td>VVS1</td>\n",
       "      <td>62.6</td>\n",
       "      <td>59.0</td>\n",
       "      <td>18784.0</td>\n",
       "      <td>7.328125</td>\n",
       "      <td>7.24</td>\n",
       "      <td>4.56</td>\n",
       "      <td>22728.64</td>\n",
       "      <td>241.933650</td>\n",
       "      <td>18784.0</td>\n",
       "    </tr>\n",
       "    <tr>\n",
       "      <th>27736</th>\n",
       "      <td>2.029297</td>\n",
       "      <td>Very Good</td>\n",
       "      <td>H</td>\n",
       "      <td>SI1</td>\n",
       "      <td>63.0</td>\n",
       "      <td>60.0</td>\n",
       "      <td>18784.0</td>\n",
       "      <td>8.000000</td>\n",
       "      <td>7.93</td>\n",
       "      <td>5.02</td>\n",
       "      <td>22728.64</td>\n",
       "      <td>318.468800</td>\n",
       "      <td>18784.0</td>\n",
       "    </tr>\n",
       "    <tr>\n",
       "      <th>27745</th>\n",
       "      <td>2.000000</td>\n",
       "      <td>Very Good</td>\n",
       "      <td>H</td>\n",
       "      <td>SI1</td>\n",
       "      <td>62.8</td>\n",
       "      <td>57.0</td>\n",
       "      <td>18800.0</td>\n",
       "      <td>7.949219</td>\n",
       "      <td>8.00</td>\n",
       "      <td>5.01</td>\n",
       "      <td>22748.00</td>\n",
       "      <td>318.604688</td>\n",
       "      <td>18800.0</td>\n",
       "    </tr>\n",
       "    <tr>\n",
       "      <th>27748</th>\n",
       "      <td>2.000000</td>\n",
       "      <td>Very Good</td>\n",
       "      <td>G</td>\n",
       "      <td>SI1</td>\n",
       "      <td>63.5</td>\n",
       "      <td>56.0</td>\n",
       "      <td>18816.0</td>\n",
       "      <td>7.898438</td>\n",
       "      <td>7.97</td>\n",
       "      <td>5.04</td>\n",
       "      <td>22767.36</td>\n",
       "      <td>317.270756</td>\n",
       "      <td>18816.0</td>\n",
       "    </tr>\n",
       "  </tbody>\n",
       "</table>\n",
       "<p>53794 rows × 13 columns</p>\n",
       "</div>"
      ],
      "text/plain": [
       "          carat        cut color clarity  depth  table    price         x  \\\n",
       "8      0.219971       Fair     E     VS2   65.1   61.0    337.0  3.869141   \n",
       "28270  0.250000       Fair     E     VS1   55.2   64.0    361.0  4.210938   \n",
       "31611  0.229980       Fair     G    VVS2   61.4   66.0    369.0  3.869141   \n",
       "31615  0.270020       Fair     E     VS1   66.4   58.0    371.0  3.990234   \n",
       "10030  0.300049       Fair     J     VS2   64.8   58.0    416.0  4.238281   \n",
       "...         ...        ...   ...     ...    ...    ...      ...       ...   \n",
       "27729  2.000000  Very Good     F     SI1   57.9   60.0  18752.0  8.281250   \n",
       "27733  1.509766  Very Good     F    VVS1   62.6   59.0  18784.0  7.328125   \n",
       "27736  2.029297  Very Good     H     SI1   63.0   60.0  18784.0  8.000000   \n",
       "27745  2.000000  Very Good     H     SI1   62.8   57.0  18800.0  7.949219   \n",
       "27748  2.000000  Very Good     G     SI1   63.5   56.0  18816.0  7.898438   \n",
       "\n",
       "          y     z  price_iva     volumen  price_discount  \n",
       "8      3.78  2.49     407.77   36.417125           337.0  \n",
       "28270  4.23  2.33     436.81   41.502579           361.0  \n",
       "31611  3.91  2.39     446.49   36.156732           369.0  \n",
       "31615  4.02  2.66     448.91   42.668374           371.0  \n",
       "10030  4.16  2.72     503.36   47.957000           416.0  \n",
       "...     ...   ...        ...         ...             ...  \n",
       "27729  8.34  4.81   22689.92  332.205656         18752.0  \n",
       "27733  7.24  4.56   22728.64  241.933650         18784.0  \n",
       "27736  7.93  5.02   22728.64  318.468800         18784.0  \n",
       "27745  8.00  5.01   22748.00  318.604688         18800.0  \n",
       "27748  7.97  5.04   22767.36  317.270756         18816.0  \n",
       "\n",
       "[53794 rows x 13 columns]"
      ]
     },
     "execution_count": 73,
     "metadata": {},
     "output_type": "execute_result"
    }
   ],
   "source": [
    "df_diamonds['price'] = df_diamonds['price'].astype('float32')\n",
    "df_diamonds.sort_values(['cut', 'price'])"
   ]
  },
  {
   "cell_type": "markdown",
   "metadata": {},
   "source": [
    "* Agrupaciones con groupby y visualizarla\n",
    "    * Agrupar por las 3 que hay de tipo categórico calculando la media, max, min por ejemplo de alguna de las numéricas: price, carat, depth"
   ]
  },
  {
   "cell_type": "code",
   "execution_count": 74,
   "metadata": {},
   "outputs": [
    {
     "name": "stdout",
     "output_type": "stream",
     "text": [
      "<class 'pandas.core.frame.DataFrame'>\n",
      "Index: 53794 entries, 0 to 53939\n",
      "Data columns (total 13 columns):\n",
      " #   Column          Non-Null Count  Dtype   \n",
      "---  ------          --------------  -----   \n",
      " 0   carat           53794 non-null  float16 \n",
      " 1   cut             53794 non-null  category\n",
      " 2   color           53794 non-null  object  \n",
      " 3   clarity         53794 non-null  object  \n",
      " 4   depth           53794 non-null  float64 \n",
      " 5   table           53794 non-null  float64 \n",
      " 6   price           53794 non-null  float32 \n",
      " 7   x               53794 non-null  float16 \n",
      " 8   y               53788 non-null  float64 \n",
      " 9   z               53775 non-null  float64 \n",
      " 10  price_iva       53794 non-null  float64 \n",
      " 11  volumen         53775 non-null  float64 \n",
      " 12  price_discount  53794 non-null  float64 \n",
      "dtypes: category(1), float16(2), float32(1), float64(7), object(2)\n",
      "memory usage: 4.6+ MB\n"
     ]
    }
   ],
   "source": [
    "df_diamonds.info()"
   ]
  },
  {
   "cell_type": "code",
   "execution_count": 75,
   "metadata": {},
   "outputs": [
    {
     "name": "stderr",
     "output_type": "stream",
     "text": [
      "/var/folders/5p/hnv1v0ts6gn6djggjh17clth0000gn/T/ipykernel_1422/19955734.py:1: FutureWarning: The default of observed=False is deprecated and will be changed to True in a future version of pandas. Pass observed=False to retain current behavior or observed=True to adopt the future default and silence this warning.\n",
      "  df_diamonds.groupby([\"cut\", \"color\", \"clarity\"]).agg({\"price\":[\"min\", \"max\", \"mean\"]})\n"
     ]
    },
    {
     "data": {
      "text/html": [
       "<div>\n",
       "<style scoped>\n",
       "    .dataframe tbody tr th:only-of-type {\n",
       "        vertical-align: middle;\n",
       "    }\n",
       "\n",
       "    .dataframe tbody tr th {\n",
       "        vertical-align: top;\n",
       "    }\n",
       "\n",
       "    .dataframe thead tr th {\n",
       "        text-align: left;\n",
       "    }\n",
       "\n",
       "    .dataframe thead tr:last-of-type th {\n",
       "        text-align: right;\n",
       "    }\n",
       "</style>\n",
       "<table border=\"1\" class=\"dataframe\">\n",
       "  <thead>\n",
       "    <tr>\n",
       "      <th></th>\n",
       "      <th></th>\n",
       "      <th></th>\n",
       "      <th colspan=\"3\" halign=\"left\">price</th>\n",
       "    </tr>\n",
       "    <tr>\n",
       "      <th></th>\n",
       "      <th></th>\n",
       "      <th></th>\n",
       "      <th>min</th>\n",
       "      <th>max</th>\n",
       "      <th>mean</th>\n",
       "    </tr>\n",
       "    <tr>\n",
       "      <th>cut</th>\n",
       "      <th>color</th>\n",
       "      <th>clarity</th>\n",
       "      <th></th>\n",
       "      <th></th>\n",
       "      <th></th>\n",
       "    </tr>\n",
       "  </thead>\n",
       "  <tbody>\n",
       "    <tr>\n",
       "      <th rowspan=\"5\" valign=\"top\">Fair</th>\n",
       "      <th rowspan=\"5\" valign=\"top\">D</th>\n",
       "      <th>I1</th>\n",
       "      <td>2492.0</td>\n",
       "      <td>15968.0</td>\n",
       "      <td>7384.000000</td>\n",
       "    </tr>\n",
       "    <tr>\n",
       "      <th>IF</th>\n",
       "      <td>1208.0</td>\n",
       "      <td>2212.0</td>\n",
       "      <td>1620.000000</td>\n",
       "    </tr>\n",
       "    <tr>\n",
       "      <th>Relleno</th>\n",
       "      <td>NaN</td>\n",
       "      <td>NaN</td>\n",
       "      <td>NaN</td>\n",
       "    </tr>\n",
       "    <tr>\n",
       "      <th>SI1</th>\n",
       "      <td>644.0</td>\n",
       "      <td>16384.0</td>\n",
       "      <td>4273.482910</td>\n",
       "    </tr>\n",
       "    <tr>\n",
       "      <th>SI2</th>\n",
       "      <td>536.0</td>\n",
       "      <td>16088.0</td>\n",
       "      <td>4354.928711</td>\n",
       "    </tr>\n",
       "    <tr>\n",
       "      <th>...</th>\n",
       "      <th>...</th>\n",
       "      <th>...</th>\n",
       "      <td>...</td>\n",
       "      <td>...</td>\n",
       "      <td>...</td>\n",
       "    </tr>\n",
       "    <tr>\n",
       "      <th rowspan=\"5\" valign=\"top\">Very Good</th>\n",
       "      <th rowspan=\"5\" valign=\"top\">J</th>\n",
       "      <th>SI2</th>\n",
       "      <td>430.0</td>\n",
       "      <td>17168.0</td>\n",
       "      <td>5993.179688</td>\n",
       "    </tr>\n",
       "    <tr>\n",
       "      <th>VS1</th>\n",
       "      <td>394.0</td>\n",
       "      <td>17920.0</td>\n",
       "      <td>4371.772949</td>\n",
       "    </tr>\n",
       "    <tr>\n",
       "      <th>VS2</th>\n",
       "      <td>357.0</td>\n",
       "      <td>18432.0</td>\n",
       "      <td>5325.592285</td>\n",
       "    </tr>\n",
       "    <tr>\n",
       "      <th>VVS1</th>\n",
       "      <td>544.0</td>\n",
       "      <td>10808.0</td>\n",
       "      <td>3175.421143</td>\n",
       "    </tr>\n",
       "    <tr>\n",
       "      <th>VVS2</th>\n",
       "      <td>336.0</td>\n",
       "      <td>16040.0</td>\n",
       "      <td>5960.034668</td>\n",
       "    </tr>\n",
       "  </tbody>\n",
       "</table>\n",
       "<p>315 rows × 3 columns</p>\n",
       "</div>"
      ],
      "text/plain": [
       "                          price                      \n",
       "                            min      max         mean\n",
       "cut       color clarity                              \n",
       "Fair      D     I1       2492.0  15968.0  7384.000000\n",
       "                IF       1208.0   2212.0  1620.000000\n",
       "                Relleno     NaN      NaN          NaN\n",
       "                SI1       644.0  16384.0  4273.482910\n",
       "                SI2       536.0  16088.0  4354.928711\n",
       "...                         ...      ...          ...\n",
       "Very Good J     SI2       430.0  17168.0  5993.179688\n",
       "                VS1       394.0  17920.0  4371.772949\n",
       "                VS2       357.0  18432.0  5325.592285\n",
       "                VVS1      544.0  10808.0  3175.421143\n",
       "                VVS2      336.0  16040.0  5960.034668\n",
       "\n",
       "[315 rows x 3 columns]"
      ]
     },
     "execution_count": 75,
     "metadata": {},
     "output_type": "execute_result"
    }
   ],
   "source": [
    "df_diamonds.groupby([\"cut\", \"color\", \"clarity\"]).agg({\"price\":[\"min\", \"max\", \"mean\"]})"
   ]
  },
  {
   "cell_type": "code",
   "execution_count": 76,
   "metadata": {},
   "outputs": [
    {
     "name": "stderr",
     "output_type": "stream",
     "text": [
      "/var/folders/5p/hnv1v0ts6gn6djggjh17clth0000gn/T/ipykernel_1422/798875415.py:1: FutureWarning: The default of observed=False is deprecated and will be changed to True in a future version of pandas. Pass observed=False to retain current behavior or observed=True to adopt the future default and silence this warning.\n",
      "  df_diamonds_table = df_diamonds.groupby([\"cut\", \"color\", \"clarity\"]).agg({\"price\":[\"min\", \"max\", \"mean\"]}).reset_index()\n"
     ]
    }
   ],
   "source": [
    "df_diamonds_table = df_diamonds.groupby([\"cut\", \"color\", \"clarity\"]).agg({\"price\":[\"min\", \"max\", \"mean\"]}).reset_index()"
   ]
  },
  {
   "cell_type": "code",
   "execution_count": 77,
   "metadata": {},
   "outputs": [],
   "source": [
    "# Ajustar nombres de columnas\n",
    "df_diamonds_table.columns = ['cut', 'color', 'clarity', 'price_min', 'price_max', 'price_mean']"
   ]
  },
  {
   "cell_type": "code",
   "execution_count": 82,
   "metadata": {},
   "outputs": [
    {
     "name": "stderr",
     "output_type": "stream",
     "text": [
      "/var/folders/5p/hnv1v0ts6gn6djggjh17clth0000gn/T/ipykernel_1422/3146803045.py:2: FutureWarning: The default of observed=False is deprecated and will be changed to True in a future version of pandas. Pass observed=False to retain current behavior or observed=True to adopt the future default and silence this warning.\n",
      "  grouped_data = df_diamonds.groupby(['cut', 'color', 'clarity']).agg({\n"
     ]
    }
   ],
   "source": [
    "# Agrupar por las columnas categóricas y calcular estadísticas sobre las columnas numéricas\n",
    "grouped_data = df_diamonds.groupby(['cut', 'color', 'clarity']).agg({\n",
    "    'price': ['mean', 'max', 'min'],\n",
    "    'carat': ['mean', 'max', 'min'],\n",
    "    'depth': ['mean', 'max', 'min']\n",
    "}).reset_index()\n",
    "\n",
    "# Ajustar nombres de columnas para mayor claridad\n",
    "grouped_data.columns = [\n",
    "    'cut', 'color', 'clarity',\n",
    "    'price_mean', 'price_max', 'price_min',\n",
    "    'carat_mean', 'carat_max', 'carat_min',\n",
    "    'depth_mean', 'depth_max', 'depth_min'\n",
    "]"
   ]
  },
  {
   "cell_type": "code",
   "execution_count": 83,
   "metadata": {},
   "outputs": [
    {
     "name": "stderr",
     "output_type": "stream",
     "text": [
      "/var/folders/5p/hnv1v0ts6gn6djggjh17clth0000gn/T/ipykernel_1422/3736336053.py:2: FutureWarning: The default value of observed=False is deprecated and will change to observed=True in a future version of pandas. Specify observed=False to silence this warning and retain the current behavior\n",
      "  heatmap_data = grouped_data.pivot_table(\n"
     ]
    },
    {
     "data": {
      "image/png": "[encoded data removed]",
      "text/plain": [
       "<Figure size 1200x800 with 2 Axes>"
      ]
     },
     "metadata": {},
     "output_type": "display_data"
    }
   ],
   "source": [
    "# Datos para el heatmap\n",
    "heatmap_data = grouped_data.pivot_table(\n",
    "    index='cut',\n",
    "    columns='color',\n",
    "    values='price_mean',\n",
    "    aggfunc='mean'\n",
    ")\n",
    "\n",
    "# Visualización del heatmap\n",
    "plt.figure(figsize=(12, 8))\n",
    "sns.heatmap(heatmap_data, annot=True, fmt=\".1f\", cmap=\"coolwarm\", cbar_kws={'label': 'Precio Medio'})\n",
    "plt.title(\"Precio Medio por Cut y Color\")\n",
    "plt.xlabel(\"Color\")\n",
    "plt.ylabel(\"Cut\")\n",
    "plt.show()"
   ]
  },
  {
   "cell_type": "markdown",
   "metadata": {},
   "source": [
    "## PARTE 3"
   ]
  },
  {
   "cell_type": "markdown",
   "metadata": {},
   "source": [
    "* Outliers: Visualización Q1 y Q3 y calcular límites tukey y filtrar sobre la columna precio."
   ]
  },
  {
   "cell_type": "code",
   "execution_count": 84,
   "metadata": {},
   "outputs": [
    {
     "name": "stdout",
     "output_type": "stream",
     "text": [
      "El Q1 de la columna precio es: 951.0\n"
     ]
    }
   ],
   "source": [
    "# Q1\n",
    "q1_price = df_diamonds[\"price\"].quantile(0.25)\n",
    "print(f\"El Q1 de la columna precio es: {q1_price}\")"
   ]
  },
  {
   "cell_type": "code",
   "execution_count": 85,
   "metadata": {},
   "outputs": [
    {
     "name": "stdout",
     "output_type": "stream",
     "text": [
      "El Q1 de la columna precio es: 5324.0\n"
     ]
    }
   ],
   "source": [
    "# Q3\n",
    "q3_price = df_diamonds[\"price\"].quantile(0.75)\n",
    "print(f\"El Q1 de la columna precio es: {q3_price}\")"
   ]
  },
  {
   "cell_type": "code",
   "execution_count": 86,
   "metadata": {},
   "outputs": [
    {
     "data": {
      "image/png": "[encoded data removed]",
      "text/plain": [
       "<Figure size 1000x600 with 1 Axes>"
      ]
     },
     "metadata": {},
     "output_type": "display_data"
    }
   ],
   "source": [
    "# Visualización con un boxplot\n",
    "plt.figure(figsize=(10, 6))\n",
    "sns.boxplot(x=df_diamonds['price'])\n",
    "plt.axvline(q1_price, color='red', linestyle='--', label=f\"Límite Inferior ({q1_price:.0f})\")\n",
    "plt.axvline(q3_price, color='blue', linestyle='--', label=f\"Límite Superior ({q3_price:.0f})\")\n",
    "plt.title(\"Boxplot de la Columna 'Price' con Q1 y Q3\")\n",
    "plt.xlabel(\"Price\")\n",
    "plt.legend()\n",
    "plt.show()"
   ]
  },
  {
   "cell_type": "code",
   "execution_count": 87,
   "metadata": {},
   "outputs": [
    {
     "name": "stdout",
     "output_type": "stream",
     "text": [
      "EL IQR de la columna precio es: 4373.0\n",
      "El límite inferior: -5608.5\n",
      "El límite superior: 11883.5\n",
      "Los Outliers son:           carat        cut color clarity  depth  table    price         x  \\\n",
      "23820  1.169922      Ideal     F    VVS1   62.1   57.0  11888.0  6.820312   \n",
      "23821  2.080078      Ideal     I     SI2   62.0   56.0  11888.0  8.210938   \n",
      "23822  1.700195    Premium     I     VS2   62.2   58.0  11888.0  7.648438   \n",
      "23823  1.089844      Ideal     F      IF   61.6   55.0  11888.0  6.589844   \n",
      "23824  1.679688      Ideal     E     SI2   60.4   55.0  11888.0  7.789062   \n",
      "...         ...        ...   ...     ...    ...    ...      ...       ...   \n",
      "27745  2.000000  Very Good     H     SI1   62.8   57.0  18800.0  7.949219   \n",
      "27746  2.070312      Ideal     G     SI2   62.5   55.0  18800.0  8.203125   \n",
      "27747  1.509766      Ideal     G      IF   61.7   55.0  18800.0  7.371094   \n",
      "27748  2.000000  Very Good     G     SI1   63.5   56.0  18816.0  7.898438   \n",
      "27749  2.289062    Premium     I     VS2   60.8   60.0  18816.0  8.500000   \n",
      "\n",
      "          y     z  price_iva     volumen  price_discount  \n",
      "23820  6.73  4.21   14384.48  193.241960         11888.0  \n",
      "23821  8.10  5.06   14384.48  336.533484         11888.0  \n",
      "23822  7.60  4.74   14384.48  275.527312         11888.0  \n",
      "23823  6.65  4.08   14384.48  178.795641         11888.0  \n",
      "23824  7.70  4.68   14384.48  280.686656         11888.0  \n",
      "...     ...   ...        ...         ...             ...  \n",
      "27745  8.00  5.01   22748.00  318.604688         18800.0  \n",
      "27746  8.13  5.11   22748.00  340.793086         18800.0  \n",
      "27747  7.41  4.56   22748.00  249.066309         18800.0  \n",
      "27748  7.97  5.04   22767.36  317.270756         18816.0  \n",
      "27749  8.47  5.16   22767.36  371.494200         18816.0  \n",
      "\n",
      "[3527 rows x 13 columns]\n"
     ]
    },
    {
     "name": "stderr",
     "output_type": "stream",
     "text": [
      "/Library/Frameworks/Python.framework/Versions/3.13/lib/python3.13/site-packages/pandas/io/formats/format.py:1458: RuntimeWarning: overflow encountered in cast\n",
      "  has_large_values = (abs_vals > 1e6).any()\n"
     ]
    }
   ],
   "source": [
    "# Tukey\n",
    "# Rango intercuartil (IQR)\n",
    "iqr_range = q3_price - q1_price\n",
    "\n",
    "# Límites inferior y superior\n",
    "low_limit = q1_price - 1.5 * iqr_range\n",
    "up_limit = q3_price + 1.5 * iqr_range\n",
    "\n",
    "# Identificar outliers\n",
    "outliers = df_diamonds[(df_diamonds['price'] < low_limit) | (df_diamonds['price'] > up_limit)]\n",
    "\n",
    "# Identificar valores no outliers\n",
    "non_outliers = df_diamonds[(df_diamonds['price'] >= low_limit) & (df_diamonds['price'] <= up_limit)]\n",
    "\n",
    "# Mostrar resultados\n",
    "print(f\"EL IQR de la columna precio es: {iqr_range}\")\n",
    "print(f\"El límite inferior: {low_limit}\")\n",
    "print(f\"El límite superior: {up_limit}\")\n",
    "print(f\"Los Outliers son: {outliers}\")"
   ]
  },
  {
   "cell_type": "code",
   "execution_count": 88,
   "metadata": {},
   "outputs": [
    {
     "data": {
      "image/png": "[encoded data removed]",
      "text/plain": [
       "<Figure size 800x600 with 1 Axes>"
      ]
     },
     "metadata": {},
     "output_type": "display_data"
    }
   ],
   "source": [
    "# Boxplot con Seaborn\n",
    "plt.figure(figsize=(8, 6))\n",
    "sns.boxplot(x=df_diamonds['price'], color='skyblue')\n",
    "\n",
    "# Líneas para los límites Tukey\n",
    "plt.axvline(x=low_limit, color='red', linestyle='--', label=f'Límite inferior: {low_limit:.2f}')\n",
    "plt.axvline(x=up_limit, color='blue', linestyle='--', label=f'Límite superior: {up_limit:.2f}')\n",
    "\n",
    "plt.title('Boxplot con Límites Tukey')\n",
    "plt.xlabel('Precios')\n",
    "plt.legend()\n",
    "plt.show()"
   ]
  },
  {
   "cell_type": "markdown",
   "metadata": {},
   "source": [
    "* Asimetría, curtosis y transformar datos con logaritmo o raíz cuadrada. \n",
    "    - aplicar sobre precio. \n",
    "    - visualizar el histograma y/o boxplot por tipo de corte. \n",
    "    - Opcional ajustar la escala."
   ]
  },
  {
   "cell_type": "code",
   "execution_count": 89,
   "metadata": {},
   "outputs": [
    {
     "name": "stdout",
     "output_type": "stream",
     "text": [
      " La asimetria de de la columna precio es: 1.618237018585205\n"
     ]
    }
   ],
   "source": [
    "asimetria_precio = df_diamonds['price'].skew()\n",
    "print(f\" La asimetria de de la columna precio es: {asimetria_precio}\")"
   ]
  },
  {
   "cell_type": "code",
   "execution_count": 90,
   "metadata": {},
   "outputs": [
    {
     "name": "stdout",
     "output_type": "stream",
     "text": [
      "La curtosis de de la columna precio es: 2.1785151958465576\n",
      "La curtosis es Leptocúrtica\n"
     ]
    }
   ],
   "source": [
    "kurtosis_precio = df_diamonds['price'].kurt()\n",
    "\n",
    "if kurtosis_precio >0:\n",
    "    print(f\"La curtosis de de la columna precio es: {kurtosis_precio}\")\n",
    "    print(\"La curtosis es Leptocúrtica\")\n",
    "elif kurtosis_precio <0:\n",
    "    print(f\"La curtosis de de la columna precio es: {kurtosis_precio}\")\n",
    "    print(\"La curtosis es Platicútica\")\n",
    "else:\n",
    "    print(f\"La curtosis de de la columna precio es: {kurtosis_precio}\")\n",
    "    print(\"La curtosis es Mesocúrtica\")\n",
    "    \n",
    "   \n"
   ]
  },
  {
   "cell_type": "code",
   "execution_count": 94,
   "metadata": {},
   "outputs": [
    {
     "name": "stderr",
     "output_type": "stream",
     "text": [
      "/var/folders/5p/hnv1v0ts6gn6djggjh17clth0000gn/T/ipykernel_1422/2729255034.py:2: FutureWarning: The default of observed=False is deprecated and will be changed to True in a future version of pandas. Pass observed=False to retain current behavior or observed=True to adopt the future default and silence this warning.\n",
      "  df_diamonds.hist(column='price', by='cut', bins=30, figsize=(12, 10), sharex=False)\n"
     ]
    },
    {
     "data": {
      "image/png": "[encoded data removed]",
      "text/plain": [
       "<Figure size 1200x1000 with 6 Axes>"
      ]
     },
     "metadata": {},
     "output_type": "display_data"
    }
   ],
   "source": [
    "# Histograma de precios por tipo de corte\n",
    "df_diamonds.hist(column='price', by='cut', bins=30, figsize=(12, 10), sharex=False)\n",
    "plt.suptitle(\"Distribución del Precio por Tipo de Corte\")\n",
    "plt.xlabel(\"Precio\")\n",
    "plt.ylabel(\"Frecuencia\")  \n",
    "plt.show()"
   ]
  },
  {
   "cell_type": "code",
   "execution_count": null,
   "metadata": {},
   "outputs": [
    {
     "data": {
      "image/png": "[encoded data removed]",
      "text/plain": [
       "<Figure size 1600x800 with 2 Axes>"
      ]
     },
     "metadata": {},
     "output_type": "display_data"
    },
    {
     "data": {
      "text/plain": [
       "(np.float32(1.618237), np.float32(2.1785152))"
      ]
     },
     "execution_count": 93,
     "metadata": {},
     "output_type": "execute_result"
    }
   ],
   "source": [
    "# Crear columnas con las transformaciones logarítmica y raíz cuadrada\n",
    "df_diamonds['log_price'] = np.log(df_diamonds['price'] + 1)  # Evitar log(0)\n",
    "df_diamonds['sqrt_price'] = np.sqrt(df_diamonds['price'])\n",
    "\n",
    "# Visualizar histogramas para las transformaciones\n",
    "plt.figure(figsize=(16, 8))\n",
    "\n",
    "# Histograma para log(price)\n",
    "plt.subplot(1, 2, 1)\n",
    "sns.histplot(data=df_diamonds, x='log_price', hue='cut', kde=True, bins=30)\n",
    "plt.title(\"Histograma de Log(Price) por Tipo de Corte\")\n",
    "plt.xlabel(\"Log(Price)\")\n",
    "plt.ylabel(\"Frecuencia\")\n",
    "\n",
    "# Histograma para sqrt(price)\n",
    "plt.subplot(1, 2, 2)\n",
    "sns.histplot(data=df_diamonds, x='sqrt_price', hue='cut', kde=True, bins=30)\n",
    "plt.title(\"Histograma de Raíz Cuadrada de Price por Tipo de Corte\")\n",
    "plt.xlabel(\"Sqrt(Price)\")\n",
    "plt.ylabel(\"Frecuencia\")\n",
    "\n",
    "plt.tight_layout()\n",
    "plt.show()\n",
    "\n",
    "# Mostrar valores de simetría y curtosis\n",
    "asimetria_precio, kurtosis_precio\n",
    "\n"
   ]
  },
  {
   "cell_type": "code",
   "execution_count": null,
   "metadata": {},
   "outputs": [],
   "source": []
  },
  {
   "cell_type": "code",
   "execution_count": null,
   "metadata": {},
   "outputs": [],
   "source": []
  },
  {
   "cell_type": "code",
   "execution_count": null,
   "metadata": {},
   "outputs": [],
   "source": []
  },
  {
   "cell_type": "code",
   "execution_count": null,
   "metadata": {},
   "outputs": [],
   "source": []
  },
  {
   "cell_type": "code",
   "execution_count": null,
   "metadata": {},
   "outputs": [],
   "source": []
  }
 ],
 "metadata": {
  "kernelspec": {
   "display_name": "Python 3",
   "language": "python",
   "name": "python3"
  },
  "language_info": {
   "codemirror_mode": {
    "name": "ipython",
    "version": 3
   },
   "file_extension": ".py",
   "mimetype": "text/x-python",
   "name": "python",
   "nbconvert_exporter": "python",
   "pygments_lexer": "ipython3",
   "version": "3.13.0"
  }
 },
 "nbformat": 4,
 "nbformat_minor": 2
}
