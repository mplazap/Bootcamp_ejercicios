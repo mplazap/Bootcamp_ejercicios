{
 "cells": [
  {
   "cell_type": "markdown",
   "id": "067aa07e",
   "metadata": {},
   "source": [
    "## Ejercicio de Redes Neuronales 02\n",
    "\n",
    "Usando las imagenes del directorio **`Dogs`**, construye una red neuronal que prediga la raza del perro.\n",
    "\n",
    "- Tienes que leer y clasificar cada imagen, el directorio **`Dogs`** esta conformado por directorios con los nombres de las razas.\n",
    "\n",
    "- Cada imagen tiene un tamaño diferente, para poder construir una red neuronal todas las imagenes deben de tener el mismo tamaño.\n",
    "\n",
    "- El tamaño de las imagenes determinará el número de neuronas de la capa de entrada, y el número de razas determinará el número de neuronas de la capa de salida.\n",
    "\n",
    "- Recuerda usar la función la función **`to_categorical()`** y \"aplanar\" las imagenes.\n",
    "\n",
    "- Muestra la matriz de confusión del modelo."
   ]
  },
  {
   "cell_type": "code",
   "execution_count": null,
   "id": "4d49ddd3-e268-4cbd-bdf3-f4e1ecc271f6",
   "metadata": {},
   "outputs": [],
   "source": []
  },
  {
   "cell_type": "code",
   "execution_count": null,
   "id": "1c759e81-2fd4-455d-ac98-8de2a784d809",
   "metadata": {},
   "outputs": [],
   "source": []
  },
  {
   "cell_type": "code",
   "execution_count": null,
   "id": "f986247c-0ee4-4d1b-85ca-d6f16faa3b5f",
   "metadata": {},
   "outputs": [],
   "source": []
  },
  {
   "cell_type": "code",
   "execution_count": null,
   "id": "f2eb104c-6e25-4d59-99c7-abb00a9cae2f",
   "metadata": {},
   "outputs": [],
   "source": []
  }
 ],
 "metadata": {
  "kernelspec": {
   "display_name": "Python 3 (ipykernel)",
   "language": "python",
   "name": "python3"
  },
  "language_info": {
   "codemirror_mode": {
    "name": "ipython",
    "version": 3
   },
   "file_extension": ".py",
   "mimetype": "text/x-python",
   "name": "python",
   "nbconvert_exporter": "python",
   "pygments_lexer": "ipython3",
   "version": "3.10.12"
  }
 },
 "nbformat": 4,
 "nbformat_minor": 5
}
