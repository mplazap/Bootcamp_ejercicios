{
 "cells": [
  {
   "cell_type": "code",
   "execution_count": null,
   "metadata": {},
   "outputs": [
    {
     "name": "stdout",
     "output_type": "stream",
     "text": [
      "✅ Modelo entrenado y guardado correctamente.\n"
     ]
    }
   ],
   "source": [
    "import pandas as pd\n",
    "import joblib\n",
    "import seaborn as sns\n",
    "from sklearn.pipeline import Pipeline\n",
    "from sklearn.preprocessing import OneHotEncoder, StandardScaler, LabelEncoder\n",
    "from sklearn.compose import ColumnTransformer\n",
    "from sklearn.ensemble import RandomForestClassifier\n",
    "from sklearn.impute import SimpleImputer\n",
    "\n",
    "# Cargamos el dataset\n",
    "df = sns.load_dataset('diamonds')\n",
    "\n",
    "# Definimos columnas categóricas y numéricas\n",
    "categorical_columns = [\"color\", \"clarity\"]  # Excluimos 'cut' porque es la columna a predecir\n",
    "numerical_columns = [\"carat\", \"depth\", \"table\", \"x\", \"y\", \"z\"]\n",
    "\n",
    "# Codificamos la columna 'cut'\n",
    "label_encoder = LabelEncoder()\n",
    "df[\"cut\"] = label_encoder.fit_transform(df[\"cut\"])  # Convertimos 'cut' en valores numéricos\n",
    "\n",
    "# Guardamos el Labelencoder\n",
    "joblib.dump(label_encoder, \"label_encoder_cut.joblib\")\n",
    "\n",
    "# Pipeline de preprocesamiento\n",
    "preprocessor = ColumnTransformer([\n",
    "    (\"num\", Pipeline([\n",
    "        (\"imputer\", SimpleImputer(strategy=\"median\")),\n",
    "        (\"scaler\", StandardScaler())\n",
    "    ]), numerical_columns),\n",
    "    (\"cat\", OneHotEncoder(handle_unknown=\"ignore\"), categorical_columns)\n",
    "])\n",
    "\n",
    "# Modelo de clasificación\n",
    "classifier = RandomForestClassifier(n_estimators=100, random_state=42)\n",
    "\n",
    "# Creamos el pipeline\n",
    "pipeline = Pipeline([\n",
    "    (\"preprocessor\", preprocessor),\n",
    "    (\"classifier\", classifier)\n",
    "])\n",
    "\n",
    "# Entrenamos el modelo\n",
    "X = df.drop(columns=[\"cut\"])  # Todas las columnas menos 'cut'\n",
    "y = df[\"cut\"]  # Columna a predecir\n",
    "pipeline.fit(X, y)\n",
    "\n",
    "# Guardamos el pipeline entrenado\n",
    "joblib.dump(pipeline, \"pipeline_clasificacion.joblib\")\n",
    "\n",
    "print(\"Modelo entrenado y guardado correctamente.\")"
   ]
  }
 ],
 "metadata": {
  "kernelspec": {
   "display_name": ".venv",
   "language": "python",
   "name": "python3"
  },
  "language_info": {
   "codemirror_mode": {
    "name": "ipython",
    "version": 3
   },
   "file_extension": ".py",
   "mimetype": "text/x-python",
   "name": "python",
   "nbconvert_exporter": "python",
   "pygments_lexer": "ipython3",
   "version": "3.13.0"
  }
 },
 "nbformat": 4,
 "nbformat_minor": 2
}
