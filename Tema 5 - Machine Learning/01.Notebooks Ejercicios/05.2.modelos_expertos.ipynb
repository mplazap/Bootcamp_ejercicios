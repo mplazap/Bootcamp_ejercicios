{
 "cells": [
  {
   "cell_type": "markdown",
   "id": "882f1db5",
   "metadata": {},
   "source": [
    "## Ejercicio de Clustering, Regression y Clasificacion\n",
    "\n",
    "Continuación del ejercicio anterior:\n",
    "\n",
    "Ya tenemos los modelos de regresión para las nubes. Si quisieramos predecir una nueva instancia tendriamos que decidir cual modelo de regresión usar. Para decidir que modelo usar vamos a hacer un modelo de clasificicación usando el **.csv** del notebook anterior: **`fuel_consumption_co2_cluster.csv`**\n",
    "\n",
    "**Parte 1**:\n",
    "1. Utilizando el dataset preprocesado de **`fuel_consumption_co2_cluster.csv`**, vamos a realizar un modelo de clasificación para predecir la columna generada por el **`cluster`**. Es decir, el dataset para este modelo debe tener todas las columnas a excepción de **`CO2 Emissions`** y vamos a intentar predecir la columna **`cluster`**.\n",
    "\n",
    "**Parte 2**:\n",
    "\n",
    "- **Función de preprocesamiento**:\n",
    "    1. Define una función que tome como parametro una instancia o una lista de instancias y que aplique el mismo preprocesamiento a esa instancia o lista de instancias.\n",
    "    2. Esta función debe aplicar las mismas transformaciones y crear/eliminar las mismas columnas que las realizadas en el preprocesamiento.\n",
    "    3. La función debe retornar una instancia unica o una lista de instancias ya preprocesadas, puede ser en un **DataFrame**.\n",
    "    4. Estas instancias no tendran la columna de **`CO2 Emissions`**.\n",
    "\n",
    "<br>\n",
    "\n",
    "- **Función de predicción**: Define una función que tome como parámetro una instancia o lista de instancias **SIN PREPROCESAR** y que haga lo siguiente:\n",
    "    1. Aplique el preprocesamiento (la función definida en el punto anterior).\n",
    "    2. Utilice el modelo de clasificación para decidir que modelo de regresión aplicar.\n",
    "    3. Dependiendo del caso, que haga la predicción del modelo de regresión a cada instancia.\n",
    "    4. Recuerda escalar los datos dependiendo del modelo.\n",
    "    5. **Debe retornar una lista de predicciones del modelo de regresión**, recuerda desescalar los datos predichos.\n",
    "    \n",
    "**Parte 3**:\n",
    "\n",
    "Haz pruebas con el dataset de **`fuel_consumption_co2_test.csv`**."
   ]
  },
  {
   "cell_type": "code",
   "execution_count": 74,
   "id": "715207c3-9b2a-4904-ba6e-b9a93790c3d4",
   "metadata": {},
   "outputs": [],
   "source": [
    "# Revisar escalado de y en la tarea ¿?. Semana 9"
   ]
  },
  {
   "cell_type": "code",
   "execution_count": null,
   "id": "7a6da2e2-1165-4518-ab04-f5e1c1a13f33",
   "metadata": {},
   "outputs": [],
   "source": [
    "X_test son los datos con lo que el modelo hará la predicción.\n",
    "\n",
    "X_test tendrá metros cuadrados, distancia a la playa, localidad, etc, etc.\n",
    "\n",
    "y_test va a tener para CADA CASA DE X_TEST el precio real...\n",
    "\n",
    "y_test = [220, 240, 180, etc]\n",
    "\n",
    "y_pred = model.predict(X_test) # predecir el precio de la casas de testeo\n",
    "\n",
    "y_pred = [210, 260, 150, etc]"
   ]
  },
  {
   "cell_type": "code",
   "execution_count": null,
   "id": "ecfc516a-7a8e-4319-8598-595b11e28051",
   "metadata": {},
   "outputs": [],
   "source": []
  },
  {
   "cell_type": "code",
   "execution_count": null,
   "id": "c48ecfd1-1ec1-425c-9a8d-bbdd3053baf1",
   "metadata": {},
   "outputs": [],
   "source": []
  },
  {
   "cell_type": "code",
   "execution_count": null,
   "id": "827106aa-465f-4063-995c-1a7fc6d5f38b",
   "metadata": {},
   "outputs": [],
   "source": []
  },
  {
   "cell_type": "code",
   "execution_count": null,
   "id": "9e910c93-4fb5-4465-a561-372f2a83b33f",
   "metadata": {},
   "outputs": [],
   "source": []
  },
  {
   "cell_type": "code",
   "execution_count": null,
   "id": "6165e7eb",
   "metadata": {},
   "outputs": [],
   "source": []
  },
  {
   "cell_type": "code",
   "execution_count": null,
   "id": "12f67eb2",
   "metadata": {},
   "outputs": [],
   "source": []
  },
  {
   "cell_type": "code",
   "execution_count": null,
   "id": "bd1fba9d",
   "metadata": {},
   "outputs": [],
   "source": []
  },
  {
   "cell_type": "code",
   "execution_count": null,
   "id": "1ac3d8ba",
   "metadata": {},
   "outputs": [],
   "source": []
  },
  {
   "cell_type": "code",
   "execution_count": null,
   "id": "64a558b8",
   "metadata": {},
   "outputs": [],
   "source": []
  },
  {
   "cell_type": "code",
   "execution_count": null,
   "id": "1928be72",
   "metadata": {},
   "outputs": [],
   "source": []
  },
  {
   "cell_type": "code",
   "execution_count": null,
   "id": "a07abb50",
   "metadata": {},
   "outputs": [],
   "source": []
  },
  {
   "cell_type": "code",
   "execution_count": null,
   "id": "38521fce",
   "metadata": {},
   "outputs": [],
   "source": []
  },
  {
   "cell_type": "code",
   "execution_count": null,
   "id": "cb183129",
   "metadata": {},
   "outputs": [],
   "source": []
  },
  {
   "cell_type": "code",
   "execution_count": null,
   "id": "0bd41123",
   "metadata": {},
   "outputs": [],
   "source": []
  },
  {
   "cell_type": "code",
   "execution_count": null,
   "id": "3200eb3f",
   "metadata": {},
   "outputs": [],
   "source": [
    "################################################################################################################################"
   ]
  }
 ],
 "metadata": {
  "kernelspec": {
   "display_name": "Python 3",
   "language": "python",
   "name": "python3"
  },
  "language_info": {
   "codemirror_mode": {
    "name": "ipython",
    "version": 3
   },
   "file_extension": ".py",
   "mimetype": "text/x-python",
   "name": "python",
   "nbconvert_exporter": "python",
   "pygments_lexer": "ipython3",
   "version": "3.9.4"
  }
 },
 "nbformat": 4,
 "nbformat_minor": 5
}
