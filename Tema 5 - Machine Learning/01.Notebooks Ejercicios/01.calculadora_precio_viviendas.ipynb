{
 "cells": [
  {
   "cell_type": "markdown",
   "id": "8aa598d3",
   "metadata": {
    "tags": []
   },
   "source": [
    "## Ejercicio - Regresión Viviendas Barcelona\n",
    "\n",
    "- Utilizando el dataset de publicaciones de venta de viviendas en Barcelona _**viviendas_barcelona.parquet**_, entrena un modelo de regresión lineal múltiple que sea capaz de calcular el precio de venta:\n",
    "\n",
    "    - Antes de crear el modelo y entrenarlo, haz un **EDA** de los datos.\n",
    "        - ¿Qué columnas pueden ser las más importantes?\n",
    "        - ¿Como se distribuyen los precios?\n",
    "        - ¿Qué columnas sería factible limpiar?\n",
    "        - ¿Qué significan los **np.nan**?\n",
    "     \n",
    "    - Cuando entiendas bien los datos con los que estás tratando, puedes proceder a realizar un preprocesamiento:\n",
    "        - Elimina duplicados.\n",
    "        - Elimina columnas innecesarias\n",
    "        - Trata los valores perdidos **np.nan**.\n",
    "        - Maneja los outliers como consideres.\n",
    "        - Realiza transformaciones a los datos que consideres necesarias.\n",
    "        - Codifica los datos categóricos para que el modelo los entienda (pásalos a números).\n",
    "        - Considera normalizar los datos antes de utilizarlos para el entreno.\n",
    "        \n",
    "    - Entrena el modelo con un subconjunto de 70-80% del dataset.\n",
    "      \n",
    "    - Utiliza los datos restantes para comprobar cómo de bueno es el modelo:\n",
    "        - Calcula **R2**, **MAE** y **MSE**.\n",
    "        \n",
    "- Importa las librerías que vayas a necesitar."
   ]
  },
  {
   "cell_type": "code",
   "execution_count": 1,
   "id": "9b372f35",
   "metadata": {},
   "outputs": [],
   "source": [
    "import pandas as pd\n",
    "import numpy as np\n",
    "import seaborn as sns\n",
    "import matplotlib.pyplot as plt\n",
    "\n",
    "# Modelo\n",
    "from sklearn.linear_model import LinearRegression\n",
    "\n",
    "# Herramientas de preprocesamiento\n",
    "from sklearn.preprocessing import MinMaxScaler, LabelEncoder, TargetEncoder, OneHotEncoder\n",
    "\n",
    "# Split\n",
    "from sklearn.model_selection import train_test_split\n",
    "\n",
    "# Métricas\n",
    "from sklearn.metrics import r2_score, mean_absolute_error, mean_squared_error\n",
    "\n",
    "df = pd.read_parquet(\"../Data/viviendas_barcelona.parquet\")"
   ]
  },
  {
   "cell_type": "code",
   "execution_count": 2,
   "id": "ed0549e3",
   "metadata": {},
   "outputs": [
    {
     "data": {
      "text/plain": [
       "price                      510\n",
       "title                      350\n",
       "province                     0\n",
       "location                   606\n",
       "lat                        606\n",
       "lng                        606\n",
       "agency                     350\n",
       "updated                    350\n",
       "timestamp                    0\n",
       "id_1                         0\n",
       "id_2                         0\n",
       "Superficie construida      501\n",
       "Emisiones                11144\n",
       "Clasificación              350\n",
       "Baños                     1294\n",
       "Consumo                  25347\n",
       "Habitaciones              1308\n",
       "Referencia                 350\n",
       "Antigüedad               18755\n",
       "Garaje                   18945\n",
       "Terraza                  14711\n",
       "Se aceptan mascotas      25968\n",
       "Ascensor                 15621\n",
       "Tipo de casa             25845\n",
       "Superficie útil           8745\n",
       "dtype: int64"
      ]
     },
     "execution_count": 2,
     "metadata": {},
     "output_type": "execute_result"
    }
   ],
   "source": [
    "df.isna().sum()"
   ]
  },
  {
   "cell_type": "markdown",
   "id": "761c60ea",
   "metadata": {},
   "source": [
    "* EDA"
   ]
  },
  {
   "cell_type": "code",
   "execution_count": null,
   "id": "b81c466a",
   "metadata": {},
   "outputs": [],
   "source": []
  },
  {
   "cell_type": "code",
   "execution_count": null,
   "id": "f3bdc866",
   "metadata": {},
   "outputs": [],
   "source": []
  },
  {
   "cell_type": "code",
   "execution_count": null,
   "id": "1d4e7872",
   "metadata": {},
   "outputs": [],
   "source": []
  },
  {
   "cell_type": "code",
   "execution_count": null,
   "id": "2c18cfba",
   "metadata": {},
   "outputs": [],
   "source": []
  },
  {
   "cell_type": "code",
   "execution_count": null,
   "id": "fc15f4ec",
   "metadata": {},
   "outputs": [],
   "source": []
  },
  {
   "cell_type": "code",
   "execution_count": null,
   "id": "c680c875",
   "metadata": {},
   "outputs": [],
   "source": []
  }
 ],
 "metadata": {
  "kernelspec": {
   "display_name": "base",
   "language": "python",
   "name": "python3"
  },
  "language_info": {
   "codemirror_mode": {
    "name": "ipython",
    "version": 3
   },
   "file_extension": ".py",
   "mimetype": "text/x-python",
   "name": "python",
   "nbconvert_exporter": "python",
   "pygments_lexer": "ipython3",
   "version": "3.12.7"
  }
 },
 "nbformat": 4,
 "nbformat_minor": 5
}
