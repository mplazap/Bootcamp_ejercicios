{
 "cells": [
  {
   "cell_type": "markdown",
   "id": "c40ad7ce",
   "metadata": {},
   "source": [
    "### Ejercicio de Clustering y Regression\n",
    "\n",
    "Utilizando el dataset de **`fuel_consumption_co2_train.csv`**:\n",
    "\n",
    "**Parte 1**:\n",
    "1. Realiza un **`Exploratory Data Analysis`** (**EDA**).\n",
    "2. Realiza **preprocesamiento** de datos.\n",
    "3. Utilizando métodos de **clustering**, **¿existe alguna forma de \"categorizar\" los datos?**\n",
    "4. Selecciona un número de **clusters \"optimo\"** y crea una columna con la categorización dada por el clustering.\n",
    "5. Teniendo el conjunto separado en diferentes \"clases\" o \"categorias\" entrena modelos de regresión, como:\n",
    "    - **LinearRegression**\n",
    "    - **KNeighborsRegressor**\n",
    "    - **RadiusNeighborsRegressor**\n",
    "    - **DecisionTreeRegressor**\n",
    "    - **RandomForestRegressor**\n",
    "    - **SVR**\n",
    "    - **AdaBoostRegressor**\n",
    "    - **GradientBoostingRegressor**.\n",
    "6. Recuerda hacer **`train_test_split`** para cada conjuto de datos de cada **cluster** para poder calcular métricas, el objetivo es encontrar el mejor **`r2_score`** para cada modelo.\n",
    "7. Haz el método de validación más adecuado para los datos, **solo es necesario hacer uno para el mejor modelo**.\n",
    "8. Guarda los modelos en archivos binarios.\n",
    "9. Guarda el **DataFrame** en un **.csv** llamado **`fuel_consumption_co2_cluster.csv`**.\n",
    "\n",
    "**Parte 2**:\n",
    "1. En caso de que el modelo lo permita, haz **tuning** al mejor modelo usando **`GridSearchCV`**. (opcional)"
   ]
  },
  {
   "cell_type": "code",
   "execution_count": null,
   "id": "09e5807b",
   "metadata": {},
   "outputs": [],
   "source": [
    "import numpy as np\n",
    "import pandas as pd\n",
    "import matplotlib.pyplot as plt\n",
    "import seaborn as sns\n",
    "\n",
    "import re\n",
    "\n",
    "from sklearn.preprocessing import OneHotEncoder, TargetEncoder, MinMaxScaler\n",
    "\n",
    "from sklearn.model_selection import train_test_split\n",
    "\n",
    "from sklearn.linear_model import LinearRegression\n",
    "from sklearn.neighbors import KNeighborsRegressor\n",
    "from sklearn.tree import DecisionTreeRegressor\n",
    "from sklearn.ensemble import RandomForestRegressor\n",
    "from sklearn.svm import SVR\n",
    "from sklearn.ensemble import AdaBoostRegressor\n",
    "from sklearn.ensemble import GradientBoostingRegressor\n",
    "\n",
    "from sklearn.metrics import r2_score, mean_absolute_error, mean_squared_error\n",
    "\n",
    "from sklearn.cluster import DBSCAN"
   ]
  },
  {
   "cell_type": "code",
   "execution_count": null,
   "id": "ad163832",
   "metadata": {
    "scrolled": true
   },
   "outputs": [],
   "source": [
    "df = pd.read_csv(\"../Data/fuel_consumption_co2_train.csv\")\n",
    "\n",
    "df.head(3)"
   ]
  },
  {
   "cell_type": "code",
   "execution_count": null,
   "id": "571391df",
   "metadata": {},
   "outputs": [],
   "source": [
    "# Eliminar columnas \"Make\" y \"Model\"\n",
    "df = df.drop([\"Make\", \"Model\"], axis = 1)\n",
    "\n",
    "# Transformar columna \"Transmission\"\n",
    "df[\"Transmission_numero\"] = df[\"Transmission\"].apply(lambda x : re.findall(r\"\\d+\", x)[0] if len(re.findall(r\"\\d+\", x)) > 0 else np.nan)\n",
    "df[\"Transmission_letra\"] = df[\"Transmission\"].apply(lambda x : re.findall(r\"[a-zA-Z]+\", x)[0] if len(re.findall(r\"[a-zA-Z]+\", x)) > 0 else np.nan)\n",
    "\n",
    "df = df.dropna()\n",
    "df = df.drop(\"Transmission\", axis = 1)"
   ]
  },
  {
   "cell_type": "code",
   "execution_count": null,
   "id": "b2ac91e0",
   "metadata": {},
   "outputs": [],
   "source": [
    "# Código Adrián\n",
    "\n",
    "df[\"Vehicle Class\"] = df[\"Vehicle Class\"].str.lower()   \n",
    "df[\"Vehicle Class\"] = df[\"Vehicle Class\"].str.strip()          \n",
    "df[\"Vehicle Class\"] = df[\"Vehicle Class\"].str.replace(\" - \", \" \")  \n",
    "df[\"Vehicle Class\"] = df[\"Vehicle Class\"].str.replace(\"-\", \" \")    \n",
    "df[\"Vehicle Class\"] = df[\"Vehicle Class\"].str.replace(\":\", \"\")     \n",
    "df[\"Vehicle Class\"] = df[\"Vehicle Class\"].str.replace(\"  \", \" \")"
   ]
  },
  {
   "cell_type": "code",
   "execution_count": null,
   "id": "56856758-6676-461a-b4f9-1e1e48c66379",
   "metadata": {
    "scrolled": true
   },
   "outputs": [],
   "source": [
    "for col in df.columns:\n",
    "    sns.scatterplot(x = df[col], y = df[\"CO2 Emissions\"])\n",
    "    plt.show()"
   ]
  },
  {
   "cell_type": "code",
   "execution_count": null,
   "id": "3620bfea",
   "metadata": {},
   "outputs": [],
   "source": [
    "# OneHot \"Fuel Type\"\n",
    "\n",
    "onehot_fuel_type = OneHotEncoder(sparse_output = False)\n",
    "onehot_fuel_type.set_output(transform = \"pandas\")\n",
    "\n",
    "df = pd.concat([df.drop(\"Fuel Type\", axis = 1), onehot_fuel_type.fit_transform(df[[\"Fuel Type\"]])], axis = 1)\n",
    "\n",
    "# OneHot \"Transmission_letra\"\n",
    "onehot_transmission = OneHotEncoder(sparse_output = False)\n",
    "onehot_transmission.set_output(transform = \"pandas\")\n",
    "\n",
    "df = pd.concat([df.drop(\"Transmission_letra\", axis = 1), onehot_transmission.fit_transform(df[[\"Transmission_letra\"]])], axis = 1)\n",
    "\n",
    "df.head(3)"
   ]
  },
  {
   "cell_type": "code",
   "execution_count": null,
   "id": "365d885e",
   "metadata": {},
   "outputs": [],
   "source": [
    "target_vehicle_class = {x : y for x, y in df.groupby(by = \"Vehicle Class\", as_index = False).agg({\"CO2 Emissions\" : \"mean\"}).values}\n",
    "\n",
    "df[\"Vehicle Class\"] = df[\"Vehicle Class\"].map(target_vehicle_class)\n",
    "\n",
    "df.head(3)"
   ]
  },
  {
   "cell_type": "code",
   "execution_count": null,
   "id": "8365b80f",
   "metadata": {},
   "outputs": [],
   "source": [
    "# # Codigo Jesús\n",
    "\n",
    "# class_encoder = TargetEncoder(target_type=\"binary\")\n",
    "\n",
    "# # Lo \"entrenamos\" con los datos de la columna y la transformamos\n",
    "# class_encoder.fit_transform(df[[\"Vehicle Class\"]], df[\"CO2 Emissions\"])"
   ]
  },
  {
   "cell_type": "markdown",
   "id": "c7423721-ea35-4ca4-bd1d-d5d980021a8c",
   "metadata": {},
   "source": [
    "### Clustering"
   ]
  },
  {
   "cell_type": "code",
   "execution_count": null,
   "id": "0bb3c17a-c279-42f7-862e-476444803f7f",
   "metadata": {},
   "outputs": [],
   "source": [
    "X = df.copy().values\n",
    "\n",
    "x_scaler = MinMaxScaler()\n",
    "X = x_scaler.fit_transform(X)\n",
    "X.shape"
   ]
  },
  {
   "cell_type": "code",
   "execution_count": null,
   "id": "f73eef06-1666-4305-a575-95ebef91a471",
   "metadata": {},
   "outputs": [],
   "source": [
    "np.sqrt(20)"
   ]
  },
  {
   "cell_type": "code",
   "execution_count": null,
   "id": "40013305-a9b9-4d34-8be8-8bd2bcee2c18",
   "metadata": {},
   "outputs": [],
   "source": [
    "dbscan = DBSCAN(eps = 1.415, min_samples = X.shape[1]*2, metric = \"euclidean\")\n",
    "dbscan.fit(X)\n",
    "set(dbscan.labels_)"
   ]
  },
  {
   "cell_type": "code",
   "execution_count": null,
   "id": "eec1cf7b-0bc0-4d7a-b026-77a46d54e284",
   "metadata": {},
   "outputs": [],
   "source": [
    "sns.scatterplot(x = df[\"Fuel Consumption City\"], y = df[\"CO2 Emissions\"], hue = dbscan.labels_)\n",
    "plt.show()"
   ]
  },
  {
   "cell_type": "code",
   "execution_count": null,
   "id": "ecda9acc-2946-4cbb-87ee-d4cf62a5a391",
   "metadata": {},
   "outputs": [],
   "source": [
    "df[\"cluster\"] = dbscan.labels_\n",
    "\n",
    "df.head(3)"
   ]
  },
  {
   "cell_type": "code",
   "execution_count": null,
   "id": "370222a2",
   "metadata": {},
   "outputs": [],
   "source": [
    "df0 = df[df[\"cluster\"] == 0]\n",
    "df1 = df[df[\"cluster\"] == 1]\n",
    "df_outlier = df[df[\"cluster\"] == -1]"
   ]
  },
  {
   "cell_type": "code",
   "execution_count": null,
   "id": "f52fce3f-8251-4030-a7f6-e7952f205f62",
   "metadata": {},
   "outputs": [],
   "source": [
    "df0.shape, df1.shape, df_outlier.shape"
   ]
  },
  {
   "cell_type": "markdown",
   "id": "ea815133-6876-4607-a340-727f53a5fb21",
   "metadata": {},
   "source": [
    "# Cluster 0"
   ]
  },
  {
   "cell_type": "code",
   "execution_count": null,
   "id": "a678aa2e-c881-4363-8dd0-4c3b3f076ede",
   "metadata": {},
   "outputs": [],
   "source": [
    "df0 = df0.drop(\"cluster\", axis = 1)\n",
    "\n",
    "X = df0.drop(\"CO2 Emissions\", axis = 1)\n",
    "y = df0[\"CO2 Emissions\"]\n",
    "\n",
    "X_train, X_test, y_train, y_test = train_test_split(X, y, test_size = 0.2, random_state = 42)\n",
    "\n",
    "modelos = [LinearRegression(), \n",
    "           KNeighborsRegressor(), \n",
    "           DecisionTreeRegressor(), \n",
    "           RandomForestRegressor(), \n",
    "           SVR(), \n",
    "           AdaBoostRegressor(), \n",
    "           GradientBoostingRegressor()]\n",
    "\n",
    "datos_cluster0 = list()\n",
    "\n",
    "for model in modelos:\n",
    "\n",
    "    model.fit(X_train, y_train)\n",
    "    \n",
    "    yhat = model.predict(X_test)\n",
    "    \n",
    "    r2 = r2_score(y_test, yhat)\n",
    "    mae = mean_absolute_error(y_test, yhat)\n",
    "    mse = mean_squared_error(y_test, yhat)\n",
    "\n",
    "    datos_cluster0.append([str(model), model, r2, mae, mse])\n",
    "\n",
    "df_score = pd.DataFrame(data = datos_cluster0, columns = [\"modelo_str\", \"modelo\", \"r2_score\", \"mae\", \"mse\"])\n",
    "df_score.sort_values(\"r2_score\", ascending = False)"
   ]
  },
  {
   "cell_type": "markdown",
   "id": "0543882e-6775-45d9-b06b-c2abf84a0e5a",
   "metadata": {},
   "source": [
    "# Cluster 1"
   ]
  },
  {
   "cell_type": "code",
   "execution_count": null,
   "id": "bc63e35c-f4ed-43c0-b0c2-fe91123c75d7",
   "metadata": {},
   "outputs": [],
   "source": [
    "df1 = df1.drop(\"cluster\", axis = 1)\n",
    "\n",
    "X = df1.drop(\"CO2 Emissions\", axis = 1)\n",
    "y = df1[\"CO2 Emissions\"]\n",
    "\n",
    "X_train, X_test, y_train, y_test = train_test_split(X, y, test_size = 0.2, random_state = 42)\n",
    "\n",
    "modelos = [LinearRegression(), \n",
    "           KNeighborsRegressor(), \n",
    "           DecisionTreeRegressor(), \n",
    "           RandomForestRegressor(), \n",
    "           SVR(), \n",
    "           AdaBoostRegressor(), \n",
    "           GradientBoostingRegressor()]\n",
    "\n",
    "datos_cluster1 = list()\n",
    "\n",
    "for model in modelos:\n",
    "\n",
    "    model.fit(X_train, y_train)\n",
    "    \n",
    "    yhat = model.predict(X_test)\n",
    "    \n",
    "    r2 = r2_score(y_test, yhat)\n",
    "    mae = mean_absolute_error(y_test, yhat)\n",
    "    mse = mean_squared_error(y_test, yhat)\n",
    "\n",
    "    datos_cluster1.append([str(model), model, r2, mae, mse])\n",
    "\n",
    "df_score = pd.DataFrame(data = datos_cluster1, columns = [\"modelo_str\", \"modelo\", \"r2_score\", \"mae\", \"mse\"])\n",
    "df_score.sort_values(\"r2_score\", ascending = False)"
   ]
  },
  {
   "cell_type": "markdown",
   "id": "012765fb-e9bf-4d77-a544-a72680deb8f7",
   "metadata": {},
   "source": [
    "# Todo el df"
   ]
  },
  {
   "cell_type": "code",
   "execution_count": null,
   "id": "ccb93c28-734f-45c7-9d39-21ecab1f2729",
   "metadata": {},
   "outputs": [],
   "source": [
    "X = df.drop([\"CO2 Emissions\", \"cluster\"], axis = 1)\n",
    "y = df[\"CO2 Emissions\"]\n",
    "\n",
    "X_train, X_test, y_train, y_test = train_test_split(X, y, test_size = 0.2, random_state = 42)\n",
    "\n",
    "model = RandomForestRegressor()\n",
    "model.fit(X_train, y_train)\n",
    "\n",
    "yhat = model.predict(X_test)\n",
    "\n",
    "r2_score(y_test, yhat)"
   ]
  },
  {
   "cell_type": "code",
   "execution_count": null,
   "id": "60df1e2f-3c21-4df9-84f6-69718c3f6002",
   "metadata": {},
   "outputs": [],
   "source": [
    "df"
   ]
  },
  {
   "cell_type": "code",
   "execution_count": null,
   "id": "0e2909b8",
   "metadata": {},
   "outputs": [],
   "source": []
  },
  {
   "cell_type": "code",
   "execution_count": null,
   "id": "e3607214",
   "metadata": {},
   "outputs": [],
   "source": []
  },
  {
   "cell_type": "code",
   "execution_count": null,
   "id": "e7f80d77",
   "metadata": {},
   "outputs": [],
   "source": []
  },
  {
   "cell_type": "code",
   "execution_count": null,
   "id": "390e3d4c",
   "metadata": {},
   "outputs": [],
   "source": [
    "################################################################################################################################"
   ]
  }
 ],
 "metadata": {
  "kernelspec": {
   "display_name": "Python 3 (ipykernel)",
   "language": "python",
   "name": "python3"
  },
  "language_info": {
   "codemirror_mode": {
    "name": "ipython",
    "version": 3
   },
   "file_extension": ".py",
   "mimetype": "text/x-python",
   "name": "python",
   "nbconvert_exporter": "python",
   "pygments_lexer": "ipython3",
   "version": "3.11.7"
  }
 },
 "nbformat": 4,
 "nbformat_minor": 5
}
