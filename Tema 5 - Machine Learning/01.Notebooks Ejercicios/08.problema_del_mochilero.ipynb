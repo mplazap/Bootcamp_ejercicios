{
 "cells": [
  {
   "cell_type": "markdown",
   "id": "f4629a61",
   "metadata": {},
   "source": [
    "## Algoritmos Genéticos: Problema de la Mochila\n",
    "\n",
    "Siguiendo los pasos de la teoria de Algoritmos Genéticos, has el algoritmo del problema de la mochila.\n",
    "\n",
    "- Población Inicial: 50\n",
    "- Número de Genes: 20\n",
    "- Probabilidad de Cruce: 0.9\n",
    "- Probabilidad de Mutación: 0.1\n",
    "- Número de generaciones: 5000"
   ]
  },
  {
   "cell_type": "code",
   "execution_count": 1,
   "id": "ffd12930",
   "metadata": {
    "tags": []
   },
   "outputs": [],
   "source": [
    "import numpy as np\n",
    "import pandas as pd\n",
    "import matplotlib.pyplot as plt\n",
    "import seaborn as sns\n",
    "\n",
    "import random"
   ]
  },
  {
   "cell_type": "code",
   "execution_count": 4,
   "id": "83adba01",
   "metadata": {
    "tags": []
   },
   "outputs": [],
   "source": [
    "peso_max = 50\n",
    "\n",
    "n_poblacion = 50\n",
    "n_genes = 20\n",
    "p_cruce = 0.9\n",
    "p_mutacion = 0.1"
   ]
  },
  {
   "cell_type": "code",
   "execution_count": 2,
   "id": "c8c21d2c",
   "metadata": {
    "tags": []
   },
   "outputs": [
    {
     "name": "stdout",
     "output_type": "stream",
     "text": [
      "116 3 objeto_0\n",
      "159 3 objeto_1\n",
      "132 3 objeto_2\n",
      "194 10 objeto_3\n",
      "148 4 objeto_4\n",
      "161 6 objeto_5\n",
      "154 4 objeto_6\n",
      "157 3 objeto_7\n",
      "136 2 objeto_8\n",
      "102 1 objeto_9\n",
      "159 9 objeto_10\n",
      "191 1 objeto_11\n",
      "126 9 objeto_12\n",
      "182 9 objeto_13\n",
      "182 8 objeto_14\n",
      "106 9 objeto_15\n",
      "181 6 objeto_16\n",
      "136 4 objeto_17\n",
      "134 4 objeto_18\n",
      "180 4 objeto_19\n"
     ]
    }
   ],
   "source": [
    "valores = [116, 159, 132, 194, 148, 161, 154, 157, 136, 102, 159, 191, 126, 182, 182, 106, 181, 136, 134, 180]\n",
    "pesos = [3, 3, 3, 10, 4, 6, 4, 3, 2, 1, 9, 1, 9, 9, 8, 9, 6, 4, 4, 4]\n",
    "\n",
    "objetos = [f\"objeto_{i}\" for i in range(20)]\n",
    "\n",
    "# print(\"Valores:\", valores)\n",
    "# print(\"Pesos:\", pesos)\n",
    "# print(f\"Objetos:\", objetos)\n",
    "\n",
    "for v, p, o in zip(valores, pesos, objetos):\n",
    "    print(v, p, o)"
   ]
  },
  {
   "cell_type": "code",
   "execution_count": null,
   "id": "f07d597f-bf19-479f-b9ef-b49448ace0ec",
   "metadata": {},
   "outputs": [],
   "source": []
  },
  {
   "cell_type": "code",
   "execution_count": null,
   "id": "068f43e5-9d8d-4022-ae52-c128a562a5b7",
   "metadata": {},
   "outputs": [],
   "source": []
  },
  {
   "cell_type": "code",
   "execution_count": null,
   "id": "ae5d398f-f3b9-436a-858e-8e029f6464a8",
   "metadata": {},
   "outputs": [],
   "source": []
  },
  {
   "cell_type": "code",
   "execution_count": null,
   "id": "d40234d3-086f-422b-a989-b51cb3ffe1a7",
   "metadata": {},
   "outputs": [],
   "source": []
  },
  {
   "cell_type": "code",
   "execution_count": null,
   "id": "b50732d1-234c-4dd7-89ac-97edf03cb5df",
   "metadata": {},
   "outputs": [],
   "source": []
  },
  {
   "cell_type": "code",
   "execution_count": null,
   "id": "90e5a6ca-eae3-4ce4-9cb5-88ade4e28d0e",
   "metadata": {},
   "outputs": [],
   "source": []
  },
  {
   "cell_type": "code",
   "execution_count": null,
   "id": "04e1a00b-be86-4721-a728-d0351f55559b",
   "metadata": {},
   "outputs": [],
   "source": []
  },
  {
   "cell_type": "code",
   "execution_count": null,
   "id": "6a573224-c511-40ce-9c1a-cbf8959cca68",
   "metadata": {},
   "outputs": [],
   "source": []
  },
  {
   "cell_type": "code",
   "execution_count": null,
   "id": "bfe826f8-3a61-4577-9902-0838cd9aec86",
   "metadata": {},
   "outputs": [],
   "source": []
  },
  {
   "cell_type": "code",
   "execution_count": null,
   "id": "9cb7148c-2471-4369-9c9a-5ed63ec0c578",
   "metadata": {},
   "outputs": [],
   "source": []
  },
  {
   "cell_type": "code",
   "execution_count": 15,
   "id": "f11860de",
   "metadata": {
    "tags": []
   },
   "outputs": [
    {
     "name": "stdout",
     "output_type": "stream",
     "text": [
      "[1, 1, 0, 0, 0, 0, 0, 0, 1, 0, 1, 0, 1, 0, 0, 1, 0, 0, 0, 1]\n"
     ]
    }
   ],
   "source": [
    "individuo = [random.randint(0, 1) for i in range(n_genes)]\n",
    "\n",
    "print(individuo)"
   ]
  },
  {
   "cell_type": "code",
   "execution_count": 16,
   "id": "52ad900a",
   "metadata": {
    "tags": []
   },
   "outputs": [
    {
     "data": {
      "text/plain": [
       "39"
      ]
     },
     "execution_count": 16,
     "metadata": {},
     "output_type": "execute_result"
    }
   ],
   "source": [
    "# Calcular peso\n",
    "np.dot(individuo, pesos)"
   ]
  },
  {
   "cell_type": "code",
   "execution_count": 17,
   "id": "e1534ad7",
   "metadata": {
    "tags": []
   },
   "outputs": [
    {
     "data": {
      "text/plain": [
       "982"
      ]
     },
     "execution_count": 17,
     "metadata": {},
     "output_type": "execute_result"
    }
   ],
   "source": [
    "# Calcular valor\n",
    "np.dot(individuo, valores)"
   ]
  },
  {
   "cell_type": "code",
   "execution_count": 18,
   "id": "36c15cb6",
   "metadata": {
    "tags": []
   },
   "outputs": [
    {
     "data": {
      "text/plain": [
       "['objeto_0',\n",
       " 'objeto_1',\n",
       " 'objeto_8',\n",
       " 'objeto_10',\n",
       " 'objeto_12',\n",
       " 'objeto_15',\n",
       " 'objeto_19']"
      ]
     },
     "execution_count": 18,
     "metadata": {},
     "output_type": "execute_result"
    }
   ],
   "source": [
    "# Calcular objetos\n",
    "[x for x, i in zip(objetos, individuo) if i == 1]"
   ]
  },
  {
   "cell_type": "code",
   "execution_count": 19,
   "id": "02237fad",
   "metadata": {
    "tags": []
   },
   "outputs": [
    {
     "data": {
      "text/plain": [
       "[1, 1, 0, 0, 0, 0, 0, 0, 1, 0, 1, 0, 1, 0, 0, 1, 0, 0, 0, 1]"
      ]
     },
     "execution_count": 19,
     "metadata": {},
     "output_type": "execute_result"
    }
   ],
   "source": [
    "individuo"
   ]
  },
  {
   "cell_type": "markdown",
   "id": "cecf7e8c-9fca-4113-a60d-ce0b007541da",
   "metadata": {},
   "source": [
    "- Estacional - Crowding Deterministico - 1 Solo hijo"
   ]
  }
 ],
 "metadata": {
  "kernelspec": {
   "display_name": "Python 3 (ipykernel)",
   "language": "python",
   "name": "python3"
  },
  "language_info": {
   "codemirror_mode": {
    "name": "ipython",
    "version": 3
   },
   "file_extension": ".py",
   "mimetype": "text/x-python",
   "name": "python",
   "nbconvert_exporter": "python",
   "pygments_lexer": "ipython3",
   "version": "3.12.3"
  }
 },
 "nbformat": 4,
 "nbformat_minor": 5
}
