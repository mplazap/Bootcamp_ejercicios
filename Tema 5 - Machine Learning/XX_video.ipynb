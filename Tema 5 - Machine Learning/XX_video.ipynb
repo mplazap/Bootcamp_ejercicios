{
 "cells": [
  {
   "cell_type": "markdown",
   "id": "e1579587-8216-4bbd-8ba0-eec19cae5998",
   "metadata": {},
   "source": [
    "### Cargar el video que os mando (al slack) de gente caminando en londres.\n",
    "\n",
    "A partir del video, crear un nuevo video que va a ser \"igual\" pero\n",
    "\n",
    "1) donde todas las caras de las personas detectadas tengan un recuadro\n",
    "\n",
    "2) Donde haya un texto constante que diga \"Se han detectado 2 personas\"\n",
    "\n",
    "El video es largo... Entonces no hace falta procesar todo el video. el primer minuto está bien"
   ]
  },
  {
   "cell_type": "code",
   "execution_count": 1,
   "id": "ac1d3781-b208-45c4-8e30-587acd7e5d54",
   "metadata": {},
   "outputs": [],
   "source": [
    "import numpy as np\n",
    "\n",
    "import matplotlib # Para ver la versión\n",
    "import matplotlib.pyplot as plt\n",
    "\n",
    "import cv2 "
   ]
  },
  {
   "cell_type": "code",
   "execution_count": 9,
   "id": "0e61f2b4-e650-40c4-988a-54c890ff3346",
   "metadata": {},
   "outputs": [],
   "source": [
    "video_path = \"/Users/federicollanes/Downloads/london_walk.mp4\""
   ]
  },
  {
   "cell_type": "code",
   "execution_count": 11,
   "id": "7e767cf9-02fa-469a-96d8-3356c0c2c488",
   "metadata": {},
   "outputs": [],
   "source": [
    "face_cascade = cv2.CascadeClassifier(cv2.data.haarcascades + 'haarcascade_frontalface_default.xml')"
   ]
  },
  {
   "cell_type": "code",
   "execution_count": 12,
   "id": "d5494854-c81c-4c53-b6fd-05eb4160cdf6",
   "metadata": {},
   "outputs": [],
   "source": [
    "def detect_face(img):\n",
    "    face_img = img.copy()\n",
    "    face_rects = face_cascade.detectMultiScale(image = face_img, scaleFactor = 1.1, minNeighbors = 5) \n",
    "    \n",
    "    for x, y, w, h in face_rects: \n",
    "        cv2.rectangle(img = face_img, pt1 = (x, y), pt2 = (x + w, y + h), color = (255, 0, 0), thickness = 2) \n",
    "        \n",
    "    return face_img, len(face_rects)"
   ]
  },
  {
   "cell_type": "code",
   "execution_count": 13,
   "id": "12bfa84f-6cd4-44d2-8103-c7eab3efd36c",
   "metadata": {},
   "outputs": [],
   "source": [
    "cap = cv2.VideoCapture(video_path)\n",
    "\n",
    "fps = int(cap.get(cv2.CAP_PROP_FPS))\n",
    "width = int(cap.get(cv2.CAP_PROP_FRAME_WIDTH))\n",
    "height = int(cap.get(cv2.CAP_PROP_FRAME_HEIGHT))\n",
    "\n",
    "output_path = 'processed_london_walk.mp4'\n",
    "fourcc = cv2.VideoWriter_fourcc(*'mp4v')  \n",
    "out = cv2.VideoWriter(output_path, fourcc, fps, (width, height))"
   ]
  },
  {
   "cell_type": "code",
   "execution_count": null,
   "id": "c1e633a8-826c-4b04-9800-93d36b71b7af",
   "metadata": {},
   "outputs": [],
   "source": [
    "count = 0\n",
    "while True:\n",
    "    ret, frame = cap.read()\n",
    "    if not ret:\n",
    "        break\n",
    "    \n",
    "    \n",
    "    processed_frame, num_faces = detect_face(frame)\n",
    "    \n",
    "    \n",
    "    cv2.putText(processed_frame, f'Se han detectado {num_faces} persona(s)', \n",
    "                (10, height - 10), \n",
    "                cv2.FONT_HERSHEY_SIMPLEX, \n",
    "                1, \n",
    "                (0, 255, 0), \n",
    "                2, \n",
    "                cv2.LINE_AA)\n",
    "\n",
    "    count += 1\n",
    "    if count % 20 == 0:\n",
    "        print(f\"Frame {count}\")\n",
    "    if count == 300:\n",
    "        break\n",
    "    \n",
    "    out.write(processed_frame)\n",
    "\n",
    "cap.release()\n",
    "out.release()\n",
    "cv2.destroyAllWindows()"
   ]
  },
  {
   "cell_type": "code",
   "execution_count": null,
   "id": "6a1e41c6-2994-4864-9727-c303abbc9993",
   "metadata": {},
   "outputs": [],
   "source": []
  }
 ],
 "metadata": {
  "kernelspec": {
   "display_name": "Python 3",
   "language": "python",
   "name": "python3"
  },
  "language_info": {
   "codemirror_mode": {
    "name": "ipython",
    "version": 3
   },
   "file_extension": ".py",
   "mimetype": "text/x-python",
   "name": "python",
   "nbconvert_exporter": "python",
   "pygments_lexer": "ipython3",
   "version": "3.9.4"
  }
 },
 "nbformat": 4,
 "nbformat_minor": 5
}
