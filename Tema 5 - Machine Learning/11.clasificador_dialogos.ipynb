{
 "cells": [
  {
   "cell_type": "markdown",
   "id": "ac4ed66f",
   "metadata": {},
   "source": [
    "## Ejercicio NLP y ML\n",
    "\n",
    "Usando el dataset **`dialogos_tbbt.pkl`** entrena un modelo de clasificación que prediga a que personaje pertenece una frase u oración.\n",
    "\n",
    "- Los personajes son: Sheldon, Leonard, Penny, Howard, Raj.\n",
    "\n",
    "- Haz preprocesamiento, Bag-of-Words, TF-IDF y utiliza un modelo de PCA para reducir la dimensionalidad del dataset.\n",
    "\n",
    "- Define una función que tome como parámetro una lista de modelos y que retorne un DataFrame con las métricas de cada modelo y el tiempo de ejecución de cada uno."
   ]
  },
  {
   "cell_type": "code",
   "execution_count": null,
   "id": "35c37eb0",
   "metadata": {},
   "outputs": [],
   "source": [
    "import pickle"
   ]
  },
  {
   "cell_type": "code",
   "execution_count": null,
   "id": "75ea3742",
   "metadata": {},
   "outputs": [],
   "source": [
    "with open(\"../Data/dialogos_tbbt.pkl\", \"br\") as file:\n",
    "    data = pickle.load(file)\n",
    "    \n",
    "len(data)"
   ]
  },
  {
   "cell_type": "code",
   "execution_count": null,
   "id": "cf3cc8c5",
   "metadata": {},
   "outputs": [],
   "source": [
    "data"
   ]
  },
  {
   "cell_type": "code",
   "execution_count": null,
   "id": "5952bd6e",
   "metadata": {},
   "outputs": [],
   "source": [
    "data[1]"
   ]
  },
  {
   "cell_type": "code",
   "execution_count": null,
   "id": "f5ec8535",
   "metadata": {},
   "outputs": [],
   "source": []
  },
  {
   "cell_type": "code",
   "execution_count": null,
   "id": "fd99c172",
   "metadata": {},
   "outputs": [],
   "source": []
  },
  {
   "cell_type": "code",
   "execution_count": null,
   "id": "9dfe95d4",
   "metadata": {},
   "outputs": [],
   "source": []
  },
  {
   "cell_type": "code",
   "execution_count": null,
   "id": "8e0a08d4",
   "metadata": {},
   "outputs": [],
   "source": []
  },
  {
   "cell_type": "code",
   "execution_count": null,
   "id": "aa1ceaca",
   "metadata": {},
   "outputs": [],
   "source": []
  },
  {
   "cell_type": "code",
   "execution_count": null,
   "id": "3abfd666",
   "metadata": {},
   "outputs": [],
   "source": []
  },
  {
   "cell_type": "code",
   "execution_count": null,
   "id": "888ca124",
   "metadata": {},
   "outputs": [],
   "source": []
  }
 ],
 "metadata": {
  "kernelspec": {
   "display_name": "Python 3 (ipykernel)",
   "language": "python",
   "name": "python3"
  },
  "language_info": {
   "codemirror_mode": {
    "name": "ipython",
    "version": 3
   },
   "file_extension": ".py",
   "mimetype": "text/x-python",
   "name": "python",
   "nbconvert_exporter": "python",
   "pygments_lexer": "ipython3",
   "version": "3.11.7"
  }
 },
 "nbformat": 4,
 "nbformat_minor": 5
}
