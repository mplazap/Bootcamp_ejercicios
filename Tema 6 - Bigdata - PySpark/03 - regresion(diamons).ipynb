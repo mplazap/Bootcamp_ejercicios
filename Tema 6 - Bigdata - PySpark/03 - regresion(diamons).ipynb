{
 "cells": [
  {
   "cell_type": "markdown",
   "metadata": {},
   "source": [
    "### MLib\n",
    "\n",
    "Machine Learning en pyspark. Similar a Scikit Learn pero en pyspark."
   ]
  },
  {
   "cell_type": "code",
   "execution_count": 1,
   "metadata": {},
   "outputs": [],
   "source": [
    "import seaborn as sns\n",
    "import pandas as pd"
   ]
  },
  {
   "cell_type": "code",
   "execution_count": 3,
   "metadata": {},
   "outputs": [
    {
     "name": "stdout",
     "output_type": "stream",
     "text": [
      "+-----+-------+-----+-------+-----+-----+-----+----+----+----+\n",
      "|carat|    cut|color|clarity|depth|table|price|   x|   y|   z|\n",
      "+-----+-------+-----+-------+-----+-----+-----+----+----+----+\n",
      "| 0.23|  Ideal|    E|    SI2| 61.5| 55.0|  326|3.95|3.98|2.43|\n",
      "| 0.21|Premium|    E|    SI1| 59.8| 61.0|  326|3.89|3.84|2.31|\n",
      "| 0.23|   Good|    E|    VS1| 56.9| 65.0|  327|4.05|4.07|2.31|\n",
      "+-----+-------+-----+-------+-----+-----+-----+----+----+----+\n",
      "only showing top 3 rows\n",
      "\n"
     ]
    }
   ],
   "source": [
    "from pyspark.sql import SparkSession\n",
    "\n",
    "spark = SparkSession.builder.appName('regresion_diamonds').getOrCreate()\n",
    "df = spark.createDataFrame(sns.load_dataset('diamonds'))\n",
    "df.show(3)"
   ]
  },
  {
   "cell_type": "code",
   "execution_count": null,
   "metadata": {},
   "outputs": [],
   "source": [
    "from pyspark.ml.regression import LinearRegression\n",
    "\n",
    "# Explicacion de como se usa (Documentacion oficial)\n",
    "# help(LinearRegression)"
   ]
  },
  {
   "cell_type": "code",
   "execution_count": 7,
   "metadata": {},
   "outputs": [
    {
     "name": "stdout",
     "output_type": "stream",
     "text": [
      "+-----+-------+-----+-------+-----+-----+-----+----+----+----+--------------------+\n",
      "|carat|    cut|color|clarity|depth|table|price|   x|   y|   z|            features|\n",
      "+-----+-------+-----+-------+-----+-----+-----+----+----+----+--------------------+\n",
      "| 0.23|  Ideal|    E|    SI2| 61.5| 55.0|  326|3.95|3.98|2.43|[0.23,61.5,3.95,3...|\n",
      "| 0.21|Premium|    E|    SI1| 59.8| 61.0|  326|3.89|3.84|2.31|[0.21,59.8,3.89,3...|\n",
      "| 0.23|   Good|    E|    VS1| 56.9| 65.0|  327|4.05|4.07|2.31|[0.23,56.9,4.05,4...|\n",
      "+-----+-------+-----+-------+-----+-----+-----+----+----+----+--------------------+\n",
      "only showing top 3 rows\n",
      "\n"
     ]
    }
   ],
   "source": [
    "# Obtener la X, que para pyspark se llama 'features'\n",
    "from pyspark.ml.feature import VectorAssembler\n",
    "\n",
    "assembler = VectorAssembler(\n",
    "    inputCols=['carat', 'depth', 'x', 'y', 'z', 'table'],\n",
    "    outputCol='features' # le llamamos features para que coincida con lo que piden los algoritmos\n",
    ")\n",
    "df_assembled = assembler.transform(df)\n",
    "df_assembled.show(3)\n",
    "# En la columna features se añaden todos los valores de las columnas numericas"
   ]
  },
  {
   "cell_type": "code",
   "execution_count": null,
   "metadata": {},
   "outputs": [
    {
     "name": "stdout",
     "output_type": "stream",
     "text": [
      "+--------------------+-----+\n",
      "|            features|label|\n",
      "+--------------------+-----+\n",
      "|[0.23,61.5,3.95,3...|  326|\n",
      "|[0.21,59.8,3.89,3...|  326|\n",
      "|[0.23,56.9,4.05,4...|  327|\n",
      "+--------------------+-----+\n",
      "only showing top 3 rows\n",
      "\n"
     ]
    }
   ],
   "source": [
    "# Seleccionamos las columnas que usaremos para el modelado\n",
    "df_features_label = df_assembled.withColumnRenamed('price', 'label').select('features', 'label')\n",
    "df_features_label.show(3)\n",
    "# Asi nos quedamos con las columnas y el nombre que necesita pyspark\n",
    "# La entrada \"X\" seria \"features\"\n",
    "# La salida \"Y\" seria \"label\""
   ]
  },
  {
   "cell_type": "code",
   "execution_count": 10,
   "metadata": {},
   "outputs": [],
   "source": [
    "# Particionamiento de los datos\n",
    "df_train, df_test = df_features_label.randomSplit([0.8, 0.2], seed=42)"
   ]
  },
  {
   "cell_type": "code",
   "execution_count": null,
   "metadata": {},
   "outputs": [
    {
     "name": "stdout",
     "output_type": "stream",
     "text": [
      "+--------------------+-----+------------------+\n",
      "|            features|label|        prediction|\n",
      "+--------------------+-----+------------------+\n",
      "|[0.22,59.3,3.91,3...|  404| 23.60821074172054|\n",
      "|[0.23,56.9,4.05,4...|  327| 135.6672490111814|\n",
      "|[0.23,59.4,4.0,4....|  338| 104.8061350055832|\n",
      "|[0.23,60.5,3.96,3...|  357|-69.15086283582787|\n",
      "+--------------------+-----+------------------+\n",
      "only showing top 4 rows\n",
      "\n"
     ]
    }
   ],
   "source": [
    "# Modelo de regresion ya con el entrenamiento y la prediccion\n",
    "lr = LinearRegression() # Modelo\n",
    "model= lr.fit(df_train) # Entrenamiento\n",
    "df_pred = model.transform(df_test) # Prediccion\n",
    "df_pred.show(4)"
   ]
  },
  {
   "cell_type": "code",
   "execution_count": 20,
   "metadata": {},
   "outputs": [],
   "source": [
    "from pyspark.ml.regression import DecisionTreeRegressor, RandomForestRegressor, GBTRegressor\n",
    "from pyspark.ml.evaluation import RegressionEvaluator\n",
    "\n",
    "# Definir los evaluadores\n",
    "evaluator_r2 = RegressionEvaluator(metricName='r2')\n",
    "evaluator_mae = RegressionEvaluator(metricName='mae')\n",
    "evaluator_mse = RegressionEvaluator(metricName='mse')\n",
    "evaluator_rmse = RegressionEvaluator(metricName='rmse')"
   ]
  },
  {
   "cell_type": "code",
   "execution_count": 21,
   "metadata": {},
   "outputs": [
    {
     "name": "stdout",
     "output_type": "stream",
     "text": [
      "r2 0.8735318379567073\n",
      "mae 803.4717018889393\n",
      "mse 2015965.0804856266\n",
      "rmse 1419.8468510672644\n"
     ]
    }
   ],
   "source": [
    "# Modelo decision tree regression\n",
    "\n",
    "tree = DecisionTreeRegressor() # Modelo\n",
    "model= tree.fit(df_train) # Entrenamiento\n",
    "df_pred = model.transform(df_test) # Prediccion\n",
    "\n",
    "print('r2', evaluator_r2.evaluate(df_pred))\n",
    "print('mae', evaluator_mae.evaluate(df_pred))\n",
    "print('mse', evaluator_mse.evaluate(df_pred))\n",
    "print('rmse', evaluator_rmse.evaluate(df_pred))"
   ]
  },
  {
   "cell_type": "code",
   "execution_count": 22,
   "metadata": {},
   "outputs": [
    {
     "name": "stdout",
     "output_type": "stream",
     "text": [
      "r2 0.8772337207183463\n",
      "mae 796.0495113421505\n",
      "mse 1956955.2375422209\n",
      "rmse 1398.9121621968338\n"
     ]
    }
   ],
   "source": [
    "# Random forest\n",
    "forest = RandomForestRegressor(numTrees=200) # Modelo\n",
    "model= forest.fit(df_train) # Entrenamiento\n",
    "df_pred = model.transform(df_test) # Prediccion\n",
    "\n",
    "print('r2', evaluator_r2.evaluate(df_pred))\n",
    "print('mae', evaluator_mae.evaluate(df_pred))\n",
    "print('mse', evaluator_mse.evaluate(df_pred))\n",
    "print('rmse', evaluator_rmse.evaluate(df_pred))"
   ]
  },
  {
   "cell_type": "code",
   "execution_count": 23,
   "metadata": {},
   "outputs": [
    {
     "name": "stdout",
     "output_type": "stream",
     "text": [
      "r2 0.8815473800708988\n",
      "mae 779.4271243946961\n",
      "mse 1888193.373027426\n",
      "rmse 1374.1154875145778\n"
     ]
    }
   ],
   "source": [
    "gbt = GBTRegressor()\n",
    "model = gbt.fit(df_train)\n",
    "df_pred = model.transform(df_test)\n",
    "print('r2', evaluator_r2.evaluate(df_pred))\n",
    "print('mae', evaluator_mae.evaluate(df_pred))\n",
    "print('mse', evaluator_mse.evaluate(df_pred))\n",
    "print('rmse', evaluator_rmse.evaluate(df_pred))"
   ]
  }
 ],
 "metadata": {
  "kernelspec": {
   "display_name": "Python 3 (ipykernel)",
   "language": "python",
   "name": "python3"
  },
  "language_info": {
   "codemirror_mode": {
    "name": "ipython",
    "version": 3
   },
   "file_extension": ".py",
   "mimetype": "text/x-python",
   "name": "python",
   "nbconvert_exporter": "python",
   "pygments_lexer": "ipython3",
   "version": "3.11.6"
  }
 },
 "nbformat": 4,
 "nbformat_minor": 2
}
