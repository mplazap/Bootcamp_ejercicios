{
 "cells": [
  {
   "cell_type": "code",
   "execution_count": 1,
   "metadata": {},
   "outputs": [
    {
     "name": "stdout",
     "output_type": "stream",
     "text": [
      "+-------+---------+--------------+-------------+-----------------+-----------+------+\n",
      "|species|   island|bill_length_mm|bill_depth_mm|flipper_length_mm|body_mass_g|   sex|\n",
      "+-------+---------+--------------+-------------+-----------------+-----------+------+\n",
      "| Adelie|Torgersen|          39.1|         18.7|            181.0|     3750.0|  Male|\n",
      "| Adelie|Torgersen|          39.5|         17.4|            186.0|     3800.0|Female|\n",
      "| Adelie|Torgersen|          40.3|         18.0|            195.0|     3250.0|Female|\n",
      "+-------+---------+--------------+-------------+-----------------+-----------+------+\n",
      "only showing top 3 rows\n",
      "\n"
     ]
    }
   ],
   "source": [
    "import seaborn as sns\n",
    "import pandas as pd\n",
    "from pyspark.sql import SparkSession\n",
    "\n",
    "spark = SparkSession.builder.appName('clasificacion_penguins').getOrCreate()\n",
    "df = spark.createDataFrame(sns.load_dataset('penguins').dropna()) # Quitamos los numos con dropna\n",
    "df.show(3)"
   ]
  },
  {
   "cell_type": "markdown",
   "metadata": {},
   "source": [
    "## Encoding y Assembler\n",
    "\n",
    "Para poder usar las columnas categóricas tenemos que codificarlas, como ocurría en scikit learn.\n",
    "\n",
    "La diferencia es que para poder usar OneHotEncoder primero tenemos que usar StringIndexer, porque el OneHotEncoder de spark requiere números."
   ]
  },
  {
   "cell_type": "markdown",
   "metadata": {},
   "source": [
    "#### Es obligatorio pasar las columnas categoricas a numericas y despues hacerles el OneHorEncoder"
   ]
  },
  {
   "cell_type": "code",
   "execution_count": 2,
   "metadata": {},
   "outputs": [
    {
     "name": "stdout",
     "output_type": "stream",
     "text": [
      "+-------+---------+--------------+-------------+-----------------+-----------+------+---------------+\n",
      "|species|   island|bill_length_mm|bill_depth_mm|flipper_length_mm|body_mass_g|   sex|species_indexed|\n",
      "+-------+---------+--------------+-------------+-----------------+-----------+------+---------------+\n",
      "| Adelie|Torgersen|          39.1|         18.7|            181.0|     3750.0|  Male|            0.0|\n",
      "| Adelie|Torgersen|          39.5|         17.4|            186.0|     3800.0|Female|            0.0|\n",
      "+-------+---------+--------------+-------------+-----------------+-----------+------+---------------+\n",
      "only showing top 2 rows\n",
      "\n"
     ]
    }
   ],
   "source": [
    "# StringIndexers\n",
    "\n",
    "from pyspark.ml.feature import VectorAssembler, StringIndexer, OneHotEncoder\n",
    "\n",
    "indexer_species = StringIndexer(inputCol='species', outputCol='species_indexed')\n",
    "df = indexer_species.fit(df).transform(df)\n",
    "df.show(2)"
   ]
  },
  {
   "cell_type": "code",
   "execution_count": 3,
   "metadata": {},
   "outputs": [
    {
     "name": "stdout",
     "output_type": "stream",
     "text": [
      "+-------+---------+--------------+-------------+-----------------+-----------+------+---------------+-----+\n",
      "|species|   island|bill_length_mm|bill_depth_mm|flipper_length_mm|body_mass_g|   sex|species_indexed|label|\n",
      "+-------+---------+--------------+-------------+-----------------+-----------+------+---------------+-----+\n",
      "| Adelie|Torgersen|          39.1|         18.7|            181.0|     3750.0|  Male|            0.0|  2.0|\n",
      "| Adelie|Torgersen|          39.5|         17.4|            186.0|     3800.0|Female|            0.0|  2.0|\n",
      "+-------+---------+--------------+-------------+-----------------+-----------+------+---------------+-----+\n",
      "only showing top 2 rows\n",
      "\n"
     ]
    }
   ],
   "source": [
    "# columna apredecir: island\n",
    "indexer_islands = StringIndexer(inputCol='island', outputCol='label')\n",
    "df = indexer_islands.fit(df).transform(df)\n",
    "df.show(2)"
   ]
  },
  {
   "cell_type": "code",
   "execution_count": 4,
   "metadata": {},
   "outputs": [
    {
     "name": "stdout",
     "output_type": "stream",
     "text": [
      "+-------+---------+--------------+-------------+-----------------+-----------+------+---------------+-----+-----------+\n",
      "|species|   island|bill_length_mm|bill_depth_mm|flipper_length_mm|body_mass_g|   sex|species_indexed|label|sex_indexed|\n",
      "+-------+---------+--------------+-------------+-----------------+-----------+------+---------------+-----+-----------+\n",
      "| Adelie|Torgersen|          39.1|         18.7|            181.0|     3750.0|  Male|            0.0|  2.0|        0.0|\n",
      "| Adelie|Torgersen|          39.5|         17.4|            186.0|     3800.0|Female|            0.0|  2.0|        1.0|\n",
      "+-------+---------+--------------+-------------+-----------------+-----------+------+---------------+-----+-----------+\n",
      "only showing top 2 rows\n",
      "\n"
     ]
    }
   ],
   "source": [
    "# columna genero\n",
    "indexer_sex = StringIndexer(inputCol='sex', outputCol='sex_indexed')\n",
    "df = indexer_sex.fit(df).transform(df)\n",
    "df.show(2)"
   ]
  },
  {
   "cell_type": "code",
   "execution_count": 5,
   "metadata": {},
   "outputs": [
    {
     "name": "stdout",
     "output_type": "stream",
     "text": [
      "+-------+---------+--------------+-------------+-----------------+-----------+------+---------------+-----+-----------+--------------+-------------+\n",
      "|species|   island|bill_length_mm|bill_depth_mm|flipper_length_mm|body_mass_g|   sex|species_indexed|label|sex_indexed|species_onehot|   sex_onehot|\n",
      "+-------+---------+--------------+-------------+-----------------+-----------+------+---------------+-----+-----------+--------------+-------------+\n",
      "| Adelie|Torgersen|          39.1|         18.7|            181.0|     3750.0|  Male|            0.0|  2.0|        0.0| (2,[0],[1.0])|(1,[0],[1.0])|\n",
      "| Adelie|Torgersen|          39.5|         17.4|            186.0|     3800.0|Female|            0.0|  2.0|        1.0| (2,[0],[1.0])|    (1,[],[])|\n",
      "+-------+---------+--------------+-------------+-----------------+-----------+------+---------------+-----+-----------+--------------+-------------+\n",
      "only showing top 2 rows\n",
      "\n"
     ]
    }
   ],
   "source": [
    "# OneHotEncoder sobre las categoricas de la entrada que usaremos en 'features'\n",
    "# species_indexed, sex_indexed\n",
    "\n",
    "encoder = OneHotEncoder(\n",
    "    inputCols = ['species_indexed', 'sex_indexed'],\n",
    "    outputCols = ['species_onehot', 'sex_onehot']   \n",
    ")\n",
    "\n",
    "df = encoder.fit(df).transform(df)\n",
    "df.show(2)"
   ]
  },
  {
   "cell_type": "code",
   "execution_count": 6,
   "metadata": {},
   "outputs": [
    {
     "name": "stdout",
     "output_type": "stream",
     "text": [
      "+-------+---------+--------------+-------------+-----------------+-----------+------+---------------+-----+-----------+--------------+-------------+--------------------+\n",
      "|species|   island|bill_length_mm|bill_depth_mm|flipper_length_mm|body_mass_g|   sex|species_indexed|label|sex_indexed|species_onehot|   sex_onehot|            features|\n",
      "+-------+---------+--------------+-------------+-----------------+-----------+------+---------------+-----+-----------+--------------+-------------+--------------------+\n",
      "| Adelie|Torgersen|          39.1|         18.7|            181.0|     3750.0|  Male|            0.0|  2.0|        0.0| (2,[0],[1.0])|(1,[0],[1.0])|[39.1,18.7,181.0,...|\n",
      "| Adelie|Torgersen|          39.5|         17.4|            186.0|     3800.0|Female|            0.0|  2.0|        1.0| (2,[0],[1.0])|    (1,[],[])|[39.5,17.4,186.0,...|\n",
      "+-------+---------+--------------+-------------+-----------------+-----------+------+---------------+-----+-----------+--------------+-------------+--------------------+\n",
      "only showing top 2 rows\n",
      "\n"
     ]
    }
   ],
   "source": [
    "#  VectorAssembler\n",
    "assembler = VectorAssembler(\n",
    "    inputCols=['bill_length_mm', 'bill_depth_mm', 'flipper_length_mm', 'body_mass_g'],\n",
    "    outputCol='features'\n",
    ")\n",
    "\n",
    "df = assembler.transform(df)\n",
    "df.show(2)"
   ]
  },
  {
   "cell_type": "code",
   "execution_count": 7,
   "metadata": {},
   "outputs": [
    {
     "name": "stdout",
     "output_type": "stream",
     "text": [
      "+--------------------+-----+\n",
      "|            features|label|\n",
      "+--------------------+-----+\n",
      "|[39.1,18.7,181.0,...|  2.0|\n",
      "|[39.5,17.4,186.0,...|  2.0|\n",
      "+--------------------+-----+\n",
      "only showing top 2 rows\n",
      "\n"
     ]
    }
   ],
   "source": [
    "# Quedarnos con features y label para poder hacer modelado\n",
    "df_to_predict = df.select('features', 'label')\n",
    "df_to_predict.show(2)"
   ]
  },
  {
   "cell_type": "code",
   "execution_count": 8,
   "metadata": {},
   "outputs": [],
   "source": [
    "df_train, df_test = df_to_predict.randomSplit([0.8, 0.2], seed=42)"
   ]
  },
  {
   "cell_type": "code",
   "execution_count": null,
   "metadata": {},
   "outputs": [],
   "source": []
  }
 ],
 "metadata": {
  "kernelspec": {
   "display_name": "Python 3 (ipykernel)",
   "language": "python",
   "name": "python3"
  }
 },
 "nbformat": 4,
 "nbformat_minor": 2
}
