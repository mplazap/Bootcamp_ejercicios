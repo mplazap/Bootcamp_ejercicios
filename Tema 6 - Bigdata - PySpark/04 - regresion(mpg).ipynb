{
 "cells": [
  {
   "cell_type": "code",
   "execution_count": 1,
   "metadata": {},
   "outputs": [
    {
     "name": "stdout",
     "output_type": "stream",
     "text": [
      "+----+---------+------------+----------+------+------------+----------+------+--------------------+\n",
      "| mpg|cylinders|displacement|horsepower|weight|acceleration|model_year|origin|                name|\n",
      "+----+---------+------------+----------+------+------------+----------+------+--------------------+\n",
      "|18.0|        8|       307.0|     130.0|  3504|        12.0|        70|   usa|chevrolet chevell...|\n",
      "|15.0|        8|       350.0|     165.0|  3693|        11.5|        70|   usa|   buick skylark 320|\n",
      "|18.0|        8|       318.0|     150.0|  3436|        11.0|        70|   usa|  plymouth satellite|\n",
      "+----+---------+------------+----------+------+------------+----------+------+--------------------+\n",
      "only showing top 3 rows\n",
      "\n"
     ]
    }
   ],
   "source": [
    "import seaborn as sns\n",
    "import pandas as pd\n",
    "from pyspark.sql import SparkSession\n",
    "\n",
    "spark = SparkSession.builder.appName('regresion_mpg').getOrCreate()\n",
    "df = spark.createDataFrame(sns.load_dataset('mpg').dropna()) # Quitamos los numos con dropna\n",
    "df.show(3)"
   ]
  },
  {
   "cell_type": "code",
   "execution_count": 2,
   "metadata": {},
   "outputs": [
    {
     "name": "stdout",
     "output_type": "stream",
     "text": [
      "+----+---------+------------+----------+------+------------+----------+------+--------------------+--------------------+\n",
      "| mpg|cylinders|displacement|horsepower|weight|acceleration|model_year|origin|                name|            features|\n",
      "+----+---------+------------+----------+------+------------+----------+------+--------------------+--------------------+\n",
      "|18.0|        8|       307.0|     130.0|  3504|        12.0|        70|   usa|chevrolet chevell...|[8.0,307.0,130.0,...|\n",
      "|15.0|        8|       350.0|     165.0|  3693|        11.5|        70|   usa|   buick skylark 320|[8.0,350.0,165.0,...|\n",
      "|18.0|        8|       318.0|     150.0|  3436|        11.0|        70|   usa|  plymouth satellite|[8.0,318.0,150.0,...|\n",
      "+----+---------+------------+----------+------+------------+----------+------+--------------------+--------------------+\n",
      "only showing top 3 rows\n",
      "\n"
     ]
    }
   ],
   "source": [
    "# OPcion 1\n",
    "# Hacer assebler antes del train test split que particiona los datos\n",
    "from pyspark.ml.feature import VectorAssembler\n",
    "\n",
    "\n",
    "# El assembler lo que hace es colocar todos los datos de las columnas \n",
    "# en una misma columna en forma de lista en la columna 'Features'\n",
    "assembler = VectorAssembler(\n",
    "    inputCols=['cylinders', 'displacement', 'horsepower', 'weight', 'acceleration', 'model_year'],\n",
    "    outputCol='features' # le llamamos features para que coincida con lo que piden los algoritmos\n",
    ")\n",
    "df_assembled = assembler.transform(df)\n",
    "df_assembled.show(3)"
   ]
  },
  {
   "cell_type": "code",
   "execution_count": 3,
   "metadata": {},
   "outputs": [
    {
     "name": "stdout",
     "output_type": "stream",
     "text": [
      "+--------------------+-----+\n",
      "|            features|label|\n",
      "+--------------------+-----+\n",
      "|[8.0,307.0,130.0,...| 18.0|\n",
      "|[8.0,350.0,165.0,...| 15.0|\n",
      "|[8.0,318.0,150.0,...| 18.0|\n",
      "+--------------------+-----+\n",
      "only showing top 3 rows\n",
      "\n"
     ]
    }
   ],
   "source": [
    "# Renombramos las columnas\n",
    "df_features_label = df_assembled.withColumnRenamed('mpg', 'label').select('features', 'label')\n",
    "df_features_label.show(3)"
   ]
  },
  {
   "cell_type": "code",
   "execution_count": 4,
   "metadata": {},
   "outputs": [
    {
     "name": "stdout",
     "output_type": "stream",
     "text": [
      "+--------------------+-----+\n",
      "|            features|label|\n",
      "+--------------------+-----+\n",
      "|[4.0,97.0,46.0,18...| 26.0|\n",
      "|[4.0,97.0,88.0,21...| 27.0|\n",
      "|[4.0,104.0,95.0,2...| 25.0|\n",
      "+--------------------+-----+\n",
      "only showing top 3 rows\n",
      "\n"
     ]
    }
   ],
   "source": [
    "# Particionamiento de los datos\n",
    "df_train, df_test = df_features_label.randomSplit([0.8, 0.2], seed=42)\n",
    "df_train.show(3)"
   ]
  },
  {
   "cell_type": "code",
   "execution_count": 5,
   "metadata": {},
   "outputs": [
    {
     "name": "stdout",
     "output_type": "stream",
     "text": [
      "+--------------------+----+\n",
      "|            features| mpg|\n",
      "+--------------------+----+\n",
      "|[4.0,97.0,46.0,18...|26.0|\n",
      "|[4.0,97.0,88.0,21...|27.0|\n",
      "|[4.0,104.0,95.0,2...|25.0|\n",
      "+--------------------+----+\n",
      "only showing top 3 rows\n",
      "\n"
     ]
    }
   ],
   "source": [
    "# OPcion 2\n",
    "# Primero particionar y suego usar vectorAssembler\n",
    "numeric_cols = ['cylinders', 'displacement', 'horsepower', 'weight', 'acceleration', 'model_year']\n",
    "label_col = 'mpg'\n",
    "df_selected = df.select(numeric_cols + [label_col])\n",
    "# df_selected.show(1)\n",
    "df_train, df_test = df_selected.randomSplit([0.8, 0.2], seed=42)\n",
    "assembler = VectorAssembler(\n",
    "    inputCols=numeric_cols,\n",
    "    outputCol='features'\n",
    "    )\n",
    "\n",
    "# Le hemos dejado com 'mpg' en lugar de 'label' para ver\n",
    "# como usarlo en algoritmos ML\n",
    "df_train = assembler.transform(df_train).select('features', label_col)\n",
    "df_test = assembler.transform(df_test).select('features', label_col)\n",
    "df_train.show(3)"
   ]
  },
  {
   "cell_type": "code",
   "execution_count": 6,
   "metadata": {},
   "outputs": [
    {
     "name": "stdout",
     "output_type": "stream",
     "text": [
      "+--------------------+----+------------------+\n",
      "|            features| mpg|        prediction|\n",
      "+--------------------+----+------------------+\n",
      "|[4.0,97.0,88.0,21...|27.0|25.250093988412512|\n",
      "|[4.0,113.0,95.0,2...|25.0|24.676738282045054|\n",
      "+--------------------+----+------------------+\n",
      "only showing top 2 rows\n",
      "\n"
     ]
    }
   ],
   "source": [
    "# Modelo de regresion ya con el entrenamiento y la prediccion\n",
    "from pyspark.ml.regression import LinearRegression\n",
    "\n",
    "lr = LinearRegression(labelCol='mpg') # Modelo\n",
    "model = lr.fit(df_train) # Entrenamiento\n",
    "df_pred = model.transform(df_test) # Prediccion\n",
    "df_pred.show(2)"
   ]
  },
  {
   "cell_type": "code",
   "execution_count": null,
   "metadata": {},
   "outputs": [
    {
     "name": "stdout",
     "output_type": "stream",
     "text": [
      "r2 0.7855411849361144\n",
      "mae 2.729576315612864\n",
      "mse 12.79695049563809\n",
      "rmse 3.577282557422336\n"
     ]
    }
   ],
   "source": [
    "# Calculo de las metricas\n",
    "\n",
    "from pyspark.ml.evaluation import RegressionEvaluator\n",
    "\n",
    "evaluator_r2 = RegressionEvaluator(metricName='r2', labelCol=label_col)\n",
    "evaluator_mae = RegressionEvaluator(metricName='mae', labelCol=label_col)\n",
    "evaluator_mse = RegressionEvaluator(metricName='mse', labelCol=label_col)\n",
    "evaluator_rmse = RegressionEvaluator(metricName='rmse', labelCol=label_col)\n",
    "\n",
    "\n",
    "print('r2', evaluator_r2.evaluate(df_pred))\n",
    "print('mae', evaluator_mae.evaluate(df_pred))\n",
    "print('mse', evaluator_mse.evaluate(df_pred))\n",
    "print('rmse', evaluator_rmse.evaluate(df_pred))"
   ]
  },
  {
   "cell_type": "code",
   "execution_count": null,
   "metadata": {},
   "outputs": [
    {
     "data": {
      "text/plain": [
       "['mpg',\n",
       " 'cylinders',\n",
       " 'displacement',\n",
       " 'horsepower',\n",
       " 'weight',\n",
       " 'acceleration',\n",
       " 'model_year']"
      ]
     },
     "execution_count": 9,
     "metadata": {},
     "output_type": "execute_result"
    }
   ],
   "source": [
    "# Detectar columnas numericas automaticamentes, lo que es el 'select_dtypes' en pandas\n",
    "\n",
    "from pyspark.sql.types import NumericType\n",
    "\n",
    "numeric_cols = [field.name for field in df.schema.fields if isinstance(field.dataType, NumericType)]\n",
    "numeric_cols"
   ]
  },
  {
   "cell_type": "code",
   "execution_count": 11,
   "metadata": {},
   "outputs": [
    {
     "name": "stdout",
     "output_type": "stream",
     "text": [
      "+------+--------------------+\n",
      "|origin|                name|\n",
      "+------+--------------------+\n",
      "|   usa|chevrolet chevell...|\n",
      "|   usa|   buick skylark 320|\n",
      "|   usa|  plymouth satellite|\n",
      "+------+--------------------+\n",
      "only showing top 3 rows\n",
      "\n"
     ]
    }
   ],
   "source": [
    "# Detectar columnas categoricas automaticamentes, lo que es el 'select_dtypes' en pandas\n",
    "\n",
    "from pyspark.sql.types import StringType\n",
    "\n",
    "categorical_cols = [field.name for field in df.schema.fields if isinstance(field.dataType, StringType)]\n",
    "df_categorical = df.select(categorical_cols)\n",
    "df_categorical.show(3)"
   ]
  },
  {
   "cell_type": "code",
   "execution_count": null,
   "metadata": {},
   "outputs": [],
   "source": []
  },
  {
   "cell_type": "code",
   "execution_count": null,
   "metadata": {},
   "outputs": [],
   "source": []
  },
  {
   "cell_type": "code",
   "execution_count": null,
   "metadata": {},
   "outputs": [],
   "source": []
  },
  {
   "cell_type": "code",
   "execution_count": null,
   "metadata": {},
   "outputs": [],
   "source": []
  },
  {
   "cell_type": "code",
   "execution_count": null,
   "metadata": {},
   "outputs": [],
   "source": []
  },
  {
   "cell_type": "code",
   "execution_count": null,
   "metadata": {},
   "outputs": [],
   "source": []
  },
  {
   "cell_type": "code",
   "execution_count": null,
   "metadata": {},
   "outputs": [],
   "source": []
  },
  {
   "cell_type": "code",
   "execution_count": null,
   "metadata": {},
   "outputs": [],
   "source": []
  },
  {
   "cell_type": "code",
   "execution_count": null,
   "metadata": {},
   "outputs": [],
   "source": []
  },
  {
   "cell_type": "code",
   "execution_count": null,
   "metadata": {},
   "outputs": [],
   "source": []
  }
 ],
 "metadata": {
  "kernelspec": {
   "display_name": "Python 3 (ipykernel)",
   "language": "python",
   "name": "python3"
  },
  "language_info": {
   "codemirror_mode": {
    "name": "ipython",
    "version": 3
   },
   "file_extension": ".py",
   "mimetype": "text/x-python",
   "name": "python",
   "nbconvert_exporter": "python",
   "pygments_lexer": "ipython3",
   "version": "3.11.6"
  }
 },
 "nbformat": 4,
 "nbformat_minor": 2
}
